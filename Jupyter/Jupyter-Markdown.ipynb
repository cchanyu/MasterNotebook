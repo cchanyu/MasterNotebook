{
 "cells": [
  {
   "attachments": {},
   "cell_type": "markdown",
   "metadata": {},
   "source": [
    "### Title: Jupyter Notebook Markdowns<br>\n",
    "***"
   ]
  },
  {
   "attachments": {},
   "cell_type": "markdown",
   "metadata": {},
   "source": [
    "# title\n",
    "`#` - title\n",
    "<br>\n",
    "\n",
    "## title\n",
    "`##` - major headings\n",
    "<br>\n",
    "\n",
    "### title\n",
    "`###` - subheadings\n",
    "<br>\n",
    "\n",
    "#### title\n",
    "`####` - 4th level subheadings\n",
    "<br>\n",
    "\n",
    "`<br>` - br - new line \n",
    "<br>\n",
    "\n",
    "`__bold__` or `**bold**` - __bold__ - bold \n",
    "<br>\n",
    "\n",
    "`_italic_` or `*italic*` - _Italic_ - italic\n",
    "<br>\n",
    "\n",
    "`$mathematical symbols$` - $mathematical symbols$ - mathematical symbols\n",
    "<br>\n",
    "\n",
    "`<font color=red>font color</font>` - <font color=red>font color</font> - font color\n",
    "<br>\n",
    "\n",
    "> indented coding block<br>\n",
    "`> indented coding block` - indented coding block\n",
    "<br>\n",
    "\n",
    "- bullet point<br>\n",
    "`-` - bullet points\n",
    "<br>\n",
    "\n",
    "1. numbered list<br>\n",
    "`1` - numbered list\n",
    "<br>\n",
    "\n",
    "[heading title](#heading-title)<br>\n",
    "`[heading title](#heading-title)` - internal links\n",
    "<br>\n",
    "\n",
    "***\n",
    "`***` - horizontal lines\n",
    "<br>\n",
    "\n",
    "[link text](http://url)<br>\n",
    "`[link text](http://url)` - external links\n",
    "<br>"
   ]
  }
 ],
 "metadata": {
  "kernelspec": {
   "display_name": "Python 3",
   "language": "python",
   "name": "python3"
  },
  "language_info": {
   "name": "python",
   "version": "3.8.10 (tags/v3.8.10:3d8993a, May  3 2021, 11:48:03) [MSC v.1928 64 bit (AMD64)]"
  },
  "orig_nbformat": 4,
  "vscode": {
   "interpreter": {
    "hash": "9650cb4e16cdd4a8e8e2d128bf38d875813998db22a3c986335f89e0cb4d7bb2"
   }
  }
 },
 "nbformat": 4,
 "nbformat_minor": 2
}
