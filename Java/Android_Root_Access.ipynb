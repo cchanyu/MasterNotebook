{
 "cells": [
  {
   "attachments": {},
   "cell_type": "markdown",
   "metadata": {},
   "source": [
    "### Main Title: How to add a new language that isn't provided by manufacturer on Android<br>\n",
    "#### Alt Title: How to gain an access to Android Root Access and use adb commands on PC using USB<br>\n",
    "\n",
    "***\n",
    "\n",
    "**The purpose of this documentation?**<br>\n",
    "<br>\n",
    "This documentation will show you the step-by-step guide on how to access the android root access.<br>\n",
    "Sometimes you need to access the root on your devices to make changes.<br>\n",
    "and as a non-Android user, this took me a quite of research to learn how to access the root<br>\n",
    "many of the articles leading you to purchase their apps and tools that can be done free and without it.<br>\n",
    "<br>\n",
    "\n",
    "My android device was made by some small company.<br>\n",
    "It came without my Native language Korean pre-installed on the device.<br>\n",
    "This led to many problems, such as breaking characters, unable to type properly, etc, etc.<br>\n",
    "It bugged me enough to spend my time researching this and it took me rather long to get through<br>\n",
    "At the end? It was worth it. I should've done it before..<br>\n",
    "<br>\n",
    "\n",
    "Reference #1: https://www.xda-developers.com/install-adb-windows-macos-linux/<br>\n",
    "Reference #2: https://android.stackexchange.com/questions/178025/change-system-language-to-one-not-listed<br>"
   ]
  },
  {
   "attachments": {},
   "cell_type": "markdown",
   "metadata": {},
   "source": [
    "1. **Enabling the developer mode:**<br>\n",
    "\n",
    "Developer mode allows you to gain access to more controls, but it's hidden by default.<br>\n",
    "So in order to enable Dev mode, do the followings:<br>\n",
    "**Open your Device (Phone/Tablet) > Settings > Device/Phone Information > Tap on Build Number 7 times.**<br>"
   ]
  },
  {
   "attachments": {},
   "cell_type": "markdown",
   "metadata": {},
   "source": [
    "2. **Enable USB Debugging:**<br>\n",
    "\n",
    "In order for your PC to control your device, you need to enable something called USB Debugging and that can be found in Dev Mode<br>\n",
    "Go back to the Settings and Search up **\"Developer Options\"**.<br>\n",
    "In the Dev Options, scroll down until you see **\"USB Debugging\"** option and **enable** it.<br>"
   ]
  },
  {
   "attachments": {},
   "cell_type": "markdown",
   "metadata": {},
   "source": [
    "3. **Using adb commands on PC:**<br>\n",
    "\n",
    "Now you have to connect your Android Device to your PC using an USB cable.<br>\n",
    "Then download **Android Studios** from Google<br>\n",
    "Android Studios: https://developer.android.com/studio<br>\n",
    "<br>\n",
    "You can verify your install location: C:\\Users\\\\[USERNAME]\\AppData\\Local\\Android\\Sdk\\platform-tools<br>\n",
    "or just open Command Prompt (Terminal) and go to the root folder by typing the command below.<br>"
   ]
  },
  {
   "cell_type": "code",
   "execution_count": null,
   "metadata": {},
   "outputs": [],
   "source": [
    "cd C:\\Users\\[REPLACE_WITH_YOUR_PC_NAME]\\AppData\\Local\\Android\\Sdk\\platform-tools"
   ]
  },
  {
   "attachments": {},
   "cell_type": "markdown",
   "metadata": {},
   "source": [
    "Once you're in the right location, the computer will recogize the command adb.<br>\n",
    "You can start using adb commands. Before we get into any further, we have to go back to our Android Device.<br>\n",
    "<br>\n",
    "\n",
    "4. **Download Language Installer App:**<br>\n",
    "\n",
    "There is an app called **Language Enabler** by Wanam.<br>\n",
    "https://play.google.com/store/apps/details?id=com.wanam&hl=en&pli=1<br>\n",
    "After installing the app, run the following commands on your command prompt.<br>\n",
    "This command will give the app root access to your device to make changes.<br>"
   ]
  },
  {
   "cell_type": "code",
   "execution_count": null,
   "metadata": {},
   "outputs": [],
   "source": [
    "adb -d shell pm grant com.wanam android.permission.CHANGE_CONFIGURATION"
   ]
  },
  {
   "attachments": {},
   "cell_type": "markdown",
   "metadata": {},
   "source": [
    "5. **Lanauge Installation:**<br>\n",
    "\n",
    "Now all you have to do is to **install the language** using the Language Enabler app.<br>\n",
    "Go back to the app, select the language you want to install and press install.<br>\n",
    "This'll install the language and you can now delete the app and undo everything up there as we no longer need them.<br>\n",
    "\n",
    "<br>\n",
    "and there you have it.<br>"
   ]
  }
 ],
 "metadata": {
  "language_info": {
   "name": "python"
  },
  "orig_nbformat": 4
 },
 "nbformat": 4,
 "nbformat_minor": 2
}
