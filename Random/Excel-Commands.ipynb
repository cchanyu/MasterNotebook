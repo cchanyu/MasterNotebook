{
 "cells": [
  {
   "attachments": {},
   "cell_type": "markdown",
   "metadata": {},
   "source": [
    "### Excel<br>\n",
    "\n",
    "***\n",
    "\n",
    "<br>"
   ]
  },
  {
   "attachments": {},
   "cell_type": "markdown",
   "metadata": {},
   "source": [
    "**=TODAY()** - grabs today's date<br>\n",
    "=DATE()<br>"
   ]
  },
  {
   "attachments": {},
   "cell_type": "markdown",
   "metadata": {},
   "source": [
    "**=IF(cond, true, false)**<br>\n",
    "\n",
    "**=COUNTIF(cells + cond, true, false)**<br>\n",
    "=COUNT - counts numeric values only<br>\n",
    "=COUNTA - counts all cells with any value<br>\n",
    "=COUNTBLANK - count blank cells<br>\n",
    "\n",
    "**=VLOOKUP(C5, B1:C12, 2, FALSE)** - C5 is the target cell, B1:C12 is the range to search, 2 columns, FALSE<br>\n",
    "draw backs of VLOOKUP is it can't be remapped<br>\n",
    "\n",
    "**=SUM() add**<br>\n",
    "minus can use either =SUM() or - sign directly<br>"
   ]
  },
  {
   "attachments": {},
   "cell_type": "markdown",
   "metadata": {},
   "source": [
    "**CELL1<>\"\"** = think \"<>\" as \"==\" in CS<br>\n",
    "and \"<\" (less than) \">\" (greater than) are as is<br>\n",
    "\n",
    "        =IF(CELL1<>\"\", ScheduledPayment, \"\")\n",
    "\n",
    "CELL1<>\"\" means if cell 1 is not empty<br>\n",
    "ScheduledPayment = true<br>\n",
    "\"\" = false<br>"
   ]
  },
  {
   "attachments": {},
   "cell_type": "markdown",
   "metadata": {},
   "source": [
    "**Calculating the Interest Rate**<br>\n",
    "Interest = Starting Loan * (interest rate / Payments per Year)<br>\n",
    "\n"
   ]
  },
  {
   "attachments": {},
   "cell_type": "markdown",
   "metadata": {},
   "source": [
    "**Grouping Sum:**<br>\n",
    "A1+A2+A3 = =SUM(A1:A3)<br>\n",
    "\n",
    "Cell A1 x 10, add + 5, divide by /2 <br>\n",
    "=((A1 * 10) + 5) / 2<br>"
   ]
  },
  {
   "attachments": {},
   "cell_type": "markdown",
   "metadata": {},
   "source": [
    "**Relative vs. Absolute Cell Referencing**<br>\n",
    "Absolute Cell Referencing requires $ sign<br>\n",
    "Ex. B2 vs. $B$2<br>\n",
    "\n",
    "Relative Cells gets copied its reference to another sheet<br>\n",
    "\n",
    "**How to freeze panes**<br>\n",
    "View -> freeze panes -> select an option<br>\n",
    "\n",
    "**Restrict Cells from copying**<br>\n",
    "select the data -> Ctrl+Shift+F -> Protection tab -> Locked -> put a PW<br>\n",
    "\n",
    "**Add a Filter** - Ctrl + Shift + L<br>\n",
    "Filter allows you to sort or filter out by text.<br>\n",
    "\n",
    "**Merge cells of text strings** - =Concatenate()<br>\n",
    "Ex. =Concatenate(A1,B1,C1...)<br>\n",
    "Or you can use & operator to merge cell names<br>\n",
    "\n",
    "**How to split columns**<br>\n",
    "Select the cell -> Data tab -> choose Text to Columns<br>\n",
    "click on Delimiter -> Space<br>\n"
   ]
  },
  {
   "attachments": {},
   "cell_type": "markdown",
   "metadata": {},
   "source": [
    "**Pivot Table** - summary of the data / it simplifies it to a table,<br>\n",
    "without needing to see all the back work, unnecessary info<br>\n",
    "it's called pivot table, because it does just that \"pivot\"(peak/central point).<br>\n",
    "\n",
    "Select the data -> Insert -> PivotTable<br>\n",
    "Drag drop:<br>\n",
    "- Month - Rows<br>\n",
    "- Cost - Values<br>\n",
    "- Product - Rows<br>\n",
    "\n",
    "You can now sort / filter the table to adjust the way you want it<br>"
   ]
  }
 ],
 "metadata": {
  "language_info": {
   "name": "python"
  },
  "orig_nbformat": 4
 },
 "nbformat": 4,
 "nbformat_minor": 2
}
