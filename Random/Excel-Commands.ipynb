{
 "cells": [
  {
   "attachments": {},
   "cell_type": "markdown",
   "metadata": {},
   "source": [
    "### Excel<br>\n",
    "\n",
    "***\n",
    "\n",
    "<br>"
   ]
  },
  {
   "attachments": {},
   "cell_type": "markdown",
   "metadata": {},
   "source": [
    "**=TODAY()** - grabs today's date<br>\n",
    "=DATE()<br>"
   ]
  },
  {
   "attachments": {},
   "cell_type": "markdown",
   "metadata": {},
   "source": [
    "**=IF(cond, true, false)**<br>\n",
    "Ex. =IF(AND(F2:F6>20, G2:G6>40000),\"Record is valid\",\"Record is invalid\")\n",
    "\n",
    "**=COUNTIF(cells, true, false, cond)**<br>\n",
    "=COUNT - counts numeric values only<br>\n",
    "=COUNTA - counts all cells with any value<br>\n",
    "=COUNTBLANK - count blank cells<br>\n",
    "\n",
    "**=VLOOKUP(C5, B1:C12, 2, FALSE)** Value Lookup - C5 is the target cell, B1:C12 is the range to search, 2 columns, FALSE<br>\n",
    "draw backs of VLOOKUP is it can't be remapped<br>\n",
    "= LOOKUP - Returns the row or column, easier to use than =VLOOKUP<br>\n",
    "\n",
    "**=SUM() add** - minus can use either =SUM() or - sign directly<br>\n",
    "=SUMIF() - sum based on the criteria<br>\n",
    "Ex. =SUMIF(G2:G6, \"> 75000\")"
   ]
  },
  {
   "attachments": {},
   "cell_type": "markdown",
   "metadata": {},
   "source": [
    "**CELL1<>\"\"** = think \"<>\" as \"==\" in CS<br>\n",
    "and \"<\" (less than) \">\" (greater than) are as is<br>\n",
    "\n",
    "        =IF(CELL1<>\"\", ScheduledPayment, \"\")\n",
    "\n",
    "CELL1<>\"\" means if cell 1 is not empty<br>\n",
    "ScheduledPayment = true<br>\n",
    "\"\" = false<br>"
   ]
  },
  {
   "attachments": {},
   "cell_type": "markdown",
   "metadata": {},
   "source": [
    "**Calculating the Interest Rate**<br>\n",
    "Interest = Starting Loan * (interest rate / Payments per Year)<br>\n",
    "\n"
   ]
  },
  {
   "attachments": {},
   "cell_type": "markdown",
   "metadata": {},
   "source": [
    "**Grouping Sum:**<br>\n",
    "A1+A2+A3 = =SUM(A1:A3)<br>\n",
    "\n",
    "Cell A1 x 10, add + 5, divide by /2 <br>\n",
    "=((A1 * 10) + 5) / 2<br>"
   ]
  },
  {
   "attachments": {},
   "cell_type": "markdown",
   "metadata": {},
   "source": [
    "**Relative vs. Absolute Cell Referencing**<br>\n",
    "Absolute Cell Referencing requires $ sign<br>\n",
    "Ex. B2 vs. $B$2<br>\n",
    "\n",
    "Relative Cells gets copied its reference to another sheet<br>\n",
    "\n",
    "**How to freeze panes**<br>\n",
    "View -> freeze panes -> select an option<br>\n",
    "\n",
    "**Restrict Cells from copying**<br>\n",
    "select the data -> Ctrl+Shift+F -> Protection tab -> Locked -> put a PW<br>\n",
    "\n",
    "**Add a Filter** - Ctrl + Shift + L<br>\n",
    "Filter allows you to sort or filter out by text.<br>\n",
    "\n",
    "**Merge cells of text strings** - =Concatenate()<br>\n",
    "Ex. =Concatenate(A1,B1,C1...)<br>\n",
    "Or you can use & operator to merge cell names<br>\n",
    "\n",
    "**How to split columns**<br>\n",
    "Select the cell -> Data tab -> choose Text to Columns<br>\n",
    "click on Delimiter -> Space<br>\n",
    "final step is select the destination<br>"
   ]
  },
  {
   "attachments": {},
   "cell_type": "markdown",
   "metadata": {},
   "source": [
    "**Pivot Table** - summary of the data / it simplifies it to a table,<br>\n",
    "without needing to see all the back work, unnecessary info<br>\n",
    "it's called pivot table, because it does just that \"pivot\"(peak/central point).<br>\n",
    "\n",
    "Select the data -> Insert -> PivotTable<br>\n",
    "Drag drop:<br>\n",
    "- Month - Rows<br>\n",
    "- Cost - Values<br>\n",
    "- Product - Rows<br>\n",
    "\n",
    "You can now sort / filter the table to adjust the way you want it<br>\n",
    "You can further apply filter by adding stuff like TOP10<br>\n",
    "or more functions using Options tab -> Fields, Items, Sets -> Calculcated fields -> insert the formula<br>\n",
    "\n",
    "Insert tab -> graphs<br>\n",
    "this allows you to insert a graph based on your pivot table<br>"
   ]
  },
  {
   "attachments": {},
   "cell_type": "markdown",
   "metadata": {},
   "source": [
    "**Create a Dropdown**<br>\n",
    "Data tab -> Data Validation<br>\n",
    "then specify the range for the dropdown<br>\n",
    "\n",
    "**Advanced Filter**<br>\n",
    "Data tab -> Advanced Filter<br>\n",
    "Specify the criteria and list range<br>\n",
    "Ex. it can search for >200 counts, in Europe data only<br>\n",
    "\n",
    "**Highlight the data**<br>\n",
    "Select the data -> Home tab -> conditional formatting -> Highlight -> greater than..<br>\n",
    "Ex. $5000<br>\n",
    "\n",
    "**Index-Match function**<br>\n",
    "Find the city which Andrew belongs from the given table<br>\n",
    "Ex. Andrew, =INDEX(A2:E7, MATCH(A10, A2:A7, 0), MATCH(B9, A1:E1, 0))\n",
    "=INDEX(full table, match(cond, range of names, 0(exact value)), match(output, the top row, 0))<br>\n",
    "\n",
    "**Find duplicate values**<br>\n",
    "use either conditional formatting or COUNTIF function<br>\n",
    "Select the data -> Home tab -> conditional formatting -> Highlight -> duplicate values..<br>\n",
    "=COUNTIF(H2:H9, H2) > 1<br>"
   ]
  },
  {
   "attachments": {},
   "cell_type": "markdown",
   "metadata": {},
   "source": [
    "**Remove the duplicate values**<br>\n",
    "can do it manually by selecting the cell and pressing delete<br>\n",
    "or select the data -> data tab -> tools -> remove duplicates<br>\n",
    "\n",
    "**How to find which weekday for a random date given**<br>\n",
    "Ex. 09-08-2020 <- =WEEKDAY(B2) -> 1-7, 1=Monday, 7=Sunday<br>\n",
    "\n",
    "**WildCards in Excel**<br>\n",
    "1. *(Asterisk) - represents any number of characters <br>\n",
    "2. ?(Question) - represents one single character<br>\n",
    "3. ~(tilda) - used to identify the wildcard character(~,*,?) in the text<br>\n",
    "\n",
    "**What's data validation?**<br>\n",
    "Forces user to type only certain characters, ex. text only, phone numbers only<br>\n",
    "data tab -> data validation<br>\n",
    "\n",
    "**Write a Pass/Fail function** based on Student's attendance > 75% and score > 60%<br>\n",
    "=IF(AND(U7>60, V7>75),\"PASS\",\"FAIL\")<br>\n",
    "\n",
    "**Calculate your age**<br>\n",
    "=YEARFRAC() or =DATEDIF()<br>\n",
    "Ex. =YEARFRAC(Z6,Z4), =YEARFRAC(STARTDATE, ENDDATE)<br>\n",
    "=DATEDIF(Z6,Z4,\"y\")<br>\n",
    "\n",
    "**Nested IF conditions**<br>\n",
    "=IF(B3>80, \"Excellent\", IF(B3 <=60, \"BAD\", \"AVG\"))<br>\n",
    "\n",
    "**Find the descriptive statistics** using the Data Analysis Toolpak<br>\n",
    "File -> options -> Add-ins -> Analysis Toolpak<br>\n",
    "Data tab -> Data analysis<br>\n",
    "It shows mean, max, min, count, sum etc<br>\n",
    "\n"
   ]
  }
 ],
 "metadata": {
  "language_info": {
   "name": "python"
  },
  "orig_nbformat": 4
 },
 "nbformat": 4,
 "nbformat_minor": 2
}
