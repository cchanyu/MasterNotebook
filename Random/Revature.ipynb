{
 "cells": [
  {
   "attachments": {},
   "cell_type": "markdown",
   "metadata": {},
   "source": [
    "### Revature - Info Session<br>\n",
    "\n",
    "***\n",
    "\n",
    "<br>"
   ]
  },
  {
   "attachments": {},
   "cell_type": "markdown",
   "metadata": {},
   "source": [
    "**Basic Overview:**<br>\n",
    "- Hire, Train, Deploy (HTD) - Gets paid, need degree<br>\n",
    "- SPARK - non paid program<br>\n",
    "- Revature Accelerator Program (RAP) - non paid, but gets you the job<br>\n",
    "- Rev Start - unpaid, not yet released<br>\n",
    "<br>\n",
    "\n",
    "Client - a company that hires<br>\n",
    "Career beginners - software engineer, computer science<br>\n",
    "Career changers - <br>\n",
    "<br>\n",
    "\n",
    "Train depends on the project<br>\n",
    "Java, Python, Salesforce etc<br>\n",
    "<br>\n",
    "\n",
    "**Eligibility:**<br>\n",
    "- Legal authorized work, no need for sponsorship<br>\n",
    "- Education: College Degree<br>\n",
    "- 2 Year Commitment<br>\n",
    "- Open to relocation<br>\n",
    "<br>\n",
    "\n",
    "Apply -> Evaluation -> Java course: Technically qualified -> Final (Tech) Interview -> Employment Offers<br>\n",
    "\n",
    "After Evaluation<br>\n",
    "If you are new: Free Java course 3 month<br>\n",
    "If you have tech background: Final Interviews, Java, OOP<br>\n",
    "\n",
    "Study guide for interviews<br>\n",
    "<br>\n",
    "\n",
    "**Start of Employment**<br>\n",
    "10-12 weeks of remote training + client interviews<br>\n",
    "40 hours a week<br>\n",
    "Monday-Friday<br>\n",
    "10am - 6pm EST<br>\n",
    "Live sessions with training staff and other employees<br>\n",
    "NY: $15/hr<br>\n",
    "<br>\n",
    "\n",
    "1st year on Project<br>\n",
    "$47k-57k<br>\n",
    "\n",
    "2nd year on Project<br>\n",
    "$75-85k<br>\n",
    "\n",
    "3rd year on Project<br>\n",
    "$85k+<br>\n",
    "\n",
    "www.revature.com/CUNY"
   ]
  }
 ],
 "metadata": {
  "kernelspec": {
   "display_name": "Python 3",
   "language": "python",
   "name": "python3"
  },
  "language_info": {
   "name": "python",
   "version": "3.8.10"
  },
  "orig_nbformat": 4,
  "vscode": {
   "interpreter": {
    "hash": "9650cb4e16cdd4a8e8e2d128bf38d875813998db22a3c986335f89e0cb4d7bb2"
   }
  }
 },
 "nbformat": 4,
 "nbformat_minor": 2
}
