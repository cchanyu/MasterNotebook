{
 "cells": [
  {
   "attachments": {},
   "cell_type": "markdown",
   "metadata": {},
   "source": [
    "### Formatting as FAT32<br>\n",
    "\n",
    "***\n",
    "\n",
    "keywords: fat32 format not an option 128gb<br>"
   ]
  },
  {
   "attachments": {},
   "cell_type": "markdown",
   "metadata": {},
   "source": [
    "**Issue:**<br>\n",
    "Couldn't format my SD card as FAT32<br>\n",
    "\n",
    "**Full description:**<br>\n",
    "FAT32 is necessary for Dashcams for cars as it requires intensive read and writes of images/videos<br>\n",
    "I'm guessing exFat might be okay, but FAT32 is the most ideal and manufacturer recommended.<br>\n",
    "\n",
    "I couldn't reset my SD card as FAT32. exFat and NTFS were my only options.<br>\n",
    "My SD card originally came with FAT32 format, but when I tried to reset and format the drive, it couldn't go back as FAT32<br>\n",
    "\n",
    "That's because the SD card is larger than 32GB, Windows prevent it for some reason<br>\n",
    "FAT32 option only shows up for 4GB - 32GB<br>\n",
    "\n",
    "**Solution:**<br>\n",
    "Anyways, after researching some forums, I came across this:<br>\n",
    "Link: http://www.ridgecrop.co.uk/index.htm?guiformat.htm<br>\n",
    "You just need to click the image to download the gui version of .exe file<br>\n",
    "\n",
    "The gui only lists up to 64GB for FAT32 formatting, but once you select the 64GB and do it<br>\n",
    "it'll automatically format it to the max capacity by default. Ex. 128, 256, ... up to 2TB<br>"
   ]
  }
 ],
 "metadata": {
  "kernelspec": {
   "display_name": "Python 3",
   "language": "python",
   "name": "python3"
  },
  "language_info": {
   "name": "python",
   "version": "3.8.10 (tags/v3.8.10:3d8993a, May  3 2021, 11:48:03) [MSC v.1928 64 bit (AMD64)]"
  },
  "orig_nbformat": 4,
  "vscode": {
   "interpreter": {
    "hash": "9650cb4e16cdd4a8e8e2d128bf38d875813998db22a3c986335f89e0cb4d7bb2"
   }
  }
 },
 "nbformat": 4,
 "nbformat_minor": 2
}
