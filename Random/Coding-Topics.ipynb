{
 "cells": [
  {
   "attachments": {},
   "cell_type": "markdown",
   "metadata": {},
   "source": [
    "### Coding Topics<br>\n",
    "\n",
    "***\n",
    "\n",
    "<br>"
   ]
  },
  {
   "attachments": {},
   "cell_type": "markdown",
   "metadata": {},
   "source": [
    "**UI UX Design (User Interface / User Experience)**<br>\n",
    "Programs: Adobe XD, Sketch, Figma<br>\n",
    "\n",
    "https://insights.stackoverflow.com/survey/2020#overview<br>\n",
    "**Script Languages / Runtime**<br>\n",
    "Javascript, SQL, Python, Java, C#, PHP, Typescript, Rust<br>\n",
    "\n",
    "**Web Framework**<br>\n",
    "jQuery, React.js, Angular, ASP.NET, Express, Vue.js<br>\n",
    "\n",
    "**Other Framework/Lib**<br>\n",
    "Node.js, .NET, Pandas, TensorFlow, React Native, Unity 3D<br>\n",
    "\n",
    "**Databases**<br>\n",
    "MySQL, PostgreSQL, MongoDB, Redis, MariaDB, Firebase<br>\n",
    "\n",
    "**Ticketing**<br>\n",
    "Jira, Trello<br>\n",
    "<br>\n",
    "\n",
    "**Bootstrap** - an HTML, CSS and JS library that focuses on simplifying the development of informative web pages<br>\n",
    "\n",
    "**ASP.NET Web Forms** - <br>\n",
    "\n",
    "**REST API (Representational Stateful Transfer)** - <br>\n",
    "\n",
    "**CI/CD (Continuous Integration / Continuous Development)** - <br>\n",
    "\n",
    "**PHP** - <br>\n",
    "\n",
    "**RUST** - Similar to C++, but it's own programming language, very low memory space management and highly sought job for the backend<br>\n",
    "\n",
    "**C++** - due to its low level programming language, it has low memory space management and for that reason it's often used to write video games.<br>\n",
    "\n",
    "**Python & Django** - framework with automated tools helpful in building quality apps and maintaining them<br>\n",
    "There are many specific application types where Django particularly stands out:<br>\n",
    "- Customer relation management software for eCommerce<br>\n",
    "- Machine learning<br>\n",
    "- Online shopping platforms<br>\n",
    "- Admin dashboards for developers<br>\n",
    "- Web content management software<br>\n",
    "- iOS and Android applications<br>\n",
    "- Document management systems<br>\n",
    "- Electronic verification systems<br>\n",
    "- Algorithm-based generators<br>\n",
    "- Financial CRM platforms<br>\n",
    "- Traveling, restaurant, or hotel booking systems<br>\n",
    "- Secure mailing solutions<br>\n",
    "- Data analysis and visualization solution<br>\n",
    "- Filtering systems<br>\n",
    "- Communication platforms and software<br>\n",
    "\n",
    "https://www.crowdbotics.com/blog/when-to-use-python-django-top-10-web-applications-build-with-python<br>"
   ]
  }
 ],
 "metadata": {
  "kernelspec": {
   "display_name": "Python 3",
   "language": "python",
   "name": "python3"
  },
  "language_info": {
   "name": "python",
   "version": "3.8.10 (tags/v3.8.10:3d8993a, May  3 2021, 11:48:03) [MSC v.1928 64 bit (AMD64)]"
  },
  "orig_nbformat": 4,
  "vscode": {
   "interpreter": {
    "hash": "9650cb4e16cdd4a8e8e2d128bf38d875813998db22a3c986335f89e0cb4d7bb2"
   }
  }
 },
 "nbformat": 4,
 "nbformat_minor": 2
}
