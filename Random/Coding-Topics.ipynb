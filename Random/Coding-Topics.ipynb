{
 "cells": [
  {
   "attachments": {},
   "cell_type": "markdown",
   "metadata": {},
   "source": [
    "### Coding Topics<br>\n",
    "\n",
    "***\n",
    "\n",
    "<br>"
   ]
  },
  {
   "attachments": {},
   "cell_type": "markdown",
   "metadata": {},
   "source": [
    "**UI UX Design (User Interface / User Experience)**<br>\n",
    "Programs: Adobe XD, Sketch, Figma<br>\n",
    "\n",
    "https://insights.stackoverflow.com/survey/2020#overview<br>\n",
    "**Script Languages / Runtime**<br>\n",
    "Javascript, SQL, Python, Java, C#, PHP, Typescript, Rust<br>\n",
    "\n",
    "**Web Framework**<br>\n",
    "jQuery, React.js, Angular, ASP.NET, Express, Vue.js<br>\n",
    "\n",
    "**Other Framework/Lib**<br>\n",
    "Node.js, .NET, Pandas, TensorFlow, React Native, Unity 3D<br>\n",
    "\n",
    "**Databases**<br>\n",
    "MySQL, PostgreSQL, MongoDB, Redis, MariaDB, Firebase (NoSQL)<br>\n",
    "\n",
    "**Ticketing**<br>\n",
    "Jira, Trello<br>\n",
    "<br>\n",
    "\n",
    "**Bootstrap** - Bootstrap provides a collection of CSS and JavaScript components for building responsive, mobile-first web pages and web applications. Bootstrap simplifies web development by providing pre-designed and pre-built components that can be easily customized and used in web projects.<br>\n",
    "\n",
    "**ASP.NET Web Forms** - ASP.NET Web Forms is a web application framework that allows developers to create dynamic web applications using a visual drag-and-drop interface, similar to how Windows Forms applications are built.<br>\n",
    "\n",
    "**REST (Representational State Transfer)** - REST is an architectural style used for designing networked applications, particularly web services.<br>\n",
    "RESTful APIs (Application Programming Interfaces) are a set of conventions and principles for building and interacting with web services that adhere to the principles of REST.<br>\n",
    "\n",
    "**CI/CD (Continuous Integration / Continuous Development)** - CI/CD stands for Continuous Integration and Continuous Deployment (or Continuous Delivery). It is a set of practices used in software development to automate the process of building, testing, and deploying software changes to production in a rapid and reliable manner.<br>\n",
    "\n",
    "**PHP** - PHP (Hypertext Preprocessor) is a popular server-side scripting language used primarily for web development. It is a widely-used, open-source scripting language that is embedded in HTML and is used to create dynamic web pages and web applications. PHP is designed to be easy to learn and use, and it is supported by a large and active community of developers.<br>\n",
    "\n",
    "**RUST** - Similar to C++, but it's own programming language, very low memory space management and highly sought job for the backend<br>\n",
    "\n",
    "**C++** - due to its low level programming language, it has low memory space management and for that reason it's often used to write video games.<br>\n",
    "\n",
    "**Python & Django** - framework with automated tools helpful in building quality apps and maintaining them<br>\n",
    "There are many specific application types where Django particularly stands out:<br>\n",
    "- Customer relation management software for eCommerce<br>\n",
    "- Machine learning<br>\n",
    "- Online shopping platforms<br>\n",
    "- Admin dashboards for developers<br>\n",
    "- Web content management software<br>\n",
    "- iOS and Android applications<br>\n",
    "- Document management systems<br>\n",
    "- Electronic verification systems<br>\n",
    "- Algorithm-based generators<br>\n",
    "- Financial CRM platforms<br>\n",
    "- Traveling, restaurant, or hotel booking systems<br>\n",
    "- Secure mailing solutions<br>\n",
    "- Data analysis and visualization solution<br>\n",
    "- Filtering systems<br>\n",
    "- Communication platforms and software<br>\n",
    "\n",
    "https://www.crowdbotics.com/blog/when-to-use-python-django-top-10-web-applications-build-with-python<br>"
   ]
  },
  {
   "attachments": {},
   "cell_type": "markdown",
   "metadata": {},
   "source": [
    "**Database**<br>\n",
    "MySQL and PostgreSQL are both SQL (Structured Query Language) databases, which means they are relational databases that use SQL as their query language. They store data in tables with predefined schema, and relationships between tables are established using keys (e.g., primary keys, foreign keys).<br>\n",
    "\n",
    "MongoDB and Redis are NoSQL (Not Only SQL) databases, which means they do not follow the traditional relational model and do not use SQL as their primary query language.<br>\n",
    "\n",
    "MariaDB is also an SQL database, which is a fork of MySQL and retains many of its features and functionality. It is designed as a drop-in replacement for MySQL and is often used as a more open-source alternative to MySQL.<br>\n",
    "\n",
    "Firebase, on the other hand, is a cloud-based mobile and web application development platform provided by Google, and it includes a NoSQL database called Firebase Realtime Database. It is a real-time, JSON-based, document-oriented database that stores data in a hierarchical, tree-like structure and is optimized for real-time data synchronization across clients and platforms.<br>"
   ]
  }
 ],
 "metadata": {
  "kernelspec": {
   "display_name": "Python 3",
   "language": "python",
   "name": "python3"
  },
  "language_info": {
   "name": "python",
   "version": "3.8.10 (tags/v3.8.10:3d8993a, May  3 2021, 11:48:03) [MSC v.1928 64 bit (AMD64)]"
  },
  "orig_nbformat": 4,
  "vscode": {
   "interpreter": {
    "hash": "9650cb4e16cdd4a8e8e2d128bf38d875813998db22a3c986335f89e0cb4d7bb2"
   }
  }
 },
 "nbformat": 4,
 "nbformat_minor": 2
}
