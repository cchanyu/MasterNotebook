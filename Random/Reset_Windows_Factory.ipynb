{
 "cells": [
  {
   "attachments": {},
   "cell_type": "markdown",
   "metadata": {},
   "source": [
    "### How to reset Windows when you don't know Admin PW<br>\n",
    "\n",
    "***\n",
    "\n",
    "<br>"
   ]
  },
  {
   "attachments": {},
   "cell_type": "markdown",
   "metadata": {},
   "source": [
    "You simply go to the setting and type \"reset\"<br>\n",
    "and reset PC will pop up as an option<br>\n",
    "From there, you could go to the Advanced Settings<br>\n",
    "and start resetting to the Factory Mode<br>"
   ]
  }
 ],
 "metadata": {
  "language_info": {
   "name": "python"
  },
  "orig_nbformat": 4
 },
 "nbformat": 4,
 "nbformat_minor": 2
}
