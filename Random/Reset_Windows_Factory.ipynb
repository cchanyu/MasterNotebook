{
 "cells": [
  {
   "attachments": {},
   "cell_type": "markdown",
   "metadata": {},
   "source": [
    "### How to reset Windows when you don't know Admin PW<br>\n",
    "\n",
    "***\n",
    "\n",
    "<br>"
   ]
  },
  {
   "attachments": {},
   "cell_type": "markdown",
   "metadata": {},
   "source": [
    "You simply go to the setting and type \"reset\" in the searchbar<br>\n",
    "and reset PC will pop up as an option<br>\n",
    "From there, you could go to the Advanced Settings<br>\n",
    "and start resetting to the Factory Mode<br>"
   ]
  },
  {
   "attachments": {},
   "cell_type": "markdown",
   "metadata": {},
   "source": [
    "### Transporting Windows from old HDD to new SSD<br>\n",
    "\n",
    "***\n",
    "\n",
    "<br>\n",
    "\n",
    "MacriumSoftware - 30 days free trial<br>\n",
    "https://www.macrium.com/reflectfree<br>\n",
    "\n",
    "Install this tool and use it to clone the Windows to a new disk<br>"
   ]
  },
  {
   "attachments": {},
   "cell_type": "markdown",
   "metadata": {},
   "source": [
    "### Reinstalling Windows on a new HDD/SSD<br>\n",
    "\n",
    "***\n",
    "\n",
    "<br>\n",
    "\n",
    "1. use a USB flash drive<br>\n",
    "2. download Windows 10 ISO disc file<br>\n",
    "https://www.microsoft.com/en-us/software-download/windows10<br>\n",
    "3. launch that .exe and install for another computer<br>\n",
    "4. once the bootable thumbdrive is complete, plug off the USB and plug it in to the new PC<br>\n",
    "\n",
    "you might need to press either f11, f12, delete button to enter to BIOS<br>\n",
    "and change the order of bootable execution<br>\n",
    "once you change the order, restart the PC to take into an effect<br>"
   ]
  },
  {
   "cell_type": "code",
   "execution_count": null,
   "metadata": {},
   "outputs": [],
   "source": [
    "# ERROR MESSAGE:\n",
    "# When you encounter an error message saying: Windows cannot be installed to this disk. \n",
    "# The selected disk has an MBR partition table. Windows need GPT table.\n",
    "\n",
    "shift + f10 # this will bring up the command prompt\n",
    "\n",
    "diskpart # to enter the diskpart<br>\n",
    "list disk # to see all the disk<br>\n",
    "select disk 0 # select the disk\n",
    "clean # cleans the disk\n",
    "convert GPT # convert it to GPT format\n",
    "exit # to exit out"
   ]
  },
  {
   "attachments": {},
   "cell_type": "markdown",
   "metadata": {},
   "source": [
    "after installation, don't forget to change the boot order or plug off the USB for now<br>"
   ]
  },
  {
   "attachments": {},
   "cell_type": "markdown",
   "metadata": {},
   "source": [
    "### Extracing the Windows Product Key and removing it from old PC<br>\n",
    "\n",
    "***\n",
    "\n",
    "https://answers.microsoft.com/en-us/windows/forum/all/how-to-recover-your-windows-product-key/8687ef5d-4d32-41fc-9310-158f8e5f02e3<br>\n",
    "\n",
    "Stored in the Windows Registry<br>\n",
    "\n",
    "If your product key isn't embedded in the firmware or you're missing your COA sticker, you're not out of luck as long as you haven't formatted your computer. You can still recover the key because Windows stores it in the registry. Here is how:<br>\n",
    "\n",
    "1. Open a new Notepad window<br>\n",
    "\n",
    "2. Copy and paste the following text into the window<br>"
   ]
  },
  {
   "cell_type": "code",
   "execution_count": null,
   "metadata": {},
   "outputs": [],
   "source": [
    "Set WshShell = CreateObject(\"WScript.Shell\")\n",
    "MsgBox ConvertToKey(WshShell.RegRead(\"HKLM\\SOFTWARE\\Microsoft\\Windows NT\\CurrentVersion\\DigitalProductId\"))\n",
    "\n",
    "Function ConvertToKey(Key)\n",
    "Const KeyOffset = 52\n",
    "i = 28\n",
    "Chars = \"BCDFGHJKMPQRTVWXY2346789\"\n",
    "Do\n",
    "Cur = 0\n",
    "x = 14\n",
    "Do\n",
    "Cur = Cur * 256\n",
    "Cur = Key(x + KeyOffset) + Cur\n",
    "Key(x + KeyOffset) = (Cur \\ 24) And 255\n",
    "Cur = Cur Mod 24\n",
    "x = x -1\n",
    "Loop While x >= 0\n",
    "i = i -1\n",
    "KeyOutput = Mid(Chars, Cur + 1, 1) & KeyOutput\n",
    "If (((29 - i) Mod 6) = 0) And (i <> -1) Then\n",
    "i = i -1\n",
    "KeyOutput = \"-\" & KeyOutput\n",
    "End If\n",
    "Loop While i >= 0\n",
    "ConvertToKey = KeyOutput\n",
    "End Function"
   ]
  },
  {
   "attachments": {},
   "cell_type": "markdown",
   "metadata": {},
   "source": [
    "3. Click **File > Save As** and save the file to your desktop as **productkey.vbs**. It's important to include the .vbs extension because this is a Windows Scripting Host file.<br>\n",
    "\n",
    "4. Close Notepad and double-click the file. Wait a few seconds, and then you will be presented with a popup displaying your product key<br>"
   ]
  },
  {
   "attachments": {},
   "cell_type": "markdown",
   "metadata": {},
   "source": [
    "To deactivate/deinstall Windows Product Key<br>\n",
    "https://www.groovypost.com/howto/transfer-windows-10-license-new-pc/#:~:text=Uninstall%20Product%20Key,the%20license%20for%20use%20elsewhere.<br>\n",
    "\n",
    "- Press Windows Key + X, then click Command Prompt (Admin)<br>\n",
    "- type the following:<br>"
   ]
  },
  {
   "cell_type": "code",
   "execution_count": null,
   "metadata": {},
   "outputs": [],
   "source": [
    "# reveal the product key\n",
    "wmic path softwarelicensingservice get OA3xOriginalProductKey"
   ]
  },
  {
   "cell_type": "code",
   "execution_count": null,
   "metadata": {},
   "outputs": [],
   "source": [
    "# to deactivate the Windows Product key\n",
    "slmgr.vbs /upk"
   ]
  },
  {
   "attachments": {},
   "cell_type": "markdown",
   "metadata": {},
   "source": [
    "This command uninstalls the product key, which frees the license for use elsewhere.<br>"
   ]
  },
  {
   "cell_type": "code",
   "execution_count": null,
   "metadata": {},
   "outputs": [],
   "source": [
    "# to reactivate the Windows Product key\n",
    "slmgr.vbs /ipk xxxxx-xxxxx-xxxxx-xxxxx-xxxxx"
   ]
  },
  {
   "attachments": {},
   "cell_type": "markdown",
   "metadata": {},
   "source": [
    "**BIOS Key<br>**\n",
    "HP Pavilion - f10<br>\n",
    "Dell Inspiron - f2<br>\n",
    "Nvidia GFX Card - Del<br>"
   ]
  },
  {
   "attachments": {},
   "cell_type": "markdown",
   "metadata": {},
   "source": [
    "### Sharing a mouse across multiple PC<br>\n",
    "\n",
    "***\n",
    "\n",
    "<br>"
   ]
  },
  {
   "attachments": {},
   "cell_type": "markdown",
   "metadata": {},
   "source": [
    "Barrier - free, decent<br>\n",
    "https://www.youtube.com/watch?v=ZUWYvANbcbw&ab_channel=AarontheTechGuy<br>\n",
    "https://github.com/debauchee/barrier/releases<br>\n",
    "\n",
    "Synergy - paid option<br>\n",
    "AnyDesk - paid option<br>\n",
    "\n",
    "UGREEN KVM Switcher<br>"
   ]
  },
  {
   "attachments": {},
   "cell_type": "markdown",
   "metadata": {},
   "source": [
    "### Multiple Partition Disk, how to reset<br>\n",
    "\n",
    "***\n",
    "\n",
    "<br>"
   ]
  },
  {
   "cell_type": "code",
   "execution_count": null,
   "metadata": {},
   "outputs": [],
   "source": [
    "# open command prompt\n",
    "diskpart # to enter DiskPart (where you manage all the disks)\n",
    "list disk # to see the list of disks\n",
    "select disk 2 # select the disk you want to reset\n",
    "list partition # to see partition in that disk\n",
    "select partition 1 # to select that partition\n",
    "delete partition override # override to FORCE delete the partition\n",
    "# repeat selecting partitions and delete them\n",
    "# once you're done type exit\n",
    "exit\n",
    "\n",
    "# go back to Disk Management\n",
    "# now you can assign a new volume"
   ]
  }
 ],
 "metadata": {
  "language_info": {
   "name": "python"
  },
  "orig_nbformat": 4
 },
 "nbformat": 4,
 "nbformat_minor": 2
}
