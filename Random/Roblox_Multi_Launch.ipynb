{
 "cells": [
  {
   "attachments": {},
   "cell_type": "markdown",
   "metadata": {},
   "source": [
    "### Roblox Launch Multiple Accounts<br>\n",
    "\n",
    "***\n",
    "\n",
    "<br>"
   ]
  },
  {
   "attachments": {},
   "cell_type": "markdown",
   "metadata": {},
   "source": [
    "1. Download 'Process Explorer'<br>\n",
    "2. Scroll down to RobloxPlayerBeta.exe<br>\n",
    "3. Click on it and find '\\Sessions\\3\\BaseNamedObjects\\ROBLOX_singletonEvent' and close handle.<br>\n",
    "4. Now you should be able to launch another account<br>\n",
    "\n",
    "Auto Clicker Tutorial<br>\n",
    "1. Download AutoClicker by CyDoor (Github)<br>\n",
    "2. Open Autoclicker.exe<br>\n",
    "3. Press F1 on the position you want to click and F2 to save that position<br>\n",
    "4. Press F3 to start and F4 to stop<br>\n",
    "If the click is too fast, you can press Windows Key + Tab to view all windows<br>\n",
    "F4 only works when Autoclicker window is at the top<br>"
   ]
  }
 ],
 "metadata": {
  "language_info": {
   "name": "python"
  },
  "orig_nbformat": 4
 },
 "nbformat": 4,
 "nbformat_minor": 2
}
