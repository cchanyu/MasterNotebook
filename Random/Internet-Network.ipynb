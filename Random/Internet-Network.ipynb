{
 "cells": [
  {
   "attachments": {},
   "cell_type": "markdown",
   "metadata": {},
   "source": [
    "### Internet Connections<br>\n",
    "\n",
    "***\n",
    "\n",
    "<br>"
   ]
  },
  {
   "attachments": {},
   "cell_type": "markdown",
   "metadata": {},
   "source": [
    "No wireless wifi connection, but ethernet connection works:"
   ]
  },
  {
   "cell_type": "code",
   "execution_count": null,
   "metadata": {},
   "outputs": [],
   "source": [
    "# Flush DNS for router\n",
    "For Windows: \"ipconfig /flushdns\"\n",
    "For Mac: \"sudo killall -HUP mDNSResponder\"\n",
    "\n",
    "# TP Link Router Address:\n",
    "192.168.0.1\n",
    "# Settings -> Reboot"
   ]
  }
 ],
 "metadata": {
  "language_info": {
   "name": "python"
  },
  "orig_nbformat": 4
 },
 "nbformat": 4,
 "nbformat_minor": 2
}
