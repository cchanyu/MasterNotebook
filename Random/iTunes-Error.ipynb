{
 "cells": [
  {
   "attachments": {},
   "cell_type": "markdown",
   "metadata": {},
   "source": [
    "### iTunes Error<br>\n",
    "\n",
    "***\n",
    "\n",
    "<br>"
   ]
  },
  {
   "attachments": {},
   "cell_type": "markdown",
   "metadata": {},
   "source": [
    "I think the probable cause of this bug is due to using secondary portable disk as a main source<br>\n",
    "\n",
    "If an mp3 file doesn't add to the library<br>\n",
    "you would want to convert it to m4a file online<br>\n",
    "then it'd open, the **critical downside** is that m4a file can be extreme large<br>\n",
    "as large as 250MB, whereas mp3 file would be 7MB<br>"
   ]
  },
  {
   "attachments": {},
   "cell_type": "markdown",
   "metadata": {},
   "source": [
    "**Update:**<br>\n",
    "Recently I discovered that a site called: en.loader.to/<br>\n",
    "You can download directly at low MB<br>\n",
    "but when you try to open it in m4a format, it's broken<br>\n",
    "you could convert the extension from .m4a to .mp4 and open it, it works<br>\n",
    "\n",
    "Yes. It's ridiculous, but this is only way for me to add a music in my iTunes..<br>"
   ]
  },
  {
   "attachments": {},
   "cell_type": "markdown",
   "metadata": {},
   "source": [
    "### Apple Mail, unable to add Gmail account<br>\n",
    "\n",
    "***\n",
    "\n",
    "<br>"
   ]
  },
  {
   "attachments": {},
   "cell_type": "markdown",
   "metadata": {},
   "source": [
    "**Issue description**: When I tried to add my gmail account to Mail app in Mac.<br>\n",
    "or adding an account in the Settings, it just gets stuck at spinning wheel<br>\n",
    "\n",
    "**Solution that worked for me**: I simply had to shut down my Chrome and set Safari as my default browser<br>\n",
    "and Google sign-in pop up prompt will show normally<br>\n",
    "For some reason Mac prompt is incomptiable with Chrome, probably due to anti-virus? idk<br>"
   ]
  }
 ],
 "metadata": {
  "kernelspec": {
   "display_name": "Python 3",
   "language": "python",
   "name": "python3"
  },
  "language_info": {
   "name": "python",
   "version": "3.8.10 (tags/v3.8.10:3d8993a, May  3 2021, 11:48:03) [MSC v.1928 64 bit (AMD64)]"
  },
  "orig_nbformat": 4,
  "vscode": {
   "interpreter": {
    "hash": "9650cb4e16cdd4a8e8e2d128bf38d875813998db22a3c986335f89e0cb4d7bb2"
   }
  }
 },
 "nbformat": 4,
 "nbformat_minor": 2
}
