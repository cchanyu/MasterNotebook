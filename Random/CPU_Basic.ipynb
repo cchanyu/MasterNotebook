{
 "cells": [
  {
   "attachments": {},
   "cell_type": "markdown",
   "metadata": {},
   "source": [
    "### CPU Basic<br>\n",
    "\n",
    "***\n",
    "\n",
    "<br>"
   ]
  },
  {
   "attachments": {},
   "cell_type": "markdown",
   "metadata": {},
   "source": [
    "CPU stands for Central Processing Unit and it's an electronic machinery that executes<br>\n",
    "set of instructions from programs. Such as opening web browser, write emails etc.<br>\n",
    "\n",
    "CPU has a transistor. It's made of ON/OFF switch and this can block the electricity or let it flow<br>\n",
    "\n",
    "So using this, we can create something called Logic Gate:<br>\n",
    "**NOT** - outputs opposite number of the input. ex. input 1, output 0<br>\n",
    "1 -> 0<br>\n",
    "0 -> 1<br>\n",
    "\n",
    "**OR** - if any input is 1, output is 1. If both inputs are 0, output is 0<br>\n",
    "1,0 -> 1<br>\n",
    "0,1 -> 1<br>\n",
    "1,1 -> 1<br>\n",
    "0,0 -> 0<br>\n",
    "\n",
    "**AND** - if both inputs are 1, output is 1. If any input is 0, then outputs 0<br>\n",
    "1,0 -> 0<br>\n",
    "0,1 -> 0<br>\n",
    "1,1 -> 1<br>\n",
    "0,0 -> 0<br>\n",
    "\n",
    "**XOR** - if both inputs are 0,0 or 1,1, output is 0, but if inputs are 0,1 1,0 then output is 1<br>\n",
    "1,0 -> 1<br>\n",
    "0,1 -> 1<br>\n",
    "1,1 -> 0<br>\n",
    "0,0 -> 0<br>"
   ]
  }
 ],
 "metadata": {
  "language_info": {
   "name": "python"
  },
  "orig_nbformat": 4
 },
 "nbformat": 4,
 "nbformat_minor": 2
}
