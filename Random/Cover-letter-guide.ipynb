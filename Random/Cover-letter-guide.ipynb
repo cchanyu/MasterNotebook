{
 "cells": [
  {
   "attachments": {},
   "cell_type": "markdown",
   "metadata": {},
   "source": [
    "### Cover Letter Guides<br>\n",
    "\n",
    "***\n",
    "\n",
    "<br>"
   ]
  },
  {
   "attachments": {},
   "cell_type": "markdown",
   "metadata": {},
   "source": [
    "1. Header<br>\n",
    "include your name, address, contact info.<br>\n",
    "The date and the company's contact info.<br>\n",
    "\n",
    "2. Intro<br>\n",
    "use Dear Ms/Mr. [name]<br>\n",
    "or Dear Hiring Manager<br>\n",
    "\n",
    "State the name of the position<br>\n",
    "and how I learned it, and why I'm interested in this position<br>\n",
    "Read their mission statement and about us on company's website<br>\n",
    "(Make sure it's attention grabbing and keep it 2-3 sentences)<br>\n",
    "\n",
    "3. Body Paragraph<br>\n",
    "State your background<br>\n",
    "Demonstrate my interest, education and experience<br>\n",
    "\n",
    "Body Paragraph - Summarize how experiences are relevant to the position<br>\n",
    "(5-6 sentences)<br>\n",
    "\n",
    "4. Closing and Signature<br>\n",
    "Request for an interview<br>\n",
    "Express my interest in receiving a response<br>\n",
    "\n",
    "Signature<br>\n",
    "Full name + resume<br>"
   ]
  },
  {
   "attachments": {},
   "cell_type": "markdown",
   "metadata": {},
   "source": [
    "Cover Letter Best Practices<br>\n",
    "\n",
    "1 page in length, same font as resume<br>\n",
    "single spaced paragraphs, double spaced between paragraphs<br>\n",
    "double check for spelling, grammar, clarity<br>\n"
   ]
  }
 ],
 "metadata": {
  "language_info": {
   "name": "python"
  },
  "orig_nbformat": 4
 },
 "nbformat": 4,
 "nbformat_minor": 2
}
