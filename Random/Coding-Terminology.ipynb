{
 "cells": [
  {
   "attachments": {},
   "cell_type": "markdown",
   "metadata": {},
   "source": [
    "### Coding Terminology<br>\n",
    "\n",
    "***\n",
    "\n",
    "<br>"
   ]
  },
  {
   "attachments": {},
   "cell_type": "markdown",
   "metadata": {},
   "source": [
    "Since it's easy to forget, I like to keep it in a note<br>"
   ]
  },
  {
   "attachments": {},
   "cell_type": "markdown",
   "metadata": {},
   "source": [
    "**Pseudo-code** - just a brief concept of your code, but not actually functioning code<br>\n",
    "\n",
    "**BEM naming conventions** - BEM(Block/Element/Modify)<br>\n",
    "Ex. c-nav<br>\n",
    "Ex. c-nav_about<br>\n",
    "Ex. c-nav_about--darkmode<br>\n",
    "\n",
    "**Methods** - another way to call code block, functions<br>\n",
    "\n",
    "**Persistent Data** - data that persist(last long)<br>\n",
    "But it's not accessed frequently and it's non-volatile data<br>\n",
    "It's usually chained to a cloud and saves permanently<br>\n",
    "\n",
    "**Volatile data** - data that's accessed frequently, constantly changing<br>\n",
    "No power = data will be lost, ex. RAM on your PC<br>\n",
    "\n",
    "**2D array** - int[][] = [{1,3,4}, {5,6,7}] <br>\n",
    "\n",
    "**DSA** - Data Structure & Algorithm<br>\n",
    "\n",
    "**HashMap vs. HashTable vs. Dictionary:**<br>\n",
    "**HashMaps** easier to implement<br>\n",
    "**HashTable** has thread synchro and adapts multi threading<br>\n",
    "**Dictionary** takes in key, value, similar to HashMap, but used in python<br>\n",
    "\n",
    "**IDE (Integrated Developer Environment)** - Ex. VS Code, Eclipse, Sublime, text editor<br>\n",
    "\n",
    "**SDK (Software Development Toolkit)**<br>\n",
    "\n",
    "**LSP (language server protocol)** - helps you with auto complete, definition (like js in VS code)<br>\n",
    "\n",
    "**Linter** - grammer checker for coding, anything weird shows up in warning/error before compling the code<br>\n",
    "\n",
    "**compiler** - converts programming languages to computer codes<br>"
   ]
  }
 ],
 "metadata": {
  "kernelspec": {
   "display_name": "Python 3",
   "language": "python",
   "name": "python3"
  },
  "language_info": {
   "name": "python",
   "version": "3.8.10 (tags/v3.8.10:3d8993a, May  3 2021, 11:48:03) [MSC v.1928 64 bit (AMD64)]"
  },
  "orig_nbformat": 4,
  "vscode": {
   "interpreter": {
    "hash": "9650cb4e16cdd4a8e8e2d128bf38d875813998db22a3c986335f89e0cb4d7bb2"
   }
  }
 },
 "nbformat": 4,
 "nbformat_minor": 2
}
