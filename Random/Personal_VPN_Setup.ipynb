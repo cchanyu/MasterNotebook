{
 "cells": [
  {
   "attachments": {},
   "cell_type": "markdown",
   "metadata": {},
   "source": [
    "### Personal VPN Set up using Google Cloud<br>\n",
    "\n",
    "***\n",
    "\n",
    "<br>"
   ]
  },
  {
   "attachments": {},
   "cell_type": "markdown",
   "metadata": {},
   "source": [
    "**Google Cloud Setup**<br>\n",
    "1. Set up Google Cloud<br>\n",
    "\n",
    "2. Google Cloud -> Marketplace -> Search 'OpenVPN Access Server'<br>\n",
    "\n",
    "3. Enable Compute Engine API<br>\n",
    "\n",
    "4. E2 Micro - costs $8 per month<br>\n",
    "Leave everything else as is<br>\n",
    "\n",
    "5. wait until jinja is set up<br>\n",
    "then click AdminURL, use the admin user/pw to login<br>\n",
    "\n",
    "click on VPN Settings<br>\n",
    "Should client Internet traffic be routed through the VPN? YES<br>\n",
    "\n",
    "Have clients use specific DNS servers: YES<br>\n",
    "Primary DNS Server: 8.8.8.8<br>\n",
    "Secondary DNS Server: 8.8.4.4<br>\n",
    "\n",
    "Click save settings and update running server<br>\n",
    "\n",
    "Cloud setup is complete<br>"
   ]
  },
  {
   "attachments": {},
   "cell_type": "markdown",
   "metadata": {},
   "source": [
    "**Install OpenVPN client**<br>\n",
    "\n",
    "1. Open jinja again in the Deployment Manager<br>\n",
    "go to the Site address URL, use the admin user/pw<br>\n",
    "\n",
    "download the recommended installer<br>\n",
    "once you go through installation, and get started, you can see the VPN profile already added<br>\n",
    "\n",
    "Mobile apps can use VPN with OpenVPN app -> import ovpn profile<br>"
   ]
  },
  {
   "attachments": {},
   "cell_type": "markdown",
   "metadata": {},
   "source": [
    "**IP network static**<br>\n",
    "1. go to VPC network -> IP addresses -> External IP Addresses<br>\n",
    "scroll to the right -> click 3 dots -> promote VPN to a static<br>\n",
    "\n",
    "2. Marketplace -> OpenVPN -> Past Deployment -> click on the name that's deployed<br>\n"
   ]
  },
  {
   "attachments": {},
   "cell_type": "markdown",
   "metadata": {},
   "source": [
    "**Separate from above<br>\n",
    "Setting up Network on Cloud Connexa<br>**\n",
    "\n",
    "1. OpenVPN Cloud Connexa -> Network -> create new<br>\n",
    "Name the network and set the server location<br>\n",
    "\n",
    "2. Google Cloud -> VM Instances -> create new VM<br>\n",
    "type: N1 f1 micro<br>\n",
    "boot disk: Ubuntu 20.04 LTS<br>\n",
    "boot disk type: standard persistent disk<br>\n",
    "size: 30GB<br>\n",
    "\n",
    "Firewall: allow HTTP, HTTPS connections<br>\n",
    "click create<br>\n",
    "\n",
    "3. open SSH<br>\n",
    "go back to Cloud Connexa<br>\n",
    "select Ubuntu 20.04, then copy the script, paste it in SSH<br>\n",
    "\n",
    "4. open OpenVPN application<br>\n",
    "add new -> type in the URL <username>.openvpn.com<br>\n",
    "sign in with user credential<br>\n",
    "select the region and connect<br>"
   ]
  },
  {
   "attachments": {},
   "cell_type": "markdown",
   "metadata": {},
   "source": [
    "For some reason, I can't have the VPN connection to Japan<br>"
   ]
  }
 ],
 "metadata": {
  "language_info": {
   "name": "python"
  },
  "orig_nbformat": 4
 },
 "nbformat": 4,
 "nbformat_minor": 2
}
