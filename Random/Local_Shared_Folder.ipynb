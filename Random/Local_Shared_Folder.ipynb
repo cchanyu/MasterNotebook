{
 "cells": [
  {
   "attachments": {},
   "cell_type": "markdown",
   "metadata": {},
   "source": [
    "### Local Network Shared Folder<br>\n",
    "\n",
    "***\n",
    "\n",
    "<br>"
   ]
  },
  {
   "attachments": {},
   "cell_type": "markdown",
   "metadata": {},
   "source": [
    "**PC**<br>\n",
    "1. Create a folder<br>\n",
    "2. click Properties -> Sharing -> Share -> create new user<br>\n",
    "3. create a new user account w/o microsoft account and make sure to add a PW<br>\n",
    "4. add the new user to shared folder and give its permission<br>\n",
    "5. advanced sharing, make sure shared is turned on<br>\n",
    "\n",
    "to access this folder in an external device within the network<br>\n",
    "1. open the command prompt, type in: ipconfig<br>\n",
    "2. use that IPv4 address, then enter the credentials<br>\n",
    "Ex. 192.168.0.123<br>\n",
    "\n",
    "**Mac**<br>\n",
    "1. Create a folder<br>\n",
    "2. click Properties -> click shared folder<br>\n",
    "\n",
    "To force allow file sharing<br>\n",
    "1. open the terminal<br>\n",
    "2. type in: <br>\n",
    "\n",
    "        sudo launchctl load -w /System/Library/LaunchDaemons/com.apple.AppleFileServer.plist\n",
    "        \n",
    "type in the pw<br>\n",
    "\n",
    "        sudo launchctl load -w /System/Library/LaunchDaemons/com.apple.smbd.plist\n",
    "\n",
    "3. restart the terminal and system preferences. Sharing is now turned on.<br>\n",
    "4. there is an IP address listed on Sharing, if not. You can type: ifconfig in Terminal to check IPv4<br>\n"
   ]
  }
 ],
 "metadata": {
  "language_info": {
   "name": "python"
  },
  "orig_nbformat": 4
 },
 "nbformat": 4,
 "nbformat_minor": 2
}
