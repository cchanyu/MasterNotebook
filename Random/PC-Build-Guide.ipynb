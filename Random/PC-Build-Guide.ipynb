{
 "cells": [
  {
   "attachments": {},
   "cell_type": "markdown",
   "metadata": {},
   "source": [
    "### How to build/find a good PC<br>\n",
    "\n",
    "***\n",
    "\n",
    "<br>"
   ]
  },
  {
   "attachments": {},
   "cell_type": "markdown",
   "metadata": {},
   "source": [
    "You could follow one of those \"gaming pc build\" tutorials<br>\n",
    "but when they become slightly outdated, aka parts discontinue<br>\n",
    "the leftover stocks price go up sharply<br>"
   ]
  },
  {
   "attachments": {},
   "cell_type": "markdown",
   "metadata": {},
   "source": [
    "**Things to watch out for in pre-built ones**<br>\n",
    "\n",
    "if you browse through eBay<br>\n",
    "They'll bait you through 16/32GB RAM, 500/1TB SSD for $100-200 they all sound good, right?<br>\n",
    "The catch is.. their CPU capabilities and/or GPUs all suck<br>\n",
    "Some of them are so bad that you can't even use them as an office PC<br>\n",
    "\n",
    "**Let's look at an example:**<br>\n",
    "Dell Optiplex 390 SFF Desktop Intel i5 3.10 GHz 8GB RAM 500GB HDD for $80 in 2019<br>\n",
    "<br>\n",
    "\n",
    "**red flags** instantly<br>\n",
    "you notice how the seller doesn't write i5-2400 (Optiplex 390), but instead chose to use<br>\n",
    "i5 3.10GHz(?) the clock speed less irrelvant, you need more newer, latest CPU chips<br>\n",
    "<br>\n",
    "\n",
    "### so how to tell the newer versions of intel CPU chips?<br>\n",
    "its format is at: 2400 <- 2 represents 2nd generation, which goes back to 2011<br>\n",
    "400 represents the processors model number, mainly related to its benchmark in its generation<br>\n",
    "We currently have 13th generation<br>\n",
    "**So you want AT LEAST 9th-11th generation chips for the affordable prices**<br>\n",
    "\n",
    "sure something like i5-6500 can last several more years<br>\n",
    "but you do want something that can stay relevant for longer, that's the key here<br>\n",
    "we can still run Windows'00 machines, but pretty much incapable of doing much of things<br>\n",
    "and can't be fixed when broken<br>\n",
    "<br>\n",
    "\n",
    "2nd red flag is<br>\n",
    "HDD is so slow, you can have it for 2nd file storage option<br>\n",
    "but aim for SSD ones<br>\n",
    "\n",
    "8GB RAM is also not very sufficient for 2023<br>\n",
    "It may have been more than enough 7-8 years ago though<br>\n",
    "you want at least 16GB, if not 32GB<br>\n",
    "\n",
    "Also the motherboard should be good, just like the CPU.<br>\n",
    "RAM also has sockets, DDR3 is bad, DDR4 is okay, DDR5 is new<br>\n",
    "CPU sockets, you want to have it LGA1700 or better for intel chips<br>\n",
    "this just gives more space for future upgrades, if need any<br>\n",
    "you can google its motherboard and see what it supports<br>\n",
    "\n",
    "Also PCs ranged in $500+ will start containing GPU cards<br>\n",
    "Graphics cards are essential, if you're playing video games<br>\n",
    "Aim for RTX3060 (in 2023), RTX3060 is $400 GFX card<br>\n",
    "anything below is okay, but will soon become irrelevant and won't be able to launch any new games<br>\n",
    "RTX3070 is pretty much 2x power of 3060, RTX3080 is 2x power of 3070 etc<br>\n",
    "\n",
    "Some people do cheap out on PSU(power supply) and stuff<br>\n",
    "Make sure it's 500-750 Watts gold or plat rated<br>"
   ]
  },
  {
   "attachments": {},
   "cell_type": "markdown",
   "metadata": {},
   "source": [
    "**More in-depth**<br>\n",
    "\n",
    "https://pcpartpicker.com/<br>\n",
    "Always use PC Parts Picker to make sure things are compatible<br>\n",
    "\n",
    "**CPU** - a chip that goes into your motherboard<br>\n",
    "\n",
    "CPU is mostly Intel vs. AMD<br>\n",
    "\n",
    "**CPU - Socket Types:**<br>\n",
    "The socket and motherboard has to match to fit<br>\n",
    "Intel Socket types: LGA-1200, LGA-1700 etc<br>\n",
    "AMD Socket types: AM4 etc<br>\n",
    "\n",
    "**CPU - Intel Generations:**<br>\n",
    "i5-2400 - 2nd generation model 400<br>\n",
    "i5-10400 - 10th generation model 400<br>\n",
    "13th generation is the latest intel chip generation<br>\n",
    "\n",
    "i3, i5, i7, i9 - means # of cores<br>\n",
    "high cores = less intensive work for cores, aka slightly better<br>\n",
    "\n",
    "2.3, 3.1, 3.6 GHz - clock speed<br>\n",
    "same thing with clocking, it's slightly better to have high clock speed<br>\n",
    "any intensive CPU application needs high clocking speed.<br>\n",
    "\n"
   ]
  },
  {
   "attachments": {},
   "cell_type": "markdown",
   "metadata": {},
   "source": [
    "**GPU** - a part that goes into your motherboard<br>\n",
    "\n",
    "Graphics card also branches out<br>\n",
    "Nvidia GeForce vs. AMD Radeon<br>\n",
    "\n",
    "GeForce GTX most of them are outdated IMO<br>\n",
    "GeForce RTX 3060 is the least<br>\n",
    "The performance varies, so use: https://www.userbenchmark.com/PCBuilder<br>\n",
    "\n",
    "for AMD series, at least Radeon RX6600<br>\n",
    "\n",
    "Don't get baited with GeForce GTX 650 or something like that<br>\n",
    "It's really old and not good<br>"
   ]
  },
  {
   "attachments": {},
   "cell_type": "markdown",
   "metadata": {},
   "source": [
    "**Motherboard** - where all the parts fits<br>\n",
    "\n",
    "You would want a good gaming motherboard<br>\n",
    "and pay high attention to LGA socket number and its supported RAM slots(DDR4/5)<br>\n",
    "You would ideally want 4x RAM slots and RAM slots are DDR4 slots, DDR3 or DDR5 has different designs<br>\n",
    "\n"
   ]
  },
  {
   "attachments": {},
   "cell_type": "markdown",
   "metadata": {},
   "source": [
    "**PSU** - power supply<br>\n",
    "\n",
    "You wouldn't really need anything beyond 750W+, unless you're equipping with high-end graphics card or dual GFX cards<br>\n",
    "Also it uses the amount your PC needs, it doesn't fully run at 750W at all times<br>\n",
    "You do want it to have at least Gold rating<br>\n",
    "\n",
    "- 80 Plus<br>\n",
    "- 80 Plus Bronze<br>\n",
    "- 80 Plus Silver<br>\n",
    "- 80 Plus Gold<br>\n",
    "- 80 Plus Platinum<br>\n",
    "- 80 Plus Titanium<br>"
   ]
  },
  {
   "attachments": {},
   "cell_type": "markdown",
   "metadata": {},
   "source": [
    "**RAM** - Random Access Memory<br>\n",
    "\n",
    "RAM needs to be at least 8GB nowadays<br>\n",
    "There's usually 2-4x RAM sockets on motherboard<br>\n",
    "You could go for 16GB total or 32GB<br>\n",
    "64GB is no longer a high-end build either, as the price went crazy cheap in 2023<br>\n",
    "\n",
    "It's a common mistake, but doesn't happen often unless you're upgrading an old PC<br>\n",
    "You'd want the RAM to match its MHz too.<br>\n",
    "A motherboard from 2011 can only support up to 1333MHz in DDR4<br>\n",
    "16GB(2x8GB) 1600 MHz DDR4 RAM can't be used for it<br>"
   ]
  },
  {
   "attachments": {},
   "cell_type": "markdown",
   "metadata": {},
   "source": [
    "**SSD / HDD** - Storage options<br>\n",
    "\n",
    "SSD - More expensive and faster<br>\n",
    "There are slight variances to SSD as well, but it's not too important<br>\n",
    "SSD has lifespan of around 5 years, and can last up to 10+ years, depends on usage<br>\n",
    "\n",
    "SSD form factors:<br>\n",
    "- 2.5\" - just like regular HDD, but smaller<br>\n",
    "- M.2/NVMe - fits directly to the motherboard socket<br>\n",
    "- mSATA - probably for laptops<br>\n",
    "- U.2 - similar to 2.5\", but it's for high-end workstation<br>\n",
    "\n",
    "HDD - it's okay for storing files<br>\n"
   ]
  }
 ],
 "metadata": {
  "language_info": {
   "name": "python"
  },
  "orig_nbformat": 4
 },
 "nbformat": 4,
 "nbformat_minor": 2
}
