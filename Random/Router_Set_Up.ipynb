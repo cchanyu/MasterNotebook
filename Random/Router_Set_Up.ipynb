{
 "cells": [
  {
   "attachments": {},
   "cell_type": "markdown",
   "metadata": {},
   "source": [
    "### Tp-Link Archer C5400 Router<br>\n",
    "\n",
    "***\n",
    "\n",
    "<br>"
   ]
  },
  {
   "attachments": {},
   "cell_type": "markdown",
   "metadata": {},
   "source": [
    "**Q: Can not access the web gui (admin panel): 192.168.0.1 or tplinkwifi.net**<br>\n",
    "A: Set the default browser back to device's default browser<br>\n",
    "Ex. PC/Mac Google Chrome -> Safari(Mac) or Edge/IE(Windows)<br>\n",
    "\n",
    "**Q: Weak Security on iPhone**<br>\n",
    "\n",
    "        WPA/WPA2 (TKIP) is not considered secure.\n",
    "        If this is your Wi-Fi network, configure the router to use WPA2 (AES) or WPA3 security type.\"\n",
    "\n",
    "A: TKIP encryption is bad, instead of AUTO, manually select AES to make the alert go away<br>\n",
    "you can make these changes in 192.168.0.1<br>\n",
    "\n",
    "**Note:** Setting the same SSID and pw credentials, devices auto attempt logging in<br>\n",
    "\n",
    "**Note:** Shared Drive is recommended to be in NTFS format<br>\n",
    "\n",
    "**Q: If a random phone pops up on your Network**<br>\n",
    "A: Right Click Windows -> Computer Management -> Services and Application -> Services -> Find Windows Connect Now, Disable it<br>\n",
    "\n",
    "**Q: How to enter the router's network shared storage**<br>\n",
    "A: in the Window's Explorer, type in ftp://192.168.0.1:21 in the address bar and type in the credentials<br>\n",
    "or Mac can enter it through Network<br>\n",
    "\n"
   ]
  }
 ],
 "metadata": {
  "language_info": {
   "name": "python"
  },
  "orig_nbformat": 4
 },
 "nbformat": 4,
 "nbformat_minor": 2
}
