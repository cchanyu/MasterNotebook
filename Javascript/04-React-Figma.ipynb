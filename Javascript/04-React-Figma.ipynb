{
 "cells": [
  {
   "attachments": {},
   "cell_type": "markdown",
   "metadata": {},
   "source": [
    "### React: Figma UI/UX Designs <br>\n",
    "\n",
    "***\n",
    "\n",
    "<br>\n",
    "\n",
    "Figma is a web/mobile UI/UX designing platform<br>\n",
    "There are other options, such as AdobeXD, Photoshop<br>\n",
    "But figma gained popularity due to it being available on web browser and free-to-use<br>"
   ]
  },
  {
   "attachments": {},
   "cell_type": "markdown",
   "metadata": {},
   "source": [
    "**Tutorial 1**: https://www.youtube.com/watch?v=FTFaQWZBqQ8<br>\n",
    "\n",
    "**font used**: SF Pro Text / Bold<br>\n",
    "**font used**: SF Pro Text / Regular<br>\n",
    "\n",
    "**Icons**: Icon svg are from another figma file, you just copy paste<br>\n",
    "\n",
    "**Images**: you can copy paste images from the internet or import it<br>\n",
    "\n",
    "**Buttons**: just regular rectangle and the text inside<br>\n"
   ]
  }
 ],
 "metadata": {
  "kernelspec": {
   "display_name": "Python 3",
   "language": "python",
   "name": "python3"
  },
  "language_info": {
   "name": "python",
   "version": "3.8.10 (tags/v3.8.10:3d8993a, May  3 2021, 11:48:03) [MSC v.1928 64 bit (AMD64)]"
  },
  "orig_nbformat": 4,
  "vscode": {
   "interpreter": {
    "hash": "9650cb4e16cdd4a8e8e2d128bf38d875813998db22a3c986335f89e0cb4d7bb2"
   }
  }
 },
 "nbformat": 4,
 "nbformat_minor": 2
}
