{
 "cells": [
  {
   "attachments": {},
   "cell_type": "markdown",
   "metadata": {},
   "source": [
    "### React Firebase QnA<br>\n",
    "\n",
    "***\n",
    "\n",
    "Any issues that I run into or things I forget are noted down here<br>"
   ]
  },
  {
   "attachments": {},
   "cell_type": "markdown",
   "metadata": {},
   "source": [
    "#### Issues:<br>\n",
    "\n",
    "**1Q:** .env.local is recongized as a textfile, unlike .env file.<br>\n",
    "**1A:** N/A<br>\n",
    "\n",
    "**2Q:** API Key becomes unrecognizable (due to auth) when I put it in .env folder<br>\n",
    "**2A:** 3 possible issues: https://stackoverflow.com/a/75368983/20362113<br>\n",
    "- .env file has to be at root folder, not inside of src folder<br>\n",
    "- variable keys has to start with: REACT_APP_<br>\n",
    "- access variable keys with: process.env.REACT_APP_KEYNAME<br>\n",
    "\n",
    "**3Q:** If I accidentally erase my APIKey, how to retrive it?<br>\n",
    "**3A:** Google Firebase -> Gear Icon -> Project Settings -> Web App<br>\n",
    "\n",
    "**4Q:** If Google Login prompt shows before clicking anything, then closes right away (in localhost)<br>\n",
    "**4A:** change onClick to .bind(this)<br>\n",
    "> onClick={handleSignin.bind(this)}<br>\n",
    "> handleSignin = () => {}<br>\n",
    "\n",
    "**5A:** .env file MUST BE at ROOT folder (NOT SRC folder level)<br>\n",
    ".env value must be called with process.env.REACT_APP<br>\n",
    "Also .gitignore add .env above .env.local<br>\n",
    "\n",
    "**6A:** In firebase.config.js:<br>\n",
    "require('dotenv').config();<br>\n",
    "console.log(\"process env: \", process.env)<br>\n"
   ]
  },
  {
   "cell_type": "code",
   "execution_count": null,
   "metadata": {},
   "outputs": [],
   "source": [
    "# Sample of Auth results\n",
    "# Login.js\n",
    "function handleSignin(props) {\n",
    "    const provider = new GoogleAuthProvider();\n",
    "    signInWithPopup(auth, provider)\n",
    "    .then((result) => {\n",
    "        const credential = GoogleAuthProvider.credentialFromResult(result);\n",
    "        const token = credential.accessToken;\n",
    "        const user = result.user;\n",
    "        const email = user.email;\n",
    "        const name = user.displayName;\n",
    "        const profilepic = user.photoURL;\n",
    "        console.log(\"token: \", token);\n",
    "        console.log(\"user: \", user);\n",
    "        console.log(\"email: \", email);\n",
    "        console.log(\"name: \", name);\n",
    "        \n",
    "        localStorage.setItem(\"user\", user);\n",
    "        localStorage.setItem(\"email\", email);\n",
    "        \n",
    "        props.checkLogged();\n",
    "        console.log(\"result: \", result);\n",
    "    }).catch((error) => {\n",
    "        const errorCode = error.code;\n",
    "        const errorMessage = error.message;\n",
    "        const email = error.customData.email;\n",
    "        const credential = GoogleAuthProvider.credentialFromError(error);\n",
    "        console.log(\"error: \", error);\n",
    "    });\n",
    "};\n",
    "\n",
    "function handleSignout(props) {\n",
    "    const target = getAuth();\n",
    "    signOut(target)\n",
    "    .then((result) => {\n",
    "        props.checkLogged();\n",
    "        window.location.reload();\n",
    "        console.log(\"result: \", result);\n",
    "    }).catch((error) => {\n",
    "        console.log(\"error: \", error);\n",
    "    });\n",
    "};"
   ]
  },
  {
   "attachments": {},
   "cell_type": "markdown",
   "metadata": {},
   "source": [
    "**7Q:** In the deployed site, Google OAuth wasn't opening with a console log error of:<br>\n",
    "> Error: This domain is not authorized for OAuth operations for your Firebase project. Edit the list of authorized domains from the Firebase console.<br>\n",
    "\n",
    "**7A:** Have to enable HTTP request handler on Firebase and Google Cloud<br>\n",
    "Firebase -> Authentication -> Settings -> Authorized Domains<br>\n",
    "add the Domain URL and authDomain URL(in .env file)<br>\n",
    "\n",
    "Steps to follow in Google Cloud:<br>\n",
    "Firebase -> Settings -> Project Settings -> Service Accounts -> 8 service accounts<br>\n",
    "Google Cloud -> API & Services -> Credentials -> Create Credential -> New API Key<br>\n",
    "Edit API Key -> Add Restriction -> Websites -> Add AuthDomain URL, Domain URL, Localhost URL<br>\n",
    "\n",
    "authDomain can be found in .env file or as a rawkey in Firebase<br>"
   ]
  },
  {
   "attachments": {},
   "cell_type": "markdown",
   "metadata": {},
   "source": [
    "**8Q:** Importing Firebase to a new project<br>\n",
    "**8A:** Other than files, need to run: npm i Firebase<br>"
   ]
  },
  {
   "cell_type": "code",
   "execution_count": null,
   "metadata": {},
   "outputs": [],
   "source": [
    "# in .env (ROOT LEVEL)\n",
    "# name REACT_APP is required..\n",
    "REACT_APP_FIREBASE_API_KEY = raw key\n",
    "REACT_APP_FIREBASE_AUTH_DOMAIN = raw key\n",
    "REACT_APP_FIREBASE_DATABASE_URL = raw key # https://<project-name>.firebaseio.com\n",
    "REACT_APP_FIREBASE_PROJECT_ID = raw key\n",
    "REACT_APP_FIREBASE_STORAGE_BUCKET = raw key\n",
    "REACT_APP_FIREBASE_MESSAGING_SENDER_ID = raw key\n",
    "REACT_APP_FIREBASE_APP_ID = raw key\n",
    "REACT_APP_MEASUREMENT_ID = raw key"
   ]
  }
 ],
 "metadata": {
  "kernelspec": {
   "display_name": "Python 3.10.9 64-bit (microsoft store)",
   "language": "python",
   "name": "python3"
  },
  "language_info": {
   "name": "python",
   "version": "3.10.9"
  },
  "orig_nbformat": 4,
  "vscode": {
   "interpreter": {
    "hash": "eba4a2b4ec52a31622e5ce2c20a8e4f241c7f929d6670faf5c309ac55edf91a1"
   }
  }
 },
 "nbformat": 4,
 "nbformat_minor": 2
}
