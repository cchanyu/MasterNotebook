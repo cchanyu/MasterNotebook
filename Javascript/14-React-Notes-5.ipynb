{
 "cells": [
  {
   "attachments": {},
   "cell_type": "markdown",
   "metadata": {},
   "source": [
    "### React Notes<br>\n",
    "\n",
    "***\n",
    "\n",
    "Notes made while I was coding WebDevelopment -> ChatApplication<br>\n",
    "and SJGames -> Love-and-Law Website<br>"
   ]
  },
  {
   "attachments": {},
   "cell_type": "markdown",
   "metadata": {},
   "source": [
    "error: [webpack-cli] TypeError: MiniCssExtractPlugin is not a constructor<br>\n",
    "Link: https://stackoverflow.com/questions/70715794/typeerror-minicssextractplugin-is-not-a-constructor<br>\n",
    "\n",
    "I think having an old react was causing this<br>\n",
    "but solved with installing its lib<br>"
   ]
  },
  {
   "cell_type": "code",
   "execution_count": null,
   "metadata": {
    "vscode": {
     "languageId": "javascript"
    }
   },
   "outputs": [],
   "source": [
    "// Use the command below for npm:\n",
    "npm i -D --save-exact mini-css-extract-plugin@2.4.5"
   ]
  },
  {
   "cell_type": "code",
   "execution_count": null,
   "metadata": {
    "vscode": {
     "languageId": "javascript"
    }
   },
   "outputs": [],
   "source": [
    "display: inline-block\n",
    "// this can match the height and width of its children<br>\n",
    "\n",
    "* {\n",
    "    box-sizing: border-box;\n",
    "}\n",
    "// this also prevents padding to move outside of a div"
   ]
  }
 ],
 "metadata": {
  "language_info": {
   "name": "python"
  },
  "orig_nbformat": 4
 },
 "nbformat": 4,
 "nbformat_minor": 2
}
