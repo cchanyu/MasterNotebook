{
 "cells": [
  {
   "attachments": {},
   "cell_type": "markdown",
   "metadata": {},
   "source": [
    "### React Notes<br>\n",
    "\n",
    "***\n",
    "\n",
    "Notes made while I was coding WebDevelopment -> ChatApplication<br>\n",
    "and SJGames -> Love-and-Law Website<br>"
   ]
  },
  {
   "attachments": {},
   "cell_type": "markdown",
   "metadata": {},
   "source": [
    "error: [webpack-cli] TypeError: MiniCssExtractPlugin is not a constructor<br>\n",
    "Link: https://stackoverflow.com/questions/70715794/typeerror-minicssextractplugin-is-not-a-constructor<br>\n",
    "\n",
    "I think having an old react was causing this<br>\n",
    "but solved with installing its lib<br>"
   ]
  },
  {
   "cell_type": "code",
   "execution_count": null,
   "metadata": {
    "vscode": {
     "languageId": "javascript"
    }
   },
   "outputs": [],
   "source": [
    "// Use the command below for npm:\n",
    "npm i -D --save-exact mini-css-extract-plugin@2.4.5"
   ]
  },
  {
   "cell_type": "code",
   "execution_count": null,
   "metadata": {
    "vscode": {
     "languageId": "javascript"
    }
   },
   "outputs": [],
   "source": [
    "display: inline-block\n",
    "// this can match the height and width of its children<br>\n",
    "\n",
    "* {\n",
    "    box-sizing: border-box;\n",
    "}\n",
    "// this also prevents padding to move outside of a div"
   ]
  },
  {
   "cell_type": "code",
   "execution_count": null,
   "metadata": {
    "vscode": {
     "languageId": "javascript"
    }
   },
   "outputs": [],
   "source": [
    "// if you want to hide ugly input and use an img button, use this\n",
    "<input type='file' id='file' />\n",
    "<label htmlFor='file'>CLICK THIS REPRESENTS id='file'</label>"
   ]
  },
  {
   "cell_type": "code",
   "execution_count": null,
   "metadata": {
    "vscode": {
     "languageId": "javascript"
    }
   },
   "outputs": [],
   "source": [
    "// this is useful when your parent container is smaller than the child\n",
    "// ex. border-radius: 1rem on parent, but child doesn't have border-radius, resulting a sharp corner on top of parent class\n",
    "// use the overflow hidden to put it under\n",
    "overflow: hidden;"
   ]
  },
  {
   "cell_type": "code",
   "execution_count": null,
   "metadata": {
    "vscode": {
     "languageId": "javascript"
    }
   },
   "outputs": [],
   "source": [
    "// when you are doing a form, you assign handleSubmit to the form\n",
    "// and to target input inside of the form, you can do it like array target: target[0] <- grabs the first input\n",
    "const handleSubmit = (e) => {\n",
    "    e.preventDefault()\n",
    "    console.log(e.target[0].value)\n",
    "}"
   ]
  },
  {
   "attachments": {},
   "cell_type": "markdown",
   "metadata": {},
   "source": [
    "Firebase's AuthContext handles everything<br>\n",
    "So no need to worry about cookies, token etc<br>"
   ]
  },
  {
   "cell_type": "code",
   "execution_count": null,
   "metadata": {
    "vscode": {
     "languageId": "javascript"
    }
   },
   "outputs": [],
   "source": [
    "// AuthContext.js\n",
    "import { onAuthStateChanged } from \"firebase/auth\";\n",
    "import { createContext, useEffect, useState } from \"react\";\n",
    "import { auth } from '../firebase/firebase.config';\n",
    "\n",
    "export const AuthContext = createContext()\n",
    "\n",
    "export const AuthContextProvider = ({ children }) => {\n",
    "    const [currentUser, setCurrentUser] = useState({})\n",
    "\n",
    "    useEffect(() => {\n",
    "        const unsub = onAuthStateChanged(auth, (user) => {\n",
    "            setCurrentUser(user)\n",
    "            console.log(user)\n",
    "        });\n",
    "\n",
    "        return () => {\n",
    "            unsub()\n",
    "        }\n",
    "    },[])\n",
    "\n",
    "    return (\n",
    "        <AuthContext.Provider value={{ currentUser }}>\n",
    "            {children}\n",
    "        </AuthContext.Provider>\n",
    "    );\n",
    "}"
   ]
  },
  {
   "cell_type": "code",
   "execution_count": null,
   "metadata": {
    "vscode": {
     "languageId": "javascript"
    }
   },
   "outputs": [],
   "source": [
    "// App.js\n",
    "import { useContext } from 'react';\n",
    "import './App.scss';\n",
    "import Home from './components/Home';\n",
    "import Login from './components/Login';\n",
    "import Register from './components/Register';\n",
    "import { BrowserRouter, Routes, Route } from 'react-router-dom';\n",
    "import { AuthContext } from './context/AuthContext';\n",
    "\n",
    "function App() {\n",
    "  const {currentUser} = useContext(AuthContext)\n",
    "  console.log(currentUser)\n",
    "  return (\n",
    "    <BrowserRouter>\n",
    "      <Routes>\n",
    "        <Route path='/ChatApplication/'>\n",
    "          <Route index element={<Home />} />\n",
    "          <Route path=\"/ChatApplication/login\" element={<Login />} />\n",
    "          <Route path=\"/ChatApplication/register\" element={<Register />} />\n",
    "        </Route>\n",
    "      </Routes>\n",
    "    </BrowserRouter>\n",
    "  );\n",
    "}\n",
    "\n",
    "export default App;\n"
   ]
  },
  {
   "cell_type": "code",
   "execution_count": null,
   "metadata": {
    "vscode": {
     "languageId": "javascript"
    }
   },
   "outputs": [],
   "source": [
    "// index.js\n",
    "import React from 'react';\n",
    "import * as ReactDOMClient from 'react-dom/client';\n",
    "import App from './App';\n",
    "import './index.css';\n",
    "import { AuthContextProvider } from './context/AuthContext';\n",
    "\n",
    "const root = ReactDOMClient.createRoot(document.getElementById(\"root\"));\n",
    "root.render(\n",
    "  <AuthContextProvider>\n",
    "    <React.StrictMode>\n",
    "      <App />\n",
    "    </React.StrictMode>\n",
    "  </AuthContextProvider>\n",
    ");"
   ]
  }
 ],
 "metadata": {
  "language_info": {
   "name": "python"
  },
  "orig_nbformat": 4
 },
 "nbformat": 4,
 "nbformat_minor": 2
}
