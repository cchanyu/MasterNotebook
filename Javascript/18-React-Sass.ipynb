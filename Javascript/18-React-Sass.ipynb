{
 "cells": [
  {
   "attachments": {},
   "cell_type": "markdown",
   "metadata": {},
   "source": [
    "### React Sass Implementation<br>\n",
    "\n",
    "***\n",
    "\n",
    "<br>"
   ]
  },
  {
   "attachments": {},
   "cell_type": "markdown",
   "metadata": {},
   "source": [
    "Sass Advantages:<br>\n",
    "- js variable within scss<br>\n",
    "- nested rules - reduces name calling<br>\n",
    "- import another stylesheet<br>\n",
    "- mixin & include<br>"
   ]
  },
  {
   "attachments": {},
   "cell_type": "markdown",
   "metadata": {},
   "source": [
    "1. install sass and its related dependencies<br>\n",
    "chatGPT suggests using eject, but eject will open up a lot of custom components<br>\n",
    "as a result, it's a bad idea to it for a simple project<br>"
   ]
  },
  {
   "cell_type": "code",
   "execution_count": null,
   "metadata": {
    "vscode": {
     "languageId": "javascript"
    }
   },
   "outputs": [],
   "source": [
    "npm i sass\n",
    "npm i sass-loader\n",
    "npm i css-loader \n",
    "npm i style-loader \n",
    "\n",
    "// downgrade webpack if you get an error saying it's incompatible.\n",
    "npm update react-scripts\n",
    "npm install webpack@4.44.2"
   ]
  },
  {
   "cell_type": "code",
   "execution_count": null,
   "metadata": {
    "vscode": {
     "languageId": "javascript"
    }
   },
   "outputs": [],
   "source": [
    "// webpack.config.js at root\n",
    "const path = require(\"path\");\n",
    "const webpack = require(\"webpack\");\n",
    "var HtmlWebpackPlugin = require('html-webpack-plugin');\n",
    "\n",
    "module.exports = {\n",
    "  entry: \"./src/index.js\",\n",
    "  mode: \"development\",\n",
    "  module: {\n",
    "    rules: [\n",
    "      {\n",
    "        test: /\\.(js|jsx)$/,\n",
    "        loader: \"babel-loader\",\n",
    "        exclude: /(node_modules|bower_components)/,\n",
    "        options: { presets: [\"@babel/env\"] }\n",
    "      },\n",
    "      {\n",
    "        test: /\\.css$/,\n",
    "        use: [\"style-loader\", \"css-loader\"]\n",
    "      },\n",
    "      {\n",
    "        test: /\\.svg$/,\n",
    "        use: [\n",
    "          {\n",
    "            loader: 'svg-url-loader',\n",
    "            options: {\n",
    "              limit: 10000,\n",
    "            },\n",
    "          },\n",
    "        ],\n",
    "      },\n",
    "      {\n",
    "        test: /\\.scss$/,\n",
    "        use: [\n",
    "          'style-loader',\n",
    "          'css-loader',\n",
    "          'sass-loader',\n",
    "        ]\n",
    "      },\n",
    "      {\n",
    "        test: /\\.(png|jpg|gif)$/i,\n",
    "        use: [\n",
    "          {\n",
    "            loader: 'url-loader',\n",
    "            options: {\n",
    "              limit: 8192\n",
    "            }\n",
    "          }\n",
    "        ]\n",
    "      },\n",
    "      {\n",
    "        test: /\\.woff$/,\n",
    "        use: 'file-loader?name=fonts/[hash].[ext]'\n",
    "      },\n",
    "      {\n",
    "        test: /\\.png$/,\n",
    "        use: 'file-loader?name=images/[hash].[ext]'\n",
    "      },\n",
    "    ]\n",
    "  },\n",
    "  resolve: { extensions: [\"*\", \".js\", \".jsx\"] },\n",
    "  output: {\n",
    "    path: path.resolve(__dirname, 'dist/'),\n",
    "    filename: 'bundle.js',\n",
    "    publicPath: '/'\n",
    "  },\n",
    "  devServer: {\n",
    "    historyApiFallback: true,\n",
    "    contentBase: path.join(__dirname, \"public/\"),\n",
    "    port: 3000,\n",
    "    publicPath: \"http://localhost:3000/dist/\",\n",
    "    hotOnly: true\n",
    "  },\n",
    "  plugins: [new webpack.HotModuleReplacementPlugin()]\n",
    "};"
   ]
  },
  {
   "cell_type": "code",
   "execution_count": null,
   "metadata": {
    "vscode": {
     "languageId": "javascript"
    }
   },
   "outputs": [],
   "source": [
    "// js alike variable within css\n",
    "$colorBlack: #000000\n",
    "$oneRem: 1rem;\n",
    "\n",
    ".button {\n",
    "    padding: $oneRem\n",
    "    color: $colorBlack\n",
    "}"
   ]
  },
  {
   "cell_type": "code",
   "execution_count": null,
   "metadata": {
    "vscode": {
     "languageId": "javascript"
    }
   },
   "outputs": [],
   "source": [
    "// nested calls\n",
    ".navi {\n",
    "    color: $colorBlack\n",
    "    &--success {\n",
    "        color: $colorPink\n",
    "    }\n",
    "}"
   ]
  },
  {
   "cell_type": "code",
   "execution_count": null,
   "metadata": {
    "vscode": {
     "languageId": "javascript"
    }
   },
   "outputs": [],
   "source": [
    "// imports another css\n",
    "@import 'src/components/navbar/navbar'\n",
    "@import 'src/App'"
   ]
  },
  {
   "cell_type": "code",
   "execution_count": null,
   "metadata": {
    "vscode": {
     "languageId": "javascript"
    }
   },
   "outputs": [],
   "source": [
    "// Mixin & Include\n",
    "@mixin name(parameter) {\n",
    "    setter: $parameter\n",
    "}\n",
    "\n",
    ".logo {\n",
    "    @include name(50px)\n",
    "}\n",
    "\n",
    "// Mixin can reduce a huge chunk of \n",
    "// codes that has to repeat"
   ]
  },
  {
   "cell_type": "code",
   "execution_count": null,
   "metadata": {
    "vscode": {
     "languageId": "javascript"
    }
   },
   "outputs": [],
   "source": [
    "@mixin mobile {\n",
    "    @media screen and (max-width: 480px) {\n",
    "        @content;\n",
    "    }\n",
    "}\n",
    "\n",
    "@mixin tablet {\n",
    "    @media screen and (max-width: 768px) {\n",
    "        @content;\n",
    "    }\n",
    "}\n",
    "\n",
    "@mixin laptop {\n",
    "    @media screen and (max-width: 1200px) {\n",
    "        @content;\n",
    "    }\n",
    "}\n",
    "\n",
    "\n",
    ".home {\n",
    "    background-color: $bgColor;\n",
    "    height: 100vh;\n",
    "    display: flex;\n",
    "    align-items: center;\n",
    "    justify-content: center;\n",
    "\n",
    "    &-container {\n",
    "        border: 1px solid white;\n",
    "        border-radius: 1rem;\n",
    "        width: 65%;\n",
    "        height: 80%;\n",
    "        display: flex;\n",
    "        overflow: hidden;\n",
    "        @include tablet {\n",
    "            width: 90%;\n",
    "        }\n"
   ]
  }
 ],
 "metadata": {
  "language_info": {
   "name": "python"
  },
  "orig_nbformat": 4
 },
 "nbformat": 4,
 "nbformat_minor": 2
}
