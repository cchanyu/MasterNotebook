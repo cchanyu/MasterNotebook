{
 "cells": [
  {
   "attachments": {},
   "cell_type": "markdown",
   "metadata": {},
   "source": [
    "### React: Creating from Scratch<br>\n",
    "\n",
    "***\n",
    "\n",
    "<br>"
   ]
  },
  {
   "cell_type": "code",
   "execution_count": null,
   "metadata": {},
   "outputs": [],
   "source": [
    "# create a react in current root folder and root folder can't having a capital letter\n",
    "npx create-react-app . "
   ]
  },
  {
   "attachments": {},
   "cell_type": "markdown",
   "metadata": {},
   "source": [
    "upon creation delete the src file, because it has too many junks<br>\n",
    "create index.js<br>"
   ]
  },
  {
   "cell_type": "code",
   "execution_count": null,
   "metadata": {},
   "outputs": [],
   "source": [
    "# index.js\n",
    "import React from 'react';\n",
    "import ReactDOM from 'react-dom'; # ReactDOM pretty much recognizes \"react\" files and render switch them based on parts.\n",
    "import App from './App';\n",
    "\n",
    "ReactDOM.render(<App />, document.getElementById('root')); # the render replaces public index html file"
   ]
  },
  {
   "cell_type": "code",
   "execution_count": null,
   "metadata": {},
   "outputs": [],
   "source": [
    "# App.jsx\n",
    "import React from 'react';\n",
    "\n",
    "const App = () => {\n",
    "    return (\n",
    "        <div>\n",
    "            <h1>hello world</h1>\n",
    "        </div>\n",
    "    )\n",
    "}\n",
    "\n",
    "export default App;"
   ]
  },
  {
   "cell_type": "code",
   "execution_count": null,
   "metadata": {},
   "outputs": [],
   "source": [
    "# import Material-UI\n",
    "npm install @mui/material @emotion/react @emotion/styled\n",
    "\n",
    "# import them like this\n",
    "import { Typography } from '@mui-material'\n",
    "\n",
    "<Typography>Hello</Typography>"
   ]
  }
 ],
 "metadata": {
  "kernelspec": {
   "display_name": "Python 3",
   "language": "python",
   "name": "python3"
  },
  "language_info": {
   "name": "python",
   "version": "3.8.10"
  },
  "orig_nbformat": 4,
  "vscode": {
   "interpreter": {
    "hash": "9650cb4e16cdd4a8e8e2d128bf38d875813998db22a3c986335f89e0cb4d7bb2"
   }
  }
 },
 "nbformat": 4,
 "nbformat_minor": 2
}
