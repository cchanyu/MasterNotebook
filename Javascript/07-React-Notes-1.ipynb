{
 "cells": [
  {
   "attachments": {},
   "cell_type": "markdown",
   "metadata": {},
   "source": [
    "### React Notes<br>\n",
    "\n",
    "***\n",
    "\n",
    "<br>"
   ]
  },
  {
   "attachments": {},
   "cell_type": "markdown",
   "metadata": {},
   "source": [
    "**React fragment** - <></><br>\n",
    "\n",
    "**React shorthand operator** - condition ? if true : if false<br>\n",
    "\n",
    "**The Spread Operator Shorthand** - let num = [1, ... numbers, 4, 5]<br>\n",
    "button onClick{() => addPerson([... people, 'Anna'])}<br>\n",
    "\n",
    "**Callback syntax** - const useStyles = makeStyles((a) => ({ aaaa }));<br>"
   ]
  }
 ],
 "metadata": {
  "kernelspec": {
   "display_name": "Python 3",
   "language": "python",
   "name": "python3"
  },
  "language_info": {
   "name": "python",
   "version": "3.8.10 (tags/v3.8.10:3d8993a, May  3 2021, 11:48:03) [MSC v.1928 64 bit (AMD64)]"
  },
  "orig_nbformat": 4,
  "vscode": {
   "interpreter": {
    "hash": "9650cb4e16cdd4a8e8e2d128bf38d875813998db22a3c986335f89e0cb4d7bb2"
   }
  }
 },
 "nbformat": 4,
 "nbformat_minor": 2
}
