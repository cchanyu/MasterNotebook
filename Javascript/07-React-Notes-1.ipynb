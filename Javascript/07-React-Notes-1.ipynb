{
 "cells": [
  {
   "attachments": {},
   "cell_type": "markdown",
   "metadata": {},
   "source": [
    "### React Notes<br>\n",
    "\n",
    "***\n",
    "\n",
    "Notes made while I was coding Personal Portfolios<br>"
   ]
  },
  {
   "attachments": {},
   "cell_type": "markdown",
   "metadata": {},
   "source": [
    "**React fragment** - <></><br>\n",
    "The purpose of react fragment is to use {}<br> \n",
    "those bracket can hold various things, including:<br>\n",
    "**React shorthand operator** - {boolean condition ? true : false}<br>\n",
    "{signedIn ? \\<Signout\\> : \\<Signup\\>}<br>\n",
    "\n",
    "**The Spread Operator Shorthand** - let num = [1, ... numbers, 4, 5]<br>\n",
    "button onClick{() => addPerson([... people, 'Anna'])}<br>\n",
    "\n",
    "**Callback syntax** - const useStyles = makeStyles((a) => ({ aaaa }));<br>"
   ]
  },
  {
   "cell_type": "code",
   "execution_count": null,
   "metadata": {},
   "outputs": [],
   "source": [
    "# regular function\n",
    "function handleSignin() {\n",
    "    # content\n",
    "}\n",
    "\n",
    "const handleSignin () => {\n",
    "    # content\n",
    "}"
   ]
  },
  {
   "cell_type": "code",
   "execution_count": null,
   "metadata": {},
   "outputs": [],
   "source": [
    "# class boilerplate example\n",
    "import React from 'react';\n",
    "\n",
    "class App extends Component{\n",
    "  constructor(props) {\n",
    "    super(props);\n",
    "    this.state = {\n",
    "      data: data,\n",
    "      isLogged: false\n",
    "    }\n",
    "  }\n",
    "  render(){\n",
    "    return (\n",
    "\n",
    "    )\n",
    "  }\n",
    "}\n",
    "\n",
    "export default App;\n",
    "\n",
    "# ================================================\n",
    "# const boilerplate example / react hook\n",
    "import React from 'react';\n",
    "\n",
    "const Login = () => {\n",
    "    return (\n",
    "\n",
    "    )\n",
    "}\n",
    "export default Login;"
   ]
  },
  {
   "cell_type": "code",
   "execution_count": null,
   "metadata": {},
   "outputs": [],
   "source": [
    "# function must start with Capital letter, otherwise it doesn't work\n",
    "function CheckLogin () {\n",
    "    return <button />\n",
    "}\n",
    "# in another function / const / class, call the function component like this\n",
    "return <CheckLogin />\n",
    "\n",
    "# also react fragment to use conditional rendering\n",
    "return \n",
    "    <>\n",
    "        { isLoggedin ? <YesLogged /> : <NotLogged /> }\n",
    "    </>"
   ]
  },
  {
   "cell_type": "code",
   "execution_count": null,
   "metadata": {},
   "outputs": [],
   "source": [
    "# Button with onClick functionality\n",
    "<button type=\"submit\" className=\"contact--button\" onClick={() => handleSignout()}>Logout</button>\n",
    "# if button has to pass down the props\n",
    "<button type=\"submit\" className=\"contact--button\" onClick={() => handleSignout(props)}>Logout</button>\n",
    "# Button that listens to the click\n",
    "<button type=\"submit\" className=\"contact--button\" onClick={() => handleSignout.bind(this)}>Logout</button>"
   ]
  },
  {
   "attachments": {},
   "cell_type": "markdown",
   "metadata": {},
   "source": [
    "**1Q:** When the signout is not reflected<br>\n",
    "\n",
    "**1A1:** refresh the page<br>\n",
    "> window.location.reload()<br>\n",
    "\n",
    "**1A2:** this redirects to the homepage, which is the only valid entry in gh-pages<br>\n",
    "> window.location = '/';<br>"
   ]
  },
  {
   "cell_type": "code",
   "execution_count": null,
   "metadata": {},
   "outputs": [],
   "source": [
    "# Switch Case statement, direct render implementation\n",
    "{{ 1 : <img className=\"topbar-icon battery icon\" src={Battery1} alt=\"battery\" />,\n",
    "2 : <img className=\"topbar-icon battery icon\" src={Battery2} alt=\"battery\" />,\n",
    "3 : <img className=\"topbar-icon battery icon\" src={Battery3} alt=\"battery\" />,\n",
    "4 : <img className=\"topbar-icon battery icon\" src={Battery4} alt=\"battery\" />,\n",
    "5 : <img className=\"topbar-icon battery icon\" src={Battery5} alt=\"battery\" />\n",
    "}[status]}\n",
    "# status is 1-5 randomly generated number"
   ]
  },
  {
   "cell_type": "code",
   "execution_count": null,
   "metadata": {},
   "outputs": [],
   "source": [
    "# Portfolio Blazing animation effect in CSS\n",
    "@keyframes Blazing {\n",
    "    0%   { text-shadow: 0 3px 20px #E3D2E3, 0 0 20px #E3D2E3,\n",
    "      0 0 10px #bc50b7,\n",
    "      0 0 0 #C89EC6,\n",
    "      0 0 5px #C89EC6,\n",
    "      -2px -5px 5px #C89EC6,\n",
    "      4px -10px 10px #C89EC6; }\n",
    "    25%   { text-shadow: 0 3px 20px #E3D2E3, 0 0 30px #E3D2E3,\n",
    "      0 0 20px #bc50b7,\n",
    "      0 0 5px #C89EC6,\n",
    "      -2px -5px 5px #C89EC6,\n",
    "      3px -10px 10px #C89EC6,\n",
    "      -4px -15px 20px #C89EC6; }\n",
    "    50%   { text-shadow: 0 3px 20px #E3D2E3, 0 0 20px #E3D2E3,\n",
    "      0 -5px 10px #bc50b7,\n",
    "      -2px -5px 5px #C89EC6,\n",
    "      3px -10px 10px #C89EC6,\n",
    "      -4px -15px 20px #C89EC6,\n",
    "      2px -20px 30px rgba(255, 0, 217, 0.5); }\n",
    "    75%   { text-shadow: 0 3px 20px #E3D2E3, 0 0 20px #E3D2E3,\n",
    "      0 -5px 10px #bc50b7,\n",
    "      3px -5px 5px #C89EC6,\n",
    "      -4px -10px 10px #C89EC6,\n",
    "      2px -20px 30px rgba(255, 0, 217, 0.5),\n",
    "      0px -25px 40px rgba(255,255,0,0)}\n",
    "    100%   { text-shadow: 0 3px 20px #E3D2E3, 0 0 20px #E3D2E3,\n",
    "      0 0 10px #bc50b7,\n",
    "      0 0 0 #C89EC6,\n",
    "      0 0 5px #C89EC6,\n",
    "      -2px -5px 5px #C89EC6,\n",
    "      4px -10px 10px #C89EC6; }\n",
    "}"
   ]
  },
  {
   "cell_type": "code",
   "execution_count": null,
   "metadata": {},
   "outputs": [],
   "source": [
    "# SetTimeout error with \"this.SetState\" not working\n",
    "# https://stackoverflow.com/questions/2130241/pass-correct-this-context-to-settimeout-callback\n",
    "if (this.options.destroyOnHide) {\n",
    "     setTimeout(function() { this.tip.destroy() }, 1000);\n",
    "} \n",
    "\n",
    "# 2010 solution\n",
    "var that = this;\n",
    "if (this.options.destroyOnHide) {\n",
    "     setTimeout(function(){ that.tip.destroy() }, 1000);\n",
    "} \n",
    "\n",
    "# this one works\n",
    "if (this.options.destroyOnHide) {\n",
    "     setTimeout(function(){ this.tip.destroy() }.bind(this), 1000);\n",
    "}\n",
    "\n",
    "# Modern ES6 ver.\n",
    "if (this.options.destroyOnHide) {\n",
    "     setTimeout(() => { this.tip.destroy() }, 1000);\n",
    "}\n",
    "\n",
    "# HTML5 callback solution\n",
    "if (this.options.destroyOnHide) {\n",
    "     setTimeout(function(that){ that.tip.destroy() }, 1000, this);\n",
    "}"
   ]
  },
  {
   "attachments": {},
   "cell_type": "markdown",
   "metadata": {},
   "source": [
    "Good working version check point:<br>\n",
    "cchanyu.github.io Link: https://github.com/cchanyu/cchanyu.github.io/tree/e89f7be6c99dc0ea3f19f2e9376df39cbbd2f2c0<br>\n",
    "CCPortfolio Link: https://github.com/cchanyu/CCPortfolio/tree/4b318d1fbbfe5068efba42286e0184a9d9b6aee4<br>\n",
    "\n",
    "When i have custom route, it throws 404 error<br>\n"
   ]
  },
  {
   "cell_type": "code",
   "execution_count": null,
   "metadata": {
    "vscode": {
     "languageId": "html"
    }
   },
   "outputs": [],
   "source": [
    "// 404.html\n",
    "<!DOCTYPE html>\n",
    "<html>\n",
    "  <head>\n",
    "    <meta charset=\"utf-8\">\n",
    "    <title>GitHub Pages Issue</title>\n",
    "    <script type=\"text/javascript\">  \n",
    " \n",
    "      var pathSegmentsToKeep = 1;\n",
    "\n",
    "      var l = window.location;\n",
    "      l.replace(\n",
    "        l.protocol + '//' + l.hostname + (l.port ? ':' + l.port : '') +\n",
    "        l.pathname.split('/').slice(0, 1 + pathSegmentsToKeep).join('/') + '/?/' +\n",
    "        l.pathname.slice(1).split('/').slice(pathSegmentsToKeep).join('/').replace(/&/g, '~and~') +\n",
    "        (l.search ? '&' + l.search.slice(1).replace(/&/g, '~and~') : '') +\n",
    "        l.hash\n",
    "      );\n",
    "    </script>\n",
    "  </head>\n",
    "  <body>\n",
    "  </body>\n",
    "</html>"
   ]
  },
  {
   "cell_type": "code",
   "execution_count": null,
   "metadata": {
    "vscode": {
     "languageId": "javascript"
    }
   },
   "outputs": [],
   "source": [
    "// index.html\n",
    "<script type=\"text/javascript\">\n",
    "    (function(l) {\n",
    "    if (l.search[1] === '/' ) {\n",
    "        var decoded = l.search.slice(1).split('&').map(function(s) { \n",
    "        return s.replace(/~and~/g, '&')\n",
    "        }).join('?');\n",
    "        window.history.replaceState(null, null,\n",
    "            l.pathname.slice(0, -1) + decoded + l.hash\n",
    "        );\n",
    "    }\n",
    "    }(window.location))\n",
    "</script>"
   ]
  }
 ],
 "metadata": {
  "kernelspec": {
   "display_name": "Python 3",
   "language": "python",
   "name": "python3"
  },
  "language_info": {
   "name": "python",
   "version": "3.8.10"
  },
  "orig_nbformat": 4,
  "vscode": {
   "interpreter": {
    "hash": "9650cb4e16cdd4a8e8e2d128bf38d875813998db22a3c986335f89e0cb4d7bb2"
   }
  }
 },
 "nbformat": 4,
 "nbformat_minor": 2
}
