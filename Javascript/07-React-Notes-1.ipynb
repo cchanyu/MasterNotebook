{
 "cells": [
  {
   "attachments": {},
   "cell_type": "markdown",
   "metadata": {},
   "source": [
    "### React Notes<br>\n",
    "\n",
    "***\n",
    "\n",
    "Either codes that are used frequently or<br>\n",
    "issues that I run into often but forget after solving<br>"
   ]
  },
  {
   "attachments": {},
   "cell_type": "markdown",
   "metadata": {},
   "source": [
    "**React fragment** - <></><br>\n",
    "The purpose of react fragment is to use {}<br> \n",
    "those bracket can hold various things, including:<br>\n",
    "**React shorthand operator** - {boolean condition ? true : false}<br>\n",
    "{signedIn ? \\<Signout\\> : \\<Signup\\>}<br>\n",
    "\n",
    "**The Spread Operator Shorthand** - let num = [1, ... numbers, 4, 5]<br>\n",
    "button onClick{() => addPerson([... people, 'Anna'])}<br>\n",
    "\n",
    "**Callback syntax** - const useStyles = makeStyles((a) => ({ aaaa }));<br>"
   ]
  },
  {
   "cell_type": "code",
   "execution_count": null,
   "metadata": {},
   "outputs": [],
   "source": [
    "# regular function\n",
    "function handleSignin() {\n",
    "    # content\n",
    "}\n",
    "\n",
    "const handleSignin () => {\n",
    "    # content\n",
    "}"
   ]
  },
  {
   "cell_type": "code",
   "execution_count": null,
   "metadata": {},
   "outputs": [],
   "source": [
    "# class boilerplate example\n",
    "import React from 'react';\n",
    "\n",
    "class App extends Component{\n",
    "  constructor(props) {\n",
    "    super(props);\n",
    "    this.state = {\n",
    "      data: data,\n",
    "      isLogged: false\n",
    "    }\n",
    "  }\n",
    "  render(){\n",
    "    return (\n",
    "\n",
    "    )\n",
    "  }\n",
    "}\n",
    "\n",
    "export default App;\n",
    "\n",
    "# ================================================\n",
    "# const boilerplate example / react hook\n",
    "import React from 'react';\n",
    "\n",
    "const Login = () => {\n",
    "    return (\n",
    "\n",
    "    )\n",
    "}\n",
    "export default Login;"
   ]
  },
  {
   "cell_type": "code",
   "execution_count": null,
   "metadata": {},
   "outputs": [],
   "source": [
    "# function must start with Capital letter, otherwise it doesn't work\n",
    "function CheckLogin () {\n",
    "    return <button />\n",
    "}\n",
    "# in another function / const / class, call the function component like this\n",
    "return <CheckLogin />\n",
    "\n",
    "# also react fragment to use conditional rendering\n",
    "return \n",
    "    <>\n",
    "        { isLoggedin ? <YesLogged /> : <NotLogged /> }\n",
    "    </>"
   ]
  },
  {
   "cell_type": "code",
   "execution_count": null,
   "metadata": {},
   "outputs": [],
   "source": [
    "# Button with onClick functionality\n",
    "<button type=\"submit\" className=\"contact--button\" onClick={() => handleSignout()}>Logout</button>\n",
    "# if button has to pass down the props\n",
    "<button type=\"submit\" className=\"contact--button\" onClick={() => handleSignout(props)}>Logout</button>\n",
    "# Button that listens to the click\n",
    "<button type=\"submit\" className=\"contact--button\" onClick={() => handleSignout.bind(this)}>Logout</button>"
   ]
  },
  {
   "attachments": {},
   "cell_type": "markdown",
   "metadata": {},
   "source": [
    "**1Q:** When the signout is not reflected<br>\n",
    "\n",
    "**1A1:** refresh the page<br>\n",
    "> window.location.reload()<br>\n",
    "\n",
    "**1A2:** this redirects to the homepage, which is the only valid entry in gh-pages<br>\n",
    "> window.location = '/';<br>"
   ]
  },
  {
   "cell_type": "code",
   "execution_count": null,
   "metadata": {},
   "outputs": [],
   "source": [
    "# Switch Case statement, direct render implementation\n",
    "{{ 1 : <img className=\"topbar-icon battery icon\" src={Battery1} alt=\"battery\" />,\n",
    "2 : <img className=\"topbar-icon battery icon\" src={Battery2} alt=\"battery\" />,\n",
    "3 : <img className=\"topbar-icon battery icon\" src={Battery3} alt=\"battery\" />,\n",
    "4 : <img className=\"topbar-icon battery icon\" src={Battery4} alt=\"battery\" />,\n",
    "5 : <img className=\"topbar-icon battery icon\" src={Battery5} alt=\"battery\" />\n",
    "}[status]}\n",
    "# status is 1-5 randomly generated number"
   ]
  }
 ],
 "metadata": {
  "kernelspec": {
   "display_name": "Python 3.10.9 64-bit (microsoft store)",
   "language": "python",
   "name": "python3"
  },
  "language_info": {
   "name": "python",
   "version": "3.10.9"
  },
  "orig_nbformat": 4,
  "vscode": {
   "interpreter": {
    "hash": "eba4a2b4ec52a31622e5ce2c20a8e4f241c7f929d6670faf5c309ac55edf91a1"
   }
  }
 },
 "nbformat": 4,
 "nbformat_minor": 2
}
