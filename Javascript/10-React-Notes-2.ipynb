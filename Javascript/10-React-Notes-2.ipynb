{
 "cells": [
  {
   "attachments": {},
   "cell_type": "markdown",
   "metadata": {},
   "source": [
    "### React Notes<br>\n",
    "\n",
    "***\n",
    "\n",
    "Notes made while I was coding WebProgramming -> SpinningWheel.js<br>"
   ]
  },
  {
   "cell_type": "code",
   "execution_count": null,
   "metadata": {},
   "outputs": [],
   "source": [
    "# DEBUG #1\n",
    "# style implementation in React.js vs. html\n",
    "\n",
    "# html\n",
    "<div class=\"number\" style=\"--i:1;--clr:#db7093\"><span>1</span></div>\n",
    "\n",
    "# React\n",
    "<div className=\"number\" style={{'--i':'1', '--clr':'#db7093'}}><span>1</span></div>\n",
    "\n",
    "# React another way\n",
    "const divStyle = {\n",
    "  margin: '40px',\n",
    "  border: '5px solid pink'\n",
    "};\n",
    "\n",
    "<div style={divStyle}>\n",
    "\n",
    "# ---------------------------------------------------------------------\n",
    "# ---------------------------------------------------------------------\n",
    "\n",
    "# DEBUG #2\n",
    "# style implementation in React.js vs. html\n",
    "\n",
    "# html\n",
    "wheel_spinner.style.transform = `rotate(${wheel_value}deg)`;\n",
    "\n",
    "# React, but doesn't work\n",
    "let wheel_spinner = document.querySelectorAll([\".wheel--spinner\"]);\n",
    "\n",
    "wheel_spinner.style = {\n",
    "    transform: `rotate(${wheel_value}deg)`\n",
    "}\n",
    "\n",
    "# React, working ver.\n",
    "# import react hook\n",
    "import React, { useState, useEffect } from 'react';\n",
    "\n",
    "# react hook\n",
    "const [WheelSpinner, setWheelSpinner] = useState({\n",
    "    transform: 0\n",
    "});\n",
    "\n",
    "# update react state value\n",
    "setWheelSpinner({ transform: `rotate(${wheel_value}deg)` });\n",
    "\n",
    "# use the react style\n",
    "<div className='wheel--spinner' style={WheelSpinner}>"
   ]
  },
  {
   "attachments": {},
   "cell_type": "markdown",
   "metadata": {},
   "source": [
    "Useful tool #3<br>\n",
    "\n",
    "<br>\n",
    "https://bennettfeely.com/clippy/<br>\n",
    "CSS Clip path maker<br>"
   ]
  },
  {
   "cell_type": "code",
   "execution_count": null,
   "metadata": {},
   "outputs": [],
   "source": [
    ".wheel--container .wheel--button::before {\n",
    "    content: '';\n",
    "    position: absolute;\n",
    "    top: -28px;\n",
    "    width: 20px;\n",
    "    height: 30px;\n",
    "    background: #fff;\n",
    "    clip-path: polygon(50% 0%, 15% 100%, 85% 100%);\n",
    "}"
   ]
  },
  {
   "cell_type": "code",
   "execution_count": null,
   "metadata": {},
   "outputs": [],
   "source": [
    "# DEBUG #4, error message:\n",
    "\n",
    "# Warning: ReactDOM.render is no longer supported in React 18. Use createRoot instead. \n",
    "# Until you switch to the new API, your app will behave as if it's running React 17. \n",
    "# Learn more: https://reactjs.org/link/switch-to-createroot\n",
    "\n",
    "# before:\n",
    "ReactDOM.render(<App />, document.getElementById('root'));\n",
    "\n",
    "# after:\n",
    "const root = ReactDOM.createRoot(document.getElementById(\"root\"));\n",
    "root.render(\n",
    "  <React.StrictMode>\n",
    "    <App />\n",
    "  </React.StrictMode>\n",
    ");\n",
    "\n",
    "# ---------------------------------------------------------------------\n",
    "# ---------------------------------------------------------------------\n",
    "\n",
    "# DEBUG #5, error message:\n",
    "\n",
    "# Warning: You are importing createRoot from 'react-dom' which is not supported. \n",
    "# You should instead import it from 'react-dom/client'\n",
    "\n",
    "# before:\n",
    "import ReactDOM from 'react-dom';\n",
    "const root = ReactDOM.createRoot(document.getElementById('root'));\n",
    "\n",
    "# after:\n",
    "import * as ReactDOMClient from 'react-dom/client';\n",
    "const root = ReactDOMClient.createRoot(document.getElementById('root'));"
   ]
  },
  {
   "cell_type": "code",
   "execution_count": null,
   "metadata": {},
   "outputs": [],
   "source": [
    "# object packed array\n",
    "const elements = generateElementsArray(['iPod', 'iPhone', 'iMac', 'MacBook', 'AirPods', 'iWatch', 'Mac Studio', 'Apple TV']);\n",
    "\n",
    "function generateElementsArray(names) {\n",
    "    return names.map((name, index) => ({\n",
    "        id: (index + 1),\n",
    "        ref: refs[index + 1],\n",
    "        style: {'--i':`${(index + 1)}`, '--clr':`#${colors[index]}`},\n",
    "        content: name,\n",
    "    }));\n",
    "}\n",
    "\n",
    "# use of ref\n",
    "const refs = useRef([]);\n",
    "\n",
    "{elements.map((element) => (\n",
    "    <div className='wheel--number' key={element.id} ref={(el) => (refs.current[element.id] = el)} style={element.style}>\n",
    "        <span>{element.content}</span>\n",
    "    </div>\n",
    "))}"
   ]
  },
  {
   "cell_type": "code",
   "execution_count": null,
   "metadata": {},
   "outputs": [],
   "source": [
    "# How to force pause a button\n",
    "# <Button> has <Button disabled={this.STATE}>\n",
    "setTimeout(function(){\n",
    "    winnerAnnounced(highestRefID, highestRefName);\n",
    "}, 6000);\n",
    "\n",
    "<button className='wheel--button' onClick={() => onClickSpin()} disabled={WheelText.isDisabled}>Spin</button>"
   ]
  },
  {
   "cell_type": "code",
   "execution_count": null,
   "metadata": {},
   "outputs": [],
   "source": [
    "animation: rotate 5s ease-in;\n",
    "\n",
    "@keyframes rotate {\n",
    "    50% {\n",
    "        transform: rotate(1060deg);\n",
    "    }\n",
    "    100% {\n",
    "        transform: rotate(3000deg);\n",
    "    }\n",
    "}"
   ]
  }
 ],
 "metadata": {
  "kernelspec": {
   "display_name": "Python 3",
   "language": "python",
   "name": "python3"
  },
  "language_info": {
   "name": "python",
   "version": "3.8.10"
  },
  "orig_nbformat": 4,
  "vscode": {
   "interpreter": {
    "hash": "9650cb4e16cdd4a8e8e2d128bf38d875813998db22a3c986335f89e0cb4d7bb2"
   }
  }
 },
 "nbformat": 4,
 "nbformat_minor": 2
}
