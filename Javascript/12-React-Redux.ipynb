{
 "cells": [
  {
   "attachments": {},
   "cell_type": "markdown",
   "metadata": {},
   "source": [
    "### React Redux<br>\n",
    "\n",
    "***\n",
    "\n",
    "<br>"
   ]
  },
  {
   "attachments": {},
   "cell_type": "markdown",
   "metadata": {},
   "source": [
    "Redux can be stored in store.js file<br>\n",
    "It'll contain state variables<br>\n",
    "Ex. var weight = 100<br>"
   ]
  },
  {
   "cell_type": "code",
   "execution_count": null,
   "metadata": {
    "vscode": {
     "languageId": "javascript"
    }
   },
   "outputs": [],
   "source": [
    "// index.js\n",
    "\n",
    "import { Provider } from 'react-redux';\n",
    "import { createStore } from 'redux';\n",
    "\n",
    "const weight = 100;\n",
    "\n",
    "function reducer(state = weight, action) { \n",
    "    return state;\n",
    "}\n",
    "\n",
    "let store = createStore(reducer)\n",
    "\n",
    "ReactDOM.render(\n",
    "    <React.StrictMode>\n",
    "        <Provider store={store}>\n",
    "            <App />\n",
    "        </Provider>\n",
    "    </React.StrictMode>,\n",
    "    document.getElementById('root')\n",
    ");"
   ]
  },
  {
   "cell_type": "code",
   "execution_count": null,
   "metadata": {
    "vscode": {
     "languageId": "javascript"
    }
   },
   "outputs": [],
   "source": [
    "// App.js\n",
    "import './App.css'\n",
    "import { useSelector } from 'react-redux'\n",
    "\n",
    "function App() {\n",
    "    const weight = useSelector( (state) => state );\n",
    "\n",
    "    return (\n",
    "        <div className='App'>\n",
    "            <p>Your weight is: {weight}</p>\n",
    "        </div>\n",
    "    )\n",
    "}\n",
    "\n",
    "export default App;"
   ]
  },
  {
   "attachments": {},
   "cell_type": "markdown",
   "metadata": {},
   "source": [
    "How Redux edits the state<br>\n",
    "\n",
    "within store.js<br>\n",
    "var weight = 100<br>\n",
    "weight_changer1 = weight + 1<br>\n",
    "weight_changer2 = weight - 1<br>\n",
    "weight_changer3 = weight / 100<br>\n",
    "\n",
    "similar to an API setup<br>\n",
    "\n",
    "components can only request the changes, instead of changing within the component<br>\n"
   ]
  },
  {
   "cell_type": "code",
   "execution_count": null,
   "metadata": {
    "vscode": {
     "languageId": "javascript"
    }
   },
   "outputs": [],
   "source": [
    "// index.js\n",
    "// how weight_changers are implemented in store.js\n",
    "\n",
    "function reducer(state = weight, action) { \n",
    "    if(action.type === \"increase\") {\n",
    "        state++;\n",
    "        return state;\n",
    "    } else if (action.type === \"decrease\") {\n",
    "        state--;\n",
    "        return state;\n",
    "    } else {\n",
    "        return state;\n",
    "    }\n",
    "}"
   ]
  },
  {
   "cell_type": "code",
   "execution_count": null,
   "metadata": {
    "vscode": {
     "languageId": "javascript"
    }
   },
   "outputs": [],
   "source": [
    "// App.js\n",
    "// how components request the reducers for state edits\n",
    "\n",
    "import { useSelector, useDispatch } from \"react-redux\";\n",
    "\n",
    "function App() {\n",
    "    const weight = useSelector( (state) => state );\n",
    "    const dispatch = useDispatch();\n",
    "\n",
    "    return (\n",
    "        <div className='App'>\n",
    "            <p>Your weight is: {weight}</p>\n",
    "            <button onClick={() => { dispatch({type : \"increase\"}) }}>Increase weight</button>\n",
    "        </div>\n",
    "    )\n",
    "}"
   ]
  },
  {
   "attachments": {},
   "cell_type": "markdown",
   "metadata": {},
   "source": [
    "There are libraries that acts similar to Redux<br>\n",
    "You can use different one if you don't like Redux's syntax/implementation<br>\n",
    "MobX, Overmind.js, Recoil<br>"
   ]
  }
 ],
 "metadata": {
  "language_info": {
   "name": "python"
  },
  "orig_nbformat": 4
 },
 "nbformat": 4,
 "nbformat_minor": 2
}
