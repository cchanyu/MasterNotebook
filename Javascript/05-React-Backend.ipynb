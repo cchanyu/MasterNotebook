{
 "cells": [
  {
   "attachments": {},
   "cell_type": "markdown",
   "metadata": {},
   "source": [
    "### React: Backend Tutorial<br>\n",
    "\n",
    "***\n",
    "\n",
    "<br>"
   ]
  },
  {
   "attachments": {},
   "cell_type": "markdown",
   "metadata": {},
   "source": [
    "Using MERN stack (MongoDB, Express, React, NodeJS)<br>\n",
    "We'll connect a backend to our web server<br>"
   ]
  },
  {
   "cell_type": "code",
   "execution_count": null,
   "metadata": {},
   "outputs": [],
   "source": [
    "# if any library is outdated:\n",
    "npm install --save react-tinder-card --legacy-peer-deps # using the legacy deprecated version\n",
    "\n",
    "\n",
    "# initialize git\n",
    "git init\n",
    "npm init"
   ]
  },
  {
   "attachments": {},
   "cell_type": "markdown",
   "metadata": {},
   "source": [
    "inside of npm init<br>\n",
    "skip it until it says \"entry point\"<br>\n",
    "type/select \"server.js\"<br>\n",
    "\n",
    "this creates package.json<br>\n",
    "**inside that package.json under \"main\" section:**<br>\n",
    "type in \"type\": \"module\"<br>\n",
    "this allows backend to have import syntax<br>\n",
    "which by default doesn't exist, it's ES6<br>\n",
    "**under \"test\":**<br>\n",
    "\"start\": \"node server.js\"<br>\n",
    "\n",
    "**Installing Nodemon:**<br>"
   ]
  },
  {
   "cell_type": "code",
   "execution_count": null,
   "metadata": {},
   "outputs": [],
   "source": [
    "# add sudo for admin privileges\n",
    "npm i -g nodemon # installing nodemon\n",
    "nodemon server.js\n",
    "# if Window doesn't allow, open powershell + \"Y\" restart\n",
    "\n",
    "\n",
    "Set-ExecutionPolicy -ExecutionPolicy RemoteSigned -Scope LocalMachine"
   ]
  },
  {
   "attachments": {},
   "cell_type": "markdown",
   "metadata": {},
   "source": [
    "Go back to MongoDB and Database access -> create user -> save pw<br>\n",
    "Network access, allow access from anywhere(in profession env, this is not a good idea)<br>\n",
    "go to database -> cluster0 -> connect -> connect to an app -> copy code, paste it in server.js<br>\n",
    "const connection_url = `mongodb+srv://admin:<${\"URI\"}>@cluster0.djuang4.mongodb.net/?retryWrites=true&w=majority`<br>\n",
    "\n",
    "**the concept in nosql**<br>\n",
    "collection -> [document] -> collection of its own -> [document] -> this goes on<br>\n",
    "it's very different from sql database<br>\n",
    "\n",
    "**download postman** - to checkout the database locally<br>\n",
    "open postman, GET -> http://localhost:8001 or http://localhost:8001/japanesedrill/card (end point)<br>\n",
    "to actually make some, do POST -> raw -> JSON<br>\n",
    "when you POST, make sure to wrap everything in bracket [{\"A\": \"aa\"},{\"B\": \"bb\"}]<br>\n",
    "\n",
    "cors add header request to everywhere, it's useful for security data<br>"
   ]
  },
  {
   "cell_type": "code",
   "execution_count": null,
   "metadata": {},
   "outputs": [],
   "source": [
    "npm i cors\n",
    "\n",
    "\n",
    "# make sure to do this one in frontend terminal (there should be 2 terminal windows open right now)\n",
    "# axios is an http package that makes it super simple\n",
    "npm i axios\n",
    "\n",
    "\n",
    "# if you want to remove mistakenly installed NPM package\n",
    "npm uninstall <package_name>\n",
    "git reset # to unstage mistakenly added files"
   ]
  },
  {
   "attachments": {},
   "cell_type": "markdown",
   "metadata": {},
   "source": [
    "heroku to publish backend<br>\n",
    "install heroku cli (client for auto update)<br>\n",
    "\n",
    "heroku login<br>\n",
    "git init<br>\n",
    "heroku git:remote -a japanesedrill-backend<br>\n",
    "add .gitignore -> inside of it do node_modules<br>\n"
   ]
  },
  {
   "cell_type": "code",
   "execution_count": null,
   "metadata": {},
   "outputs": [],
   "source": [
    "$ git add .\n",
    "$ git commit -am \"make it better\"\n",
    "$ git push heroku master\n",
    "\n",
    "heroku logs --tail"
   ]
  },
  {
   "attachments": {},
   "cell_type": "markdown",
   "metadata": {},
   "source": [
    "now open up the live heroku server, copy paste the backend to axios.js baseURL<br>\n",
    "https://japanesedrill-backend.herokuapp.com/<br>\n",
    "\n",
    "now to do the front-end publishing<br>"
   ]
  },
  {
   "cell_type": "code",
   "execution_count": null,
   "metadata": {},
   "outputs": [],
   "source": [
    "npm i -g firebase-tools\n",
    "firebase login\n",
    "firebase init   # \"y\" to proceed -> use to host a space -> host using existing proj\n",
    "                # \"hosting setup\" public dir? build\n",
    "firebase deploy"
   ]
  },
  {
   "attachments": {},
   "cell_type": "markdown",
   "metadata": {},
   "source": [
    "hosting only shows welcome screen, had to delete index.html and replace with original, gotta say no to overwrite index.html<br>\n",
    "https://stackoverflow.com/questions/53718983/my-react-project-not-working-after-deploy-to-firebase-hosting<br>\n",
    "\n",
    "400 bad request on react, gotta replace %PUBLIC % tags<br>\n",
    "https://stackoverflow.com/questions/53697302/400-bad-request-and-cannot-find-manifest-json<br>"
   ]
  }
 ],
 "metadata": {
  "kernelspec": {
   "display_name": "Python 3",
   "language": "python",
   "name": "python3"
  },
  "language_info": {
   "name": "python",
   "version": "3.8.10 (tags/v3.8.10:3d8993a, May  3 2021, 11:48:03) [MSC v.1928 64 bit (AMD64)]"
  },
  "orig_nbformat": 4,
  "vscode": {
   "interpreter": {
    "hash": "9650cb4e16cdd4a8e8e2d128bf38d875813998db22a3c986335f89e0cb4d7bb2"
   }
  }
 },
 "nbformat": 4,
 "nbformat_minor": 2
}
