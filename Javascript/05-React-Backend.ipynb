{
 "cells": [
  {
   "attachments": {},
   "cell_type": "markdown",
   "metadata": {},
   "source": [
    "### React: Backend Tutorial<br>\n",
    "\n",
    "***\n",
    "\n",
    "Notes made while I was coding JapaneseDrill -> japanese-drill backend<br>"
   ]
  },
  {
   "attachments": {},
   "cell_type": "markdown",
   "metadata": {},
   "source": [
    "Using MERN stack (MongoDB, Express, React, NodeJS)<br>\n",
    "We'll connect a backend to our web server<br>"
   ]
  },
  {
   "cell_type": "code",
   "execution_count": null,
   "metadata": {},
   "outputs": [],
   "source": [
    "# if any library is outdated:\n",
    "npm install --save react-tinder-card --legacy-peer-deps # using the legacy deprecated version\n",
    "\n",
    "\n",
    "# initialize git\n",
    "git init\n",
    "npm init"
   ]
  },
  {
   "attachments": {},
   "cell_type": "markdown",
   "metadata": {},
   "source": [
    "inside of npm init<br>\n",
    "skip it until it says \"entry point\"<br>\n",
    "type/select \"server.js\"<br>\n",
    "\n",
    "this creates package.json<br>\n",
    "**inside that package.json under \"main\" section:**<br>\n",
    "type in \"type\": \"module\"<br>\n",
    "this allows backend to have import syntax<br>\n",
    "which by default doesn't exist, it's ES6<br>\n",
    "**under \"test\":**<br>\n",
    "\"start\": \"node server.js\"<br>\n",
    "\n",
    "**Installing Nodemon:**<br>"
   ]
  },
  {
   "cell_type": "code",
   "execution_count": null,
   "metadata": {},
   "outputs": [],
   "source": [
    "# add sudo for admin privileges\n",
    "npm i -g nodemon # installing nodemon\n",
    "nodemon server.js\n",
    "# if Window doesn't allow, open powershell + \"Y\" restart\n",
    "\n",
    "\n",
    "Set-ExecutionPolicy -ExecutionPolicy RemoteSigned -Scope LocalMachine"
   ]
  },
  {
   "attachments": {},
   "cell_type": "markdown",
   "metadata": {},
   "source": [
    "Go back to MongoDB and Database access -> create user -> save pw<br>\n",
    "Network access, allow access from anywhere(in profession env, this is not a good idea)<br>\n",
    "go to database -> cluster0 -> connect -> connect to an app -> copy code, paste it in server.js<br>\n",
    "const connection_url = `mongodb+srv://admin:<${\"URI\"}>@cluster0.djuang4.mongodb.net/?retryWrites=true&w=majority`<br>\n",
    "\n",
    "**the concept in nosql**<br>\n",
    "collection -> [document] -> collection of its own -> [document] -> this goes on<br>\n",
    "it's very different from sql database<br>\n",
    "\n",
    "**download postman** - to checkout the database locally<br>\n",
    "open postman, GET -> http://localhost:8001 or http://localhost:8001/japanesedrill/card (end point)<br>\n",
    "to actually make some, do POST -> raw -> JSON<br>\n",
    "when you POST, make sure to wrap everything in bracket [{\"A\": \"aa\"},{\"B\": \"bb\"}]<br>\n",
    "\n",
    "cors add header request to everywhere, it's useful for security data<br>"
   ]
  },
  {
   "cell_type": "code",
   "execution_count": null,
   "metadata": {},
   "outputs": [],
   "source": [
    "npm i cors\n",
    "\n",
    "\n",
    "# make sure to do this one in frontend terminal (there should be 2 terminal windows open right now)\n",
    "# axios is an http package that makes it super simple\n",
    "npm i axios\n",
    "\n",
    "\n",
    "# if you want to remove mistakenly installed NPM package\n",
    "npm uninstall <package_name>\n",
    "git reset # to unstage mistakenly added files"
   ]
  },
  {
   "attachments": {},
   "cell_type": "markdown",
   "metadata": {},
   "source": [
    "heroku to publish backend<br>\n",
    "install heroku cli (client for auto update)<br>\n",
    "\n",
    "heroku login<br>\n",
    "git init<br>\n",
    "heroku git:remote -a japanesedrill-backend<br>\n",
    "add .gitignore -> inside of it do node_modules<br>\n"
   ]
  },
  {
   "cell_type": "code",
   "execution_count": null,
   "metadata": {},
   "outputs": [],
   "source": [
    "$ git add .\n",
    "$ git commit -am \"make it better\"\n",
    "$ git push heroku master\n",
    "\n",
    "heroku logs --tail"
   ]
  },
  {
   "attachments": {},
   "cell_type": "markdown",
   "metadata": {},
   "source": [
    "now open up the live heroku server, copy paste the backend to axios.js baseURL<br>\n",
    "https://japanesedrill-backend.herokuapp.com/<br>\n",
    "\n",
    "now to do the front-end publishing<br>"
   ]
  },
  {
   "cell_type": "code",
   "execution_count": null,
   "metadata": {},
   "outputs": [],
   "source": [
    "npm i -g firebase-tools\n",
    "firebase login\n",
    "firebase init   # \"y\" to proceed -> use to host a space -> host using existing proj\n",
    "                # \"hosting setup\" public dir? build\n",
    "firebase deploy"
   ]
  },
  {
   "attachments": {},
   "cell_type": "markdown",
   "metadata": {},
   "source": [
    "hosting only shows welcome screen, had to delete index.html and replace with original, gotta say no to overwrite index.html<br>\n",
    "https://stackoverflow.com/questions/53718983/my-react-project-not-working-after-deploy-to-firebase-hosting<br>\n",
    "\n",
    "400 bad request on react, gotta replace %PUBLIC % tags<br>\n",
    "https://stackoverflow.com/questions/53697302/400-bad-request-and-cannot-find-manifest-json<br>"
   ]
  },
  {
   "attachments": {},
   "cell_type": "markdown",
   "metadata": {},
   "source": [
    "#### Setting up a Node.js server<br>"
   ]
  },
  {
   "cell_type": "code",
   "execution_count": null,
   "metadata": {
    "vscode": {
     "languageId": "javascript"
    }
   },
   "outputs": [],
   "source": [
    "npm init // initialize the npm \n",
    "npm install express // install express package from npm(node package manager)"
   ]
  },
  {
   "cell_type": "code",
   "execution_count": null,
   "metadata": {
    "vscode": {
     "languageId": "javascript"
    }
   },
   "outputs": [],
   "source": [
    "// server.js\n",
    "const express = require('express');\n",
    "const app = express();\n",
    "const PORT = 3000; // specify the port you want to listen on\n",
    "\n",
    "// Define a route\n",
    "app.get('/', (req, res) => {\n",
    "  res.send('Hello, World!');\n",
    "});\n",
    "\n",
    "// Start the server\n",
    "app.listen(PORT, () => {\n",
    "  console.log(`Server is running on port ${PORT}`);\n",
    "});\n"
   ]
  },
  {
   "cell_type": "code",
   "execution_count": null,
   "metadata": {
    "vscode": {
     "languageId": "javascript"
    }
   },
   "outputs": [],
   "source": [
    "// to run the backend, type this in the command prompt\n",
    "node server.js"
   ]
  },
  {
   "attachments": {},
   "cell_type": "markdown",
   "metadata": {},
   "source": [
    "Once you're satisfied with your Node.js backend, you can deploy it to a hosting environment of your choice, such as a cloud server, a containerized environment, or a serverless platform. There are various hosting options available for Node.js applications, and the deployment process may differ depending on your chosen hosting platform.<br>\n",
    "\n",
    "That's a high-level overview of how to create a Node.js backend. Keep in mind that building a production-ready backend typically involves more considerations, such as security, error handling, authentication, and performance optimization. It's important to thoroughly test your backend and follow best practices to ensure it's secure and efficient.<br>"
   ]
  },
  {
   "attachments": {},
   "cell_type": "markdown",
   "metadata": {},
   "source": [
    "Step 1: Choose an Authentication Method<br>\n",
    "There are several common authentication methods used in web applications, including:<br>\n",
    "\n",
    "Token-based authentication: In this method, a token is generated and issued to the client upon successful authentication, and the client includes this token in subsequent requests to authenticate and access protected resources. Examples of token-based authentication protocols include JSON Web Tokens (JWT), OAuth, and OpenID Connect.<br>\n",
    "\n",
    "Session-based authentication: In this method, a session is created on the server to store authenticated user information, and a session ID is sent to the client as a cookie or in the request payload. The server uses the session ID to verify the user's identity in subsequent requests.<br>\n",
    "\n",
    "Third-party authentication: In this method, you delegate the authentication process to a third-party service provider such as Google, Facebook, or Twitter.<br>\n",
    "The user logs in with their credentials on the third-party provider's website, and the provider issues an authentication token that you can use to authenticate the user in your backend.<br>\n",
    "\n",
    "Step 2: Set Up Authentication Middleware<br>\n",
    "Once you've chosen an authentication method, you'll need to implement the necessary middleware in your Node.js backend to handle authentication.<br>\n",
    "Middleware is a function that sits between the incoming HTTP request and the response in the request processing pipeline.<br>\n",
    "It can be used to perform authentication checks, handle authentication-related tasks, and enforce access control rules.<br>"
   ]
  },
  {
   "cell_type": "code",
   "execution_count": null,
   "metadata": {
    "vscode": {
     "languageId": "javascript"
    }
   },
   "outputs": [],
   "source": [
    "const jwt = require('jsonwebtoken');\n",
    "\n",
    "function authenticateJWT(req, res, next) {\n",
    "  const token = req.header('Authorization'); // Extract token from request header\n",
    "\n",
    "  jwt.verify(token, 'your_secret_key', (err, user) => {\n",
    "    if (err) {\n",
    "      // Token is invalid or expired, return an error\n",
    "      return res.sendStatus(403);\n",
    "    }\n",
    "\n",
    "    // Token is valid, attach user information to the request object\n",
    "    req.user = user;\n",
    "    next(); // Continue to the next middleware or route handler\n",
    "  });\n",
    "}\n",
    "\n",
    "module.exports = authenticateJWT;\n"
   ]
  },
  {
   "attachments": {},
   "cell_type": "markdown",
   "metadata": {},
   "source": [
    "Step 3: Implement Authentication Routes/Endpoints<br>\n",
    "You'll need to implement routes or endpoints in your backend that handle the authentication process, such as logging in, registering, and logging out.<br>\n",
    "These routes typically receive user credentials, authenticate them using the chosen authentication method, and return an authentication token or session ID upon successful authentication.<br>"
   ]
  },
  {
   "cell_type": "code",
   "execution_count": null,
   "metadata": {
    "vscode": {
     "languageId": "javascript"
    }
   },
   "outputs": [],
   "source": [
    "const express = require('express');\n",
    "const jwt = require('jsonwebtoken');\n",
    "\n",
    "const app = express();\n",
    "const SECRET_KEY = 'your_secret_key';\n",
    "\n",
    "// Middleware to authenticate JWT token\n",
    "function authenticateJWT(req, res, next) {\n",
    "  const token = req.header('Authorization'); // Extract token from request header\n",
    "\n",
    "  jwt.verify(token, SECRET_KEY, (err, user) => {\n",
    "    if (err) {\n",
    "      // Token is invalid or expired, return an error\n",
    "      return res.sendStatus(403);\n",
    "    }\n",
    "\n",
    "    // Token is valid, attach user information to the request object\n",
    "    req.user = user;\n",
    "    next(); // Continue to the next middleware or route handler\n",
    "  });\n",
    "}\n",
    "\n",
    "// Login route\n",
    "app.post('/login', (req, res) => {\n",
    "  // Verify user credentials (e.g., username and password)\n",
    "  const { username, password } = req.body;\n",
    "  if (isValidUser(username, password)) {\n",
    "    // Issue a JWT token\n",
    "    const token = jwt.sign({ username }, SECRET_KEY, { expiresIn: '1h' });\n",
    "\n",
    "    // Return the token to the client\n",
    "    res.json({ token });\n",
    "  } else {\n",
    "    res.sendStatus(401); // Unauthorized\n",
    "  }\n",
    "});\n",
    "\n",
    "// Protected route that requires authentication\n",
    "app.get('/protected', authenticateJWT, (req, res) => {\n",
    "  // Access protected resource, user information available in req.user\n",
    "  res.json({ message: `Hello, ${req.user.username}! This is a protected route.` });\n",
    "});\n",
    "\n",
    "// Helper function to validate user credentials (example only)\n",
    "function isValidUser(username, password) {\n",
    "  // Perform validation against user database or other data source\n",
    "  // Return true if valid, false otherwise\n",
    "  return username === 'user' && password === 'password';\n",
    "}\n",
    "\n",
    "app.listen(3000, () => {\n",
    "  console.log('Server started on http://localhost:3000');\n",
    "});\n"
   ]
  },
  {
   "attachments": {},
   "cell_type": "markdown",
   "metadata": {},
   "source": [
    "PW hash implementation<br>"
   ]
  },
  {
   "cell_type": "code",
   "execution_count": null,
   "metadata": {
    "vscode": {
     "languageId": "javascript"
    }
   },
   "outputs": [],
   "source": [
    "npm install bcrypt"
   ]
  },
  {
   "attachments": {},
   "cell_type": "markdown",
   "metadata": {},
   "source": [
    "Use bcrypt to hash passwords before storing them in your database or any other data source:<br>"
   ]
  },
  {
   "cell_type": "code",
   "execution_count": null,
   "metadata": {
    "vscode": {
     "languageId": "javascript"
    }
   },
   "outputs": [],
   "source": [
    "const bcrypt = require('bcrypt');\n",
    "const plaintextPassword = 'my_password';\n",
    "\n",
    "// Generate a salt (a random string) to be used during the hashing process\n",
    "const salt = bcrypt.genSaltSync(10);\n",
    "\n",
    "// Hash the plaintext password with the generated salt\n",
    "const hashedPassword = bcrypt.hashSync(plaintextPassword, salt);\n",
    "\n",
    "// Store the hashed password in your database or any other data source\n",
    "// Example: user.password = hashedPassword;"
   ]
  },
  {
   "attachments": {},
   "cell_type": "markdown",
   "metadata": {},
   "source": [
    "To verify passwords during authentication, you can use the bcrypt.compareSync() function:<br>"
   ]
  },
  {
   "cell_type": "code",
   "execution_count": null,
   "metadata": {
    "vscode": {
     "languageId": "javascript"
    }
   },
   "outputs": [],
   "source": [
    "const plaintextPassword = 'my_password';\n",
    "const hashedPassword = '...'; // Retrieved from your data source\n",
    "\n",
    "// Compare the plaintext password with the hashed password\n",
    "if (bcrypt.compareSync(plaintextPassword, hashedPassword)) {\n",
    "  // Passwords match, authentication successful\n",
    "} else {\n",
    "  // Passwords do not match, authentication failed\n",
    "}"
   ]
  }
 ],
 "metadata": {
  "kernelspec": {
   "display_name": "Python 3",
   "language": "python",
   "name": "python3"
  },
  "language_info": {
   "name": "python",
   "version": "3.8.10 (tags/v3.8.10:3d8993a, May  3 2021, 11:48:03) [MSC v.1928 64 bit (AMD64)]"
  },
  "orig_nbformat": 4,
  "vscode": {
   "interpreter": {
    "hash": "9650cb4e16cdd4a8e8e2d128bf38d875813998db22a3c986335f89e0cb4d7bb2"
   }
  }
 },
 "nbformat": 4,
 "nbformat_minor": 2
}
