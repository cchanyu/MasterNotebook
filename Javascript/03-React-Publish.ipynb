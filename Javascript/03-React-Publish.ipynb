{
 "cells": [
  {
   "attachments": {},
   "cell_type": "markdown",
   "metadata": {},
   "source": [
    "### React: Publish your React website to your own github.io<br>\n",
    "\n",
    "***\n",
    "\n",
    "<br>"
   ]
  },
  {
   "attachments": {},
   "cell_type": "markdown",
   "metadata": {},
   "source": [
    "1. Create a repository in Github named (your-github-username).github.io"
   ]
  },
  {
   "attachments": {},
   "cell_type": "markdown",
   "metadata": {},
   "source": [
    "2. Complete your site."
   ]
  },
  {
   "attachments": {},
   "cell_type": "markdown",
   "metadata": {},
   "source": [
    "3. Go to Package.json and paste this below \"start\":"
   ]
  },
  {
   "cell_type": "code",
   "execution_count": null,
   "metadata": {},
   "outputs": [],
   "source": [
    "\"predeploy\": \"npm run build\",\n",
    "\"deploy\": \"gh-pages -d build\","
   ]
  },
  {
   "attachments": {},
   "cell_type": "markdown",
   "metadata": {},
   "source": [
    "4. Open the terminal, go to the correct root folder, and run the following commands:"
   ]
  },
  {
   "cell_type": "code",
   "execution_count": null,
   "metadata": {},
   "outputs": [],
   "source": [
    "npm install --save gh-pages # need to only do this once"
   ]
  },
  {
   "cell_type": "code",
   "execution_count": null,
   "metadata": {},
   "outputs": [],
   "source": [
    "npm run build\n",
    "npm run deploy"
   ]
  },
  {
   "attachments": {},
   "cell_type": "markdown",
   "metadata": {},
   "source": [
    "5. github repo settings -> Pages -> Master /root (save).<br>"
   ]
  },
  {
   "attachments": {},
   "cell_type": "markdown",
   "metadata": {},
   "source": [
    "6. now visit (your-github-username).github.io to see the published site.<br>\n",
    "<br>"
   ]
  },
  {
   "attachments": {},
   "cell_type": "markdown",
   "metadata": {},
   "source": [
    "**Common FAQ:**<br>\n",
    "\n",
    "**1Q:** If 404 not found github pages<br>\n",
    "\n",
    "**1A1:** Go to Github Project -> Settings -> Pages -> Build and Deployment -> Select the branch<br>\n",
    "\n",
    "**1A2:** Set the homepage at package.json<br>\n",
    "\"homepage\": \"https://github.com/project-name\"<br>\n",
    "\n",
    "**1A3:** Set the entry to the root or specified routes<br>\n",
    "This redirects to the root, which is a valid entry in gh-pages<br>\n",
    "> window.location = '/';<br>"
   ]
  }
 ],
 "metadata": {
  "kernelspec": {
   "display_name": "Python 3.10.9 64-bit (microsoft store)",
   "language": "python",
   "name": "python3"
  },
  "language_info": {
   "name": "python",
   "version": "3.10.9"
  },
  "orig_nbformat": 4,
  "vscode": {
   "interpreter": {
    "hash": "eba4a2b4ec52a31622e5ce2c20a8e4f241c7f929d6670faf5c309ac55edf91a1"
   }
  }
 },
 "nbformat": 4,
 "nbformat_minor": 2
}
