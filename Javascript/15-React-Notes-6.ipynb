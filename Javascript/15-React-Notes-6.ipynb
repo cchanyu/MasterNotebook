{
 "cells": [
  {
   "attachments": {},
   "cell_type": "markdown",
   "metadata": {},
   "source": [
    "### React Notes<br>\n",
    "\n",
    "***\n",
    "\n",
    "Notes made while I was coding CCAdminDashboard/JapaneseDrill -> admin-dashboard<br>"
   ]
  },
  {
   "cell_type": "code",
   "execution_count": null,
   "metadata": {
    "vscode": {
     "languageId": "javascript"
    }
   },
   "outputs": [],
   "source": [
    "/* CSS target practice */\n",
    "/* this '>' expression targets the child of .classname */\n",
    ".sidebar--logo>img {\n",
    "    width: 3rem;\n",
    "    height: 3rem;\n",
    "}\n",
    "\n",
    "\n",
    "/* targetting 2nd child span under the detail */\n",
    ".detail>span:nth-child(2) {\n",
    "    \n",
    "}\n",
    "\n",
    "/* Setting var */\n",
    ":root {\n",
    "    --yellow: linear-gradient(180deg, #F8D49A -146.42%, #FAD79D -46.42%);\n",
    "    --orange: #fca61f;\n",
    "    --black: #242d49;\n",
    "    --gray: #788097;\n",
    "    --purple: linear-gradient(180deg, #BB67FF 0%, #C484F3 100%);\n",
    "    --pink: #FF919D;\n",
    "    --glass: rgba(255, 255, 255, 0.54);\n",
    "    --boxShadow: 0px 19px 60px rgb(0 0 0 / 8%);\n",
    "    --smboxShadow: -79px 51px 60px rgba(0, 0, 0, 0.08);\n",
    "    --activeItem: #f799a354;\n",
    "}\n",
    "\n",
    "// you call them like this\n",
    "background-color: var(--glass);\n",
    "\n",
    "// Divide things into grid layout\n",
    ".app--glass {\n",
    "    display: grid;\n",
    "    height: 97%;\n",
    "    width: 97%;\n",
    "    border-radius: 2rem;\n",
    "    background-color: var(--glass);\n",
    "    overflow: hidden;\n",
    "    grid-template-columns: 11rem auto 20rem;\n",
    "}\n",
    "\n",
    "// for charts you use react apex chart\n",
    "// npm i react-apexcharts\n",
    "\n"
   ]
  },
  {
   "attachments": {},
   "cell_type": "markdown",
   "metadata": {},
   "source": [
    "React components has to be reuseable<br>\n",
    "Thus doing things manually is not ideal<br>\n",
    "@ sidebar.jsx reference<br>"
   ]
  },
  {
   "cell_type": "code",
   "execution_count": null,
   "metadata": {
    "vscode": {
     "languageId": "javascript"
    }
   },
   "outputs": [],
   "source": [
    "// data.js\n",
    "\n",
    "// mass importing icons, instead of importing in the jsx directly\n",
    "import {\n",
    "    UilEstate,\n",
    "    UilClipboardAlt,\n",
    "    UilUsersAlt,\n",
    "    UilPackage,\n",
    "    UilChart,\n",
    "    UilSignOutAlt,\n",
    "} from '@iconscout/react-unicons'\n",
    "\n",
    "// export it as objects as such\n",
    "export const SidebarData = [\n",
    "    {\n",
    "        icon: UilEstate,\n",
    "        heading: \"Dashboard\",\n",
    "    },\n",
    "    {\n",
    "        icon: UilClipboardAlt,\n",
    "        heading: \"Orders\",\n",
    "    },\n",
    "    {\n",
    "        icon: UilUsersAlt,\n",
    "        heading: \"Customers\",\n",
    "    },\n",
    "    {\n",
    "        icon: UilPackage,\n",
    "        heading: \"Products\",\n",
    "    },\n",
    "    {\n",
    "        icon: UilChart,\n",
    "        heading: \"Analytics\",\n",
    "    },\n",
    "];"
   ]
  },
  {
   "cell_type": "code",
   "execution_count": null,
   "metadata": {
    "vscode": {
     "languageId": "javascript"
    }
   },
   "outputs": [],
   "source": [
    "// instead of writing this one by one\n",
    "{<div className=\"sidebar--menuItem\">\n",
    "    <div>\n",
    "        <UilEstate />\n",
    "    </div>\n",
    "    <span>Dashboard</span>\n",
    "</div>}\n",
    "\n",
    "// we'll import the data\n",
    "import { SidebarData } from '../data/data';\n",
    "\n",
    "// and to iter through the list\n",
    "// map it like this\n",
    "{SidebarData.map((item, index) => {\n",
    "  return(\n",
    "    <div className=\"menuItem\">\n",
    "      <item.icon />\n",
    "      <span>\n",
    "        {item.heading}\n",
    "      </span>\n",
    "    </div>\n",
    "  )\n",
    "})}"
   ]
  },
  {
   "cell_type": "code",
   "execution_count": null,
   "metadata": {
    "vscode": {
     "languageId": "javascript"
    }
   },
   "outputs": [],
   "source": [
    "// set selected tab\n",
    "const [selected, setSelected] = useState(0);\n",
    "<div className={ selected === index ? 'sidebar--menuItem active' : 'sidebar--menuItem' }\n",
    "              key={index} onClick={()=>setSelected(index)}></div>"
   ]
  },
  {
   "cell_type": "code",
   "execution_count": null,
   "metadata": {
    "vscode": {
     "languageId": "javascript"
    }
   },
   "outputs": [],
   "source": [
    "// so if I want a circular bar\n",
    "// I can import this library for it\n",
    "\n",
    "// barValue in data.js\n",
    "// barValue: 70\n",
    "\n",
    "// npm i react-circular-progressbar\n",
    "import { CircularProgressbar } from 'react-circular-progressbar';\n",
    "import 'react-circular-progressbar/dist/styles.css';\n",
    "\n",
    "<CircularProgressbar\n",
    "    value={param.barValue}\n",
    "    text={`${param.barValue}%`}\n",
    "/>"
   ]
  }
 ],
 "metadata": {
  "language_info": {
   "name": "python"
  },
  "orig_nbformat": 4
 },
 "nbformat": 4,
 "nbformat_minor": 2
}
