{
 "cells": [
  {
   "attachments": {},
   "cell_type": "markdown",
   "metadata": {},
   "source": [
    "### React Notes<br>\n",
    "\n",
    "***\n",
    "\n",
    "Notes made while I was coding CCArtPortfolio<br>"
   ]
  },
  {
   "attachments": {},
   "cell_type": "markdown",
   "metadata": {},
   "source": [
    "1Q: When importing require('dotenv').config();<br>\n",
    "getting 'process not defined' error.<br>\n",
    "\n",
    "1A: had to just use webpack.. I think it's due to react v5.0.0+ aren't supporting direct import of dotenv<br>\n",
    "dotenv is only supposed to be used in the server-side node application, not at browser rendering<br>\n",
    "\n",
    "Followed this: https://www.npmjs.com/package/dotenv-webpack<br>\n",
    "create a file named: webpack.config.js<br>\n",
    "and paste in the config<br>\n",
    "you can now use process.env...<br>"
   ]
  },
  {
   "cell_type": "code",
   "execution_count": null,
   "metadata": {
    "vscode": {
     "languageId": "javascript"
    }
   },
   "outputs": [],
   "source": [
    "// e target value grabs the text input as it changes\n",
    "\n",
    "import React, { useState } from 'react'\n",
    "import { addDoc, collection } from 'firebase/firestore';\n",
    "import { auth, db } from '../firebase/firebase.config'; \n",
    "import { useNavigate } from 'react-router-dom';\n",
    "\n",
    "const CreatePost = () => {\n",
    "\n",
    "  const [ title, setTitle ] = useState('');\n",
    "  const [ post, setPost ] = useState('');\n",
    "\n",
    "  return (\n",
    "    <div className='container'>\n",
    "      <div className='bg-light p-5 rounded mt-3'>\n",
    "        <h1>Create a Post</h1>\n",
    "        <div className='mb-3'>\n",
    "          <label htmlFor='title' className='form-label'>Title</label>\n",
    "          <input type=\"text\" placeholder='Title' className='form-control' onChange={(e) => setTitle(e.target.value)} />\n",
    "        </div>\n",
    "        <div className='mb-3'>\n",
    "          <label htmlFor='posts' className='form-label'>Posts</label>\n",
    "          <textarea placeholder='Post...' className='form-control' onChange={(e) => setPost(e.target.value)}></textarea>\n",
    "        </div>\n",
    "        <button className='btn btn-dark'>Submit Post</button>\n",
    "      </div>\n",
    "    </div>\n",
    "  )\n",
    "}\n",
    "\n",
    "export default CreatePost"
   ]
  },
  {
   "cell_type": "code",
   "execution_count": null,
   "metadata": {
    "vscode": {
     "languageId": "javascript"
    }
   },
   "outputs": [],
   "source": [
    "// complete version of createpost\n",
    "\n",
    "import React, { useEffect, useState } from 'react'\n",
    "import { addDoc, collection } from 'firebase/firestore';\n",
    "import { auth, db } from '../firebase/firebase.config'; \n",
    "import { useNavigate } from 'react-router-dom';\n",
    "\n",
    "const CreatePost = ({isAuth}) => {\n",
    "\n",
    "  const [ title, setTitle ] = useState('');\n",
    "  const [ post, setPost ] = useState('');\n",
    "\n",
    "  let navigate = useNavigate();\n",
    "\n",
    "  const postsCollectionRef = collection(db, 'posts');\n",
    "  \n",
    "  const createPost = async() => {\n",
    "    if(title === '' || post === ''){\n",
    "      alert(\"Please fill the form\");\n",
    "      return false;\n",
    "    } else {\n",
    "      try {\n",
    "        await addDoc(postsCollectionRef, {\n",
    "          title: title,\n",
    "          post: post,\n",
    "          author: {\n",
    "            name: auth.currentUser.displayName,\n",
    "            id: auth.currentUser.uid\n",
    "          }\n",
    "        })\n",
    "        navigate('/')\n",
    "      } catch (error) {\n",
    "        console.log(error);\n",
    "      }\n",
    "    }\n",
    "  }\n",
    "\n",
    "  // to secure, if user is not logged in, they can't come to /createpost\n",
    "  useEffect(() => {\n",
    "    if(!isAuth) {\n",
    "      navigate(\"/login\");\n",
    "    }\n",
    "  })\n",
    "\n",
    "  return (\n",
    "    <div className='container'>\n",
    "      <div className='bg-light p-5 rounded mt-3'>\n",
    "        <h1>Create a Post</h1>\n",
    "        <div className='mb-3'>\n",
    "          <label htmlFor='title' className='form-label'>Title</label>\n",
    "          <input type=\"text\" placeholder='Title' className='form-control' onChange={(e) => setTitle(e.target.value)} />\n",
    "        </div>\n",
    "        <div className='mb-3'>\n",
    "          <label htmlFor='posts' className='form-label'>Post</label>\n",
    "          <textarea placeholder='Post...' className='form-control' onChange={(e) => setPost(e.target.value)}></textarea>\n",
    "        </div>\n",
    "        <button className='btn btn-dark' onClick={createPost}>Submit Post</button>\n",
    "      </div>\n",
    "    </div>\n",
    "  )\n",
    "}\n",
    "\n",
    "export default CreatePost"
   ]
  },
  {
   "cell_type": "code",
   "execution_count": null,
   "metadata": {
    "vscode": {
     "languageId": "javascript"
    }
   },
   "outputs": [],
   "source": [
    "// bootstrap is a super fast way to add CSS\n",
    "// EX:\n",
    "<div className=\"card-body\">\n",
    "    <h5 className='card-title mb-3 fw-bold'>{post.title}</h5>\n",
    "    <p className='card-title mb-3'>{post.post}</p>\n",
    "    <p className='badge bg-dark'>{post.author.name}</p>\n",
    "</div>\n",
    "// you can just assign CSS properties within the className\n",
    "\n",
    "// adding a bootstrap in index.html @react\n",
    "\n",
    "// add this link below the index.html title\n",
    "<link href=\"https://cdn.jsdelivr.net/npm/bootstrap@5.3.0-alpha1/dist/css/bootstrap.min.css\" rel=\"stylesheet\" integrity=\"sha384-GLhlTQ8iRABdZLl6O3oVMWSktQOp6b7In1Zl3/Jr59b6EGGoI1aFkw7cmDA6j6gD\" crossorigin=\"anonymous\"></link>\n",
    "\n",
    "// add this script inside the body tag\n",
    "<script src=\"https://cdn.jsdelivr.net/npm/bootstrap@5.3.0-alpha1/dist/js/bootstrap.bundle.min.js\" integrity=\"sha384-w76AqPfDkMBDXo30jS1Sgez6pr3x5MlQ1ZAGC+nuZB+EYdgRZgiwxhTBTkF7CXvN\" crossorigin=\"anonymous\"></script>"
   ]
  },
  {
   "cell_type": "code",
   "execution_count": null,
   "metadata": {
    "vscode": {
     "languageId": "javascript"
    }
   },
   "outputs": [],
   "source": [
    "// to get the post and delete the post\n",
    "import React, { useEffect, useState } from 'react'\n",
    "import { getDocs, collection, deleteDoc, doc } from 'firebase/firestore';\n",
    "import { auth, db } from '../firebase/firebase.config';\n",
    "\n",
    "const Home = () => {\n",
    "  \n",
    "  const [ postLists, setPostList ] = useState([]);\n",
    "  const [ loading, setLoading ] = useState(false);\n",
    "  const postsCollectionRef = collection(db, 'posts');\n",
    "\n",
    "  const getPosts = async() => {\n",
    "    setLoading(false);\n",
    "    const data = await getDocs(postsCollectionRef);\n",
    "    setPostList(data.docs.map((doc) => ({...doc.data(), id:doc.id})))\n",
    "    setLoading(false);\n",
    "  }\n",
    "\n",
    "  const deletePost = async(id) => {\n",
    "    const postDoc = doc(db, 'posts', id);\n",
    "    await deleteDoc(postDoc);\n",
    "  }\n",
    "\n",
    "  useEffect(() => {\n",
    "    getPosts();\n",
    "  },[])\n",
    "\n",
    "  return (\n",
    "    <div className='homepage'>\n",
    "      {postLists.length === 0 ? <h3>No post was found</h3> : postLists.map((post) => {\n",
    "        return (\n",
    "          <div key={post.id} className='card mb-4 shadow shadow-sm'>\n",
    "            <div className='d-flex justify-content-end'>\n",
    "              <button className='btn btn-danger my-3 mx-3' onClick={() => {deletePost(post.id)}}>Delete Post</button>\n",
    "            </div>\n",
    "            <div className=\"card-body\">\n",
    "              <h5 className='card-title mb-3 fw-bold'>{post.title}</h5>\n",
    "              <p className='card-title mb-3'>{post.post}</p>\n",
    "              <p className='badge bg-dark'>{post.author.name}</p>\n",
    "            </div>\n",
    "          </div>\n",
    "        )})}\n",
    "    </div>\n",
    "  )\n",
    "}\n",
    "\n",
    "export default Home"
   ]
  }
 ],
 "metadata": {
  "language_info": {
   "name": "python"
  },
  "orig_nbformat": 4
 },
 "nbformat": 4,
 "nbformat_minor": 2
}
