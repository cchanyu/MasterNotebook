{
 "cells": [
  {
   "attachments": {},
   "cell_type": "markdown",
   "metadata": {},
   "source": [
    "### React Spline Debugging Notes<br>\n",
    "\n",
    "***\n",
    "\n",
    "Notes made while I was coding CCPortfolio<br>\n",
    "Link: https://www.npmjs.com/package/@splinetool/react-spline<br>"
   ]
  },
  {
   "attachments": {},
   "cell_type": "markdown",
   "metadata": {},
   "source": [
    "**Spline** is a 3D library that allows you to export and render it on your web.<br>\n",
    "You can build interactive 3D models through their site and export it to your own web<br>\n",
    "They support React and it's as easy as just copying and pasting into your react app.<br>\n",
    "\n",
    "After that you need to make sure you run these commands<br>"
   ]
  },
  {
   "cell_type": "code",
   "execution_count": null,
   "metadata": {},
   "outputs": [],
   "source": [
    "# npm i\n",
    "# npm install @splinetool/react-spline @splinetool/runtime"
   ]
  },
  {
   "attachments": {},
   "cell_type": "markdown",
   "metadata": {},
   "source": [
    "**Error Notes:**<br>\n",
    "**1Q:** However upon exporting, I ran into this error after importing Spline<br>"
   ]
  },
  {
   "cell_type": "code",
   "execution_count": null,
   "metadata": {},
   "outputs": [],
   "source": [
    "# React - Module parse failed: Unexpected Token. You may need an appropriate loader to handle this file type\n",
    "# * ./node_modules/babel-loader/lib/index.js You may need an additional loader to handle the result of these loaders. \n",
    "# | function vB(r, e) { | var t = typeof r; > return e = e ?? gB, !!e && (t == \"number\" || t != \"symbol\" && yB.test(r)) && r > -1 && r % 1 == 0 && r < e; | } |"
   ]
  },
  {
   "attachments": {},
   "cell_type": "markdown",
   "metadata": {},
   "source": [
    "Upon reading it, it sounds like that I need a Babel<br>\n",
    "Babel helps with different browser's compatibilities<br>\n",
    "\n",
    "The thing is...<br>\n",
    "Not having a babel lib isn't the issue here and if you installed Babel, Babel-loaders, or webpacks<br>\n",
    "It solves nothing, but gives you more errors on compling, and will be asked to delete package-lock.json and node_modules<br>\n",
    "\n",
    "**So what's the real issue?**<br>\n",
    "**1A:** The answer was quite simple: You're supposed to **use .jsx instead of .js**<br>\n",
    "So index.js is fine, but from App, it's supposed to be App.jsx -> down to whichever file is rendering Spline<br>\n",
    "\n",
    "**Examples:**<br>\n",
    "- root/src/index.js\n",
    "- root/src/App.jsx\n",
    "- root/src/components/Spline.jsx\n",
    "\n",
    "Idk, I learn to use React, but never explored to use .jsx or .ts etc<br>\n",
    "So not exactly familiar of the features it gives, but it is no doubt it's more powerful and new<br>"
   ]
  }
 ],
 "metadata": {
  "kernelspec": {
   "display_name": "Python 3",
   "language": "python",
   "name": "python3"
  },
  "language_info": {
   "name": "python",
   "version": "3.8.10 (tags/v3.8.10:3d8993a, May  3 2021, 11:48:03) [MSC v.1928 64 bit (AMD64)]"
  },
  "orig_nbformat": 4,
  "vscode": {
   "interpreter": {
    "hash": "9650cb4e16cdd4a8e8e2d128bf38d875813998db22a3c986335f89e0cb4d7bb2"
   }
  }
 },
 "nbformat": 4,
 "nbformat_minor": 2
}
