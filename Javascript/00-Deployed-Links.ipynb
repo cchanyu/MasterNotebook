{
 "cells": [
  {
   "attachments": {},
   "cell_type": "markdown",
   "metadata": {},
   "source": [
    "### All the deployed Gh-pages site<br>\n",
    "\n",
    "***\n",
    "\n",
    "<br>"
   ]
  },
  {
   "attachments": {},
   "cell_type": "markdown",
   "metadata": {},
   "source": [
    "| Name | Purpose | Link |\n",
    "| --- | --- | --- |\n",
    "| Chanyu's Portfolio | Portfolio | https://cchanyu.github.io/ |\n",
    "| Chanyu's Game Portfolio | Portfolio | https://cchanyu.github.io/CCPortfolio |\n",
    "| Code Solutions | Blog | https://cchanyu.github.io/CCSolutions |\n",
    "| Code Playground | Playground | https://cchanyu.github.io/WebProgramming |\n",
    "| L&L Testing Site | Website | https://s-j-games.github.io/Love-and-Law-Website/ |\n",
    "| GIPHY Search | API Search | https://cchanyu.github.io/HWSubmission/ |\n",
    "| Chat Application | Live Chat | https://cchanyu.github.io/ChatApplication/ |\n"
   ]
  }
 ],
 "metadata": {
  "language_info": {
   "name": "python"
  },
  "orig_nbformat": 4
 },
 "nbformat": 4,
 "nbformat_minor": 2
}
