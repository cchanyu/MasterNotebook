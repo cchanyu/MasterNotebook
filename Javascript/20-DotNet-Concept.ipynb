{
 "cells": [
  {
   "attachments": {},
   "cell_type": "markdown",
   "metadata": {},
   "source": [
    "### .Net Framework vs. .Net Core vs. .Net vs. .Net Standard vs. C#<br>\n",
    "\n",
    "***\n",
    "\n",
    "Link: https://www.youtube.com/watch?v=4olO9UjRiww&ab_channel=IAmTimCorey<br>"
   ]
  },
  {
   "attachments": {},
   "cell_type": "markdown",
   "metadata": {},
   "source": [
    "**.Net Framework**<br>\n",
    "You can use a lot of languages<br>\n",
    "to build on top of .net framework<br>\n",
    "\n",
    "convert that C# applications into CIL(common intermediate language)<br>\n",
    "CLR(college language runtime) in the .Net framework, this is what it executes<br>\n",
    "\n",
    "most of it is abstraction, because we're not dealing with the actual code translation<br>\n",
    "\n",
    "C# is object oriented<br>\n",
    "F# is functional<br>\n",
    "\n",
    "### Language Versions<br>\n",
    "C# is at 9, C# 10 is coming<br>\n",
    "Everything is still compling down to the Intermediate language<br>\n",
    "You have versions of C#, they don't correspond to versions of .NET framework<br>\n",
    "\n",
    "\n",
    ".NET Frameworks been around for 20 years<br>\n",
    "Web has changed a lot, these added features made bloated, so it's slower<br>\n",
    "But it has to be that way, in order to support backward compatibility<br>\n",
    "\n",
    "This is why **.Net core** was developed, so it becomes agile and up to the speed<br>\n",
    ".Net Core is reimagination of that layer, the layer below all the languages<br>\n",
    "CIL is now Core common lanugage runtime<br>\n",
    "They dropped a lot of backward compatibility on things we don't need anymore<br>\n",
    "\n",
    ".Net Framework got replaced by .Net Core, because it's bringing down the abstraction<br>\n",
    "languages that are complied to .Net Core CLR are similar to .Net Framework versions<br>\n",
    "but it's much much faster<br>\n",
    "This is why most of the code you've written in C# will still run in .Net Core<br>\n",
    "\n",
    "You have to change some structures and change the 3rd party dependencies<br>\n",
    "So what Microsoft have done is pulling out an abstraction layer and replaced with another<br>\n",
    "\n"
   ]
  },
  {
   "attachments": {},
   "cell_type": "markdown",
   "metadata": {},
   "source": [
    "Old abstraction layers are still there<br>\n",
    ".Net Core is where all the new development is going into<br>\n",
    ".Net Core got renamed to .Net 5, because it no longer needs to differientiate from .Net Framework<br>\n",
    "\n",
    ".Net Framework -> .Net Core -> renamed to .Net<br>\n",
    "\n",
    "**.Net Standard**<br>\n",
    "Made to bridge the gap between all the abstractions<br>\n",
    "allows user to complie into any of them<br>\n",
    "But it's not only for .Net Framework and .Net Core<br>\n",
    ".Net Standard also bridged the gap for Xamarin(it takes C# and complies into)<br>\n",
    "and there's Unity, Unity has its own abstraction layer and complies it into<br>\n",
    ".Net Standard bridges for libraries, but not for front-end user interfaces<br>\n",
    "\n",
    "with .Net 6, there will be a big collapsing of the framework into one<br>\n",
    "it can operate against mobile, windows, linux, mac devices etc<br>\n",
    "\n",
    ".Net framework is no longer getting new stuff, it's parked at 4.8, still supported<br>\n",
    "you can still write production application using framework<br>\n",
    "\n",
    "So .Net is pretty much codes compling down to an intermediate language through an abstraction layer<br>\n",
    "and from there, they get executed from using just-in-time complier<br>"
   ]
  }
 ],
 "metadata": {
  "language_info": {
   "name": "python"
  },
  "orig_nbformat": 4
 },
 "nbformat": 4,
 "nbformat_minor": 2
}
