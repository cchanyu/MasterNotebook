{
 "cells": [
  {
   "attachments": {},
   "cell_type": "markdown",
   "metadata": {},
   "source": [
    "### RPG Maker MV<br>\n",
    "\n",
    "***\n",
    "\n",
    "<br>"
   ]
  },
  {
   "attachments": {},
   "cell_type": "markdown",
   "metadata": {},
   "source": [
    "Tiled Map Editor - for editing tileset<br>\n",
    "or use built-in<br>\n",
    "\n",
    "tile: 48 x 48 pixels<br>\n",
    "\n",
    "After making custom map<br>\n",
    "export as an image<br>\n",
    "\n",
    "Also use object layer tool to draw the line <br>\n",
    "this way, you'd learn the x,y coordinate of your turn<br>"
   ]
  }
 ],
 "metadata": {
  "language_info": {
   "name": "python"
  },
  "orig_nbformat": 4
 },
 "nbformat": 4,
 "nbformat_minor": 2
}
