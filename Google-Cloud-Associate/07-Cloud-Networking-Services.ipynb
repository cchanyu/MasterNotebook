{
 "cells": [
  {
   "attachments": {},
   "cell_type": "markdown",
   "metadata": {},
   "source": [
    "### Cloud Networking Services<br>\n",
    "\n",
    "***\n",
    "\n",
    "Core networking features for the resources<br>\n"
   ]
  },
  {
   "attachments": {},
   "cell_type": "markdown",
   "metadata": {},
   "source": [
    "**Virutal Private Cloud (VPC)**<br>\n",
    "\n",
    "VPC manages network functionality for Cloud resources<br>\n",
    "Virtualized network within Google Cloud<br>\n",
    "\n",
    "VPC is a core networking service and a global resource<br>\n",
    "that spans throughout all the regions available in Google Cloud<br>\n",
    "\n",
    "Each VPC contains a default network<br>\n",
    "Additional networks can be created in your project, but networks CANNOT be shared between projects.<br>\n",
    "\n"
   ]
  },
  {
   "attachments": {},
   "cell_type": "markdown",
   "metadata": {},
   "source": [
    "**Firewall Rules**<br>\n",
    "\n",
    "Segment your network with a global distributive firewall to restrict access to resources.<br>\n",
    "\n",
    "- Governs traffic coming into instances on a network.<br>\n",
    "- Default network has a default set of firewall rules<br>\n",
    "- Custom rules can be created<br>\n",
    "<br>\n",
    "\n",
    "**Routes**<br>\n",
    "\n",
    "- Advanced networking functions for your instances<br>\n",
    "- Specifies how packets leaving an instance should be directed<br>"
   ]
  },
  {
   "attachments": {},
   "cell_type": "markdown",
   "metadata": {},
   "source": [
    "**Load Balancing - 2 types of load balancing:**\n",
    "\n",
    "distributing workloads across multiple instances<br>\n",
    "<br>\n",
    "\n",
    "1. **HTTP(S) Load Balancing**<br>\n",
    "\n",
    "This is a type of load balancing that covers World wide auto scaling<br> \n",
    "and load balancing over multiple regions on a single IP.<br>\n",
    "\n",
    "Distribute traffic across regions to ensure that requests are<br>\n",
    "routed to the closest region or, in the event of a failure or<br>\n",
    "over-capacity, to a healthy instance in the next closest region.<br>\n",
    "\n",
    "Distribute traffic based on content type.<br>\n",
    "<br>\n",
    "\n",
    "2. **Network Load Balancing**<br>\n",
    "\n",
    "Distribute traffic among server instances in the same region based<br>\n",
    "on incoming IP protocol data, such as address, port and protocol<br>"
   ]
  },
  {
   "attachments": {},
   "cell_type": "markdown",
   "metadata": {},
   "source": [
    "**Google Cloud DNS**<br>\n",
    "\n",
    "When it comes to networking, DNS plays a big part.<br>\n",
    "Because DNS plays a big part, Google has made 100% available<br> \n",
    "on top of giving any DNS queries. The absolute lowest latency<br>\n",
    "\n",
    "Publish and maintain DNS records by using the same infrastructure<br>\n",
    "that Google uses.<br>\n",
    "\n",
    "Work with managed zones and DNS records through the CLI, API, or SDK<br>"
   ]
  },
  {
   "attachments": {},
   "cell_type": "markdown",
   "metadata": {},
   "source": [
    "**Advanced Connectivity:**<br>\n",
    "\n",
    "There are 2 advanced connectivities that are available on Google Cloud platform.<br>\n",
    "<br>\n",
    "\n",
    "- **Cloud VPN**<br>\n",
    "\n",
    "Connect your existing network (whether its on-premise or in another location)<br> \n",
    "to your VPC through an IPsec connection.<br>\n",
    "\n",
    "traffic is encrypted and travels through networks over the public internet<br>\n",
    "<br>\n",
    "\n",
    "- **Direct Interconnect**<br>\n",
    "\n",
    "Connect an existing network to your VPC using a highly available, low-latency,<br>\n",
    "enterprise-grade connection.<br>\n",
    "\n",
    "this does not traverse the public internet, merely connects to Google's backbone.<br>\n",
    "<br>\n",
    "\n",
    "- **Direct Peering**<br>\n",
    "\n",
    "This traffic allows your traffic to flow through Google's Edge network locations.<br>\n",
    "and peering can be done directly or it can be done by a 3rd party carrier.<br>\n",
    "\n",
    "Exchanges internet traffic between your business network and Google at one of Google's<br>\n",
    "broad-reaching edge network locations.<br>\n",
    "\n",
    "- **Carrier Peering**<br>\n",
    "\n",
    "Connect your infrastructure to Google's network edge through highly available,<br>\n",
    "lower-latency connections by using service providers.<br>\n"
   ]
  }
 ],
 "metadata": {
  "kernelspec": {
   "display_name": "Python 3",
   "language": "python",
   "name": "python3"
  },
  "language_info": {
   "name": "python",
   "version": "3.8.10 (tags/v3.8.10:3d8993a, May  3 2021, 11:48:03) [MSC v.1928 64 bit (AMD64)]"
  },
  "orig_nbformat": 4,
  "vscode": {
   "interpreter": {
    "hash": "9650cb4e16cdd4a8e8e2d128bf38d875813998db22a3c986335f89e0cb4d7bb2"
   }
  }
 },
 "nbformat": 4,
 "nbformat_minor": 2
}
