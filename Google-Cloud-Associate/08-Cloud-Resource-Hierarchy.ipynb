{
 "cells": [
  {
   "attachments": {},
   "cell_type": "markdown",
   "metadata": {},
   "source": [
    "### Cloud Resource Hierarchy<br>\n",
    "\n",
    "***\n",
    "\n",
    "How resources and entities are organized within Google Cloud, and how permissions are inherited through this approach.<br>\n"
   ]
  },
  {
   "attachments": {},
   "cell_type": "markdown",
   "metadata": {},
   "source": [
    "**What is a resource?**<br>\n",
    "\n",
    "Service level resources:<br>\n",
    "- Compute Instance VM's<br>\n",
    "- Cloud Storage buckets<br>\n",
    "- Cloud SQL databases<br>\n",
    "<br>\n",
    "\n",
    "Account-level resources:<br>\n",
    "- Organization<br>\n",
    "- Folders <br>\n",
    "- Projects <br>\n",
    "<br>\n"
   ]
  },
  {
   "attachments": {},
   "cell_type": "markdown",
   "metadata": {},
   "source": [
    "**Resource Hierarchy** - Google's way of configure and grant access to the various resources<br>\n",
    "at both service level + account levels<br>\n",
    "\n",
    "Resources are organized hierarchically using a parent/child relationship.<br>\n",
    "Hierarchy is designed to map organizational structure to Google Cloud.<br>\n",
    "and to manage access control and permissions to groups of related resources.<br>\n",
    "\n",
    "Hierarchy Policies are controlled by Identity and Access Management (IAM).<br>\n",
    "Access control policies and configuration settings on a parent resource are inherited by the child.<br>\n",
    "Each child object has exactly one parent.<br>\n",
    "\n",
    "<img src=\"../IMG/Screenshot 2022-12-29 151807.png\" alt=\"img\" /><br>\n",
    "\n",
    "> **(Top 1)** - Domain **(cloud level)**<br>\n",
    "> - Bowtieinc.co<br>\n",
    "\n",
    "This is the primary identity of your organization.<br>\n",
    "At the domain level, this is where you manage your users at your organization.<br>\n",
    "Users, policies, and these are linked to Gsuite or cloud identity account.<br>\n",
    "<br>\n",
    "\n",
    "> **(Top 2)** - **Organization (root node)**<br>\n",
    "> - Bowtie inc<br>\n",
    "\n",
    "This represents the organization and it's the root node of the GCP resource hierarchy.<br>\n",
    "All entities and resources belong to and grouped under the organization.<br>\n",
    "All controlled policies apply to the organization are inherited by other entities and resources underneath it.<br>\n",
    "\n",
    "When organization is created, organization admin role is also created.<br>\n",
    "This is to allow full access to edit any or all resources.<br>\n",
    "<br>\n",
    "\n",
    "> **(Center)** - **Folders** - Grouping mechanism and isolation boundary<br>\n",
    "> - Dept A-C<br>\n",
    "> - Team 1-2<br>\n",
    "> - Product X-Y<br>\n",
    "\n",
    "You must have an organization.<br>\n",
    "Folders and resources can exactly only have one parent<br>\n",
    "<br>\n",
    "\n",
    "> **(Bottom 1)** - **Projects** - Core organizational component<br>\n",
    "> - Project X-Y<br>\n",
    "\n",
    "This is the base level of organizing entities in GCP and parent all service level resources.<br>\n",
    "Any given resources can exist in only one project.<br>\n",
    "<br>\n",
    "\n",
    "> **(Buttom 2)** - **Resource** - Any service-level resource<br>\n",
    "> - VMs, Storage<br>\n",
    "\n",
    "Everything from Compute Engine instances, Cloud storage buckets, Cloud SQL databases, APIs and users<br>\n",
    "All the service level resources that we create in Google Cloud fall under this layer.<br>\n",
    "\n",
    "Labels help categorize resources by key-value pair and you can attach them to any resource<br>\n",
    "Labels help with organized cost when it comes to billing.<br>\n",
    "<br>\n",
    "\n",
    "\n",
    "**Account-Level Resource:**<br>\n",
    "Organization - Folders - Projects<br>\n",
    "\n",
    "**Service-Level Resource:**<br>\n",
    "Resource<br>"
   ]
  },
  {
   "attachments": {},
   "cell_type": "markdown",
   "metadata": {},
   "source": [
    "Examples:<br>\n",
    "\n",
    "Tony is part of Dept B and Tony's manager Mark decides to set up a policy on Dept B's folder.<br>\n",
    "This policy grants tony an owner role for Dept B.<br>\n",
    "Tony will have owner role for Proj X, Y<br>\n",
    "\n",
    "Mark assigns Laura at Bowtie inc for cloud and storage Admin role on Project X.<br>\n",
    "and thus she can only manage cloud storage bucket in that project.<br>\n",
    "\n"
   ]
  }
 ],
 "metadata": {
  "kernelspec": {
   "display_name": "Python 3",
   "language": "python",
   "name": "python3"
  },
  "language_info": {
   "name": "python",
   "version": "3.8.10 (tags/v3.8.10:3d8993a, May  3 2021, 11:48:03) [MSC v.1928 64 bit (AMD64)]"
  },
  "orig_nbformat": 4,
  "vscode": {
   "interpreter": {
    "hash": "9650cb4e16cdd4a8e8e2d128bf38d875813998db22a3c986335f89e0cb4d7bb2"
   }
  }
 },
 "nbformat": 4,
 "nbformat_minor": 2
}
