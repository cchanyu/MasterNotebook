{
 "cells": [
  {
   "attachments": {},
   "cell_type": "markdown",
   "metadata": {},
   "source": [
    "### Cloud SDK & CLI<br>\n",
    "\n",
    "***\n",
    "\n",
    "SDK - software development kit<br>\n",
    "CLI - command line interface<br>"
   ]
  },
  {
   "attachments": {},
   "cell_type": "markdown",
   "metadata": {},
   "source": [
    "**Cloud SDK**<br>\n",
    "\n",
    "Cloud SDK is a set of command line tools that allows you to manage resources through the terminal<br>\n",
    "- gcloud - compute engine<br>\n",
    "- gsutil - cloud storage<br>\n",
    "- bq - bigquery<br>\n",
    "- kubectl - kubernetes<br>\n",
    "\n",
    "Cloud SDK has more options than the console.<br>\n",
    "- Infrastructure as code<br>\n",
    "- Autocompletion<br>\n",
    "- Powershell<br>\n",
    "<br>\n",
    "\n",
    "You need to grant authorization to Cloud SDK tools.\n",
    "\n",
    "User account<br>\n",
    "using a single machine - best practice<br>\n",
    "\n",
    "Service account<br>\n",
    "google account that's associated with GCP project, and not specific user.<br>\n",
    "service account is signed on multiple machines<br>\n",
    "\n",
    "- gcloud init - initialize, authorize, and set up<br>\n",
    "- gcloud auth login - authorize access for gcloud<br>\n",
    "- gcloud config - configure accounts and projects<br>\n",
    "- gcloud components - install, update, delete SDK components<br>\n",
    "\n",
    "**gcloud command format:**<br>"
   ]
  },
  {
   "cell_type": "code",
   "execution_count": null,
   "metadata": {},
   "outputs": [],
   "source": [
    "# gcloud + compute + instances + create + example-instance-1 --zone=us-central1-a<br>\n",
    "#        (Component) (Entity) (Operation) (Positional Arguments)    (Flags)"
   ]
  },
  {
   "attachments": {},
   "cell_type": "markdown",
   "metadata": {},
   "source": [
    "**Demo**<br>\n",
    "\n",
    "Cloud SDK quickstart on Windows, MacOS, Linux<br>\n",
    "\n",
    "1. Create Google Cloud Project<br>\n",
    "2. Download Cloud SDK<br>\n",
    "3. Launch the SDK<br>\n",
    "\n",
    "    You must login? (Y/N): Y<br>\n",
    "    Login in the browser<br>\n",
    "    Pick cloud project to use: 1 (project-name)<br>\n",
    "\n",
    "    Test SDK: gcloud --help<br>\n",
    "    To exit help press: Ctrl + C<br>\n",
    "\n",
    "    gcloud config list<br>\n"
   ]
  },
  {
   "attachments": {},
   "cell_type": "markdown",
   "metadata": {},
   "source": [
    "**Setting Up the Configuration**<br>\n",
    "\n",
    "gcloud init or gcloud init --console-only (if you want to prevent browser)<br>\n",
    "Set up config: 2 (create new config)<br>\n",
    "Enter config name: master<br>\n",
    "Choose account: 2 (log in with new account)<br>\n",
    "\n",
    "After logging in<br>\n",
    "Pick the project: 1 (existing project-name)<br>\n",
    "default compute region and zone: Y (yes)<br>\n",
    "pick the region and zone from the list and type the number: 8 (us-central-a as an Example)<br>\n",
    "<br>\n",
    "\n",
    "**Command list Examples:**<br>\n",
    "\n",
    "gcloud init - does access authorization + setting up<br>\n",
    "gcloud auth login - does access only<br>\n",
    "gcloud auth list - check authorized accounts, can have only 1 active account<br>\n",
    "gcloud config set account [email address] - to switch the active account<br>\n",
    "gcloud auth revoke - to revoke credential<br>\n",
    "gcloud info - gives the path for user config directory<br>\n",
    "\n",
    "gcloud config list - lists the configuration<br>\n",
    "gcloud config configurations activate default - set it back to the default config<br>\n",
    "gcloud config configurations create - set up multiple config for same user account<br>\n",
    "gcloud config configurations describe [name, in this case: default] - to view the config<br>\n",
    "\n",
    "gcloud config set compute/zone - change the config<br>\n",
    "<br>\n",
    "\n",
    "gcloud components list - to see all the components that's available (bq, gcloud etc)<br>\n",
    "gcloud components install [name, in this case: kubectl] - this installs kubernetes components<br>\n",
    "gcloud components remove [name, in this case: kubectl]- to remove kubernetes components<br>\n",
    "gcloud components update<br>\n",
    "\n",
    "gcloud interactive shell - provides auto-completion and suggestions<br>\n",
    "gcloud components install beta - since interactive shell is from beta<br>\n",
    "gcloud beta interactive - activate interactive shell<br>\n",
    "\n",
    "gcloud compute instances list --filter=\"zone:(us-east1-a)\"<br>\n",
    "this should list 0 instances in us-east1-a.<br>\n",
    "\n"
   ]
  }
 ],
 "metadata": {
  "kernelspec": {
   "display_name": "Python 3",
   "language": "python",
   "name": "python3"
  },
  "language_info": {
   "name": "python",
   "version": "3.8.10 (tags/v3.8.10:3d8993a, May  3 2021, 11:48:03) [MSC v.1928 64 bit (AMD64)]"
  },
  "orig_nbformat": 4,
  "vscode": {
   "interpreter": {
    "hash": "9650cb4e16cdd4a8e8e2d128bf38d875813998db22a3c986335f89e0cb4d7bb2"
   }
  }
 },
 "nbformat": 4,
 "nbformat_minor": 2
}
