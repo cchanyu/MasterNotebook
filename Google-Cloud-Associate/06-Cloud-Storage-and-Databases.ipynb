{
 "cells": [
  {
   "attachments": {},
   "cell_type": "markdown",
   "metadata": {},
   "source": [
    "### Cloud Storage and Database Options<br>\n",
    "\n",
    "***\n",
    "\n",
    "Exploring storage options available that couple well with compute services.<br>\n"
   ]
  },
  {
   "attachments": {},
   "cell_type": "markdown",
   "metadata": {},
   "source": [
    "#### **Cloud Storage**<br>\n",
    "\n",
    "Cloud storage is google's consistent, scalable, large-capacity, highly durable object storage.<br>\n",
    "Object storage is NOT the type of storage that you attach to the instances, and install OS on.<br>\n",
    "this will manage data as an object. Such as documents and pictures.<br>\n",
    "But shouldn't be confused with blocked storage, which manages the data in a granuller level, such as OS.<br>\n",
    "\n",
    "11 9's Durability (99.999999999%) - if you store 1 million file, it'd lose a file every 659000 years.<br>\n",
    "Unlimited storage - with no minimum object size<br>\n",
    "\n",
    "Cloud storage is fantastic for content delivery, data lakes, and backups<br>\n",
    "Available in different storage classes and availability.<br>\n",
    "<br>\n",
    "\n",
    "**Storage Classes:**<br>\n",
    "\n",
    "Standard - Maximum availability, no limitation<br>\n",
    "Nearline - Low-cost archival storage, accessed less than once a month<br>\n",
    "Coldline - Even lower-cost archival storage, accessed less than every quarter<br>\n",
    "Archive - Lowest-cost archival storage, accessed less than once a year<br>\n",
    "<br>\n",
    "\n",
    "**Availability:**<br>\n",
    "\n",
    "Region - single region<br>\n",
    "Dual-region - pair of regions<br>\n",
    "Multi-region - large geographic area<br>\n",
    "<br>\n"
   ]
  },
  {
   "attachments": {},
   "cell_type": "markdown",
   "metadata": {},
   "source": [
    "**Filestore**<br>\n",
    "\n",
    "Filestore is a fully managed NFS file server from Google Cloud.<br>\n",
    "NFSv3 compliant<br>\n",
    "Store data from running applications<br>\n",
    "Use VM instances and kubernetes clusters accessing the data at the same time.<br>\n",
    "<br>\n"
   ]
  },
  {
   "attachments": {},
   "cell_type": "markdown",
   "metadata": {},
   "source": [
    "**Persistent Disks**<br>\n",
    "\n",
    "Durable block storage for instances.<br>\n",
    "block storage is different from object storage.<br>\n",
    "block storage is a raw storage capacity that is used in drives interconnected to OS.<br>\n",
    "\n",
    "Standard - regular standard storage<br>\n",
    "Solid State (SSD) - Lower latency/higher iops, higher cost<br>\n",
    "Both of these are available in zonal and regional options<br>\n",
    "<br>"
   ]
  },
  {
   "attachments": {},
   "cell_type": "markdown",
   "metadata": {},
   "source": [
    "#### **Database Options**<br>\n",
    "\n",
    "SQL / Relational Options:<br>\n",
    "\n",
    "- **Cloud SQL**<br>\n",
    "    - Fully managed database service<br>\n",
    "    - PostgreSQL, MySQL, and SQL Server<br>\n",
    "    - High availability across zones<br>\n",
    "<br>\n",
    "\n",
    "- **Cloud Spanner**<br>\n",
    "    - Scalable relational database services<br>\n",
    "    - Support transactions, strong consistency, and synchronous replication<br>\n",
    "    - High availability across not only zones, but also on regions and globally<br>\n",
    "<br>\n",
    "\n",
    "NoSQL Options:<br>\n",
    "\n",
    "- **Bigtable**<br>\n",
    "    - Fully managed, scalable NoSQL database<br>\n",
    "    - High throughput with low latency<br>\n",
    "    - Cluster resizing without downtime<br>\n",
    "<br>\n",
    "\n",
    "- **Datastore**<br>\n",
    "    - Fast, fully managed, serverless, NoSQL document database<br>\n",
    "    - For mobile, web and IoT apps<br>\n",
    "    - Multi-region replication<br>\n",
    "    - ACID transactions<br>\n",
    "<br>\n",
    "\n",
    "- **Firestore**<br>\n",
    "    - NoSQL, realtime database<br>\n",
    "    - Optimized for offline use<br>\n",
    "    - Cluster resizing without downtime<br>\n",
    "<br>\n",
    "\n",
    "- **Memorystore**<br>\n",
    "    - Highly available in-memory service for Redis and Memcached<br>\n",
    "    - Fully managed<br>\n",
    "<br>"
   ]
  }
 ],
 "metadata": {
  "kernelspec": {
   "display_name": "Python 3",
   "language": "python",
   "name": "python3"
  },
  "language_info": {
   "name": "python",
   "version": "3.8.10 (tags/v3.8.10:3d8993a, May  3 2021, 11:48:03) [MSC v.1928 64 bit (AMD64)]"
  },
  "orig_nbformat": 4,
  "vscode": {
   "interpreter": {
    "hash": "9650cb4e16cdd4a8e8e2d128bf38d875813998db22a3c986335f89e0cb4d7bb2"
   }
  }
 },
 "nbformat": 4,
 "nbformat_minor": 2
}
