{
 "cells": [
  {
   "attachments": {},
   "cell_type": "markdown",
   "metadata": {},
   "source": [
    "### Cloud Billing Export<br>\n",
    "\n",
    "***\n",
    "\n",
    "<br>\n"
   ]
  },
  {
   "attachments": {},
   "cell_type": "markdown",
   "metadata": {},
   "source": [
    "Billing export enables granular billing data (such as usage, cost details and pricing data)<br>\n",
    "to be exported automatically to BigQuery for detailed analysis.<br>\n",
    "\n",
    "Not retroactive - meaning if you apply now, it doesn't reflect on the past data, but only on new datasets.<br>\n",
    "\n",
    "- Daily cost detail data<br>\n",
    "- Pricing data<br>\n",
    "<br>\n",
    "\n",
    "**Demo**<br>\n",
    "Demonstrating on how to enable billing export in cloud.<br>\n",
    "\n",
    "Google Cloud -> Billing -> Billing Export -> Edit Settings (Daily Cost Detail)<br>\n",
    "\n",
    "Go to BigQuery to set up the dataset first.<br>\n",
    "Google Cloud -> BigQuery -> Create Dataset -> Dataset ID (BillingExport)<br>\n",
    "\n",
    "One last step, enable BigQuery Data transfer service API.<br>\n",
    "Google Cloud -> API & Services -> Dashboard -> Search bar (BigQuery Data Transfer API) -> hit Enable<br>\n",
    "<br>\n"
   ]
  }
 ],
 "metadata": {
  "kernelspec": {
   "display_name": "Python 3",
   "language": "python",
   "name": "python3"
  },
  "language_info": {
   "name": "python",
   "version": "3.8.10 (tags/v3.8.10:3d8993a, May  3 2021, 11:48:03) [MSC v.1928 64 bit (AMD64)]"
  },
  "orig_nbformat": 4,
  "vscode": {
   "interpreter": {
    "hash": "9650cb4e16cdd4a8e8e2d128bf38d875813998db22a3c986335f89e0cb4d7bb2"
   }
  }
 },
 "nbformat": 4,
 "nbformat_minor": 2
}
