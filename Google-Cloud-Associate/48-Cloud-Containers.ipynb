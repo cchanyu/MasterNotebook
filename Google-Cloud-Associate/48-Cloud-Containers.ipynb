{
 "cells": [
  {
   "attachments": {},
   "cell_type": "markdown",
   "metadata": {},
   "source": [
    "### Cloud Introduction to Containers<br>\n",
    "\n",
    "***\n",
    "\n",
    "<br>"
   ]
  },
  {
   "attachments": {},
   "cell_type": "markdown",
   "metadata": {},
   "source": [
    "**Container**<br>\n",
    "\n",
    "the term is originated from the shipping companies<br>\n",
    "by standardizing the sizing, containers can be moved as a unit and the cost is efficient<br>\n",
    "standarization allows consistency when packing and moving the containers placing them on the ships, docks and storage<br>\n",
    "no matter where the container is, it always stay the same size and the content stay isolated from other containers<br>\n",
    "\n",
    "**Virtual Machines vs. Containers**<br>\n",
    "\n",
    "Hypervisor<br>\n",
    "- large overhead in CPU, memory and disk<br>\n",
    "- separate OS per VM<br>\n",
    "\n",
    "Container / Abstracted OS<br>\n",
    "Infrastructure -> Host Operating System -> Container Engine -> (Containers: App A-D, Runtime)<br>\n",
    "- abstracts the OS - you install OS on top of the host infrastructure<br>\n",
    "- Just running the application code and dependency that needed to run the apps<br>\n",
    "- containers are very light weight, efficient, portable and many more can fit into the machine<br>\n",
    "\n",
    "there are few container apps out there, but docker gained the most popularity<br>\n",
    "\n",
    "**Docker Image Breakdown**<br>\n",
    "\n",
    "docker image is a collection of stack of layers that are created from sequential instruction on a docker file<br>\n",
    "each line in the docker file is running line by line<br>\n",
    "and unique read-only layer is written to the image<br>\n",
    "what makes docket image unique is that each time you add another instruction in the docker file, new layer is created<br>"
   ]
  },
  {
   "cell_type": "code",
   "execution_count": null,
   "metadata": {},
   "outputs": [],
   "source": [
    "FROM ubuntu:12.04\n",
    "\n",
    "RUN apt-get update\n",
    "    apt-get install -y apache2\n",
    "    echo Hello, people > /var/www/index.HTML\n",
    "ENV APACHE_RUN_USER www_data\n",
    "ENV APACHE_RUN_GROUP www_data\n",
    "ENV APACHE_LOG_DIR /var/log/apache2\n",
    "\n",
    "EXPOSE 8080\n",
    "CMD[\"-D\",\"FOREGROUND\"]"
   ]
  },
  {
   "attachments": {},
   "cell_type": "markdown",
   "metadata": {},
   "source": [
    "^- dockerfile - used to create image<br>\n",
    "\n",
    "**Docker Image - image1**<br>\n",
    "L1 - FROM -> base image<br>\n",
    "L2 - RUN -> installed software<br>\n",
    "L3 - ENV -> working directories<br>\n",
    "L4 - EXPOSE -> expose the container's port<br>\n",
    "L5 - CMD -> commands that's executing apache web server<br>\n",
    "\n",
    "This is how a docker image is broken down<br>\n",
    "\n",
    "Each docker image starts with a base image<br>\n",
    "Each line in a dockerfile creates a new layer<br>\n",
    "All layers are read-only<br>\n",
    "<br>\n",
    "\n",
    "**docker image -> docker container**<br>\n",
    "\n",
    "running container includes a writeable layer on top of read only content<br>\n",
    "runtime changes to each writes and updates to the data<br>\n",
    "\n",
    "image1 -> docker run image1 -> docker container<br>\n",
    "L6 - R/W -> read/write layer on top of CMD layer<br>\n",
    "\n",
    "docker containers are created from a docker image<br>\n",
    "containers can use the same image, yet will always have different read/write layer<br>\n",
    "<br>\n",
    "\n",
    "**Container Registry**<br>\n",
    "\n",
    "Dockerfile -> Container Image -> Container Registry -> Docker Hosts<br>\n",
    "\n",
    "Container Registry is where many open sourced docker containers can be found<br>\n",
    "Docker hosts can be your laptop, servers, etc<br>\n",
    "<br>"
   ]
  }
 ],
 "metadata": {
  "kernelspec": {
   "display_name": "Python 3",
   "language": "python",
   "name": "python3"
  },
  "language_info": {
   "name": "python",
   "version": "3.8.10 (tags/v3.8.10:3d8993a, May  3 2021, 11:48:03) [MSC v.1928 64 bit (AMD64)]"
  },
  "orig_nbformat": 4,
  "vscode": {
   "interpreter": {
    "hash": "9650cb4e16cdd4a8e8e2d128bf38d875813998db22a3c986335f89e0cb4d7bb2"
   }
  }
 },
 "nbformat": 4,
 "nbformat_minor": 2
}
