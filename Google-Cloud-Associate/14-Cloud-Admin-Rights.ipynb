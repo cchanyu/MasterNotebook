{
 "cells": [
  {
   "attachments": {},
   "cell_type": "markdown",
   "metadata": {},
   "source": [
    "### Cloud Admin Rights<br>\n",
    "\n",
    "***\n",
    "\n",
    "<br>"
   ]
  },
  {
   "attachments": {},
   "cell_type": "markdown",
   "metadata": {},
   "source": [
    "- **Super Admin Account**<br>\n",
    "\n",
    "Super admin gets created along with the domain.<br>\n",
    "Super admin should NOT be used for day-to-day administering.<br>\n",
    "Irrevocable admin permission - meaning no rights can be taken away from this account<br>\n",
    "It recover accounts at the domain level<br>\n",
    "\n",
    "Since we are using a personal gmail account, we don't need to worry<br>\n",
    "We start at the project level, thus we don't have an organization.<br>\n",
    "<br>\n",
    "\n",
    "- **Admin user**<br>\n",
    "\n",
    "Lesser privileges on billing, but still has all the power to create/edit/delete resources<br>\n",
    "without all the powerful permissions needing for billing.<br>\n",
    "\n",
    "Roles - Billing Account User (Role)<br>\n",
    "<br>\n",
    "\n",
    "**Demo**<br>\n",
    "\n",
    "Google Cloud -> Billing -> Account Management -> Permission -> Add members<br>\n",
    "new user email -> select role: Billing Account User<br>\n",
    "\n",
    "Need a project assigned to the new user to view billings and infos<br>\n",
    "<br>"
   ]
  }
 ],
 "metadata": {
  "kernelspec": {
   "display_name": "Python 3",
   "language": "python",
   "name": "python3"
  },
  "language_info": {
   "name": "python",
   "version": "3.8.10 (tags/v3.8.10:3d8993a, May  3 2021, 11:48:03) [MSC v.1928 64 bit (AMD64)]"
  },
  "orig_nbformat": 4,
  "vscode": {
   "interpreter": {
    "hash": "9650cb4e16cdd4a8e8e2d128bf38d875813998db22a3c986335f89e0cb4d7bb2"
   }
  }
 },
 "nbformat": 4,
 "nbformat_minor": 2
}
