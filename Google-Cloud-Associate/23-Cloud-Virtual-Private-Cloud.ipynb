{
 "cells": [
  {
   "attachments": {},
   "cell_type": "markdown",
   "metadata": {},
   "source": [
    "### Cloud Virtual Private Cloud (VPC)<br>\n",
    "\n",
    "***\n",
    "\n",
    "<br>"
   ]
  },
  {
   "attachments": {},
   "cell_type": "markdown",
   "metadata": {},
   "source": [
    "- VPCs manange the network functionality in Cloud resources<br>\n",
    "This is software defined network(virtualized network) within Cloud<br>\n",
    "\n",
    "- VPC is a global resource<br>\n",
    "- Encapsulated within a project<br>\n",
    "- VPCs DO NOT have any IP address ranges associated with them<br>\n",
    "- Firewall rules control traffic flowing in and out of the VPC<br>\n",
    "\n",
    "- Resources within VPC can communicate with one another by using internal (private) IPv4 addresses<br>\n",
    "- Support only for IPv4 addresses, doesn't support IPv6 within the network<br>\n",
    "You can create IPv6 for global load balancer<br>\n",
    "\n",
    "- Each VPC contains a default network<br>\n",
    "2 Network types: Auto Mode or Custom Mode<br>\n",
    "Auto Mode has 1 subnet per region, default is auto mode network<br>\n",
    "these use predefined IP address with / 20 CIDR block.<br>\n",
    "they can be expanded to / 16 CIDR block<br>\n",
    "\n",
    "Ex. Network A - Network B - Network C<br>\n",
    "NetA US-CENT1 <-> NetA SA-EA1<br>\n",
    "NetB EU-WE1 <- X -> NetC EU-WE1<br>\n",
    "NetB CAN NOT communicate with NetC, and requires external IP<br>\n",
    "\n",
    "In Auto Mode: New project will start with /20 subnet in each region<br>\n",
    "<br>"
   ]
  },
  {
   "attachments": {},
   "cell_type": "markdown",
   "metadata": {},
   "source": [
    "**Demo**<br>\n",
    "\n",
    "Google Cloud -> VPC Network -> default detail -> Enable DNS API<br>\n",
    "<br>"
   ]
  },
  {
   "cell_type": "code",
   "execution_count": null,
   "metadata": {},
   "outputs": [],
   "source": [
    "gcloud compute network subnets expand-ip-range default --region=us-west1 --prefix-length=16 # expand the range of IP addresses in US West1\n",
    "gcloud compute network subnets describe default --region=us-west1 # show details of US West1 network"
   ]
  },
  {
   "attachments": {},
   "cell_type": "markdown",
   "metadata": {},
   "source": [
    "##### **VPC Network Subnets**<br>\n",
    "\n",
    "Subnet and sub network are synonymous (almost identical meaning).<br>\n",
    "- Each VPC network consists of one or more subnets and each subnet is associated with a region<br>\n",
    "- the name or region of subnet CANNOT be changed after creation<br>\n",
    "- Primary/secondary ranges for subnets CANNOT overlap with any allocated range<br>\n",
    "\n",
    "**Increasing subnet IP space:**<br>\n",
    "- Must NOT overlap with other subnets in the same VPC network<br>\n",
    "- Inside the RFC 1918 address space<br>\n",
    "- Network range must be larger than the original<br>\n",
    "- Once subnet has been expanded you CANNOT undo it<br>\n",
    "/20 -> /16<br>\n",
    "\n",
    "**Reserved IP addresses:**<br>\n",
    "Network - First address<br>\n",
    "Default Gateway - Second address<br>\n",
    "Second-to-last address - Cloud future use<br>\n",
    "Broadcast - Last address<br>"
   ]
  }
 ],
 "metadata": {
  "kernelspec": {
   "display_name": "Python 3",
   "language": "python",
   "name": "python3"
  },
  "language_info": {
   "name": "python",
   "version": "3.8.10 (tags/v3.8.10:3d8993a, May  3 2021, 11:48:03) [MSC v.1928 64 bit (AMD64)]"
  },
  "orig_nbformat": 4,
  "vscode": {
   "interpreter": {
    "hash": "9650cb4e16cdd4a8e8e2d128bf38d875813998db22a3c986335f89e0cb4d7bb2"
   }
  }
 },
 "nbformat": 4,
 "nbformat_minor": 2
}
