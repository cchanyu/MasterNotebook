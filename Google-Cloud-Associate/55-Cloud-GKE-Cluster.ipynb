{
 "cells": [
  {
   "attachments": {},
   "cell_type": "markdown",
   "metadata": {},
   "source": [
    "### Cloud Creating a GKE Cluster<br>\n",
    "\n",
    "***\n",
    "\n",
    "<br>"
   ]
  },
  {
   "attachments": {},
   "cell_type": "markdown",
   "metadata": {},
   "source": [
    "We'll be building and deploying our own containerized application in the cluster<br>\n",
    "\n",
    "**Demo**<br>\n",
    "\n",
    "Google Cloud -> Kubernetes Engine -> Create a cluster<br>\n",
    "name: cluster1<br>\n",
    "location type: zonal, us-east1-b<br>\n",
    "master version: release channel: regular channel(default), version: 1.17.12-gke.1504(default)<br>\n",
    "\n",
    "Select default-pool in the sidebar<br>\n",
    "click on autoscaling: min:1, max:3<br>\n",
    "\n",
    "default-pool -> nodes<br>\n",
    "image type: Container Optimized OS (COS) (default)<br>\n",
    "series: E2, e2-micro<br>\n",
    "boot disk size: 10GB<br>\n",
    "\n",
    "Select cluster -> networking<br>\n",
    "enable HTTP loadbalancing - add on that's required in order to use Google's loadbalancer<br>\n",
    "<br>\n",
    "\n",
    "Cloud Shell<br>"
   ]
  },
  {
   "cell_type": "code",
   "execution_count": null,
   "metadata": {},
   "outputs": [],
   "source": [
    "# to create a cluster through command line\n",
    "gcloud container clusters create cluster1 --num-nodes 3\n",
    "# but if you want to build exactly like the one, it's more long due to details of it\n",
    "\n",
    "# in order to interact with cluster, you need to use kubectl\n",
    "gcloud container clusters get-credentials cluster1 --zone us-east1-b\n",
    "# ^- kubectl has been configured\n",
    "\n",
    "kubectl get pods\n",
    "kubectl get nodes # check if it's configured correctly"
   ]
  },
  {
   "attachments": {},
   "cell_type": "markdown",
   "metadata": {},
   "source": [
    "Will be building a docker image using Cloud build<br>\n",
    "Will be then pushed to Google's Container registry<br>\n",
    "to deploy to current GKE cluster<br>\n",
    "\n",
    "Clone your repo within the Cloud shell<br>\n",
    "to run necessary commands to build the image<br>"
   ]
  },
  {
   "cell_type": "code",
   "execution_count": null,
   "metadata": {},
   "outputs": [],
   "source": [
    "cd ~\n",
    "git clone https://github.com/antonitz/google-cloud-associate-cloud-engineer.git\n",
    "cd google-cloud-associate-cloud-engineer/\n",
    "cd 09-Kubernetes-Engine-and-Containers/box_of_bowties(production1)/container\n",
    "# the container contains 3 files: img, docker file and an html\n",
    "\n",
    "# will be using cloud build: serverless CI/CD platform that allows me to package source code into containers\n",
    "# we won't be doing CI/CD pipeline, but just to build an image and push to the container\n",
    "\n",
    "# enable the cloud build API\n",
    "gcloud services enable cloudbuild.googleapis.com"
   ]
  },
  {
   "attachments": {},
   "cell_type": "markdown",
   "metadata": {},
   "source": [
    "Google Cloud -> Tools -> Cloud Build<br>\n",
    "To observe what it's doing<br>"
   ]
  },
  {
   "cell_type": "code",
   "execution_count": null,
   "metadata": {},
   "outputs": [],
   "source": [
    "gcloud builds submit --tag gcr.io/${GOOGLE_CLOUD_PROJECT}/production1:1.0.0 ."
   ]
  },
  {
   "attachments": {},
   "cell_type": "markdown",
   "metadata": {},
   "source": [
    "after build is complete, you can check the summary at 'History' tab in Cloud Build<br>\n",
    "you can click on view 'gcr.io/bowtieinc/production1:1.0.0 image'<br>\n",
    "\n",
    "It'd open up the container registry<br>\n",
    "you can deploy to Cloud Run/GKE/GCE with a click on button, but will do it in GKE<br>\n",
    "\n",
    "Google Cloud -> Kubernetes Engine -> Click on Deploy<br>\n",
    "Select image path -> select the image<br>\n",
    "app name: production1<br>\n",
    "labels: key: app, value: production1<br>\n",
    "cluster: cluster1(us-east1-b)<br>\n",
    "<br>\n",
    "\n",
    "Kubernetes engine show live representation of my deployment<br>"
   ]
  },
  {
   "cell_type": "code",
   "execution_count": null,
   "metadata": {},
   "outputs": [],
   "source": [
    "kubectl get all # see all the details\n",
    "kubectl get deployments # shows the deployment\n",
    "kubectl get pods # shows the names of pods\n",
    "kubectl describe pod [NAME_OF_THE_POD] # to see all the events in the pod"
   ]
  },
  {
   "attachments": {},
   "cell_type": "markdown",
   "metadata": {},
   "source": [
    "Click on 'Expose' deployment<br>\n",
    "port mapping: target port: 80<br>\n",
    "service type: loadbalancer<br>\n",
    "service name: service1<br>\n",
    "<br>\n",
    "\n",
    "Kubernetes Engine -> Services & Ingress<br>\n",
    "click on endpoint address -> click the redirect url<br>\n",
    "this will open up the endpoint HTML static page you've created<br>\n",
    "<br>"
   ]
  },
  {
   "cell_type": "code",
   "execution_count": null,
   "metadata": {},
   "outputs": [],
   "source": [
    "kubectl get pods\n",
    "kubectl scale deployment production1 --replicas=1\n",
    "kubectl get pods # only 1 pod running in the workload\n",
    "kubectl scale deployment production1 --replicas=3\n",
    "kubectl get pods # back to 3 replicas\n",
    "\n",
    "# to edit\n",
    "cd ~\n",
    "cd 09-Kubernetes-Engine-and-Containers/box_of_bowties(production1)/container\n",
    "edit index.html # this will open up the editor\n",
    "# edit some text and save it\n",
    "gcloud builds submit --tag gcr.io/${GOOGLE_CLOUD_PROJECT}/production1:1.0.1 . # 1.0.1 different version"
   ]
  },
  {
   "attachments": {},
   "cell_type": "markdown",
   "metadata": {},
   "source": [
    "Google Cloud -> Cloud Build -> Build Artifact<br>\n",
    "click on view image and verify everything is ok<br>\n",
    "\n",
    "Google Cloud -> Kubernetes Engine -> Workloads -> Production1<br>\n",
    "Actions -> rolling update<br>\n",
    "open a new tab -> Container Registry -> Digest Detail -> SHA256 hash copy<br>\n",
    "back to the rolling update, replace the SHA256 hash values<br>\n",
    "This will schedule an update for your application<br>"
   ]
  },
  {
   "cell_type": "code",
   "execution_count": null,
   "metadata": {},
   "outputs": [],
   "source": [
    "kubectl get pods # new pods have started, by the age of the pods\n"
   ]
  }
 ],
 "metadata": {
  "kernelspec": {
   "display_name": "Python 3",
   "language": "python",
   "name": "python3"
  },
  "language_info": {
   "name": "python",
   "version": "3.8.10 (tags/v3.8.10:3d8993a, May  3 2021, 11:48:03) [MSC v.1928 64 bit (AMD64)]"
  },
  "orig_nbformat": 4,
  "vscode": {
   "interpreter": {
    "hash": "9650cb4e16cdd4a8e8e2d128bf38d875813998db22a3c986335f89e0cb4d7bb2"
   }
  }
 },
 "nbformat": 4,
 "nbformat_minor": 2
}
