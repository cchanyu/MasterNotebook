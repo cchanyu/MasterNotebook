{
 "cells": [
  {
   "attachments": {},
   "cell_type": "markdown",
   "metadata": {},
   "source": [
    "### Cloud Identity and Access Management (IAM)<br>\n",
    "\n",
    "***\n",
    "\n",
    "<br>\n"
   ]
  },
  {
   "attachments": {},
   "cell_type": "markdown",
   "metadata": {},
   "source": [
    "**Principle of Least Privilege**<br>\n",
    "\n",
    "A user/program/process should only have the bare minimum privileges to perform its action<br>\n",
    "<br>\n",
    "\n",
    "**Identity and Access Management (IAM)**<br>\n",
    "\n",
    "- Who (Identity)<br>\n",
    "- Has what access (Role)<br>\n",
    "- For which resource<br>\n",
    "\n",
    "Cloud IAM lets you manage access control by defining who, has what access, for which resource<br>\n",
    "<br>\n",
    "\n",
    "**Policy** - Policy is a collection of bindings, audit configuration and metadata.<br>\n",
    "**Binding** - Specifies how access should be granted to resources and it binds members with a single role.<br>\n",
    "**Metadata** - includes additional information about the policy. (Ex. etags/versions)<br>\n",
    "**Audit Config** - used to configure audit logging<br>\n",
    "<br>\n",
    "\n",
    "##### **Members:**<br>\n",
    "\n",
    "This is an 'identity' that can access resources.<br>\n",
    "an email address, user, service account, google group, domain name, gsuite, cloud identity domain<br>\n",
    "\n",
    "- **Google account** - any email account associated to a Google acct/user.<br>\n",
    "- **Service account** - an account belongs to application<br>\n",
    "- **Google Groups** - a collection of google accounts/service accounts<br>\n",
    "You can edit permissions enmasse. Groups inherits the IAM roles.<br>\n",
    "- **G Suite Domain** - an account that represents internet's domain name. (Ex. AntoniT.com)<br>\n",
    "When you create a user to Gsuite domain, a new account is created. (Ex. Antoni@AntoniT.com)<br>\n",
    "- **Cloud Identity Domain** - accounts are like domain names, but doesn't have access to Gsuite apps/features<br>\n",
    "- **AllAuthenticatedUsers** - special identifier - google user<br>\n",
    "- **AllUsers** - special identifier - anyone from internet<br>\n",
    "<br>\n"
   ]
  },
  {
   "attachments": {},
   "cell_type": "markdown",
   "metadata": {},
   "source": [
    "##### **Roles:**<br>\n",
    "\n",
    "**Roles** - named collection of permissions that grant access to perform actions on Google Cloud resources.<br>\n",
    "you CAN NOT grant a permission to user directly<br>\n",
    "You grant a role to the user and all the permission that role contains.<br>\n",
    "\n",
    "**Permissions** - determines what operations are allowed on a resource<br>\n",
    "Usually correspond one-to-one with REST API methods<br>\n",
    "Permissions are not granted to users directly<br>\n",
    "You grant roles which contain one or more permissions<br>\n",
    "<br>\n",
    "\n",
    "**Roles more in depth:**<br>\n",
    "\n",
    "**Primitive** - historical roles from Google Cloud before IAM was introduced<br>\n",
    "Owner, Editor, Viewer<br>\n",
    "Avoid using these roles, as it's too general, but powerful roles.<br>\n",
    "\n",
    "**Predefined** - more finer grained access control than primitive roles<br>\n",
    "\n",
    "**Custom** - tailor permissions for your organizations need<br>\n",
    "<br>\n",
    "\n",
    "**Condition** - used to define and enforce conditional, attribute-based, access control for Cloud resources<br>\n",
    "conditions allow you to choose granting resource access to identities only if configured conditions are met<br>\n",
    "Ex. temporary contractors - specific access for a certain amount of time<br>\n",
    "When a condition exists, the access request is only granted if the condition expression = true<br>\n",
    "\n",
    "##### **Metadata:**<br>\n",
    "\n",
    "**etags** - when multiple systems try to write same IAM policy at same time, there's a risk they might overwrite each other<br>\n",
    "risk exists, because updating IAM policy involves multiple operations<br>\n",
    "so to prevent this, IAM supports concurrency control through use of etags field in the policy<br>\n",
    "value of this field changes each time policy is updated<br>\n",
    "\n",
    "**version** - version number that's added to determine the features. such as conditions.<br>\n",
    "and future release of new features<br>\n",
    "It's to avoid breaking your existing integrations that relies on policy structures<br>\n",
    "\n",
    "##### **Audit Config:**<br>\n",
    "\n",
    "determine which permission types are logged, and what identities, if any, are exempted from logging<br>\n",
    "<br>"
   ]
  },
  {
   "attachments": {},
   "cell_type": "markdown",
   "metadata": {},
   "source": [
    "Reminder - Going back to Resource Hierarchy:<br>\n",
    "Resource (at the very bottom) inherits all the policy of the parent.<br>\n",
    "Resources inherits Project, Folders, Organization, Domain policies<br>\n",
    "<br>\n",
    "\n"
   ]
  }
 ],
 "metadata": {
  "kernelspec": {
   "display_name": "Python 3",
   "language": "python",
   "name": "python3"
  },
  "language_info": {
   "name": "python",
   "version": "3.8.10 (tags/v3.8.10:3d8993a, May  3 2021, 11:48:03) [MSC v.1928 64 bit (AMD64)]"
  },
  "orig_nbformat": 4,
  "vscode": {
   "interpreter": {
    "hash": "9650cb4e16cdd4a8e8e2d128bf38d875813998db22a3c986335f89e0cb4d7bb2"
   }
  }
 },
 "nbformat": 4,
 "nbformat_minor": 2
}
