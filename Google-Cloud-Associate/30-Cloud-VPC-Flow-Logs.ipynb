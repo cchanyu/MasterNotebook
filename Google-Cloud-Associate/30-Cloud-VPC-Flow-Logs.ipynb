{
 "cells": [
  {
   "attachments": {},
   "cell_type": "markdown",
   "metadata": {},
   "source": [
    "### Cloud VPC Flow Logs<br>\n",
    "\n",
    "***\n",
    "\n",
    "<br>"
   ]
  },
  {
   "attachments": {},
   "cell_type": "markdown",
   "metadata": {},
   "source": [
    "##### **VPC Flow Logs:**<br>\n",
    "\n",
    "VPC flow log records sent from/receive by VM instances<br>\n",
    "including instances used as Kubernetes Engine logs<br>\n",
    "\n",
    "Used for network monitoring, forensics, real time security or optimization<br>\n",
    "when you enable VPC flow log, you enable all VMs in the subnet<br>\n",
    "\n",
    "These logs are exported in real time to the Cloud logging(Stackdriver)<br>\n",
    "They'll be stored for 30 days, but if they need to be stored longer<br>\n",
    "then it'll be exported to Cloud Storage<br>\n",
    "\n",
    "1 out of every 10 packets are captured by Cloud for sampling<br>\n",
    "You can't do anything about this, as this is locked by Google Cloud<br>\n",
    "<br>\n",
    "\n",
    "**Use cases:**<br>\n",
    "\n",
    "- Network monitoring<br>\n",
    "real time visibility into network throughput and performance<br>\n",
    "- Analyze network usage and optimize network traffic expenses<br>\n",
    "- Network forensics when incidents occur<br>\n",
    "- Real-time Security Analysis<br>\n",
    "Stream it to pub/sub and integrate with SIEM(Splunk, Rapid7, LogRhythm)<br>\n",
    "<br>"
   ]
  },
  {
   "attachments": {},
   "cell_type": "markdown",
   "metadata": {},
   "source": [
    "##### **Recorded Format**<br>\n",
    "\n",
    "Base field is a must, can't be omitted.<br>\n",
    "However metadata can be omitted to save the cost<br>\n",
    "<br>\n",
    "\n",
    "**Core Fields:**<br>\n",
    "\n",
    "**Base** (connection, start time, end time, bytes sent, packets sent, rtt msec, reporter)<br>\n",
    "connection -> **IpDetails** (src ip, src port, dest ip, dest port, protocol)<br>\n",
    "<br>\n",
    "\n",
    "**Additional Fields**<br>\n",
    "\n",
    "**metadata** (src instance, dest instance, src vpc, dest vpc, src location, dest location, src gke details, dest gke details)<br>\n",
    "src/dest instance -> **instanceDetail** (project id, vm name, region, zone)<br>\n",
    "src/dest vpc -> **vpcDetails** (project id, vpc name, subnetwork name)<br>\n",
    "src/dest location -> **geographicDetails** (continent, country, region, city, asn)<br>\n",
    "src/dest gke details -> **gkeDetails** (cluster, pod, service)<br>\n",
    "cluster -> **clusterDetails** (cluster name, cluster location)<br>\n",
    "pod -> **podDetails** (pod name, pod namespace)<br>\n",
    "service -> **ServiceDetails** (service name, service namespace)<br>\n",
    "<br>\n",
    "\n",
    "You can set up a filter to preserve the data that only match the filter<br>\n",
    "<br>"
   ]
  }
 ],
 "metadata": {
  "kernelspec": {
   "display_name": "Python 3",
   "language": "python",
   "name": "python3"
  },
  "language_info": {
   "name": "python",
   "version": "3.8.10 (tags/v3.8.10:3d8993a, May  3 2021, 11:48:03) [MSC v.1928 64 bit (AMD64)]"
  },
  "orig_nbformat": 4,
  "vscode": {
   "interpreter": {
    "hash": "9650cb4e16cdd4a8e8e2d128bf38d875813998db22a3c986335f89e0cb4d7bb2"
   }
  }
 },
 "nbformat": 4,
 "nbformat_minor": 2
}
