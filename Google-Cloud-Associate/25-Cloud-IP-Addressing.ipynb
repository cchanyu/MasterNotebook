{
 "cells": [
  {
   "attachments": {},
   "cell_type": "markdown",
   "metadata": {},
   "source": [
    "### Cloud IP Addressing<br>\n",
    "\n",
    "***\n",
    "\n",
    "<br>"
   ]
  },
  {
   "attachments": {},
   "cell_type": "markdown",
   "metadata": {},
   "source": [
    "It begins from whether you're using it for Internal(Private) or External(Public)<br>\n",
    "\n",
    "**Internal IP:**<br>\n",
    "\n",
    "Not publicly advertised and used only within a network<br>\n",
    "If Auto mode - the address comes from the subnet<br>\n",
    "If Custom - must select subnet manually<br>\n",
    "Each VM instances gets its primary internal IP from this range<br>\n",
    "\n",
    "Alias IP (optional) - configure multiple internal IP, representing containers or apps hosted in a VM<br>\n",
    "without using a separate network interface<br>\n",
    "IP ranges can be assigned from subnet's primary or secondary ranges<br>\n",
    "\n",
    "After picking Auto/Custom, you have options to choose either Ephemeral or Static IP<br>\n",
    "Ephemeral IP - temporary IP that exist to serve resources<br>\n",
    "Google will auto create it if user doesn't specify a specific IP<br>\n",
    "It'll be gone if the resource is deleted and will be assigned to another resources<br>\n",
    "\n",
    "Static IP - assigns the IP to your project, until you release it<br>\n",
    "You must specify which subnet the IP comes from<br>\n",
    "You can promote Ephemeral IP to Static IP, if you think it's necessary to stay<br>\n",
    "<br>\n",
    "\n",
    "**External IP:**<br>\n",
    "\n",
    "Needed to connect to the Internet<br>\n",
    "for resources in another network, or public Cloud Services<br>\n",
    "\n",
    "Sources from outside of Cloud VPC network can address a specific resource by external IP<br>\n",
    "Only resources with an external IP can send/receive traffic directly from outside network<br>\n",
    "\n",
    "Ephemeral IP - same rule as Ephemeral Internal IP<br>\n",
    "Automatic IP assigning by the system, if user doesn't specify<br>\n",
    "\n",
    "Static IP - same rule as Static Internal IP<br>\n",
    "available as a regional or global resource<br>\n",
    "<br>"
   ]
  },
  {
   "attachments": {},
   "cell_type": "markdown",
   "metadata": {},
   "source": [
    "**Internal IP address reservation:**<br>\n",
    "\n",
    "Static internal IP provides the ability to reserve internal IP addresses<br>\n",
    "IP ranges configured from the subnet<br>\n",
    "Then assign those reserved internal addresses to resources as needed<br>\n",
    "This is useful when you want to use the same IP, even if you have to delete and recreate the resource<br>\n",
    "\n",
    "1. Reserve a specific address and associate with a specific resource<br>\n",
    "    1A. create reserved internal IP<br>\n",
    "    1B. create VM instance with reserved IP<br>\n",
    "2. Specify ephemeral internal IP for a resource and promote the address<br>\n",
    "    2A. create VM instance with auto IP<br>\n",
    "    2B. create reserved internal IP<br>\n",
    "\n",
    "**External IP address reservation:**<br>\n",
    "\n",
    "1. Reserve a new static external IP, then assign it to a resource<br>\n",
    "2. Specify ephemeral external IP for a resource, then promote the address<br>\n",
    "\n",
    "Regional IP address<br>\n",
    "gcloud compute addresses create ADDRESS_NAME \\ --region REGION<br>\n",
    "\n",
    "Global IP address<br>\n",
    "gcloud compute addresses create ADDRESS_NAME \\ --global \\ --ip-version [IPV4|IPV6]<br>\n",
    "You need to choose premium service tier to create this<br>\n"
   ]
  },
  {
   "attachments": {},
   "cell_type": "markdown",
   "metadata": {},
   "source": [
    "**Demo**<br>\n",
    "\n",
    "How to create a static internal IP:<br>\n",
    "Google Cloud -> Compute Engine -> create instance<br>\n",
    "Machine Type: e2-micro, Networking>Network Interface: Reserve static internal IP<br>\n",
    "\n",
    "To view this internal IP in Cloud Shell:<br>"
   ]
  },
  {
   "cell_type": "code",
   "execution_count": null,
   "metadata": {},
   "outputs": [],
   "source": [
    "gcloud compute addresses list # this will list all the internal IP\n",
    "\n",
    "# if instance is up and running, STATUS = IN_USE\n",
    "# but if you delete the instance, STATUS = RESERVED"
   ]
  },
  {
   "attachments": {},
   "cell_type": "markdown",
   "metadata": {},
   "source": [
    "Promoting a static internal IP:<br>\n",
    "Back to the Compute Engine<br>\n",
    "Edit instance -> Networking -> Network Interface -> change 'Internal IP Type' to 'Static'<br>\n",
    "\n",
    "External IP:<br>\n",
    "Google Cloud -> External IP Address -> Reserve a Static Address<br>\n",
    "Network Service Tier - Standard, but IPv6 & Global IP is only available for Premium tier<br>\n",
    "Static IP address are charged hourly, so remember to delete them if you're not using it<br>\n",
    "\n",
    "Go back to Compute Engine -> instance -> Networking -> External Static IP<br>\n",
    "You can verify this with Cloud Shell again<br>"
   ]
  },
  {
   "cell_type": "code",
   "execution_count": null,
   "metadata": {},
   "outputs": [],
   "source": [
    "gcloud compute addresses create NAME --addresses IP_ADDRESS # promote the existing ephemeral IP to a static external IP\n",
    "gcloud compute addresses create promoted-external --addresses 104.196.219.42 --region us-east1 # an example following the format above\n",
    "\n",
    "gcloud compute addresses delete promoted-static --region us-east1 # to delete the reserved IP"
   ]
  }
 ],
 "metadata": {
  "kernelspec": {
   "display_name": "Python 3",
   "language": "python",
   "name": "python3"
  },
  "language_info": {
   "name": "python",
   "version": "3.8.10 (tags/v3.8.10:3d8993a, May  3 2021, 11:48:03) [MSC v.1928 64 bit (AMD64)]"
  },
  "orig_nbformat": 4,
  "vscode": {
   "interpreter": {
    "hash": "9650cb4e16cdd4a8e8e2d128bf38d875813998db22a3c986335f89e0cb4d7bb2"
   }
  }
 },
 "nbformat": 4,
 "nbformat_minor": 2
}
