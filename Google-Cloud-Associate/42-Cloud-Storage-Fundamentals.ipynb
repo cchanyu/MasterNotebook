{
 "cells": [
  {
   "attachments": {},
   "cell_type": "markdown",
   "metadata": {},
   "source": [
    "### Cloud Storage Fundamentals<br>\n",
    "\n",
    "***\n",
    "\n",
    "<br>"
   ]
  },
  {
   "attachments": {},
   "cell_type": "markdown",
   "metadata": {},
   "source": [
    "**Types of Storage**<br>\n",
    "\n",
    "- Block Storage<br>\n",
    "Block storage is a performance storage.<br>\n",
    "    - fastest available type of storage<br>\n",
    "    - evenly sized blocks, with unique identifier<br>\n",
    "    - structureless raw data, with logical volume<br>\n",
    "    EXT for linux, NTFS for windows<br>\n",
    "    \n",
    "    it'd mount as a root volume in linux, or C/D drive in Windows<br>\n",
    "    it's delivered in HDD or SSD<br>\n",
    "    mountable and bootable<br>\n",
    "    <br>\n",
    "    \n",
    "- File Storage<br>\n",
    "If you're looking to share files across multiple systems or have multiple<br>\n",
    "applications that need access to same files and directories, file storage is most suitable<br>\n",
    "    - network file system<br>\n",
    "    - directory tree structure<br>\n",
    "    mountable, but not bootable<br>\n",
    "    can't install OS on file storage<br>\n",
    "    structures been already put in place, cannot be undone<br>\n",
    "    \n",
    "    in Cloud, it's called Cloud FileStore<br>\n",
    "    It's connected to VPC network via NFSv3 protocol<br>\n",
    "    <br>\n",
    "\n",
    "- Object Storage<br>\n",
    "If you're looking to store terabytes of pictures for web app<br>\n",
    "and you don't want to worry about scaling, object storage will allow you to read and write infinite amount of time<br>\n",
    "    - flat collection of unstructured data<br>\n",
    "    - made up with 3 characteristics: data itself(movie, imgs, etc), metadata, globally unique ID<br>\n",
    "    - infinitely scalable<br>\n",
    "\n",
    "    in Cloud, it's called Cloud Storage<br>\n",
    "    Cloud Storage is a storage with a logical container called bucket<br>\n",
    "    not mountable and not bootable<br>\n",
    "    <br>"
   ]
  },
  {
   "attachments": {},
   "cell_type": "markdown",
   "metadata": {},
   "source": [
    "**Storage Performance Terms**<br>\n",
    "\n",
    "I/O (input/ouput) - 4kb, 256kb, 4mb<br>\n",
    "I/O queue depth - number of pending input and output request waiting to be performed on the disk<br>\n",
    "IOPS (I/O operations per sec) - value indicates how many different inputs or outputs, device(s) can perform in 1 sec, more value = stronger<br>\n",
    "Throughput - speed, commonly measured in MB/s<br>\n",
    "Latency - delay between data request and returned, measured in milliseconds(ms)<br>\n",
    "Sequential Access - large single file, Ex. videos<br>\n",
    "Random Access - loading an application or OS, lots of little files all over the place<br>\n",
    "\n",
    "All these characterstics determine the performance of your storage<br>\n"
   ]
  }
 ],
 "metadata": {
  "kernelspec": {
   "display_name": "Python 3",
   "language": "python",
   "name": "python3"
  },
  "language_info": {
   "name": "python",
   "version": "3.8.10 (tags/v3.8.10:3d8993a, May  3 2021, 11:48:03) [MSC v.1928 64 bit (AMD64)]"
  },
  "orig_nbformat": 4,
  "vscode": {
   "interpreter": {
    "hash": "9650cb4e16cdd4a8e8e2d128bf38d875813998db22a3c986335f89e0cb4d7bb2"
   }
  }
 },
 "nbformat": 4,
 "nbformat_minor": 2
}
