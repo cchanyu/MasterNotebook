{
 "cells": [
  {
   "attachments": {},
   "cell_type": "markdown",
   "metadata": {},
   "source": [
    "### Cloud Shared VPC<br>\n",
    "\n",
    "***\n",
    "\n",
    "<br>"
   ]
  },
  {
   "attachments": {},
   "cell_type": "markdown",
   "metadata": {},
   "source": [
    "Shared VPC allows organization to connect resources from multiple projects to a common VPC network<br>\n",
    "Host Project(Shared VPC Network) <-> (Service Project A, Service Project B, ...)<br>\n",
    "Host project OR Service project, CANNOT be both.<br>\n",
    "each Service project can be attached to a single host project<br>\n",
    "\n",
    "Projects that doesn't participate in shared VPC is called a 'standalone project'<br>\n",
    "\n",
    "**Shared VPC roles:**<br>\n",
    "\n",
    "- Shared VPC Admin - has a permission to enable the host project, attach service projects to the host project<br>\n",
    "and deligate access to some or all of subnets in shared VPC network in shared VPC<br>\n",
    "- Service Project Admin - This is shared VPC admin for a given host project and typically the project owner as well<br>\n",
    "When defining each service project admin, shared VPC admin can grant permission to use the whole host project or just some subnets<br>\n",
    "there are 2 separate level of permissions that can be applied<br>\n",
    "    - project-level permissions - service project admin, has permission to use all subnet in host project<br>\n",
    "    - subnet-level permissions - service project admin can be granted in restrictive set of permission to use some subnets<br>\n",
    "<br>\n",
    "\n",
    "**Host to Service Projects Relationship:**<br>\n",
    "\n",
    "Service Project A: VM1 -> Host Project: Shared VPC Network: subnet-1 internal IP for VM1<br>\n",
    "Service Project B: VM2 -> Host Project: Shared VPC Network: subnet-2 internal IP for VM2<br>\n",
    "VM1 <-> VM2 can communicate through Internal IP through Shared VPC<br>\n",
    "<br>\n",
    "\n",
    "**Mutliple Hosts Project:**<br>\n",
    "\n",
    "- Development - Host1<br>\n",
    "    - Dev A Service Project<br>\n",
    "    - Dev B Service Project<br>\n",
    "<br>\n",
    "\n",
    "- Production - Host2<br>\n",
    "    - Prod A Service Project<br>\n",
    "    - Prod B Service Project<br>\n",
    "<br>\n",
    "\n",
    "They're purposely configured the same way<br>\n",
    "So subnet ranges will automatically translate over to production<br>\n",
    "<br>\n",
    "\n",
    "**Hybrid Environment:**<br>\n",
    "\n",
    "Shared VPC Network is connected to 2 Service Projects(just like the ones above)<br>\n",
    "Within Shared VPC, both subnets are connected to a Cloud VPN<br>\n",
    "then which Cloud VPN connects to the internet and to the on-premises network (Customer VPN Gateway)<br>\n",
    "\n",
    "Can use to communicate the databases located on-premises<br>\n",
    "<br>\n",
    "\n",
    "**Two-tier web service:**<br>\n",
    "\n",
    "External Client -> (Tier 1) External IP -> HTTP(S) Load Balancing -> (Instance Group) Tier 1 instance<br>\n",
    "-> (Tier 2) Internal Load Balancing -> (Instance Group) Tier 2 instance<br>\n",
    "\n",
    "Tier 1 represents externally facing components behind HTTP(S) load balancers<br>\n",
    "Tier 2 represents internal service, which upon Tier 1 relies on.<br>\n",
    "and it's balanced using internal TCP/UDP load balancer<br>\n",
    "Shared VPC allows mapping of each tier of web service to different projects<br>\n",
    "<br>"
   ]
  }
 ],
 "metadata": {
  "kernelspec": {
   "display_name": "Python 3",
   "language": "python",
   "name": "python3"
  },
  "language_info": {
   "name": "python",
   "version": "3.8.10 (tags/v3.8.10:3d8993a, May  3 2021, 11:48:03) [MSC v.1928 64 bit (AMD64)]"
  },
  "orig_nbformat": 4,
  "vscode": {
   "interpreter": {
    "hash": "9650cb4e16cdd4a8e8e2d128bf38d875813998db22a3c986335f89e0cb4d7bb2"
   }
  }
 },
 "nbformat": 4,
 "nbformat_minor": 2
}
