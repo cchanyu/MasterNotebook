{
 "cells": [
  {
   "attachments": {},
   "cell_type": "markdown",
   "metadata": {},
   "source": [
    "### Cloud Global Infrastructure<br>\n",
    "\n",
    "***\n",
    "\n",
    "Google Cloud Global Infrastructure, how data centers are connected, how a traffic flow when request is done<br>\n",
    "along with the overall structure of how google cloud geographic location are divided for better availability, durability and latency.<br>\n"
   ]
  },
  {
   "attachments": {},
   "cell_type": "markdown",
   "metadata": {},
   "source": [
    "Google has 13 subsea cables connecting the continents.<br>\n",
    "hundreds of thousands of miles of fiber cables for direct connectivity, privacy and reduce latency.<br>\n",
    "<br>\n",
    "\n",
    "How Google subsea cables connect continents to continents?<br>\n",
    "**GCP North Virigina region > Point of Presence (POP) > Landing Station > Atlantic Sea > Landing Station (French West Coast) > GCP Belgium region**<br>\n",
    "<br>\n",
    "\n",
    "Google Cloud has:<br>\n",
    "- 24 regions\n",
    "- 73 zones\n",
    "- 144 network edge locations / Point of Presence (POP)\n",
    "- 200+ countries and territories\n",
    "\n"
   ]
  },
  {
   "attachments": {},
   "cell_type": "markdown",
   "metadata": {},
   "source": [
    "Example with an end point user:<br>\n",
    "1. (REQUEST) Tony makes a request to Google Cloud.<br>\n",
    "2. (REQUEST) Google responses to tony's nearest POP (edge network) location for low latency.<br>\n",
    "3. (REQUEST) Google passes to nearest Google Data Center over its private fiber network.<br>\n",
    "4. (RESPONSE) Data Center generates a response to optimize and to provide the best experience for tony.<br>\n",
    "5. (RESPONSE) Tony receives his response from various google locations, including google data centers, edge pops, edge nodes.<br>\n",
    "whichever is providing the lowest latency. This data path happens in a matter of seconds.<br>\n",
    "<br>\n"
   ]
  },
  {
   "attachments": {},
   "cell_type": "markdown",
   "metadata": {},
   "source": [
    "**Geography and Regions** - How geographic and regions are organized in Google Cloud<br>\n",
    "Geographic Location > Multi-region > Region > Zone\n",
    "\n",
    "**Zone** - us-east4-a/b/c<br>\n",
    "zone is a deployment area for Google Cloud resources within a region. The smallest entity in Google's global network.<br>\n",
    "a single failure domain within a region<br>\n",
    "deploy closer to users for optimal latency.<br>\n",
    "\n",
    "**Region** - us-east4<br>\n",
    "regions are independent geographic areas that are sub-divided into zones.<br>\n",
    "designed for fault tolerance, high availability<br>\n",
    "intercommunication between zones are less than 5ms.<br>\n",
    "\n",
    "**Multi-Region** - nam3 N Virigina/S Caronlina<br>\n",
    "multi-regions cover large geographical areas, that contain 2 or more regions<br>\n",
    "allows Google services to maximize redundancy and distribution within and across regions<br>\n",
    "high availability (geo-redundant)<br>\n",
    "\n",
    "**Geographic Location** - USA<br>\n",
    "<br>\n"
   ]
  }
 ],
 "metadata": {
  "kernelspec": {
   "display_name": "Python 3",
   "language": "python",
   "name": "python3"
  },
  "language_info": {
   "name": "python",
   "version": "3.8.10 (tags/v3.8.10:3d8993a, May  3 2021, 11:48:03) [MSC v.1928 64 bit (AMD64)]"
  },
  "orig_nbformat": 4,
  "vscode": {
   "interpreter": {
    "hash": "9650cb4e16cdd4a8e8e2d128bf38d875813998db22a3c986335f89e0cb4d7bb2"
   }
  }
 },
 "nbformat": 4,
 "nbformat_minor": 2
}
