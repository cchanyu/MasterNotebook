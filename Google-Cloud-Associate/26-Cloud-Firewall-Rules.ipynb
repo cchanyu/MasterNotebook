{
 "cells": [
  {
   "attachments": {},
   "cell_type": "markdown",
   "metadata": {},
   "source": [
    "### Cloud Firewall and Firewall Rules<br>\n",
    "\n",
    "***\n",
    "\n",
    "<br>"
   ]
  },
  {
   "attachments": {},
   "cell_type": "markdown",
   "metadata": {},
   "source": [
    "##### **Firewall Rules:**<br>\n",
    "\n",
    "Firewalls filter in/out traffics based on user defined rules<br>\n",
    "\n",
    "Incoming OR outgoing, BUT NOT BOTH<br>\n",
    "protocol, ports, sources, destinations<br>\n",
    "<br>\n",
    "\n",
    "**Implied and pre-populated rules:**<br>\n",
    "\n",
    "Cloud doesn't allow certain IP protcols, such as: Ingress traffic on TCP: PORT 25 within a VPC network<br>\n",
    "and protocols other than TCP, UDP, ICMP, GRE to external IP of Cloud resources are blocked.<br>\n",
    "<br>\n",
    "\n",
    "Cloud always allow communications between VM instances<br>\n",
    "and corresponding **metadata server** at: 169.254.169.254<br>\n",
    "This server is essential to operation of instance<br>\n",
    "Instances can access it regardless of any firewall rules<br>\n",
    "\n",
    "metadata server provides some basics to the instance, such as:<br>\n",
    "DHCP, DNS Resolution, Instance Metadata, Network Time Protocol(NTP)<br>\n",
    "<br>\n",
    "\n",
    "Every network has 2 implied firewall rules:<br>\n",
    "That permit outgoing connection and block incoming connections.<br>\n",
    "Firewalls you create can override these rules<br>\n",
    "\n",
    "- **allow egress** - a rule whose action is allow destinations all IPs<br>\n",
    "priority is the lowest possible, lets instance send traffics to any destination<br>\n",
    "except for traffic blocked by Cloud<br>\n",
    "- **deny ingress** - a rule whose action is deny and source all IPs<br>\n",
    "priority is lowest possible, protect all instances by blocking incoming connections to them<br>\n",
    "<br>"
   ]
  },
  {
   "attachments": {},
   "cell_type": "markdown",
   "metadata": {},
   "source": [
    "**Firewall rule characteristics:**<br>\n",
    "\n",
    "Each firewall rules applies to incoming/outgoing connections and not both<br>\n",
    "Firewall rules only support IPv4 connections<br>\n",
    "Each firewall action is either allow or deny<br>\n",
    "\n",
    "When you create a firewall rule, you must create a VPC network<br>\n",
    "you can't share firewall rules amongst VPC networks, including VPC network peering, or Cloud VPN tunnels<br>\n",
    "\n",
    "Firewall rules are stateful, aka incoming packets are corresponded by outbound packets<br>\n",
    "by using a connection tracking table<br>\n",
    "<br>\n",
    "\n",
    "**Firewall rule components:**<br>\n",
    "\n",
    "- priority - lower the number = high priority, higher number = lower priority<br>\n",
    "\n",
    "- direction of traffic - ingress(incoming connections), egress(outgoing connections)<br>\n",
    "\n",
    "- action on match - allow/deny<br>\n",
    "\n",
    "- targets - defines the instances<br>\n",
    "    - all instances in network<br>\n",
    "    - instances by target tags - you can test dev server by using tag 'dev'<br>\n",
    "    - instances by target service accounts - firewall rule only apply to instances that use specific service accounts<br>\n",
    "<br>\n",
    "\n",
    "- source filter - source for ingress, destination for egress<br>\n",
    "    - source IP ranges<br>\n",
    "    - source tags - sources are identified by matching network tags<br>\n",
    "    - source service account - identified by the service account<br>\n",
    "<br>\n",
    "\n",
    "- protocols and ports - if you omit(leave blank), the firewall rules are applied to all traffics<br>\n",
    "\n",
    "- disable rules - great way to deactivate without having to delete the rule, great for troubleshooting<br>"
   ]
  }
 ],
 "metadata": {
  "kernelspec": {
   "display_name": "Python 3",
   "language": "python",
   "name": "python3"
  },
  "language_info": {
   "name": "python",
   "version": "3.8.10 (tags/v3.8.10:3d8993a, May  3 2021, 11:48:03) [MSC v.1928 64 bit (AMD64)]"
  },
  "orig_nbformat": 4,
  "vscode": {
   "interpreter": {
    "hash": "9650cb4e16cdd4a8e8e2d128bf38d875813998db22a3c986335f89e0cb4d7bb2"
   }
  }
 },
 "nbformat": 4,
 "nbformat_minor": 2
}
