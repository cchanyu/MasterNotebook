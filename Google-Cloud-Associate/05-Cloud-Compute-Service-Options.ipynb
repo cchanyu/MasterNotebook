{
 "cells": [
  {
   "attachments": {},
   "cell_type": "markdown",
   "metadata": {},
   "source": [
    "### Cloud Compute Service Options<br>\n",
    "\n",
    "***\n",
    "\n",
    "An overview of all the compute service options available on Google Cloud.<br>\n"
   ]
  },
  {
   "attachments": {},
   "cell_type": "markdown",
   "metadata": {},
   "source": [
    "Options<br>\n",
    "\n",
    "Complete control and Flexibility<br>\n",
    "Flexible container technology<br>\n",
    "Managed application platform<br>\n",
    "Serverless Environments<br>\n",
    "\n"
   ]
  },
  {
   "attachments": {},
   "cell_type": "markdown",
   "metadata": {},
   "source": [
    "(More Flexibility) IaaS - CaaS - PaaS - FaaS (Less Flexibility)"
   ]
  },
  {
   "attachments": {},
   "cell_type": "markdown",
   "metadata": {},
   "source": [
    "**Compute Engine** - Infrastructure as a Service (IaaS)<br>\n",
    "\n",
    "Virtual Machines(VMs) called instances<br>\n",
    "These instances can be deployed in any region or zones.<br>\n",
    "\n",
    "You decide the operating system and the software you decide to put on it.<br>\n",
    "Linux or Windows<br>\n",
    "\n",
    "Use public or private images to create instances.<br>\n",
    "Pre-configured images and software packages available in Google cloud Marketplace<br>\n",
    "<br>\n",
    "\n",
    "- Instance groups - Manage multiple instances<br>\n",
    "- Add/Remove capacity using autoscaling with instance groups.<br>\n",
    "- Attach/detach disks as needed.<br>\n",
    "- Google Cloud Storage can be used in conjunction with Compute Engine<br>\n",
    "- Use SSH to connect directly<br>\n",
    "<br>"
   ]
  },
  {
   "attachments": {},
   "cell_type": "markdown",
   "metadata": {},
   "source": [
    "**Google Kubernetes Engine (GKE)** - Container as a Service(CaaS)<br>\n",
    "\n",
    "GKE is container orchestration system for automating deploying, scaling, and managing containers.<br>\n",
    "GKE was built on same open source kubernetes project that was introduced to the public by Google back in 2014<br>\n",
    "GKE offers flexibility to integrate with on-premise kubernetes.<br>\n",
    "\n",
    "GKE uses Compute Engine instances as nodes in a cluster.<br>\n",
    "Cluster - group of nodes or Compute Engine instances<br>\n",
    "<br>"
   ]
  },
  {
   "attachments": {},
   "cell_type": "markdown",
   "metadata": {},
   "source": [
    "**App Engine** - Platform as a Service(PaaS)<br>\n",
    "\n",
    "App Engine is a fully managed, serverless platform for developing, hosting web applications at scale. (PaaS)<br>\n",
    "\n",
    "With App Engine, Google handles most of the manangement of the resources for you.<br>\n",
    "Ex. if it requires more resources, due to increased traffic, Google automatically scales your app to provide these resources.<br>\n",
    "\n",
    "Build your app in Go, Java, .NET, Node.js, PHP, Python or Ruby<br>\n",
    "You can use pre-configured runtime or custom runtime<br>\n",
    "\n",
    "App Engine also allows you to connect to other Google Services products or databases seamlessly.<br>\n",
    "App Engine integrates with Web Security Scanner to identify the threats.<br>\n",
    "<br>"
   ]
  },
  {
   "attachments": {},
   "cell_type": "markdown",
   "metadata": {},
   "source": [
    "**Cloud Functions** - Function as a Service (FaaS)<br>\n",
    "\n",
    "Serverless execution environment for building and connecting cloud services<br>\n",
    "\n",
    "Meaning, you type in the commands to execute or monitor resources of other cloud products<br>\n",
    "aka you write a simple, single purpose functions that are attached to the events<br>\n",
    "\n",
    "It triggers when an event being watched is fired.<br>\n",
    "Your code executes in a fully managed environment.<br>\n",
    "\n",
    "No need to provision any infrastructure<br>\n",
    "Cloud function can be written using JavaScript, Python3, Go, Java runtimes<br>\n",
    "\n",
    "Use Cases:<br>\n",
    "- Data processing or ETL operations (video transcoding)<br>\n",
    "- Webhooks to respond to HTTP triggers<br>\n",
    "- APIs that compose loosely coupled logics<br>\n",
    "- Mobile backend functions<br>\n",
    "<br>"
   ]
  },
  {
   "attachments": {},
   "cell_type": "markdown",
   "metadata": {},
   "source": [
    "**Cloud Run** - Function as a Service (FaaS)<br>\n",
    "\n",
    "Cloud run is a fully managed compute platform for deploying and scaling containerized applications quickly and securely.<br>\n",
    "Built upon an open standard Knative<br>\n",
    "\n",
    "Cloud run also abstracts away all the infrasturcture management<br>\n",
    "It's known as serverless for containers<br>\n",
    "Cloud run has massive flexibility, as you can write it in any language, any library, any binary<br>\n",
    "<br>"
   ]
  }
 ],
 "metadata": {
  "kernelspec": {
   "display_name": "Python 3",
   "language": "python",
   "name": "python3"
  },
  "language_info": {
   "name": "python",
   "version": "3.8.10 (tags/v3.8.10:3d8993a, May  3 2021, 11:48:03) [MSC v.1928 64 bit (AMD64)]"
  },
  "orig_nbformat": 4,
  "vscode": {
   "interpreter": {
    "hash": "9650cb4e16cdd4a8e8e2d128bf38d875813998db22a3c986335f89e0cb4d7bb2"
   }
  }
 },
 "nbformat": 4,
 "nbformat_minor": 2
}
