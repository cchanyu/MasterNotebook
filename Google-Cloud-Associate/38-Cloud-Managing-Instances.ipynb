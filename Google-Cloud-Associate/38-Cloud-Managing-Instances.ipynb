{
 "cells": [
  {
   "attachments": {},
   "cell_type": "markdown",
   "metadata": {},
   "source": [
    "### Cloud Managing Instances<br>\n",
    "\n",
    "***\n",
    "\n",
    "<br>"
   ]
  },
  {
   "attachments": {},
   "cell_type": "markdown",
   "metadata": {},
   "source": [
    "**Instances Lifecycle**<br>\n",
    "\n",
    "**Provisioning** -> vCPU + Memory -> Root disk / Persistent disk -> Additional disks<br>\n",
    "cost: none<br>\n",
    "\n",
    "After finishing the provisioning state, life cycle continues to staging<br>\n",
    "provisioning -> **Staging** -> Internal IP / External IP -> System image -> boot<br>\n",
    "cost: none<br>\n",
    "\n",
    "After booting up, it'll run into running state<br>\n",
    "staging -> **Running**  -> Startup script -> SSH / RDP -> Modify / Repair -> Live Migrate<br>\n",
    "Running <-> Reset<br>\n",
    "Startup Script <-> set/get metadata, export system image, snapshot persistent disk, migrate instance to different zone<br>\n",
    "Modify/Repair <-> Live migrate<br>\n",
    "cost: Instance, static IPs, disks<br>\n",
    "\n",
    "running -> **Suspend**<br>\n",
    "\n",
    "will preserve the guest OS memory and application state of the instance<br>\n",
    "you can either choose to resume or delete<br>\n",
    "suspended is when user requested to stop the instance or there was a failure<br>\n",
    "this is a temporary status<br>\n",
    "cost: static IPs, disks<br>\n",
    "\n",
    "running -> **Stopping**<br>\n",
    "cost: static IPs, disks<br>\n",
    "\n",
    "stopping -> **Terminated**<br>\n",
    "\n",
    "whether user stopped the instance or encountered a failure<br>\n",
    "you can choose to restart/delete or hold some reset options<br>\n",
    "cost: static IPs, disks<br>\n",
    "<br>"
   ]
  },
  {
   "attachments": {},
   "cell_type": "markdown",
   "metadata": {},
   "source": [
    "**Shielded VM's**<br>\n",
    "\n",
    "During the boot stage of staging<br>\n",
    "Shielded VM makes sure that your VM isn't compromised by boot or kernel level malware<br>\n",
    "This is covered by secure boot, virtual trusted platform module(vTPM), measure boot(running on vTPM), integrity monitoring<br>\n",
    "\n",
    "Secure boot - verifies that user is running authentic software by checking the signature<br>\n",
    "Measured boot creates the integrity policy baseline<br>\n",
    "Each time VM instance boots after that, measurements are taken again, stored in secured memory until the next reboot<br>\n",
    "\n",
    "they check any changes to the VM and it's loaded on Virtual Trusted Platform Module(vTPM)<br>\n",
    "vTPM is a computer chip that protects objects like: keys, certificates, that we use to authenticate the access to kernel<br>\n",
    "Integrity Monitoring - used for comparison to determine if anything has changed<br>\n",
    "if it's a match, it'll give pass, if not, it'll give a fail<br>"
   ]
  },
  {
   "attachments": {},
   "cell_type": "markdown",
   "metadata": {},
   "source": [
    "**Running State**<br>\n",
    "\n",
    "Running -> Startup script -> **set/get metadata**<br>\n",
    "metadata server is a communication channel for transferring information from client to guest OS.<br>\n",
    "VM instances created by Google provided public images include a guest environment that's installed by default<br>\n",
    "\n",
    "custom images need to manually install the guest environment<br>\n",
    "guest environment is available for both Windows/Linux systems<br>\n",
    "\n",
    "using Compute Engine to storing/retrieving metadata in a form of metadata server<br>\n",
    "this service provides a central point to set metadata in a form of key/value pair<br>\n",
    "which is provided to VM at runtime, you can query this metadata server programmatically<br>\n",
    "from within the instance and from Compute Engine API<br>\n",
    "\n",
    "This is great for use, start up and shut down scripts or gaining more insights with instances<br>\n",
    "metadatas can be assigned to projects, as well as instances<br>\n",
    "project metadata propagates to all instances within the project, while instance metadata only impacts its own<br>\n",
    "\n",
    "you can access the metadata using following commands:<br>\n",
    "curl http://metadata.google.internal/computeMetadata/v1/project/<br>\n",
    "curl http://metadata.google.internal/computeMetadata/v1/instance/<br>\n",
    "<br>\n",
    "\n",
    "Startup script -> **SSH | RDP**<br>\n",
    "\n",
    "VM access: SSH (Linux)<br>\n",
    "You'll typically access VM instances via SSH in TCP:22<br>\n",
    "This requires firewall rules<br>\n",
    "\n",
    "Can connect to SSH via Google Cloud console, Cloud Shell using CloudSDK<br>\n",
    "OS Login (uses 2SV) - lets you use Compute Engine IAM role to manage SSH access<br>\n",
    "\n",
    "Manually creating SSH key pair<br>\n",
    "\n",
    "VM access: RDP (Windows)<br>\n",
    "This also requires firewall rules<br>\n",
    "it'll connect via TCP:3389<br>\n",
    "\n",
    "connect using RDP protocol or Powershell terminal<br>\n",
    "Requires setting Windows password<br>\n",
    "RDP chrome extension or 3rd party RDP client<br>\n",
    "<br>\n",
    "\n",
    "SSH | RDP -> **Modify/Repair <-> Live Migrate**<br>\n",
    "\n",
    "You can modify after shutting down VM instances<br>\n",
    "Live Migration is possible if there's a maintenance<br>\n",
    "\n",
    "When Live migrate happens, Compute Engine migrates your running instances to another host in the same zone<br>\n",
    "instead of requiring your VMs to be rebooted<br>\n",
    "This allows Google to perform maintenance reliably without interrupting any of VMs<br>\n",
    "\n",
    "you can also migrate manually<br>\n",
    "gcloud compute instances move INSTANCE-NAME --zone us-west1-a --destination-zone us-west1-b<br>\n"
   ]
  }
 ],
 "metadata": {
  "kernelspec": {
   "display_name": "Python 3",
   "language": "python",
   "name": "python3"
  },
  "language_info": {
   "name": "python",
   "version": "3.8.10 (tags/v3.8.10:3d8993a, May  3 2021, 11:48:03) [MSC v.1928 64 bit (AMD64)]"
  },
  "orig_nbformat": 4,
  "vscode": {
   "interpreter": {
    "hash": "9650cb4e16cdd4a8e8e2d128bf38d875813998db22a3c986335f89e0cb4d7bb2"
   }
  }
 },
 "nbformat": 4,
 "nbformat_minor": 2
}
