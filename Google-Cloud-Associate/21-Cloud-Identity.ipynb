{
 "cells": [
  {
   "attachments": {},
   "cell_type": "markdown",
   "metadata": {},
   "source": [
    "### Cloud Identity<br>\n",
    "\n",
    "***\n",
    "\n",
    "<br>"
   ]
  },
  {
   "attachments": {},
   "cell_type": "markdown",
   "metadata": {},
   "source": [
    "Identity as a Service(IDaaS)<br>\n",
    "When you adapt Cloud identity, you can manage access and compliance across all the users in the domain<br>\n",
    "When you adapt Cloud identity, you create each of users and group<br>\n",
    "\n",
    "you can configure cloud identity to federate between google and other identity providers, such as active directory<br>\n",
    "<br>\n",
    "\n",
    "**Features:**<br>\n",
    "\n",
    "- **Device management**<br>\n",
    "this lets people in any organization access their work accounts from mobile devices<br>\n",
    "while keeping the organization data more secure<br>\n",
    "Many workers nowadays want to do 'bring your own device(BYOD)'<br>\n",
    "\n",
    "\n",
    "- **Security** - 2-Step Verification<br>\n",
    "- **Single Sign-on(SSO)** - it's tied to the organization, so the worker doesn't have to sign in for every single app<br>\n",
    "- **Reporting** - audit log for logins, devices and tokens. can also export to bigquery for analysis<br>\n",
    "- **Directory Management**<br>\n",
    "profile information, email, group addresses, external contacts<br>\n",
    "GCDS can sync with Azure AD or Active Directory<br>"
   ]
  },
  {
   "attachments": {},
   "cell_type": "markdown",
   "metadata": {},
   "source": [
    "**Google Cloud Directory Sync (GCDS)**<br>\n",
    "\n",
    "Active Directory is a common directory service created by Microsoft.<br>\n",
    "It's set in stone for most big corporate On-premises environment.<br>\n",
    "It authenticates and authorizes all users and computers in Windows domain type of network.<br>\n",
    "<br>\n",
    "\n",
    "AD Forest contains:<br>\n",
    "- AD Domain - stores informations about members of the domain, including devices and users<br>\n",
    "- AD FS (Federation Services) - single sign-on service, verifies the user and authenticates it<br>\n",
    "SAML(Security Assertion Markup Language), Oauth(Open ID), Security tokens, json web token<br>\n",
    "<br>\n",
    "\n",
    "AD Domain -> GCDS -> Cloud Identity -> Cloud Organization<br>\n",
    "Other Google Services -> Cloud Identity -> AD FS<br>\n",
    "Third party (Corporate SaaS apps) -> AD FS<br>\n",
    "<br>"
   ]
  },
  {
   "attachments": {},
   "cell_type": "markdown",
   "metadata": {},
   "source": [
    "**Best Practices:**<br>\n",
    "\n",
    "Recaps of Cloud IAM lessons (18-21)<br>\n",
    "\n",
    "- **Least Privilege:**<br>\n",
    "    - Apply only the minimal access level required for what's needed<br>\n",
    "    - Predefined roles over primitive roles<br>\n",
    "    - Grant roles at the smallest scope<br>\n",
    "    - Child resources CANNOT restirct access granted on its parent<br>\n",
    "    - Restrict who can create/manage service accounts<br>\n",
    "    - Be cautious with owner roles<br>\n",
    "<br>\n",
    "\n",
    "- **Resource Hierarchy**<br>\n",
    "    - Mirror your Google Cloud resource hierarchy structure to your organization structure<br>\n",
    "    - Use projects to group resources that share the same trust boundary<br>\n",
    "    - Set policies at the organization level and at the project level rather than the resource level<br>\n",
    "    - Use the security principle of least privilege to grant IAM roles<br>\n",
    "    - Grant roles for users/groups at the folder level instead of setting it<br> \n",
    "    at the project level, if spanning across multiple projects<br>\n",
    "<br>\n",
    "\n",
    "- **Service account**<br>\n",
    "    - Treat each app as a separate trust boundary<br>\n",
    "    - Do not delete service accounts that are in use by running services<br>\n",
    "    - Rotate user managed service account keys<br>\n",
    "    - Name service account keys to reflect use and permissions<br>\n",
    "    - Restrict service account access<br>\n",
    "    - Don't check in service account keys into source code<br>\n",
    "<br>\n",
    "\n",
    "- **Auditing**<br>\n",
    "    - Check audit log regularly, and audit IAM policy changes<br>\n",
    "    - Check who can edit IAM policies<br>\n",
    "    - Export audit logs to Cloud Storage for long-term retention<br>\n",
    "    - Regularly audit service account key access<br>\n",
    "    - Restrict log access with logging roles<br>\n",
    "<br>\n",
    "\n",
    "- **Policy Management**<br>\n",
    "    - Use an organization-level policy for granting access to all projects<br>\n",
    "    - Grant roles to google group, instead of individual users<br>\n",
    "    - Create a google group for mutliple roles for a particular task<br>\n",
    "<br>"
   ]
  }
 ],
 "metadata": {
  "kernelspec": {
   "display_name": "Python 3",
   "language": "python",
   "name": "python3"
  },
  "language_info": {
   "name": "python",
   "version": "3.8.10 (tags/v3.8.10:3d8993a, May  3 2021, 11:48:03) [MSC v.1928 64 bit (AMD64)]"
  },
  "orig_nbformat": 4,
  "vscode": {
   "interpreter": {
    "hash": "9650cb4e16cdd4a8e8e2d128bf38d875813998db22a3c986335f89e0cb4d7bb2"
   }
  }
 },
 "nbformat": 4,
 "nbformat_minor": 2
}
