{
 "cells": [
  {
   "attachments": {},
   "cell_type": "markdown",
   "metadata": {},
   "source": [
    "### Cloud Service Account<br>\n",
    "\n",
    "***\n",
    "\n",
    "<br>"
   ]
  },
  {
   "attachments": {},
   "cell_type": "markdown",
   "metadata": {},
   "source": [
    "Project A (User) <-> Project B (Web App / Service account) <-> Project C<br>\n",
    "<br>\n",
    "\n",
    "Service accounts represent an application, so the users aren't directly involved.<br>\n",
    "Service accounts are special type of Google account a non-human user that needs to authenticate and be authorized to access data in Google APIs<br>\n",
    "Service accounts are the identity of the service, and can be identified by its email address.<br>\n",
    "<br>\n",
    "\n",
    "**Service Account Types:**<br>\n",
    "- **User managed** - user creates + chooses the name<br>\n",
    "    - [service-account-name]@project-id.iam.gserviceaccount.com<br>\n",
    "<br>\n",
    "\n",
    "- **Default** - automatic Editor role, using GCP services creates user-managed service accounts<br>\n",
    "    - [project-id]@appspot.gserviceaccount.com<br>\n",
    "    - [project-number]-compute@developer.gserviceaccount.com<br>\n",
    "<br>\n",
    "\n",
    "- **Google managed** - managed and used by Google services, some are visible and some hidden, name ends with service agent/account<br>\n",
    "<br>"
   ]
  },
  {
   "attachments": {},
   "cell_type": "markdown",
   "metadata": {},
   "source": [
    "**Service Account Keys:**<br>\n",
    "\n",
    "Service accounts authenticate using service account keys<br>\n",
    "Each service account is associated with 2 sets of public and private<br>\n",
    "rsa key pairs that are used to authenticate it to Google<br>\n",
    "<br>\n",
    "\n",
    "- Google managed - Key management<br>\n",
    "    - None<br>\n",
    "    - All handled by Google<br>\n",
    "\n",
    "Google stores both the public and private portion of the key and rotates them regularly.<br>\n",
    "<br>\n",
    "\n",
    "- User managed - Key management<br>\n",
    "    - Key storage<br>\n",
    "    - Key distribution<br>\n",
    "    - Key revocation<br>\n",
    "    - Key rotation<br>\n",
    "    - Protecting the keys from unauthorized users<br>\n",
    "    - Key recovery<br>\n",
    "\n",
    "You own both public and private key pairs. You can create more key pairs, also known as external keys<br>\n",
    "that can be used from outside of Google Clouds<br>\n",
    "User is responsible for security of the private key and key rotations<br>\n",
    "\n",
    "Google recommends to store these keys in Cloud KMS for better security and management<br>\n",
    "<br>\n",
    "\n"
   ]
  },
  {
   "attachments": {},
   "cell_type": "markdown",
   "metadata": {},
   "source": [
    "**Service Account Permissions:**<br>\n",
    "\n",
    "in addition to being an 'identity', service account is also a 'resource'<br>\n",
    "which has iam policies attached to it<br>\n",
    "\n",
    "These policies can determine who can use the service account<br>\n",
    "<br>\n",
    "\n",
    "Person A could have an editor role on the service account<br>\n",
    "Person B could have a viewer role on the service account<br>\n",
    "It's like granting roles just like any other resources<br>\n",
    "\n",
    "the default compute engine and app engine service accounts are granted editor roles<br>\n",
    "on the project when they're created<br>\n",
    "\n",
    "you can grant the service account user role at project level or service account level<br>\n",
    "careful with granting a service account role to a user, as they can access multiple service accounts<br>\n",
    "user could do service account impersonation, if they have full access to this role<br>\n",
    "<br>\n",
    "\n",
    "Access Scopes - legacy method<br>\n"
   ]
  },
  {
   "attachments": {},
   "cell_type": "markdown",
   "metadata": {},
   "source": [
    "**Use of Service Accounts:**<br>\n",
    "\n",
    "Service accounts are attached to a resource that'll run the job<br>\n",
    "Other way of using the service account is to directly impersonate the service account<br>\n",
    "<br>\n",
    "\n",
    "**Best Practices:**<br>\n",
    "\n",
    "1. Audit service accounts and keys using either serviceAccount.keys.list() method or the Logs Viewer page in the console.<br>\n",
    "2. Delete service account external keys if you don't need them<br>\n",
    "3. Grant the service account only the minimum set of permissions required to achieve their goal<br>\n",
    "4. Create service accounts for each service with only the permissions required for that service<br>\n",
    "5. Take advantage of the IAM service account API to implement key rotation<br>\n",
    "<br>\n",
    "\n"
   ]
  },
  {
   "attachments": {},
   "cell_type": "markdown",
   "metadata": {},
   "source": [
    "**Demo:**<br>\n",
    "\n",
    "Google Cloud -> Compute Engine<br>\n",
    "Google Cloud -> IAM -> Service Accounts<br>\n",
    "\n",
    "Compute engine default service account was automatically created<br>\n",
    "along with API service agents<br>\n",
    "\n",
    "Google Cloud -> Compute Engine -> Create a new VM instance -> e2-micro, Identity & API access -> set access for each API<br>\n",
    "and select the ones that need permissions<br>\n",
    "\n",
    "Google Cloud -> Compute Engine -> SSH<br>\n"
   ]
  },
  {
   "cell_type": "code",
   "execution_count": null,
   "metadata": {},
   "outputs": [],
   "source": [
    "gcloud config list\n",
    "gsutil ls gs://[folder-name] # this lists all the files inside of that folder (aka read permission check)\n",
    "touch file2 # to create a new test file\n",
    "gsutil cp file2 gs://[folder-name] # copying file2 to Cloud Storage (aka write permission check)"
   ]
  },
  {
   "attachments": {},
   "cell_type": "markdown",
   "metadata": {},
   "source": [
    "^- this reads the storage on Google Storage using Service Account<br>\n",
    "\n",
    "to create a custom service account<br>\n",
    "click create service account in IAM > Service accounts<br>\n",
    "Ex. storage read write access service account<br>\n",
    "role: storage object viewer, storage object creator<br>\n",
    "grant user access: blank<br>\n",
    "\n",
    "you can also create a private key in more actions<br>\n",
    "\n",
    "to change the service account to the custom one we just created<br>\n",
    "first go back to Compute Engine > VM Instance > select instance-1 > press stop<br>\n",
    "Get into instance-1 > edit > service account > select the custom service account<br>\n",
    "Test the permissions in SSH<br>\n"
   ]
  },
  {
   "cell_type": "code",
   "execution_count": null,
   "metadata": {},
   "outputs": [],
   "source": [
    "gcloud iam service-accounts list # to view the list of all service accounts\n",
    "gcloud iam service-accounts create sa-tony --display-name='sa-tony' # created a service account using cloud shell\n",
    "\n",
    "gcloud projects add-iam-policy-binding [project-name] --member 'serviceAccount:sa-tony@[project-name].iam.gserviceaccount.com' --role 'roles/storage.objectViewer' \n",
    "# to give permission to the new service account\n",
    "\n",
    "# to replicate the steps above, BUT using ONLY cloud shell\n",
    "# 1. stop the instance\n",
    "gcloud compute instances stop instance-1 --zone us-central1-a\n",
    "\n",
    "# 2. attach to the instance\n",
    "gcloud compute instances set-service-account instace-1 --zone us-central1-a --service-account sa-tony@[project-name].iam.gserivceaccount.com\n",
    "\n",
    "# 3. run the instance again\n",
    "gcloud compute instances start instance-1 --zone us-central1-a"
   ]
  }
 ],
 "metadata": {
  "kernelspec": {
   "display_name": "Python 3",
   "language": "python",
   "name": "python3"
  },
  "language_info": {
   "name": "python",
   "version": "3.8.10 (tags/v3.8.10:3d8993a, May  3 2021, 11:48:03) [MSC v.1928 64 bit (AMD64)]"
  },
  "orig_nbformat": 4,
  "vscode": {
   "interpreter": {
    "hash": "9650cb4e16cdd4a8e8e2d128bf38d875813998db22a3c986335f89e0cb4d7bb2"
   }
  }
 },
 "nbformat": 4,
 "nbformat_minor": 2
}
