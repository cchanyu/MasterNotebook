{
 "cells": [
  {
   "attachments": {},
   "cell_type": "markdown",
   "metadata": {},
   "source": [
    "### Cloud DNS<br>\n",
    "\n",
    "***\n",
    "\n",
    "<br>"
   ]
  },
  {
   "attachments": {},
   "cell_type": "markdown",
   "metadata": {},
   "source": [
    "- Cloud DNS host authoritative name servers and allow authoritative DNS lookups (DNS as a Service)<br>\n",
    "- 100% SLA - globally resilient<br>\n",
    "- host zones through managed name servers<br>\n",
    "    - public zone - visible to the internet<br>\n",
    "    - private zone - visible only within your network<br>\n",
    "<br>\n",
    "\n",
    "once zone is created, it's hosted by Google's managed name server<br>\n",
    "you'd create record and record sets, to become allocated to that zone hosting your record and record sets<br>\n",
    "<br>"
   ]
  },
  {
   "attachments": {},
   "cell_type": "markdown",
   "metadata": {},
   "source": [
    "**Demo**<br>\n",
    "\n",
    "Google Cloud -> Network Services -> Cloud DNS -> Create a Zone<br>\n",
    "Zone type: private<br>\n",
    "Zone name: zone1<br>\n",
    "DNS name: zone1.private<br>\n",
    "Options: default(private)<br>\n",
    "Networks: default<br>\n",
    "<br>\n",
    "\n",
    "SOA and NS will be created<br>\n",
    "In use by - shows which network uses this zone<br>\n"
   ]
  }
 ],
 "metadata": {
  "kernelspec": {
   "display_name": "Python 3",
   "language": "python",
   "name": "python3"
  },
  "language_info": {
   "name": "python",
   "version": "3.8.10 (tags/v3.8.10:3d8993a, May  3 2021, 11:48:03) [MSC v.1928 64 bit (AMD64)]"
  },
  "orig_nbformat": 4,
  "vscode": {
   "interpreter": {
    "hash": "9650cb4e16cdd4a8e8e2d128bf38d875813998db22a3c986335f89e0cb4d7bb2"
   }
  }
 },
 "nbformat": 4,
 "nbformat_minor": 2
}
