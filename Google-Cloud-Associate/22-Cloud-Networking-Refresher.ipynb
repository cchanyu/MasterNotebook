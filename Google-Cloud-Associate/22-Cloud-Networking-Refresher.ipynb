{
 "cells": [
  {
   "attachments": {},
   "cell_type": "markdown",
   "metadata": {},
   "source": [
    "### Cloud Networking Refresher<br>\n",
    "\n",
    "***\n",
    "\n",
    "Refreshing on the fundamentals of Networking before diving deep into Cloud VPCs<br>"
   ]
  },
  {
   "attachments": {},
   "cell_type": "markdown",
   "metadata": {},
   "source": [
    "Internet Protocol (IP)<br>\n",
    "\n",
    "**Open Systems Interconnection Model (7 layer OSI model):**<br>\n",
    "( Physical -> Data Link -> Network -> Transport -> Session -> Presentation -> Application )<br>\n",
    "Communications between a computing system<br>\n",
    "<br>\n",
    "\n",
    "OSI Model<br>\n",
    "- (layer 7) Application - HTTP, HTTPS, DHCP, DNS, SSH, Telnet<br>\n",
    "- (layer 4) Transport - TCP - UDP (IP Packets)<br>\n",
    "- (layer 3) Network - IPv4, IPv6 (IP address subnets)<br>\n",
    "<br>\n",
    "\n",
    "**Network:**<br>\n",
    "IPv4 - original version, made in 1981. ran out IP address now.<br>\n",
    "IPv6 - designed in 2017, to avoid IPv4 address exhaustion<br>\n",
    "\n",
    "**IP Version 4:**<br>\n",
    "IPv4 - dotted decimal representation (Ex. 192.168.255.255)<br>\n",
    "192 <- is called an octet<br>\n",
    "4.2 billion IP address<br>\n",
    "\n",
    "**IPv4 Classful Addressing:**<br>\n",
    "With in that 4.2 billion IP Address<br>\n",
    "- **Class A** - 0.0.0.0 - 127.255.255.255<br>\n",
    "2.1 billion addresses, 128 network<br>\n",
    "This one support a lot, so it's used by ISP.<br>\n",
    "\n",
    "- **Class B** - 128.0.0.0 - 191.255.255.255<br>\n",
    "1 billion addresses, 16k network<br>\n",
    "fixed value in this class is first, second octet. third and fourth can be used as you like<br>\n",
    "\n",
    "- **Class C** - 192.0.0.0 - 223.255.255.255<br>\n",
    "536 million addresses, 2mil network<br>\n",
    "fixed value: first, second, third octet<br>\n",
    "most common class, as it meant to be used in homes and small businesses<br>\n",
    "\n",
    "- **Class D**, **Class E**<br>\n",
    "skipping these classes due to it being the beyond the class scope<br>\n",
    "\n",
    "issues are that a lot of wasted IP address were made when businesses needed more IP<br>\n",
    "they were assigned to Class B, which holds a lot more networks<br>\n",
    "<br>"
   ]
  },
  {
   "attachments": {},
   "cell_type": "markdown",
   "metadata": {},
   "source": [
    "**Private IP addresses**<br>\n",
    "Defined by standard RFC1918<br>\n",
    "\n",
    "**Single Class A**<br>\n",
    "10.0.0.0 - 10.255.255.255<br>\n",
    "16 mil addresses<br>\n",
    "\n",
    "**16 Class B**<br>\n",
    "172.16.0.0 - 172.31.255.255<br>\n",
    "1 mil addresses<br>\n",
    "\n",
    "**256 Class C**<br>\n",
    "192.168.0.9 - 192.168.255.255<br>\n",
    "65k addresses<br>\n",
    "\n",
    "For those networks that use these IP over the public network<br>\n",
    "The process they'd use is 'Network Address Translation (NAT)'<br>\n",
    "\n",
    "**Classless inter-domain routing (CIDF)**<br>\n",
    "Ex. 192.168.0.0/16 <- network address / prefix<br>\n",
    "bigger prefix number, smaller the network<br>\n",
    "smaller prefix number, bigger the network<br>\n",
    "\n",
    "Using Example, the size of 192.168.0.0/16 -> 192.168.0.0 - 192.168.255.255<br>\n",
    "65k addresses<br>\n",
    "\n",
    "if you want to split in half, just need to do: 192.168.0.0/17, 192.168.128.0/17<br>\n",
    "32k addresses each<br>\n",
    "\n",
    "breaking down even further<br>\n",
    "192.168.0.0/18, 192.168.64.0/18, 192.168.128.0/18, 192.168.192.0/18<br>\n",
    "16k addresses each<br>\n",
    "\n",
    "The process of dividing each network is called **subnetting**.<br>\n",
    "<br>\n",
    "\n",
    "Helpful references<br>\n",
    "192.168.0.0/8 16+ mil IP address, 192 fixed<br>\n",
    "192.168.0.0/16 65k IP address, 192.168 fixed<br>\n",
    "192.168.0.0/24 256 IP address, 192.168.0 fixed<br>\n",
    "192.168.1.2/32 1 IP address<br>\n",
    "0.0.0.0/0 all IP addresses<br>"
   ]
  },
  {
   "attachments": {},
   "cell_type": "markdown",
   "metadata": {},
   "source": [
    "**IP Version 6:**<br>\n",
    "Ex. 1452:0db8:0000:0000:0000:fe02:0042:8452 <- much longer and represented in hexa-decimal<br>\n",
    "each field is called hextet instead of octet.<br>\n",
    "\n",
    "you can abbrebiate redundant zeros:<br>\n",
    "1452:0db8:0:0:0:fe02:0042:8452 (shortened)<br>\n",
    "1452:0db8::fe02:0042:8452 (shortened)<br>\n",
    "\n",
    "2001:de3::/64 <- network address / prefix<br>\n",
    "since hextet is larger, 64 is 4 groups of 16 IP addresses<br>\n",
    "\n",
    "2001:de3:0000:0000:0000:0000:0000:0000 start address<br>\n",
    "2001:de3:0000:0000:ffff:ffff:ffff:ffff end address<br>\n",
    "\n",
    "0.0.0.0/0 (IPv4), ::/0 (IPv6) <- all addresses<br>\n",
    "<br>"
   ]
  },
  {
   "attachments": {},
   "cell_type": "markdown",
   "metadata": {},
   "source": [
    "**Transport**<br>\n",
    "\n",
    "IP Packet - packet is a basic unit of information in network transmission<br>\n",
    "( Source IP Address, Destination IP Address, Protocol Port Number, Data )<br>\n",
    "\n",
    "TCP - Transmission Control Protocol<br>\n",
    "UDP - User Datagram Protocol<br>\n",
    "\n",
    "**Application Layer**<br>\n",
    "\n",
    "Network applications or applications that use the internet<br>\n",
    "Provide services of network applications to help perform user activities.<br>\n",
    "\n",
    "Load-Balancing HTTP(S), DNS (UDP-Port 53), SSH (Port 22)<br>\n",
    "<br>"
   ]
  }
 ],
 "metadata": {
  "kernelspec": {
   "display_name": "Python 3",
   "language": "python",
   "name": "python3"
  },
  "language_info": {
   "name": "python",
   "version": "3.8.10 (tags/v3.8.10:3d8993a, May  3 2021, 11:48:03) [MSC v.1928 64 bit (AMD64)]"
  },
  "orig_nbformat": 4,
  "vscode": {
   "interpreter": {
    "hash": "9650cb4e16cdd4a8e8e2d128bf38d875813998db22a3c986335f89e0cb4d7bb2"
   }
  }
 },
 "nbformat": 4,
 "nbformat_minor": 2
}
