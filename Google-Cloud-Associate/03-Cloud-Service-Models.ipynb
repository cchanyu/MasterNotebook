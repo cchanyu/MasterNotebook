{
 "cells": [
  {
   "attachments": {},
   "cell_type": "markdown",
   "metadata": {},
   "source": [
    "### Cloud Service Models<br>\n",
    "\n",
    "***\n",
    "\n",
    "Cloud Service Models is commonly referred to as XaaS.<br>\n",
    "X stands for anything as Service, including all the services in Cloud that customer can consume.<br>\n",
    "X can be changed to associate with a specific service.<br>\n"
   ]
  },
  {
   "attachments": {},
   "cell_type": "markdown",
   "metadata": {},
   "source": [
    "**Traditional On-premises** - runs on a stack.<br>\n",
    "\n",
    "Blue - You Manage<br>\n",
    "<font color=\"lightblue\">Data Center > Network & Storage > Physical Servers > Virtualization > Operating System > Container > Run Time > Data > Application</font><br>\n",
    "\n",
    "Each layer builds on top of the one previous to it.<br>\n",
    "In this traditional model, all the components were managed by the customer.<br>\n",
    "\n",
    "An organization putting this together by themselves, they were looking at huge cost.<br>\n",
    "One of the major pro is the flexibility. Organization can tune their system whenever they needed.<br>\n",
    "<br>"
   ]
  },
  {
   "attachments": {},
   "cell_type": "markdown",
   "metadata": {},
   "source": [
    "**DC Hosted** - Data Center hosted<br>\n",
    "\n",
    "Red - Vendor Manage<br>\n",
    "Blue - You Manage<br>\n",
    "<font color=\"pink\">Data Center</font> > <font color=\"lightblue\">Network & Storage > Physical Servers > Virtualization > Operating System > Container > Run Time > Data > Application</font><br>\n",
    "\n",
    "You're renting a data center space and the management from the vendor.<br>\n",
    "This is less flexible, but abstracted for you.<br>\n",
    "<br>"
   ]
  },
  {
   "attachments": {},
   "cell_type": "markdown",
   "metadata": {},
   "source": [
    "**IaaS** - Infrastructure as a Service<br>\n",
    "\n",
    "Red - Vendor Manage<br>\n",
    "Blue - You Manage<br>\n",
    "Orange - Unit of Consumption<br>\n",
    "<font color=\"pink\">Data Center > Network & Storage > Physical Servers > Virtualization </font> > <font color=\"Orange\">Operating System</font> > <font color=\"lightblue\">Container > Run Time > Data > Application</font><br>\n",
    "\n",
    "Basic model of cloud, a virtual machine in the Cloud Data Center.<br>\n",
    "You set up, configure and manage the instances that run data center infrastructure.<br>\n",
    "\n",
    "You're still responsible for building the container, run time in an VM instances.<br>\n",
    "<br>"
   ]
  },
  {
   "attachments": {},
   "cell_type": "markdown",
   "metadata": {},
   "source": [
    "**PaaS** - Platform as a Service<br>\n",
    "\n",
    "Red - Vendor Manage<br>\n",
    "Blue - You Manage<br>\n",
    "Orange - Unit of Consumption<br>\n",
    "<font color=\"pink\">Data Center > Network & Storage > Physical Servers > Virtualization > Operating System > Container</font> > <font color=\"Orange\">Run Time</font> > <font color=\"lightblue\">Data > Application</font><br>\n",
    "\n",
    "A Model that's geared towards the developers.<br>\n",
    "Vendor provides the OS, and programming language execution environment, the database and the web server.<br>\n",
    "With PaaS, you don't need to worry about OS updates, managing the runtime and the middleware.<br>\n",
    "\n",
    "Provider provides hardware and software infrastructure and you just use the service.<br>\n",
    "An Example for Google Cloud for PaaS is Google App Engine.<br>\n",
    "<br>"
   ]
  },
  {
   "attachments": {},
   "cell_type": "markdown",
   "metadata": {},
   "source": [
    "**SaaS** - Software as a Service<br>\n",
    "\n",
    "Red - Vendor Manage<br>\n",
    "<font color=\"pink\">Data Center > Network & Storage > Physical Servers > Virtualization > Operating System > Container > Run Time > Data > Application</font><br>\n",
    "\n",
    "Users have access to the application software.<br>\n",
    "Cloud providers manage the infrastructure in platform that runs the applications.<Br>\n",
    "SaaS doesn't have much flexibility, however the trade off is that vendor takes care of everything for you.<br>\n",
    "\n",
    "An Example would be: gsuite and microsoft office 365<br>\n",
    "<br>"
   ]
  },
  {
   "attachments": {},
   "cell_type": "markdown",
   "metadata": {},
   "source": [
    "Pizza Analogy on everything covered so far:<br>\n",
    "\n",
    "**Traditional On-premises** - You buy everything and make pizza at home.<br>\n",
    "**DC Hosted** - N/A<br>\n",
    "**IaaS** - You pick up the pizza and cook it at home.<br>\n",
    "**PaaS** - Pizza is delivered.<br>\n",
    "**SaaS** - You dine pizza at the restaurant.<br>"
   ]
  }
 ],
 "metadata": {
  "kernelspec": {
   "display_name": "Python 3",
   "language": "python",
   "name": "python3"
  },
  "language_info": {
   "name": "python",
   "version": "3.8.10 (tags/v3.8.10:3d8993a, May  3 2021, 11:48:03) [MSC v.1928 64 bit (AMD64)]"
  },
  "orig_nbformat": 4,
  "vscode": {
   "interpreter": {
    "hash": "9650cb4e16cdd4a8e8e2d128bf38d875813998db22a3c986335f89e0cb4d7bb2"
   }
  }
 },
 "nbformat": 4,
 "nbformat_minor": 2
}
