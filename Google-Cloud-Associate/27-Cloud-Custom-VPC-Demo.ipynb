{
 "cells": [
  {
   "attachments": {},
   "cell_type": "markdown",
   "metadata": {},
   "source": [
    "### Cloud Custom VPC with Private Google Access Demo<br>\n",
    "\n",
    "***\n",
    "\n",
    "<br>"
   ]
  },
  {
   "attachments": {},
   "cell_type": "markdown",
   "metadata": {},
   "source": [
    "<img src=\"../IMG/Screenshot 2023-01-07 222920.png\" alt=\"img\" /><br>"
   ]
  },
  {
   "attachments": {},
   "cell_type": "markdown",
   "metadata": {},
   "source": [
    "**Demo**<br>\n",
    "\n",
    "Diagram of architecture that we'll be building for this demo<br>\n",
    "Start by creating a custom VPC<br>\n",
    "Then going to create 2 subnets: 1 public, 1 private<br>\n",
    "Cloud Storage buckets with some objects in it<br>\n",
    "Create some instances to demonstrate the access to the Cloud<br>\n",
    "As well as the communication between the instances<br>\n",
    "Finally, will be adding some firewall rules for routing traffics to right places<br>\n",
    "Also will implement private Google Access, to demonstrate accessibility to files in Cloud<br>\n",
    "<br>\n",
    "\n",
    "**How to create a new VPC network:**<br>\n",
    "\n",
    "Create a new project to have a fresh start<br>\n",
    "Google Cloud -> VPC Network -> Enable Compute Engine API -> Create VPC network<br>\n",
    "VPC subnet: custom -> name: public, region: us-east1, IP: 10.0.0.0/24<br>\n",
    "Add 2nd subnet -> name: private, region: us-east4, IP: 10.0.5.0/24<br>\n",
    "Enable DNS API and create the VPC<br>\n",
    "\n",
    "Reminder this can be also done in Cloud shell<br>\n",
    "You can click the 'gcloud command line' to see how to do it in command line.<br>\n",
    "<br>"
   ]
  },
  {
   "attachments": {},
   "cell_type": "markdown",
   "metadata": {},
   "source": [
    "**How to create a new storage bucket:**<br>\n",
    "\n",
    "Google Cloud -> Storage -> Create bucket<br>\n",
    "bucket name has to be globally unique<br>\n",
    "location: region, us-east1<br>\n",
    "\n",
    "upload some files to the newly created bucket<br>\n",
    "<br>\n",
    "\n",
    "**How to create new instances:**<br>\n",
    "\n",
    "Google Cloud -> VM instances -> create<br>\n",
    "- public instance:<br>\n",
    "    - manage label: key: env, value: public<br>\n",
    "    - region: us-east1, us-east1-b<br>\n",
    "    - machine type: e2 micro<br>\n",
    "    - Identity and API access: Access scope: Set access for each API<br>\n",
    "    Compute Engine: Read/Write, Storage: Read/Write<br>\n",
    "    - Networking: network tag: public, network interface: custom>subnet /24<br>\n",
    "<br>\n",
    "\n",
    "- private instance:<br>\n",
    "    - manage label: key: env, value: private<br>\n",
    "    - region: us-east4, us-east4-c<br>\n",
    "    - machine type: e2 micro<br>\n",
    "    - Identity and API access: Access scope: Set access for each API<br>\n",
    "    Storage: Read/Write<br>\n",
    "    - Networking: network tag: private, network interface: custom>subnet /24<br>\n",
    "    External IP: None<br>\n",
    "<br>\n",
    "\n"
   ]
  },
  {
   "attachments": {},
   "cell_type": "markdown",
   "metadata": {},
   "source": [
    "**How to create Firewall rules:**<br>\n",
    "\n",
    "Google Cloud -> VPC Network -> Firewall -> create firewall<br>\n",
    "- public access/public firewall rule<br>\n",
    "    - network: custom<br>\n",
    "    - priority: 1000<br>\n",
    "    - direction of traffic: ingress<br>\n",
    "    - action on match: allow<br>\n",
    "    - target tags: public<br>\n",
    "    - source IP: 0.0.0.0/0<br>\n",
    "    - protocols and ports: tcp 22, other protocol: icmp<br>\n",
    "    - enforcement: enabled<br>\n",
    "<br>\n",
    "\n",
    "- private access/private firewall rule<br>\n",
    "    - network: custom<br>\n",
    "    - priority: 1000<br>\n",
    "    - direction of traffic: ingress<br>\n",
    "    - action on match: allow<br>\n",
    "    - target tags: private<br>\n",
    "    - source IP: 10.0.0.0/24, so public instance can access<br>\n",
    "    - protocols and ports: tcp 22, other protocol: icmp<br>\n",
    "    - enforcement: enabled<br>\n",
    "<br>\n",
    "\n",
    "Can check the new firewall rules in VPC network<br>\n",
    "\n",
    "Google Cloud -> Compute Engine -> SSH public instance<br>\n",
    "> gsutil ls gs://FOLDER_NAME<br>\n",
    "\n",
    "to check whether you can access or not<br>\n",
    "\n",
    "copy the internal IP of private instance<br>\n",
    "> ping Internal IP<br>\n",
    "\n",
    "SSH into the private instance through public instance<br>\n",
    "> gcloud compute ssh --project PROJECT_NAME --zone us-east4-c private-instance(<- INSTANCE NAME) --internal-ip<br>\n",
    "\n",
    "prompted with passphrase: (blank)<br>\n",
    "RSA key is generated<br>\n",
    "\n",
    "copy the internal IP of public instance<br>\n",
    "> ping Internal IP<br>\n",
    "> Ctrl+C to stop<br>\n",
    "> gsutil ls gs://BUCKET-NAME<br>\n",
    "\n",
    "You get no response, because external access is needed for cloud storage<br>\n",
    "but if you want to use this, you can enable Google Private Access<br>\n",
    "Google Cloud -> VPC network -> Edit private -> turn on Google Access<br>\n",
    "<br>"
   ]
  }
 ],
 "metadata": {
  "kernelspec": {
   "display_name": "Python 3",
   "language": "python",
   "name": "python3"
  },
  "language_info": {
   "name": "python",
   "version": "3.8.10 (tags/v3.8.10:3d8993a, May  3 2021, 11:48:03) [MSC v.1928 64 bit (AMD64)]"
  },
  "orig_nbformat": 4,
  "vscode": {
   "interpreter": {
    "hash": "9650cb4e16cdd4a8e8e2d128bf38d875813998db22a3c986335f89e0cb4d7bb2"
   }
  }
 },
 "nbformat": 4,
 "nbformat_minor": 2
}
