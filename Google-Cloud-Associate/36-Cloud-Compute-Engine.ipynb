{
 "cells": [
  {
   "attachments": {},
   "cell_type": "markdown",
   "metadata": {},
   "source": [
    "### Cloud Compute Engine Overview<br>\n",
    "\n",
    "***\n",
    "\n",
    "<br>"
   ]
  },
  {
   "attachments": {},
   "cell_type": "markdown",
   "metadata": {},
   "source": [
    "**Compute Engine**<br>\n",
    "\n",
    "Compute engine lets user run virtual machine, also known as **instances (IaaS)**<br>\n",
    "IaaS, so it manages upto OS<br>\n",
    "\n",
    "the billing is based on per second<br>\n",
    "these services are launched in a VPC network<br>\n",
    "\n",
    "Host is available in a Zone<br>\n",
    "multi-tenant host or sole-tenant node(steep cost)<br>\n",
    "<br>\n",
    "\n",
    "**Machine Configuration**<br>\n",
    "\n",
    "- **Cores(vCPU) Memory:**<br>\n",
    "    - Predefined or Custom<br>\n",
    "    Many machine types - general, compute, memory<br>\n",
    "    intel or AMD<br>\n",
    "    vCPU = single hardware hyper-thread on CPU<br>\n",
    "    Network throughput = 2Gbps per vCPU<br>\n",
    "<br>\n",
    "\n",
    "- **Operating System:**<br>\n",
    "    - Public image, custom image, marketplace<br>\n",
    "    public image - Linux or Windows<br>\n",
    "    custom image - private images(snapshots/existing disk)<br>\n",
    "    marketplace - OS + software<br>\n",
    "<br>\n",
    "\n",
    "- **Storage:**<br>\n",
    "    - Standard (HDD), Balanced (SSD), SSD<br>\n",
    "    Performance vs Cost<br>\n",
    "    Standard - Spinning hard drive<br>\n",
    "    Balanced - Solid State Drive (alt to SSD)<br>\n",
    "    SSD - Solid State Drive<br>\n",
    "    Local SSD - Physically attached(swap disk)<br>\n",
    "<br>\n",
    "\n",
    "- **Networking:**<br>\n",
    "    - default, custom<br>\n",
    "    auto, default, custom network<br>\n",
    "    many available regions and zones<br>\n",
    "    ingress/egress firewall rules(IP ranges, tags, instances)<br>\n",
    "    Network load balancing<br>\n",
    "    Regional/global load balancing<br>\n",
    "<br>"
   ]
  },
  {
   "attachments": {},
   "cell_type": "markdown",
   "metadata": {},
   "source": [
    "**Demo**<br>\n",
    "\n",
    "**Creating a VM instance**<br>\n",
    "\n",
    "Google Cloud -> Compute Engine -> Create instance<br>\n",
    "left-hand side, you can see options: scratch, instance templates, new VM from machine image, marketplace<br>\n",
    "\n",
    "label: key: env, value: testing<br>\n",
    "region: us-east1, us-east1-b<br>\n",
    "you can't move the instance to another region, you'd have to create a snapshot to move to another region<br>\n",
    "\n",
    "machine family: general, compute-optimized, memory-optimized<br>\n",
    "E2 Series, you can do custom to select vCPU and memory<br>\n",
    "You can also add GPU, but requires N1 machine type<br>\n",
    "\n",
    "Display device - that allows you to add virtual display to a VM for system management tools,<br> \n",
    "remote desktop software and any app that requires a display device<br>\n",
    "\n",
    "Confidential VM service - a security feature to encode any sensitive data in memory<br>\n",
    "Container - great way to test container, instead of deploying a whole kubernetes clusters<br>\n",
    "\n",
    "Boot Disk - you can select OS and version and the disk type<br>\n",
    "you can be charged extra for premium OS and boot disk size<br>\n",
    "<br>\n",
    "\n",
    "If i want to change the machine type, i need to stop the instance in order to change it<br>\n",
    "same thing goes for my display device<br>\n",
    "<br>"
   ]
  }
 ],
 "metadata": {
  "kernelspec": {
   "display_name": "Python 3",
   "language": "python",
   "name": "python3"
  },
  "language_info": {
   "name": "python",
   "version": "3.8.10 (tags/v3.8.10:3d8993a, May  3 2021, 11:48:03) [MSC v.1928 64 bit (AMD64)]"
  },
  "orig_nbformat": 4,
  "vscode": {
   "interpreter": {
    "hash": "9650cb4e16cdd4a8e8e2d128bf38d875813998db22a3c986335f89e0cb4d7bb2"
   }
  }
 },
 "nbformat": 4,
 "nbformat_minor": 2
}
