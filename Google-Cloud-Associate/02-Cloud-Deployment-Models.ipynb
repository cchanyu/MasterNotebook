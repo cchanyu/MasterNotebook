{
 "cells": [
  {
   "attachments": {},
   "cell_type": "markdown",
   "metadata": {},
   "source": [
    "### Cloud Deployment Models\n",
    "\n",
    "***\n",
    "\n",
    "Learn to distinguish between public cloud, multi cloud, private cloud, and hybrid cloud deployment models.<br>\n",
    "This is a common theme and knowing the difference of it is essential as it differs in architecture forms.<br>\n"
   ]
  },
  {
   "attachments": {},
   "cell_type": "markdown",
   "metadata": {},
   "source": [
    "**public cloud** - vendors such as AWS, Google Cloud, Microsoft Azure. The cloud that is publicly available over the internet.<br>\n",
    "<br>\n",
    "\n",
    "**multi-cloud** - public clouds can be connected and used together in a single environment for various use cases<br>\n",
    "multi-cloud architecture can be effective, if it's architected in a right way.<br>\n",
    "the best usage case is when a disaster happens, if one server were to go down, replicated server can kick in and hold it.<br>\n",
    "<br>\n",
    "what drives the many case is, prevent vendor lock in. where you're locked into a single cloud infrastructure and unable move<br>\n",
    "due to vendors specific feature set. The downfall of this type of architecture is, it can't be fully utilized.<br>\n",
    "as each cloud vendor has own properity resources that'll only work within their specific infrastructure.<br>\n",
    "<br>\n",
    "so in order to replicate the environment, it needs to be the same within each environment.<br>\n",
    "this removes each clouds unique features, which makes them so special and recourses compelled.<br>\n",
    "\n",
    "\n",
    "\n"
   ]
  },
  {
   "attachments": {},
   "cell_type": "markdown",
   "metadata": {},
   "source": [
    "**private cloud** - refers to your architecture that exists on premise, in restricted to the business itself, with no public access.<br>\n",
    "yet it still carries the same 5 characterstics of cloud.<br>\n",
    "<br>\n",
    "each of public cloud providers also have private cloud systems<br>\n",
    "Google Cloud - Anthos<br>\n",
    "AWS - AWS Outposts<br>\n",
    "Azure - Azure Stack<br>\n",
    "<br>\n",
    "They show same characteristics and leverage similar technology that can be found in the public cloud.<br>\n",
    "but it's tied to one organization and no accessibility to the public.<br>\n",
    "VMWare implementation IS NOT cloud, even though it has cloud-like features.<br>\n",
    "<br>\n",
    "\n",
    "**hybrid cloud** - when you're using private cloud with public cloud.<br>\n",
    "This is used to help organization that needs governces, risk management<br>\n",
    "and meet some compliance regulations while the other cloud takes over the rest.<br>\n",
    "<br>\n",
    "\n",
    "**hybrid environment** - on-premise architecture connected to the public cloud.<br>\n",
    "<br>\n",
    "If your on-premise infrastructure is connected to the public cloud,<br>\n",
    "then it's not considered a hybrid cloud, but it's considered as hybrid environment or hybrid network.<br>\n",
    "as on-premise infrastructure holds no private cloud characterstics<br>\n",
    "\n",
    "true hybrid cloud allows you to use the exact same interface and tooling, as what's available on public cloud.<br>\n",
    "\n",
    "\n"
   ]
  },
  {
   "attachments": {},
   "cell_type": "markdown",
   "metadata": {},
   "source": [
    "**To Summarize**<br>\n",
    "\n",
    "public cloud - 1 public cloud<br>\n",
    "\n",
    "multi cloud - 2 or more public clouds<br>\n",
    "\n",
    "private cloud - on-premise cloud<br>\n",
    "\n",
    "hybrid cloud - private cloud + public cloud<br>\n",
    "\n",
    "hybrid environment - on-premise data center + public cloud<br>"
   ]
  }
 ],
 "metadata": {
  "kernelspec": {
   "display_name": "Python 3",
   "language": "python",
   "name": "python3"
  },
  "language_info": {
   "name": "python",
   "version": "3.8.10 (tags/v3.8.10:3d8993a, May  3 2021, 11:48:03) [MSC v.1928 64 bit (AMD64)]"
  },
  "orig_nbformat": 4,
  "vscode": {
   "interpreter": {
    "hash": "9650cb4e16cdd4a8e8e2d128bf38d875813998db22a3c986335f89e0cb4d7bb2"
   }
  }
 },
 "nbformat": 4,
 "nbformat_minor": 2
}
