{
 "cells": [
  {
   "attachments": {},
   "cell_type": "markdown",
   "metadata": {},
   "source": [
    "### Cloud Network Address Translation(NAT)<br>\n",
    "\n",
    "***\n",
    "\n",
    "<br>"
   ]
  },
  {
   "attachments": {},
   "cell_type": "markdown",
   "metadata": {},
   "source": [
    "Common process that's used in any cloud network<br>\n",
    "\n",
    "**High level concept of NAT:**<br>\n",
    "\n",
    "NAT is a way to map multiple local private IP address to public IP address before transferring the information<br>\n",
    "This happens by altering the data in the data header of the packet, while traveling through the network<br>\n",
    "\n",
    "while traveling, either the source/destination IP changes<br>\n",
    "then packets returning in the other direction, translate it back to the original address<br>\n",
    "\n",
    "This is a typical process that happens in home routers that's provided by your ISP<br>\n",
    "<br>\n",
    "\n",
    "originally NAT was designed for IPv4 addresses<br>\n",
    "192.168.0.0 cannot traverse through the internet<br>\n",
    "NAT is needed for those devices to communicate with public internet<br>\n",
    "IPv6 network do not require NAT, as there's no shortages of addresses<br>\n",
    "\n",
    "NAT provides security and privacy<br>\n",
    "by hiding your IP from outside of world and only allow packets from being sent/receive from originating device<br>\n",
    "<br>\n",
    "\n",
    "NAT translate private IP to public IP, yet different types of NAT handles the process differently<br>\n",
    "\n",
    "**Types of NAT:**<br>\n",
    "\n",
    "- **Static NAT** - 1 private IP to 1 public IP<br>\n",
    "- **Dynamic NAT** - 1 private IP to 1 public IP in pool of public address<br>\n",
    "randomly allocated, when IP is no longer used, it goes back to pool for another device to use that IP<br>\n",
    "- **Port Address Translation(PAT)** - multiple private IPs to 1 public IP<br>\n",
    "this is what your home router is using and covers all the devices in your home network<br>\n",
    "<br>"
   ]
  },
  {
   "attachments": {},
   "cell_type": "markdown",
   "metadata": {},
   "source": [
    "**Static NAT:**<br>\n",
    "\n",
    "private (192.168.0.15) <- private IP in router, can't travel in public IP<br>\n",
    "public (54.5.4.9)<br>\n",
    "both can't communicate to each other, so need NAT<br>\n",
    "<br>\n",
    "\n",
    "NAT Translation: 192.168.0.15 <-> 73.6.2.23<br>\n",
    "1. Packets are generated with private source IP and public destination IP in the header<br>\n",
    "SRC IP: 192.168.0.15<br>\n",
    "DEST IP: 54.5.4.9<br>\n",
    "<br>\n",
    "\n",
    "2. source address in the packet translated from private IP to a public IP, source packets delivered as public IP<br>\n",
    "SRC IP: 73.6.2.23<br>\n",
    "DEST IP: 54.5.4.9<br>\n",
    "<br>\n",
    "\n",
    "3. destination responds back with given public IP<br>\n",
    "SRC IP: 54.5.4.9<br>\n",
    "DEST IP: 73.6.2.23<br>\n",
    "<br>\n",
    "\n",
    "4. destination responds back to source by using its given public IP<br>\n",
    "SRC IP: 54.5.4.9<br>\n",
    "DEST IP: 192.168.0.15<br>\n",
    "<br>"
   ]
  },
  {
   "attachments": {},
   "cell_type": "markdown",
   "metadata": {},
   "source": [
    "**Dynamic NAT:**<br>\n",
    "\n",
    "private: 192.168.0.13(PC1), 192.168.0.37(PC2)<br>\n",
    "public: 54.5.4.9(Ecommerce), 52.7.7.19(Youtube)<br>\n",
    "\n",
    "NAT Translation:<br>\n",
    "private IPs | public IP pool<br>\n",
    "192.168.0.37 | 73.6.2.33<br>\n",
    "192.168.0.13 | 73.6.2.34<br>\n",
    "\n",
    "public IPs are allocated dynamically from a pool and assigned<br>\n",
    "to a private IP that is communicating over the public internet<br>\n",
    "\n",
    "After finishing communication, the public IP is returned back to the pool<br>\n",
    "and ready to be used by another device<br>\n",
    "\n",
    "if there's no public IP available, router will reject until you clear the mapping<br>\n",
    "<br>"
   ]
  },
  {
   "attachments": {},
   "cell_type": "markdown",
   "metadata": {},
   "source": [
    "**Port Address Translation (PAT):**<br>\n",
    "\n",
    "This is the most familiar type of NAT. NAT overload<br>\n",
    "Used in many home network: using many-to-one architecture<br>\n",
    "\n",
    "private: 192.168.0.13, 192.168.0.14, 192.168.0.15<br>\n",
    "public: 62.88.44.88 TCP/443(Youtube)<br>\n",
    "\n",
    "NAT Translation:<br>\n",
    "Private IP | Private Port | Public IP | Public Port<br>\n",
    "192.168.0.13 | 35535 | 73.6.2.33 | 8844<br>\n",
    "192.168.0.14 | 35536 | 73.6.2.33 | 8845<br>\n",
    "192.168.0.15 | 35537 | 73.6.2.33 | 8846<br>\n",
    "\n",
    "Public IP(Youtube) returns traffic use port 443 and 62.88.44.88 as<br>\n",
    "the source on port 443 along with the public IP of the NAT device<br>\n",
    "and the destination port<br>"
   ]
  }
 ],
 "metadata": {
  "kernelspec": {
   "display_name": "Python 3",
   "language": "python",
   "name": "python3"
  },
  "language_info": {
   "name": "python",
   "version": "3.8.10 (tags/v3.8.10:3d8993a, May  3 2021, 11:48:03) [MSC v.1928 64 bit (AMD64)]"
  },
  "orig_nbformat": 4,
  "vscode": {
   "interpreter": {
    "hash": "9650cb4e16cdd4a8e8e2d128bf38d875813998db22a3c986335f89e0cb4d7bb2"
   }
  }
 },
 "nbformat": 4,
 "nbformat_minor": 2
}
