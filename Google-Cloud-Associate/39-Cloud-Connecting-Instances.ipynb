{
 "cells": [
  {
   "attachments": {},
   "cell_type": "markdown",
   "metadata": {},
   "source": [
    "### Cloud Connecting to the Instances<br>\n",
    "\n",
    "***\n",
    "\n",
    "<br>"
   ]
  },
  {
   "attachments": {},
   "cell_type": "markdown",
   "metadata": {},
   "source": [
    "**Demo**<br>\n",
    "\n",
    "Have a default VPC created, before creating the instance<br>\n",
    "Google Cloud -> Compute Engine -> create instance<br>\n",
    "name: windows-instance<br>\n",
    "region: us-east1, us-east1-b<br>\n",
    "machine type: e2-medium<br>\n",
    "boot disk: Windows Server, Windows Server 2019 Datacenter<br>\n",
    "<br>\n",
    "\n",
    "click on dropdown and set Windows PW<br>\n",
    "make sure firewall rule is set<br>\n",
    "Google Cloud -> VPC Network -> Firewall<br>\n",
    "RDP firewall rule is already created for me<br>\n",
    "\n",
    "Back to the Compute Engine and copy the external IP<br>\n",
    "<br>\n",
    "\n",
    "**Connecting from Windows**<br>\n",
    "\n",
    "the simple, direct way:<br>\n",
    "Windows Remote Desktop Connection -> paste Public-IP(EXTERNAL-IP)<br>\n",
    "type in the credentials user and pw<br>\n",
    "connected to windows server<br>\n",
    "\n",
    "**alternate way: logging in through powershell**<br>\n",
    "\n",
    "Google Cloud -> VPC Network -> Firewall -> Create new firewall rule<br>\n",
    "name: allow-powershell<br>\n",
    "target: all instances in the network<br>\n",
    "source filter: IP ranges: 0.0.0.0/0<br>\n",
    "protocols and ports: TCP 5986<br>\n",
    "<br>\n",
    "\n",
    "in the powershell:<br>\n",
    "> \\$credentials = Get-Credential<br>\n",
    "\n",
    "enter the credential, if no error = successful<br>\n",
    "> Enter-PSSession -ComputerName EXTERNAL-IP -UseSSL -SessionOption (New-PSSessionOption -SkipCACheck -SkipCNCheck) -Credential \\$credentials<br>\n",
    "\n",
    "<br>\n",
    "\n",
    "**Connecting from Mac**<br>\n",
    "\n",
    "open safari -> download Microsoft Remote Desktop<br>\n",
    "open the RD, add new PC, paste in the public-IP, add a user account<br>\n",
    "double click and allow certificate<br>\n",
    "<br>"
   ]
  },
  {
   "attachments": {},
   "cell_type": "markdown",
   "metadata": {},
   "source": [
    "Back to the instance, create a new instance<br>\n",
    "name: linux-instance<br>\n",
    "region: us-east1, us-east1-b<br>\n",
    "<br>\n",
    "\n",
    "Google Cloud -> VPC Network -> Firewall<br>\n",
    "allow-ssh TCP:22 is already created for me<br>\n",
    "\n",
    "go back to instances<br>\n",
    "in dropdown menu, you have various ways to connect to it<br>\n",
    "\n",
    "go back to mac and open the terminal:<br>\n",
    "> gcloud init<br>\n",
    "> 1 - reinitalize config<br>\n",
    "> 2 - account2@gmail.com<br>\n",
    "> 1 - project1<br>\n",
    "> n - no default region<br>\n",
    "\n",
    "> ssh-keygen<br>\n",
    "\n",
    "generated public/private rsa key pair<br>\n",
    "create a passphrase and write down<br>\n",
    "\n",
    "back to the console -> click on instance -> edit<br>\n",
    "custom metadata: key: enable-oslogin, value: TRUE<br>\n",
    "after saving -> Compute Engine -> Metadata -> add metadata -> Key: enable-oslogin, value: TRUE<br>\n",
    "\n",
    "back to Mac's terminal:<br>\n",
    "> gcloud compute os-login ssh-keys add --key-file .ssh/id_rsa.pub<br>\n",
    "\n",
    "the key has been successfully added with the user account<br>\n",
    "> ssh -i .ssh/id_rsa account2_gmail_com@EXTERNAL-IP<br>\n",
    "\n",
    "continue and enter the passphrase and it's connected<br>\n",
    "\n",
    "going back to the console<br>\n",
    "If I didn't have owner role, the role that I need to do is: 'Compute OS Login'<br>\n",
    "or 'Compute OS Admin Login' for super access<br>\n",
    "<br>"
   ]
  }
 ],
 "metadata": {
  "kernelspec": {
   "display_name": "Python 3",
   "language": "python",
   "name": "python3"
  },
  "language_info": {
   "name": "python",
   "version": "3.8.10 (tags/v3.8.10:3d8993a, May  3 2021, 11:48:03) [MSC v.1928 64 bit (AMD64)]"
  },
  "orig_nbformat": 4,
  "vscode": {
   "interpreter": {
    "hash": "9650cb4e16cdd4a8e8e2d128bf38d875813998db22a3c986335f89e0cb4d7bb2"
   }
  }
 },
 "nbformat": 4,
 "nbformat_minor": 2
}
