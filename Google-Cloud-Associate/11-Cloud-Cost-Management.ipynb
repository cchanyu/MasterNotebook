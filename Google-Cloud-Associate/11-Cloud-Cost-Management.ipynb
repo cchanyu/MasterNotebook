{
 "cells": [
  {
   "attachments": {},
   "cell_type": "markdown",
   "metadata": {},
   "source": [
    "### Cloud Cost Management and Budget Alerts<br>\n",
    "\n",
    "***\n",
    "\n",
    "Number of ways to get discounts<br>\n"
   ]
  },
  {
   "attachments": {},
   "cell_type": "markdown",
   "metadata": {},
   "source": [
    "**Committed Use Discounts (CUD's)**<br>\n",
    "\n",
    "CUD provides discounted prices, in exchange for your commitment of a minimum level of resources for a specified term.<br>\n",
    "Discounts are flexible and covers a wide range of resources.<br>\n",
    "It's ideal for workloads with predictable resource needs.<br>\n",
    "\n",
    "Year range: 1-3 year of commitment<br>\n",
    "\n",
    "**Commitment Types:**<br>\n",
    "- Spend-based<br>\n",
    "- Resource-based<br>\n",
    "<br>\n"
   ]
  },
  {
   "attachments": {},
   "cell_type": "markdown",
   "metadata": {},
   "source": [
    "**Spend-based commitment**<br>\n",
    "\n",
    "Discount for a commitment to spend a minimum amount for a service (hours) in a particular region.<br>\n",
    "\n",
    "25% discount for 1 year<br>\n",
    "52% discount on a 3 year<br>\n",
    "\n",
    "Available for:<br>\n",
    "- Cloud SQL database instances<br>\n",
    "- Google Cloud VMWare Engine<br>\n",
    "\n",
    "Applies only to CPU and memory usage\n",
    "<br>\n",
    "\n",
    "**Resource-based commitment**<br>\n",
    "\n",
    "Discount for a commitment to spend a minimum amount for Compute Engine resources in a particular region.<br>\n",
    "This is ideal for predictable workload when it comes to VM.<br>\n",
    "\n",
    "Available for:<br>\n",
    "- vCPU, Memory, GPU and Local SSD<br>\n",
    "\n",
    "Up to 57% discount for most resources<br>\n",
    "Up to 70% discount for memory-optimized machine types<br>\n",
    "For use across Projects<br>\n",
    "<br>\n",
    "\n",
    "**Sustained-use discounts**<br>\n",
    "\n",
    "Automatic discounts for running Compute Engine resources a significant portion of the billing month.<br>\n",
    "Applies to vCPUs and memory for most Compute Engine instance types.<br>\n",
    "\n",
    "Ex. when you run one of these more than 25% per month,<br>\n",
    "it'll automatically discount for every incremental minute that you use for that instance.<br>\n",
    "Maximum effective discount: 30% at 100% of month used.<br>\n",
    "\n",
    "Includes: VM's created by Google's Kubernetes Engine(GKE).<br>\n",
    "Doesn't apply to App Engine flexible, Dataflow, E2 Machine types.<br>\n",
    "<br>"
   ]
  },
  {
   "attachments": {},
   "cell_type": "markdown",
   "metadata": {},
   "source": [
    "**GCP Pricing Calculator**<br>\n",
    "\n",
    "It'll help you calculate the estimated cost of your architecture.<br>\n",
    "This can save you a headache without going through the hard way.<br>\n",
    "https://cloud.google.com/products/calculator<br>\n",
    "<br>"
   ]
  },
  {
   "attachments": {},
   "cell_type": "markdown",
   "metadata": {},
   "source": [
    "**Cloud Billing Budgets**<br>\n",
    "\n",
    "> **Default Budget Alert:**<br>\n",
    "Budget Alert -> Email -> Billing Admin<br>\n",
    "\n",
    "Billing Budget enables you to track your actual Google Cloud spend against your planned spend.<br>\n",
    "Budget alert threshold rules that are used to trigger email notifications to help you stay informed about your spend.<br>\n",
    "<br>\n",
    "\n",
    "Define the scope of the budget<br>\n",
    "- Spend of billing account or more granular<br>\n",
    "\n",
    "Budget amount can be set to a specified total, or based on previous month's spend<br>\n",
    "Alert emails are sent to billing account admins and specific users when costs exceed a percentage of the budget.<br>\n",
    "<br>\n",
    "\n",
    "> **Customize Email Recipients:**<br>\n",
    "Budget Alert -> Monitoring -> Email -> Budget alert recipients<br>\n",
    "\n",
    "Email recipients can be customized by using Cloud Monitoring to specify other people to receive budget alert emails<br>\n",
    "<br>\n",
    "\n",
    "> **Automate Cost Control Responses:**<br>\n",
    "Budget Alert -> Cloud Pub/Sub -> Cloud Functions -> Billing API -> Cap Spending<br>\n",
    "\n",
    "Use Pub/Sub for programmatic notifications or to automate cost management tasks<br>\n",
    "<br>"
   ]
  },
  {
   "attachments": {},
   "cell_type": "markdown",
   "metadata": {},
   "source": [
    "**Demo**<br>\n",
    "Demonstrating the features explained above in the hands-on practice<br>\n",
    "\n",
    "**Resource-based commitment**<br>\n",
    "Google Cloud -> Compute Engine -> Commited Use Discounts -> Purchase commitment<br>\n",
    "This is for the hardware commitment that user wants to purchase<br>\n",
    "\n",
    "Reservation - resources will be always available for you<br>\n",
    "In auto scaling, the instances can be sometimes delayed or unavailable.<br>\n",
    "Reservation can come in handy, if you want them always available first hand.<br>\n",
    "<br>\n",
    "\n",
    "**Spend-based commitment**<br>\n",
    "New: Google Cloud -> Billing -> Overview -> Purchase a commitment under 'what's new'<br>\n",
    "Manage: Google Cloud -> Billing -> Commitments<br>\n",
    "This is when you want to commit on spend based<br>\n",
    "\n",
    "for those that are cost-conscience:<br>\n",
    "Google Cloud -> Billing -> Budget & Alert -> Create Budget<br>\n",
    "You can set up actual/forecasted alarm for XX%<br>\n",
    "\n",
    "If you want another groups to be alerted, you need to do this:<br>\n",
    "Google Cloud -> Monitoring -> Alerting -> Add New (Email)<br>\n",
    "Now go back to Budget & Alert and select this new group for alerting<br>\n",
    "<br>"
   ]
  }
 ],
 "metadata": {
  "kernelspec": {
   "display_name": "Python 3",
   "language": "python",
   "name": "python3"
  },
  "language_info": {
   "name": "python",
   "version": "3.8.10 (tags/v3.8.10:3d8993a, May  3 2021, 11:48:03) [MSC v.1928 64 bit (AMD64)]"
  },
  "orig_nbformat": 4,
  "vscode": {
   "interpreter": {
    "hash": "9650cb4e16cdd4a8e8e2d128bf38d875813998db22a3c986335f89e0cb4d7bb2"
   }
  }
 },
 "nbformat": 4,
 "nbformat_minor": 2
}
