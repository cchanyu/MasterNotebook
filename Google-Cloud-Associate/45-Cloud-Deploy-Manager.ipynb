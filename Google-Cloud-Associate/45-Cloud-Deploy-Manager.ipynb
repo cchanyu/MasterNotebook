{
 "cells": [
  {
   "attachments": {},
   "cell_type": "markdown",
   "metadata": {},
   "source": [
    "### Cloud Deployment Manager<br>\n",
    "\n",
    "***\n",
    "\n",
    "<br>"
   ]
  },
  {
   "attachments": {},
   "cell_type": "markdown",
   "metadata": {},
   "source": [
    "Taking an automated approach with using Google's IaaS tool.<br>\n",
    "\n",
    "Deployment manager allows you to deploy, update and tear down resources within Google Cloud<br>\n",
    "using yaml, jinja and python code templates<br>\n",
    "\n",
    "**Configuration:**<br>\n",
    "\n",
    "written in yaml<br>"
   ]
  },
  {
   "cell_type": "code",
   "execution_count": null,
   "metadata": {},
   "outputs": [],
   "source": [
    "resources:\n",
    "- type: compute.v1.instance\n",
    "  name: instance-1\n",
    "  properties:\n",
    "    zone: us-east1-b\n",
    "    machineType: https://www.googleapis.com/compute/v1/projects/PROJECT_ID/zones/us-east1-b/machineTypes/f1-micro\n",
    "    disk:\n",
    "    - deviceName: bootdisk\n",
    "      type: PERSISTENT\n",
    "      boot: true\n",
    "      autoDelete: true\n",
    "      initializeParams:\n",
    "        sourceImage: https://www.googleapis.com/compute/v1/projects/debian-cloud/global/images/family/debian-9"
   ]
  },
  {
   "attachments": {},
   "cell_type": "markdown",
   "metadata": {},
   "source": [
    "**Type:**<br>\n",
    "\n",
    "Base type: type: [API].[VERSION].[RESOURCE]<br>\n",
    "Composite type: type: gcp-types/[PROVIDER]:[RESOURCE]<br>\n",
    "Ex. gcp-types/compute-v1:address<br>\n",
    "\n",
    "**Property:**<br>\n",
    "\n",
    "Parameters for the resource type:<br>\n",
    "Ex. zone, machineType, boot, sourceImage<br>\n",
    "\n",
    "**Templates:**<br>\n",
    "\n",
    "they can be written in either jinja 2.1 or python 3<br>\n",
    "jinja is similar to yaml, and python3 is similar to json<br>\n",
    "you can insert the template property: {{ env[\"project\"] }} like this in jinja<br>\n",
    "\n",
    "**Deploy / Update / Delete**<br>"
   ]
  },
  {
   "cell_type": "code",
   "execution_count": null,
   "metadata": {},
   "outputs": [],
   "source": [
    "gcloud deployment-manager deployments create NAMEdeploy --config deploy.yaml\n",
    "\n",
    "# update by modifying or adding new configurations/files and request update\n",
    "# manifest is a read-only property that describes all the resources in your deployment\n",
    "gcloud deployment-manager deployments update NAMEdeploy\n",
    "\n",
    "# delete files and update it"
   ]
  },
  {
   "attachments": {},
   "cell_type": "markdown",
   "metadata": {},
   "source": [
    "**Best Practices:**<br>\n",
    "\n",
    "- Break up the configurations, such as: Network for network file, security for security services etc.<br>\n",
    "- Use references - references for values that are not defined, stuff like: system generated ID, IP list etc.<br>\n",
    "- Preview deployments using --preview flag<br>\n",
    "- automate the creation of resources<br>\n",
    "- Use version control: audit trail, config for CI/CD (continous development system)<br>\n",
    "<br>"
   ]
  },
  {
   "attachments": {},
   "cell_type": "markdown",
   "metadata": {},
   "source": [
    "**Demo**<br>\n",
    "\n",
    "Google Cloud -> Cloud Shell -> Editor -> Terminal (New Terminal)<br>\n",
    "Create new folder: name: templates<br>\n",
    "(import the 3 templates from the course: deploy.yaml, network.jinja, webserver.jinja)<br>\n",
    "\n",
    "Search bar -> type: deployment manager -> enable the Cloud Deployment Manager v2 API<br>\n",
    "> cd templates<br>\n",
    "> gcloud config list<br>\n",
    "> gcloud deployment-manager deployments create deploy1 --config deploy.yaml --preview<br>\n",
    "\n",
    "mock deployment with --preview flag and if it's success, it's a good sign<br>\n",
    "you can view the mock deployment in the deployment manager<br>\n",
    "to actually deploy, you can press the button 'deploy' or run the command line<br>\n",
    "> gcloud deployment-manager deployments update deploy1<br>\n",
    "\n",
    "<br>"
   ]
  }
 ],
 "metadata": {
  "kernelspec": {
   "display_name": "Python 3",
   "language": "python",
   "name": "python3"
  },
  "language_info": {
   "name": "python",
   "version": "3.8.10 (tags/v3.8.10:3d8993a, May  3 2021, 11:48:03) [MSC v.1928 64 bit (AMD64)]"
  },
  "orig_nbformat": 4,
  "vscode": {
   "interpreter": {
    "hash": "9650cb4e16cdd4a8e8e2d128bf38d875813998db22a3c986335f89e0cb4d7bb2"
   }
  }
 },
 "nbformat": 4,
 "nbformat_minor": 2
}
