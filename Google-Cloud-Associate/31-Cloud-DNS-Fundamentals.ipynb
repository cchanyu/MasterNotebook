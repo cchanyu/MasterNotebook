{
 "cells": [
  {
   "attachments": {},
   "cell_type": "markdown",
   "metadata": {},
   "source": [
    "### Cloud Domain Name System(DNS) Fundamentals<br>\n",
    "\n",
    "***\n",
    "\n",
    "<br>"
   ]
  },
  {
   "attachments": {},
   "cell_type": "markdown",
   "metadata": {},
   "source": [
    "DNS is used everywhere in Cloud and pretty much every other computers that connects to the Internet<br>\n",
    "\n",
    "**What's DNS?**<br>\n",
    "\n",
    "DNS stands for 'Domain Name System'.<br>\n",
    "DNS allows store IP addresses and human-readable text names.<br>\n",
    "172.217.164.196 <-> Google.com<br>\n",
    "\n",
    "www.google.com (query) -> 172.217.164.196 (reply)<br>\n",
    "www (DNS record) -> zone file<br>\n",
    "Zone file is hosted by nameserver(NS server)<br>\n",
    "\n",
    "**Why DNS?**<br>\n",
    "\n",
    "Ages ago, hosts files had to be stored in each computer.<br>\n",
    "updates were difficult to manage<br>\n",
    "system wasn't scalable<br>\n",
    "\n",
    "DNS provided organization, Domain name structure and dynamic system<br>\n",
    "<br>"
   ]
  },
  {
   "attachments": {},
   "cell_type": "markdown",
   "metadata": {},
   "source": [
    "**DNS Strcuture**<br>\n",
    "\n",
    ". <- root <br>\n",
    "google.com. <- this is hidden from view, but always added for us<br>\n",
    "domain name reads from right to left<br>\n",
    "\n",
    "- **Root Domain (13 root servers)**<br>\n",
    "a.root-servers.net (a-m)<br>\n",
    "\n",
    "first server that hosts in translating human readable text into IP<br>\n",
    "root zone <- Internet Assigned Numbers Authority(IANA)<br>\n",
    "\n",
    "13 DNS systems around the world, known collectively as DNS root server<br>\n",
    "they're indicated by letter a-m operated by 12 organizations such as: cogent, NASA<br>\n",
    "there are more than 13 servers and it's a cluster of DNS servers<br>\n",
    "<br>\n",
    "\n",
    "- **Top level domains (TDL) name servers**<br>\n",
    "Ex: com, org, net, io<br>\n",
    "\n",
    "gTLD - .com (general top level domain)<br>\n",
    "ccTLD - .ca, .uk, .it (country level domain)<br>\n",
    "<br>\n",
    "\n",
    "- **Second level domains**<br>\n",
    "Authoritative name servers<br>\n",
    "Ex: Google, Wikipedia, Speedtest, Cantrill, Antonit<br>\n",
    "<br>\n",
    "\n",
    "- **Sub-domain of parent**<br>\n",
    "Ex: cloud, training, learn<br>\n",
    "<br>\n",
    "\n",
    "**How DNS works**<br>\n",
    "\n",
    "DNS client: www.google.com -> query: www.google.com -> 'DNS recursive resolver ISP'<br>\n",
    "'DNS recursive resolver ISP' -> www.google.com -> 'DNS root name servers'<br>\n",
    "\n",
    "'DNS root name server' then returns: go to 'name server' for .com TLD<br>\n",
    "'resolver ISP' then requests to: 'TLD name server' for .com<br>\n",
    "\n",
    "'TLD name server' responds with: go to name server for domain google.com<br>\n",
    "'resolver ISP' then go to: 'authoritative name server' for www.google.com<br>\n",
    "returns 172.217.164.196 to resolver ISP<br>\n",
    "\n",
    "this IP is cached for a period of time by 'resolver ISP'<br>\n",
    "determined by ttl (time to live)<br>\n",
    "\n",
    "'DNS resolver' then responds to the web browser<br>\n",
    "the domain IP requested<br>\n",
    "<br>\n",
    "\n"
   ]
  }
 ],
 "metadata": {
  "kernelspec": {
   "display_name": "Python 3",
   "language": "python",
   "name": "python3"
  },
  "language_info": {
   "name": "python",
   "version": "3.8.10 (tags/v3.8.10:3d8993a, May  3 2021, 11:48:03) [MSC v.1928 64 bit (AMD64)]"
  },
  "orig_nbformat": 4,
  "vscode": {
   "interpreter": {
    "hash": "9650cb4e16cdd4a8e8e2d128bf38d875813998db22a3c986335f89e0cb4d7bb2"
   }
  }
 },
 "nbformat": 4,
 "nbformat_minor": 2
}
