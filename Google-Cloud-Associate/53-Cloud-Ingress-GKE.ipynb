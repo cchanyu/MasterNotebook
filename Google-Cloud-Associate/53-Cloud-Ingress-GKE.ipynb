{
 "cells": [
  {
   "attachments": {},
   "cell_type": "markdown",
   "metadata": {},
   "source": [
    "### Cloud Ingress for GKE<br>\n",
    "\n",
    "***\n",
    "\n",
    "<br>"
   ]
  },
  {
   "attachments": {},
   "cell_type": "markdown",
   "metadata": {},
   "source": [
    "**Ingress for GKE**<br>\n",
    "\n",
    "an object within GKE that define rules for routing traffic to specific services<br>\n",
    "<br>\n",
    "\n",
    "**Ingress**<br>\n",
    "\n",
    "Ingress object defines rules for routing HTTP(S) traffics to apps running in the cluster<br>\n",
    "Ingress object is associated with 1 or more Service objects, each of it is associated with set of pods<br>\n",
    "\n",
    "when you create an Ingress object, GKE ingress controller creates a Cloud HTTP(S) Loadbalancer<br>\n",
    "and configures it according to the information in the ingress<br>\n",
    "and it's associated services<br>\n",
    "\n",
    "GKE ingress is a built-in, managed ingress controller.<br>\n",
    "this controller implements ingress resources, as Google Cloud Loadbalancers for HTTP(S) workloads in GKE<br>\n",
    "\n",
    "Loadbalancer is given a stable IP that you can associate with a domain name<br>\n",
    "each external HTTP(S) loadbalancer or internal HTTP(S) loadbalancer uses a single URL map, which references 1 or more backend services<br>\n",
    "\n",
    "1 backend service corresponds to each service referenced by the ingress<br>\n",
    "\n",
    "User -> websitename.co -> HTTP(S) Loadbalancer -> Ingress (/products /discontinued) -> /products Service port 80 -> Node1<br>\n",
    "\n",
    "Ingress is a powerful way to expose your services, but can be very complex<br>\n",
    "as there are many types of ingress to choose from + along with plugins for ingress controllers<br>\n",
    "\n",
    "Ingress is most useful and cost effective if you want to expose multiple services under the same IP<br>\n",
    "as you only pay for 1 load balancer, if you're using native GCP integration, it comes with features<br>"
   ]
  },
  {
   "cell_type": "code",
   "execution_count": null,
   "metadata": {},
   "outputs": [],
   "source": [
    "# ingress.yaml\n",
    "apiVersion: netwokring.k8s.io/v1beta1\n",
    "kind: Ingress\n",
    "metadata:\n",
    "  name: ingress-net\n",
    "spec:\n",
    "  rules:\n",
    "  - http:\n",
    "      paths:\n",
    "      - path: /*\n",
    "        backend:\n",
    "          serviceName: products # one path direct traffics to products-service.yaml\n",
    "          servicePort: 80\n",
    "      - path: /discontinued\n",
    "        backend:\n",
    "          serviceName: discontinued # other path direct traffics to discontinued-service.yaml\n",
    "          servicePort: 80"
   ]
  },
  {
   "attachments": {},
   "cell_type": "markdown",
   "metadata": {},
   "source": [
    "**Network Endpoint Group (NEG)**<br>\n",
    "\n",
    "configuration object, that specifies group of backend endpoints for services<br>\n",
    "NEGs are useful for container native loadbalancing, where each container can be represented as an endpoint to loadbalancer<br>\n",
    "NEGs are used to track pod endpoints dynamically<br>\n",
    "\n",
    "Google Loadbalancers can route traffic to an appropriate backends<br>\n",
    "traffic is loadbalanced from loadbalancer directly to the pod IP, opposed to traversing VM IP and kube-proxy networking<br>\n",
    "in this conditions, services will be annotated automatically, indicating that NEG should be created to mirror the pod IP within the service<br>\n",
    "NEG is what allows Compute Engine loadbalancers to communicate directly with pods<br>\n",
    "\n",
    "Diagram here is an ingress to Compute Engine resource mappings of the manifest<br>\n",
    "User -traffic-> (kind: INGRESS) IP address (Global Load Balancer) -> Forwarding Rule -> Target HTTP Proxy<br>\n",
    "-> URL Map -> Backend Service /product, /discontinued -> (kind: SERVICE) Network Endpoint Group(NEG) -> Pod IP<br>\n",
    "\n",
    "Where GKE ingress controller deploys and manages Compute Engine loadbalancer resources<br>\n",
    "based on the ingress resources that are deployed in the cluster<br>\n",
    "\n",
    "**Health Checks**<br>\n",
    "\n",
    "Default and inferred parameters are used if there are no specified health check parameters<br>\n",
    "health check parameters for backend service should be explicitly defined by using a backend config, **custom resource definition(CRD)**<br>\n",
    "- anthos ingress controller<br>\n",
    "- more than 1 container<br>\n",
    "- specific port for LB health check<br>\n",
    "\n",
    "Backend service's health check<br>\n",
    "- healthCheck parameter of a BackendConfig CRD referenced by service<br>\n",
    "<br>\n",
    "\n",
    "**SSL Certificate**<br>\n",
    "\n",
    "Loadbalancer<br>\n",
    "\n",
    "**Google-managed certificate**<br>\n",
    "- completely managed by Google<br>\n",
    "- do not support wildcard domains<br>\n",
    "\n",
    "**Self-managed**<br>\n",
    "- managed and shared with Google Cloud<br>\n",
    "- provision your own certificates<br>\n",
    "- list the certificates in annotation for use<br>\n",
    "\n",
    "**Self-managed as Secrets**<br>\n",
    "- Provision your own certificates<br>\n",
    "- Create a secret to hold the certificate<br>\n",
    "- Refer to the secret for use<br>\n",
    "\n",
    "Multiple certificates: specify in Ingress manifest<br>\n",
    "<br>"
   ]
  }
 ],
 "metadata": {
  "kernelspec": {
   "display_name": "Python 3",
   "language": "python",
   "name": "python3"
  },
  "language_info": {
   "name": "python",
   "version": "3.8.10 (tags/v3.8.10:3d8993a, May  3 2021, 11:48:03) [MSC v.1928 64 bit (AMD64)]"
  },
  "orig_nbformat": 4,
  "vscode": {
   "interpreter": {
    "hash": "9650cb4e16cdd4a8e8e2d128bf38d875813998db22a3c986335f89e0cb4d7bb2"
   }
  }
 },
 "nbformat": 4,
 "nbformat_minor": 2
}
