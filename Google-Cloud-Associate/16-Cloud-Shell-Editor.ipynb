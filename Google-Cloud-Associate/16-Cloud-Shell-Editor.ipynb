{
 "cells": [
  {
   "attachments": {},
   "cell_type": "markdown",
   "metadata": {},
   "source": [
    "### Cloud Shell and Editor<br>\n",
    "\n",
    "***\n",
    "\n",
    "Cloud Shell - built in shell within Google Cloud console<br>\n"
   ]
  },
  {
   "attachments": {},
   "cell_type": "markdown",
   "metadata": {},
   "source": [
    "Cloud shell provisions E2 small google compute engine instance running a debian based linux<br>\n",
    "ephemeral pre-configured vm and the environment you work is a docker container running on that vm<br>\n",
    "cloud shell instances provisions on per-user per session base.<br>\n",
    "the instance persist, while your cloud shell session is active<br>\n",
    "after an hour of inactivity, session terminates and vm is discarded<br>\n",
    "\n",
    "you can also customize your environment on boot time<br>\n",
    "It'll allow you to have preferred tools, when cloud shell boots up<br>\n",
    "\n",
    "cloud shell provisioned with 5 gbs of free persistent disk storage<br>\n",
    "It's mounted at the home directory on the VM instance.<br>\n",
    "<br>\n",
    "\n",
    "**to check the disk storage:**<br>\n",
    "> df -h<br>\n",
    "\n",
    "/dev/disk/by-id/google-home/part1 /home - 4.8gb<br>\n",
    "<br>\n",
    "\n",
    "the great thing about shell is, you're automatically authenticated with google account and the project<br>\n",
    "[user-id]@cloudshell:~ (project-name)$<br>\n",
    "<br>\n",
    "\n",
    "**to change the project:**<br>\n",
    "> gcloud config set project [Project-id]<br>\n",
    "\n",
    "cloud shell session is automatically connected to the closest region<br>\n",
    "> curl metadata/computeMetadata/v1/instance/zone<br>\n",
    "\n",
    "**Demo**<br>\n",
    "\n",
    "ls -al - show all the files in current location<br>\n",
    "touch .customize_environment - creates the folder named .customize_environment<br>\n",
    "\n",
    "**click open editor or use edit command:**<br>\n",
    "(Enable cookies to do this)<br>\n",
    "edit .customize_environment - to open the editor<br>\n",
    "create new file -> open the file .customize_environment<br>\n",
    "paste in terraform script in the file and save<br>\n",
    "\n",
    "After restarting, run the command to check if terraform is installed<br>\n",
    "terraform --version<br>\n",
    "terraform init<br>\n",
    "\n",
    "gcloud beta interactive - can be also enabled in cloud shell<br>\n",
    "<br>"
   ]
  }
 ],
 "metadata": {
  "kernelspec": {
   "display_name": "Python 3",
   "language": "python",
   "name": "python3"
  },
  "language_info": {
   "name": "python",
   "version": "3.8.10 (tags/v3.8.10:3d8993a, May  3 2021, 11:48:03) [MSC v.1928 64 bit (AMD64)]"
  },
  "orig_nbformat": 4,
  "vscode": {
   "interpreter": {
    "hash": "9650cb4e16cdd4a8e8e2d128bf38d875813998db22a3c986335f89e0cb4d7bb2"
   }
  }
 },
 "nbformat": 4,
 "nbformat_minor": 2
}
