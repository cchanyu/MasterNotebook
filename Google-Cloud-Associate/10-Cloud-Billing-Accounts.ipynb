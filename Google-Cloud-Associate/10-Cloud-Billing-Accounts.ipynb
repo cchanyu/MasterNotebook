{
 "cells": [
  {
   "attachments": {},
   "cell_type": "markdown",
   "metadata": {},
   "source": [
    "### Cloud Billing Account<br>\n",
    "\n",
    "***\n",
    "\n",
    "How billing accounts are managed in Google Cloud.<br>\n"
   ]
  },
  {
   "attachments": {},
   "cell_type": "markdown",
   "metadata": {},
   "source": [
    "**Billing Account**<br>\n",
    "\n",
    "Cloud billing account is a cloud-level resource managed in the cloud console.<br>\n",
    "this defines who pays for a given set of Google Cloud resources.<br>\n",
    "\n",
    "Billing tracks all the cost incurred by Google Cloud usage.<br>\n",
    "It's connected to Google Payment profile.<br>\n",
    "\n",
    "Cloud billing account can be linked to one or more projects.<br>\n",
    "Cloud billing also has specific roles and permissions to control access by IAM.<br>\n",
    "<br>\n",
    "\n",
    "Self-service (online) or invoiced (offline) payments available.<br>\n",
    "\n",
    "Sub-accounts are intended for resellers.<br> \n",
    "You can use sub accounts to represent the customers and make it easy for chargebacks<br>\n",
    "\n",
    "Billing account can pay for projects in a different organization.<br>\n",
    "Project that are not linked to a Cloud Billing Account CANNOT use paid Google Cloud services.<br>\n"
   ]
  },
  {
   "attachments": {},
   "cell_type": "markdown",
   "metadata": {},
   "source": [
    "**Payments Profile**\n",
    "\n",
    "Payments profile is a Google-level resource managed at payments.google.com<br>\n",
    "Payments profile processes payments for all Google services<br>\n",
    "\n",
    "It stores all the payment methods<br>\n",
    "It controls who can view and receive invoices<br>\n",
    "\n",
    "There are 2 types of payment profile: individual or business (this cannot be changed)"
   ]
  },
  {
   "attachments": {},
   "cell_type": "markdown",
   "metadata": {},
   "source": [
    "**Quick Overview of users in IAM**<br>\n",
    "\n",
    "billing account administrator - role that let's you manage billing accounts, but not create them.<br>\n",
    "so if you need to set budget alert, manage payment methods, you can use this role.<br>\n",
    "\n",
    "billing account creator - allows you to create new self serve online billing accounts<br>\n",
    "\n",
    "billing account user - allows you to link projects to the billing accounts<br>\n",
    "\n",
    "billing account viewer - allows you to view billing account cost information and transactions<br>\n",
    "\n",
    "project billing manager - allows you to link or unlink project to/from billing account.<br>\n"
   ]
  }
 ],
 "metadata": {
  "kernelspec": {
   "display_name": "Python 3",
   "language": "python",
   "name": "python3"
  },
  "language_info": {
   "name": "python",
   "version": "3.8.10 (tags/v3.8.10:3d8993a, May  3 2021, 11:48:03) [MSC v.1928 64 bit (AMD64)]"
  },
  "orig_nbformat": 4,
  "vscode": {
   "interpreter": {
    "hash": "9650cb4e16cdd4a8e8e2d128bf38d875813998db22a3c986335f89e0cb4d7bb2"
   }
  }
 },
 "nbformat": 4,
 "nbformat_minor": 2
}
