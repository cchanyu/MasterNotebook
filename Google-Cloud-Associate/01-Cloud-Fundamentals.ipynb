{
 "cells": [
  {
   "attachments": {},
   "cell_type": "markdown",
   "metadata": {},
   "source": [
    "### Cloud Computing<br>\n",
    "\n",
    "***\n",
    "\n",
    "**https://www.youtube.com/watch?v=jpno8FSqpc8**\n",
    "\n",
    "#### __- What is Cloud Computing?__<br>\n",
    "\n",
    "Ex: AWS, Google Cloud, Microsoft Azure<br>\n",
    "The delivery of a shared pool of on-demand computing services over the public internet.<br>\n",
    "It can be rapidly provisioned and released with minimal management effort or service provider interaction.<br>\n",
    "<br>\n",
    "\n",
    "#### __- 5 Characteristics of Cloud Computing__<br>\n",
    "\n",
    "1. **On-demand self service** - provision resources automatically without requiring human interactions.<br>\n",
    "I can manage the services without going through the provider and do it whenever I need them.<br>\n",
    "\n",
    "2. **Broad Network Access** - available over the network.<br>\n",
    "It can be accessed via mobile phone, pc, any device over the network.<br>\n",
    "\n",
    "3. **Resource Pooling**<br>\n",
    "pooled resources to support a multi-tenant model allowing multiple customers to share<br>\n",
    "the same applications or the same physical infrastructure.<br>\n",
    "while retaining their privacy and security over the network.<br>\n",
    "<br>\n",
    "similar to people living in an apartment building, sharing same building infrastructure<br>\n",
    "customer generally have no knowledge of exact location of the provider resources, but they can specify the location at the higher level<br>\n",
    "in a way it's similar to picking NJ Palisades apartment, but you don't know which room you'll get<br>\n",
    "<br>\n",
    "in the end, customer doesn't have the option of choosing which server, server rack, data center of where the resources provider comes from.<br>\n",
    "They'll only have options to choose the region and the section of that region.<br>\n",
    "\n",
    "4. **Rapid Elasticity** - rapidly provision and de-provision any of the cloud computing resources<br>\n",
    "This is what makes cloud computing so agile. It scales rapidly in response with the demands.<br>\n",
    "To the customer this seems unlimited.<br>\n",
    "\n",
    "5. **Measured Service** - resource usage can be monitored, controlled and reported using metered capabilities<br>\n",
    "This provides the transparency for the provider and to consumers.<br>\n",
    "Cloud services are metered and pay what you used accordingly. PPU model(pay-per-use)<br>\n",
    "<br>\n",
    "\n",
    "These are 5 key characteristics of cloud computing.<br>\n",
    "\n",
    "\n"
   ]
  }
 ],
 "metadata": {
  "kernelspec": {
   "display_name": "Python 3",
   "language": "python",
   "name": "python3"
  },
  "language_info": {
   "name": "python",
   "version": "3.8.10 (tags/v3.8.10:3d8993a, May  3 2021, 11:48:03) [MSC v.1928 64 bit (AMD64)]"
  },
  "orig_nbformat": 4,
  "vscode": {
   "interpreter": {
    "hash": "9650cb4e16cdd4a8e8e2d128bf38d875813998db22a3c986335f89e0cb4d7bb2"
   }
  }
 },
 "nbformat": 4,
 "nbformat_minor": 2
}
