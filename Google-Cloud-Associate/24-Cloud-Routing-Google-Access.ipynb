{
 "cells": [
  {
   "attachments": {},
   "cell_type": "markdown",
   "metadata": {},
   "source": [
    "### Cloud Routing and Private Google Access<br>\n",
    "\n",
    "***\n",
    "\n",
    "<br>"
   ]
  },
  {
   "attachments": {},
   "cell_type": "markdown",
   "metadata": {},
   "source": [
    "**Routing:**<br>\n",
    "\n",
    "- Routes define the network traffic path from one destination to the other<br>\n",
    "- In VPC routes consists of a single destination (CIDR) and a single next hop<br>\n",
    "- All routes are stored in the routing table for VPC<br>\n",
    "'Routing tables' are stored in routers/network host that lists the routes to a particular network<br>\n",
    "- Each packet leaving a VM is delivered to the next hop of an applicable route based on a routing order.<br>\n",
    "\n",
    "**Routing Types:**<br>\n",
    "\n",
    "- System-generated:<br>\n",
    "    - Default<br>\n",
    "        - Path to the internet<br>\n",
    "        - Path for Private Google Access<br>\n",
    "        - Can be deleted only by replacing with custom route<br>\n",
    "        - Lowest priority<br>\n",
    "    - Subnet Route<br>\n",
    "        - System generated routes, that define path to each VPC subnet network<br>\n",
    "        - Each subnet has at least 1 subnet route, whose destination matches the primary IP<br>\n",
    "        - when a subnet is created, corresponding subnet route is created for both primary and secondary IP<br>\n",
    "        - CANNOT delete a subnet route unless you modify/delete the subnet<br>\n",
    "<br>\n",
    "\n",
    "- Custom Routes:<br>\n",
    "    - Static Route<br>\n",
    "        - Can use the next hop feature<br>\n",
    "        - Static routes can be created manually<br>\n",
    "        - Static routes remote traffic selectors are created automatically when you use Cloud VPN tunnels<br>\n",
    "        - Static routes parameter example<br>\n",
    "            - priority 0 is the highest priority, default is 1000<br>\n",
    "    - Dynamic Route<br>\n",
    "        - managed by one or more Cloud routers<br>\n",
    "        - Dynamically exchanged routes between a VPC and on-premise networks<br>\n",
    "        - Destination IP ranges outside the VPC network<br>\n",
    "        - Used with dynamically routed VPN and interconnect<br>\n",
    "<br>\n",
    "\n",
    "Special return paths - defined outside of your VPC network in Google's production network.<br>\n",
    "It doesn't appear in VPC routing table, can't remove/overwrite.<br>\n",
    "you can control traffic to/from using firewall rules<br>\n",
    "<br>"
   ]
  },
  {
   "attachments": {},
   "cell_type": "markdown",
   "metadata": {},
   "source": [
    "**Private Google Access:**<br>\n",
    "\n",
    "VM instances with only internal IP addresses can use this<br>\n",
    "This allows them to reach external IP of Google's API and Services<br>\n",
    "\n",
    "They use internal IP of network interface<br>\n",
    "or an address of alias IP that's assigned to the interface<br>\n",
    "\n",
    "If you disable Private Google Access, instances can no longer reach Google API and Services<br>\n",
    "\n",
    "Other Private Access Options:<br>\n",
    "- Private Google Access for on-premises hosts<br>\n",
    "- Private Services Access<br>\n",
    "- Serverless VPC Access<br>\n"
   ]
  }
 ],
 "metadata": {
  "kernelspec": {
   "display_name": "Python 3",
   "language": "python",
   "name": "python3"
  },
  "language_info": {
   "name": "python",
   "version": "3.8.10 (tags/v3.8.10:3d8993a, May  3 2021, 11:48:03) [MSC v.1928 64 bit (AMD64)]"
  },
  "orig_nbformat": 4,
  "vscode": {
   "interpreter": {
    "hash": "9650cb4e16cdd4a8e8e2d128bf38d875813998db22a3c986335f89e0cb4d7bb2"
   }
  }
 },
 "nbformat": 4,
 "nbformat_minor": 2
}
