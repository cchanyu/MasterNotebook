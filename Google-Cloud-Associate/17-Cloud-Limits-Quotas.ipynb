{
 "cells": [
  {
   "attachments": {},
   "cell_type": "markdown",
   "metadata": {},
   "source": [
    "### Cloud Limits and Quota<br>\n",
    "\n",
    "***\n",
    "\n",
    "Quota means = usage<br>\n",
    "Limits = hard cap limit that user can request<br>"
   ]
  },
  {
   "attachments": {},
   "cell_type": "markdown",
   "metadata": {},
   "source": [
    "Hard limit on how much of Google Cloud resource your project can use<br>\n",
    "\n",
    "**Rate Quota** - API: it resets after specified time<br>\n",
    "**Allocation Quota** - VM, Low Balancers: Must be explicitly released<br>\n",
    "<br>\n",
    "\n",
    "**Quotas are enforced for reasons:**<br>\n",
    "\n",
    "They protect google users from unforeseen usage spikes<br>\n",
    "Quotas help with resource management - so you can set your own limits<br>\n",
    "Each quota is expressed in a countable resource<br>\n",
    "\n",
    "**Monitoring and alerting on quotas**<br>\n",
    "\n",
    "Google Cloud let you monitor, limit and let you know the quota usage.<br>\n",
    "Using Cloud monitoring UI and API<br>\n",
    "Quota limits are updated once a day, may take upto 24 hrs to be reflected<br>\n",
    "\n",
    "**Popular supported services:** Compute Engine, Dataflow, Cloud Spanner, Cloud Monitoring, and Cloud Log.<br>\n",
    "**Not support services:** App Engine, Cloud Storage, Cloud SQL<br>\n",
    "\n",
    "If you exhaust a resource, it'll return an http error 429 (ResourceExhausted)<br>\n",
    "<br>"
   ]
  },
  {
   "attachments": {},
   "cell_type": "markdown",
   "metadata": {},
   "source": [
    "**To view your quota:**<br>\n",
    "\n",
    "there are 2 ways to view your quota.<br>\n",
    "using the quotas page, which gives the list of quota usage<br>\n",
    "using the API dashboard - gives quota info for particular API<br>\n",
    "quotas are also accessible programmatically.<br>\n",
    "<br>\n",
    "\n",
    "**Demo**<br>\n",
    "\n",
    "Google Cloud -> IAM -> Quotas<br>\n",
    "\n",
    "Example: if you want to increase quota on Compute Engine API<br>\n",
    "select the service -> check 'Global' -> Edit Quota -> Enter new Quota + description<br>\n",
    "<br>\n",
    "\n",
    "Google Cloud -> API & Services -> Click on the name of API (Ex. Compute Engine API) -> Quotas<br>\n",
    "\n",
    "You can view queries for 100 seconds.<br>\n",
    "\n"
   ]
  }
 ],
 "metadata": {
  "kernelspec": {
   "display_name": "Python 3",
   "language": "python",
   "name": "python3"
  },
  "language_info": {
   "name": "python",
   "version": "3.8.10 (tags/v3.8.10:3d8993a, May  3 2021, 11:48:03) [MSC v.1928 64 bit (AMD64)]"
  },
  "orig_nbformat": 4,
  "vscode": {
   "interpreter": {
    "hash": "9650cb4e16cdd4a8e8e2d128bf38d875813998db22a3c986335f89e0cb4d7bb2"
   }
  }
 },
 "nbformat": 4,
 "nbformat_minor": 2
}
