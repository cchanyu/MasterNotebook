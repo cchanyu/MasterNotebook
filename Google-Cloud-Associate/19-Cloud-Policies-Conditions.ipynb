{
 "cells": [
  {
   "attachments": {},
   "cell_type": "markdown",
   "metadata": {},
   "source": [
    "### Cloud Policies and Conditions<br>\n",
    "\n",
    "***\n",
    "\n",
    "This lesson builds up on Cloud IAM (previous lesson).<br>\n"
   ]
  },
  {
   "cell_type": "code",
   "execution_count": null,
   "metadata": {},
   "outputs": [],
   "source": [
    "{\n",
    "    \"bindings\": [\n",
    "        {\n",
    "            \"role\": \"roles/storage.admin\",\n",
    "            \"members\": [\n",
    "                \"user:tony@gmail.com\"\n",
    "            ]\n",
    "        },\n",
    "        {\n",
    "            \"role\": \"roles/storage.objectViewer\",\n",
    "            \"members\": [\n",
    "                \"user:larkfederal@gmail.com\"\n",
    "            ],\n",
    "            \"condition\": {\n",
    "                \"title\": \"Expires_January_1_2021\",\n",
    "                \"description\": \"Do not grant access after jan 2021\",\n",
    "                \"expression\":\n",
    "                    \"request.time < timestamp('2021-01-01T00:00:00.000Z')\"\n",
    "            }\n",
    "        }\n",
    "    ],\n",
    "    \"etag\": \"BeEEja0YfWJ=\",\n",
    "    \"version\": 3\n",
    "}"
   ]
  },
  {
   "attachments": {},
   "cell_type": "markdown",
   "metadata": {},
   "source": [
    "^- an example of policy formatting in Json.<br>\n",
    "\n",
    "policy formatting can be written in both JSON and YAML.<br>\n",
    "YAML is much more condense and cleaner.<br>"
   ]
  },
  {
   "cell_type": "code",
   "execution_count": null,
   "metadata": {},
   "outputs": [],
   "source": [
    "gcloud projects get-iam-policy <project-id>\n",
    "\n",
    "gcloud resource-manager folders get-iam-policy <folder-id>\n",
    "\n",
    "gcloud organization get-iam-policy <organization-id>"
   ]
  },
  {
   "attachments": {},
   "cell_type": "markdown",
   "metadata": {},
   "source": [
    "**More details of versions**<br>\n",
    "\n",
    "version 1 - supports binding 1 role to 1 or more members, DOES NOT support conditional role bindings<br>\n",
    "version 2 - google's internal use. so you'll usually not see a version 2<br>\n",
    "version 3 - allows condition fields in role binding<br>\n",
    "if you don't specify the version, it'll use default (version 1) policy<br>\n",
    "<br>\n",
    "\n",
    "**Policy Limitations**<br>\n",
    "\n",
    "1 policy per resource (including organization, folders, projects)<br>\n",
    "each IAM policy can contain up to 1500 members or 250 Google groups per policy<br>\n",
    "It'll take up to 7 minutes to fully propagate across GCP<br>\n",
    "Limit of 100 conditional role bindings per policy<br>\n",
    "<br>\n",
    "\n",
    "**Conditions**<br>\n",
    "\n",
    "Conditions attributes are either based on resources or requests (ex. timestamp, originating/destination IP)<br>\n",
    "\n",
    "**Conditional role bindings** - holds conditions within the bindings<br>\n",
    "can be added to new or existing IAM policies to further control the access Cloud resources<br>\n",
    "<br>"
   ]
  },
  {
   "cell_type": "code",
   "execution_count": null,
   "metadata": {},
   "outputs": [],
   "source": [
    "expression: request.time.getHours(\"America/Toronto\") >= 9 &&\n",
    "            request.time.getHours(\"America/Toronto\") <= 17 &&\n",
    "            request.time.getDayOfWeek(\"America/Toronto\") >= 1 &&\n",
    "            request.time.getDayOfWeek(\"America/Toronto\") <= 5"
   ]
  },
  {
   "attachments": {},
   "cell_type": "markdown",
   "metadata": {},
   "source": [
    "^- example of YAML expression that limits the access ONLY at business hours.<br>\n",
    "\n",
    "**Condition Limitations**<br>\n",
    "\n",
    "Limited to specific services<br>\n",
    "Primitive roles are unsupported<br>\n",
    "Members CANNOT be allUsers or allAuthenticatedUsers<br>\n",
    "Limit of 100 conditional role bindings per policy<br>\n",
    "20 role bindings for same role and same member<br>\n",
    "<br>"
   ]
  },
  {
   "cell_type": "code",
   "execution_count": null,
   "metadata": {},
   "outputs": [],
   "source": [
    "auditConfigs:\n",
    "- auditLogConfigs:\n",
    "    - logType: DATA_READ\n",
    "    - logType: ADMIN_READ\n",
    "    - logType: DATA_WRITE\n",
    "    service: allServices\n",
    "- auditLogConfigs:\n",
    "    - exemptedMembers:\n",
    "        - tony@gmail.com\n",
    "        logType: ADMIN_READ\n",
    "    service: storage.googleapis.com"
   ]
  },
  {
   "attachments": {},
   "cell_type": "markdown",
   "metadata": {},
   "source": [
    "^- an YAML example of audit configs<br>\n",
    "\n",
    "it logs all the readings from all services<br>\n",
    "while exempting tony from admin reading logging on cloud storage.<br>\n",
    "<br>"
   ]
  }
 ],
 "metadata": {
  "kernelspec": {
   "display_name": "Python 3",
   "language": "python",
   "name": "python3"
  },
  "language_info": {
   "name": "python",
   "version": "3.8.10 (tags/v3.8.10:3d8993a, May  3 2021, 11:48:03) [MSC v.1928 64 bit (AMD64)]"
  },
  "orig_nbformat": 4,
  "vscode": {
   "interpreter": {
    "hash": "9650cb4e16cdd4a8e8e2d128bf38d875813998db22a3c986335f89e0cb4d7bb2"
   }
  }
 },
 "nbformat": 4,
 "nbformat_minor": 2
}
