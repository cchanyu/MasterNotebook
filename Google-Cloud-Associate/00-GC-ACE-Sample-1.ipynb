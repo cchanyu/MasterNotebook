{
 "cells": [
  {
   "attachments": {},
   "cell_type": "markdown",
   "metadata": {},
   "source": [
    "### Cloud Sample Exam Questions<br>\n",
    "\n",
    "***\n",
    "\n",
    "<br>\n"
   ]
  },
  {
   "attachments": {},
   "cell_type": "markdown",
   "metadata": {},
   "source": [
    "**Key:**<br>\n",
    "\n",
    "<font color=pink>Red = got it wrong<br></font>\n",
    "<font color=orange>Orange = kind of confusing, need to look at it more<br></font>"
   ]
  },
  {
   "attachments": {},
   "cell_type": "markdown",
   "metadata": {},
   "source": [
    "1. co-worker need to deploynew ver. of your app to App Engine. Which IAM perm to give?<br>\n",
    "    My ans: c - app engine deployer<br>\n",
    "    Answer: c - app engine deployer<br>\n",
    "\n",
    "2. there's monthly budget reserved and what to be informed. what to do?<br>\n",
    "    My ans: B - create a budget alert for 50, 90, 100%<br>\n",
    "    Answer: B - create a budget alert for 50, 90, 100%<br>\n",
    "\n",
    "3. you want to list all bigquery jobs for that project, what to do?<br>\n",
    "    My ans: A - set 'gcloud config set project'<br>\n",
    "    Answer: A - set 'gcloud config set project'<br>\n",
    "\n",
    "4. Project is in EU-West1 region. You want to set EU-West1 as default, what to do?<br>\n",
    "    My ans: B - set \"gcloud config set compute/region europe-west1\"<br>\n",
    "    Answer: B - set \"gcloud config set compute/region europe-west1\"<br>\n",
    "\n",
    "5. How to estimate the cost of running the app as accurately as possible?<br>\n",
    "    My ans: C - Use pricing calculator for App Engine<br>\n",
    "    Answer: C - Use pricing calculator for App Engine<br>\n",
    "\n",
    "<font color = orange>\n",
    "\n",
    "6. Total data is several petabytes, things need to be written and changed at high speed. What to use?<br>\n",
    "    My ans: C - Cloud BigTable<br>\n",
    "    Answer: C - Cloud BigTable<br>\n",
    "D - was BigQuery.. not sure what it's for yet..<br>\n",
    "\n",
    "</font>\n",
    "\n",
    "<font color = pink>\n",
    "\n",
    "7. App features user upload and share with other users, has to be up for 30 days, then removed. What to use?<br>\n",
    "    My ans: B or D, but D - A managed instance group of filestore servers<br>\n",
    "    Answer: B - A multi-regional Cloud Storage Bucket<br>\n",
    "buckets can be multi-regional and have lifecycle management.<br>\n",
    "\n",
    "</font>\n",
    "\n",
    "8. instance template that contains web app. It scales based on HTTP traffics, What to use?<br>\n",
    "    My ans: A or C, but C - Manage instance group based on template, configure autoscaling based on HTTP traffic<br>\n",
    "    Answer: C - Manage instance group based on template, configure autoscaling based on HTTP traffic<br>\n",
    "A - was to create VM from instance template. Which seems to be using too much resources.<br>\n",
    "\n",
    "9. Created Kubernetes Engine cluster to deploy pods. All container logs must be stored in BigQuery, What to do?<br>\n",
    "    My ans: A - turn on stackdriver logging during cluster creation<br>\n",
    "    Answer: A - turn on stackdriver logging during cluster creation<br>\n",
    "Kinda got lucky on this one, need to learn what stackdriver is<br>\n",
    "\n"
   ]
  },
  {
   "attachments": {},
   "cell_type": "markdown",
   "metadata": {},
   "source": [
    "**Word Bank:**<br>\n",
    "\n",
    "**Internet of Things (IoT)** - anything that's connected to the Internet, but it's a small device (Ex. Home Dashboard for frontdoor cam, Navigation in the car dashboard)<br>\n",
    "\n",
    "**Representational state transfer (REST)** - an architecture style to transfer information through the internet.<br>\n",
    "- Identification of resources<br>\n",
    "- Manipulation of resources<br>\n",
    "- Self-descriptive messages<br>\n",
    "- Hypermedia as the engine of application state<br>\n",
    "\n",
    "in HTTP Methods: Ex. GET, POST, PUT, PATCH, DELETE, OPTIONS<br>\n",
    "\n"
   ]
  }
 ],
 "metadata": {
  "kernelspec": {
   "display_name": "Python 3",
   "language": "python",
   "name": "python3"
  },
  "language_info": {
   "name": "python",
   "version": "3.8.10 (tags/v3.8.10:3d8993a, May  3 2021, 11:48:03) [MSC v.1928 64 bit (AMD64)]"
  },
  "orig_nbformat": 4,
  "vscode": {
   "interpreter": {
    "hash": "9650cb4e16cdd4a8e8e2d128bf38d875813998db22a3c986335f89e0cb4d7bb2"
   }
  }
 },
 "nbformat": 4,
 "nbformat_minor": 2
}
