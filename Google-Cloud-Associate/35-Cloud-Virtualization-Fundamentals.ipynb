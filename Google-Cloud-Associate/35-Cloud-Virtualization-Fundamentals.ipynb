{
 "cells": [
  {
   "attachments": {},
   "cell_type": "markdown",
   "metadata": {},
   "source": [
    "### Cloud Virtualization Fundamentals<br>\n",
    "\n",
    "***\n",
    "\n",
    "<br>"
   ]
  },
  {
   "attachments": {},
   "cell_type": "markdown",
   "metadata": {},
   "source": [
    "**Virutalization:**<br>\n",
    "\n",
    "running multiple OS on a server simultaneously<br>\n",
    "\n",
    "Traditional standard ran with a hardware, OS, Application<br>\n",
    "Kernel manages the distribution of the hardware resources of the computer<br>\n",
    "Kernel runs under Kernel Mode/Privileged Mode<br>\n",
    "\n",
    "Applications must use User Mode or Non-Privileged Mode<br>\n",
    "if an app wants to do something, it has to make the 'system call' to kernel<br>\n",
    "\n",
    "Back in days, CPUs were only instructed for 1 privileged mode causing confusions and instability<br>\n",
    "<br>\n",
    "\n",
    "**Emulation**<br>\n",
    "\n",
    "So to solve this **Hypervisor(VMM)** was introduced<br>\n",
    "hypervisor enables multiple OS to run alongside each other, sharing the same physical computing resources<br>\n",
    "it virtually slices cpu, gfx, memory, and everything<br>\n",
    "this prevents VMs from intefering each other<br>\n",
    "\n",
    "VM(guest) - Web/App/Database (each contained an app, and a OS)<br>\n",
    "Hypervisor(VMM) - binary translation<br>\n",
    "Host - Hardware<br>\n",
    "\n",
    "Problem is binary translation made it painfully slow<br>\n",
    "<br>\n",
    "\n",
    "**Para-Virtualization:**<br>\n",
    "\n",
    "VM(guest) - Web/App/Database (each contained an app, Modified OS)<br>\n",
    "Hypercall<br>\n",
    "Hypervisor(VMM)<br>\n",
    "Host - Hardware<br>\n",
    "\n",
    "OS can talk directly to hypervisor without any performance hits<br>\n",
    "para-virtualization replaces instructions that can't be virtualized with hypercall<br>\n",
    "<br>\n",
    "\n",
    "**Hardware-assisted Virtualization**<br>\n",
    "\n",
    "VM(guest) - Web/App/Database (each contained an app, OS)<br>\n",
    "Hypervisor(VMM)<br>\n",
    "Host - Hardware (virtualization-aware)<br>\n",
    "\n",
    "Hardware improves and aware of virtualization, no longer requiring hypervisor<br>\n",
    "OS no longer need to be modified like para-virutalization and can run as is<br>\n",
    "<br>\n",
    "\n",
    "**Kernel Level Virtualization**<br>\n",
    "\n",
    "VM(guest) - Web/App/Database (each contained an app, OS)<br>\n",
    "Linux Kernel<br>\n",
    "Host - Hardware<br>\n",
    "\n",
    "kernel level virtualization is a special form of server level virutalization<br>\n",
    "this type of virtualization is used in Google Cloud<br>\n",
    "\n",
    "this also supports nested virtualization (meaning VM could have another VM inside of it)<br>\n",
    "this is useful, because users can import on premises disks without having to convert it<br>\n",
    "<br>"
   ]
  }
 ],
 "metadata": {
  "kernelspec": {
   "display_name": "Python 3",
   "language": "python",
   "name": "python3"
  },
  "language_info": {
   "name": "python",
   "version": "3.8.10 (tags/v3.8.10:3d8993a, May  3 2021, 11:48:03) [MSC v.1928 64 bit (AMD64)]"
  },
  "orig_nbformat": 4,
  "vscode": {
   "interpreter": {
    "hash": "9650cb4e16cdd4a8e8e2d128bf38d875813998db22a3c986335f89e0cb4d7bb2"
   }
  }
 },
 "nbformat": 4,
 "nbformat_minor": 2
}
