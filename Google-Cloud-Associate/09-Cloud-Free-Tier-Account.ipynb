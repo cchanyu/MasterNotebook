{
 "cells": [
  {
   "attachments": {},
   "cell_type": "markdown",
   "metadata": {},
   "source": [
    "### Create a new free tier account<br>\n",
    "\n",
    "***\n",
    "\n",
    "<br>\n"
   ]
  },
  {
   "attachments": {},
   "cell_type": "markdown",
   "metadata": {},
   "source": [
    "**Free Tier:**<br>\n",
    "\n",
    "12 month free trial with $300 credit<br>\n",
    "Ends when credit is used, or after 12 months, whichever happens first<br>\n",
    "Connot be a business account<br>\n",
    "<br>\n",
    "\n",
    "**Always Free:**<br>\n",
    "\n",
    "Always free, with limited access<br>\n",
    "Usage above free usage limits, billed at standard rates<br>\n",
    "You have an ungraded billing account(no free tier account)<br>\n",
    "<br>\n",
    "\n",
    "Can't be used in conjunction. You have to stick to one option."
   ]
  },
  {
   "attachments": {},
   "cell_type": "markdown",
   "metadata": {},
   "source": [
    "**What's Needed:**\n",
    "\n",
    "Fresh new Gmail Address\n",
    "Credit card (for verification)\n",
    "Private Browsing Session\n",
    "- Chrome - incognito Session\n",
    "- Firefox - private browsing\n",
    "- Edge - InPrivate\n",
    "\n",
    "https://console.cloud.google.com/freetrial"
   ]
  }
 ],
 "metadata": {
  "kernelspec": {
   "display_name": "Python 3",
   "language": "python",
   "name": "python3"
  },
  "language_info": {
   "name": "python",
   "version": "3.8.10 (tags/v3.8.10:3d8993a, May  3 2021, 11:48:03) [MSC v.1928 64 bit (AMD64)]"
  },
  "orig_nbformat": 4,
  "vscode": {
   "interpreter": {
    "hash": "9650cb4e16cdd4a8e8e2d128bf38d875813998db22a3c986335f89e0cb4d7bb2"
   }
  }
 },
 "nbformat": 4,
 "nbformat_minor": 2
}
