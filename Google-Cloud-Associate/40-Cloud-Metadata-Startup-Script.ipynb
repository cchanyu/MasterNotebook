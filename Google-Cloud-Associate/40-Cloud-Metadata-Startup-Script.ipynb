{
 "cells": [
  {
   "attachments": {},
   "cell_type": "markdown",
   "metadata": {},
   "source": [
    "### Cloud Metadata and Startup Scripts<br>\n",
    "\n",
    "***\n",
    "\n",
    "<br>"
   ]
  },
  {
   "attachments": {},
   "cell_type": "markdown",
   "metadata": {},
   "source": [
    "**Demo**<br>\n",
    "\n",
    "Google Cloud -> Compute Engine -> Metadata<br>\n",
    "Metadata can be assigned to both projects and instances<br>\n",
    "instance metadata only impact its own<br>\n",
    "\n",
    "check the default VPC, and create a new instance in Compute Engine<br>\n",
    "name: webserver<br>\n",
    "region: us-east1, us-east1-b<br>\n",
    "machine type: e2-micro<br>\n",
    "Identity and API access: set access for each API: Compute Engine: Read/Write<br>\n",
    "<br>\n",
    "\n",
    "**Querying the metadata**<br>\n",
    "\n",
    "open SSH<br>\n",
    "curl -H HEADER (necessary)<br>\n",
    "trailing slash at the end = it's a directory/folder, if not, it's an endpoint<br>\n",
    "> curl -H \"Metadata-Flavor: Google\" http://metadata.google.internal/computeMetadata/v1/instance/<br>\n",
    "> curl -H \"Metadata-Flavor: Google\" http://metadata.google.internal/computeMetadata/v1/instance/network-interfaces/<br>\n",
    "> curl -H \"Metadata-Flavor: Google\" http://metadata.google.internal/computeMetadata/v1/instance/network-interfaces/0/<br>\n",
    "> curl -H \"Metadata-Flavor: Google\" http://metadata.google.internal/computeMetadata/v1/instance/network-interfaces/0/network<br>\n",
    "\n",
    "> curl -H \"Metadata-Flavor: Google\" http://metadata.google.internal/computeMetadata/v1/instance/name<br>\n",
    "> curl -H \"Metadata-Flavor: Google\" http://metadata.google.internal/computeMetadata/v1/instance/machine-type<br>\n",
    "\n",
    "> curl -H \"Metadata-Flavor: Google\" http://metadata.google.internal/computeMetadata/v1/project/project-id<br>\n",
    "\n",
    "we add a new metadata: key: env, value: dev<br>\n",
    "> gcloud compute instances add-metadata webserver --metadata env=dev --zone us-east1-b<br>\n",
    "> curl -H \"Metadata-Flavor: Google\" http://metadata.google.internal/computeMetadata/v1/instance/attributes/env<br>\n",
    "<br>\n",
    "\n",
    "**Startup scripts**<br>\n",
    "\n",
    "instace -> edit -> add metadata: key: startup-script, value: [paste in the bash script]<br>\n",
    "also scroll up and allow firewall rules: allow HTTP/HTTPS traffic<br>\n",
    "then after saving, click reset<br>\n",
    "\n",
    "Google Cloud -> Storage -> create a new bucket<br>\n",
    "unique-name bucket and create<br>\n",
    "upload the startup script, copy the URI<br>\n",
    "\n",
    "back to compute engine -> edit -> replace bash script in metadata to URI that we copied<br>\n",
    "instance will use this script from now on, reset the instance again<br>\n",
    "<br>"
   ]
  }
 ],
 "metadata": {
  "kernelspec": {
   "display_name": "Python 3",
   "language": "python",
   "name": "python3"
  },
  "language_info": {
   "name": "python",
   "version": "3.8.10 (tags/v3.8.10:3d8993a, May  3 2021, 11:48:03) [MSC v.1928 64 bit (AMD64)]"
  },
  "orig_nbformat": 4,
  "vscode": {
   "interpreter": {
    "hash": "9650cb4e16cdd4a8e8e2d128bf38d875813998db22a3c986335f89e0cb4d7bb2"
   }
  }
 },
 "nbformat": 4,
 "nbformat_minor": 2
}
