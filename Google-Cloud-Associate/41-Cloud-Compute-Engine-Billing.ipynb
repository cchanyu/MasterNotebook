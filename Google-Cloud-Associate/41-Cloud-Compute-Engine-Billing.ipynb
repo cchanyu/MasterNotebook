{
 "cells": [
  {
   "attachments": {},
   "cell_type": "markdown",
   "metadata": {},
   "source": [
    "### Cloud Compute Engine Billing<br>\n",
    "\n",
    "***\n",
    "\n",
    "<br>"
   ]
  },
  {
   "attachments": {},
   "cell_type": "markdown",
   "metadata": {},
   "source": [
    "More details and saving when using compute engine<br>\n",
    "\n",
    "**Compute Engine Pricing:**<br>\n",
    "\n",
    "- Each individual vCPU and each GB of memory is billed separately - resource based billing<br>\n",
    "- All vCPUs, GPUs and GB of memory are charged by the second with a minimum of 1 minute<br>\n",
    "- Instance uptime - number of seconds between when you start an instance and when you stop an instance(terminated)<br>\n",
    "<br>\n",
    "\n",
    "**Reservations**<br>\n",
    "\n",
    "Reversation ensures that resources are available for you<br>\n",
    "- Future increases in demand<br>\n",
    "- Planned and unplanned spikes<br>\n",
    "- Back up and disaster recovery<br>\n",
    "- Buffer<br>\n",
    "\n",
    "include sustained use and committed use discounts<br>\n",
    "Reservations only apply to Compute Engine, Dataproc, and GKE VMs<br>\n",
    "<br>\n",
    "\n",
    "**Discount types:**<br>\n",
    "\n",
    "- Sustained use discounts<br>\n",
    "    - automatic discount for running specific compute resources: vCPU, GPU, memory (25%+ usage per month)<br>\n",
    "    <br>\n",
    "- Committed use discounts<br>\n",
    "    - purchased 1 yr or 3 yr contracts for deeply discounted prices<br>\n",
    "    ideal for those predictable workloads<br>\n",
    "    - 57% discount for most resources<br>\n",
    "    - 70% for memory-optimized machine types<br>\n",
    "    - apply at the project level, as well as share discounts across multiple projects<br>\n",
    "    <br>\n",
    "- Preemptible VM's<br>\n",
    "    - pricing is fixed, 80% cheaper<br>\n",
    "    an instance that you can create and run at much lower prices<br>\n",
    "    - compute engine stops them within 24 hours, they're finite compute resource<br>\n",
    "    - no charge if it's running for < 10 min<br>\n",
    "    Preemptible VMs can't auto restart or live migrate<br>\n",
    "    If your apps are fault-tolerant, this is good option<br>\n",
    "<br>"
   ]
  }
 ],
 "metadata": {
  "kernelspec": {
   "display_name": "Python 3",
   "language": "python",
   "name": "python3"
  },
  "language_info": {
   "name": "python",
   "version": "3.8.10 (tags/v3.8.10:3d8993a, May  3 2021, 11:48:03) [MSC v.1928 64 bit (AMD64)]"
  },
  "orig_nbformat": 4,
  "vscode": {
   "interpreter": {
    "hash": "9650cb4e16cdd4a8e8e2d128bf38d875813998db22a3c986335f89e0cb4d7bb2"
   }
  }
 },
 "nbformat": 4,
 "nbformat_minor": 2
}
