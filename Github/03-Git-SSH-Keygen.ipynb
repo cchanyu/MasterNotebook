{
 "cells": [
  {
   "attachments": {},
   "cell_type": "markdown",
   "metadata": {},
   "source": [
    "### Git: SSH Keygen<br>\n",
    "\n",
    "***\n",
    "\n",
    "<br>\n",
    "\n",
    "A SSH (Secure Shell) protocol<br>\n",
    "Most of the time, people that have never used github before runs into this trouble while making a commit to github repo<br>\n",
    "because their computer doesn't have an SSH rsa key pair, which is sort of like a fingerprint of your machine<br>"
   ]
  },
  {
   "cell_type": "code",
   "execution_count": null,
   "metadata": {},
   "outputs": [],
   "source": [
    "# open the Terminal / Command Prompt\n",
    "# and cd ~ to move to the root\n",
    "cd ~\n",
    "\n",
    "# generate the public / private rsa key pair\n",
    "ssh-keygen\n",
    "\n",
    "# open Windows Powershell and use this command\n",
    "# cat: means taking a quick look and it'll display rsa key pair\n",
    "cat ~/.ssh/id_rsa\n",
    "\n",
    "# if it asks for public key to open\n",
    "cat ~/.ssh/id_rsa.pub"
   ]
  },
  {
   "attachments": {},
   "cell_type": "markdown",
   "metadata": {},
   "source": [
    "Copy the rsa keypair<br>\n",
    "\n",
    "Go back to Github -> Settings -> SSH and GPG Keys<br>\n",
    "Add a New SSH Key<br>\n",
    "\n",
    "Paste in the key and name the machine and save it<br>"
   ]
  }
 ],
 "metadata": {
  "kernelspec": {
   "display_name": "Python 3",
   "language": "python",
   "name": "python3"
  },
  "language_info": {
   "name": "python",
   "version": "3.8.10 (tags/v3.8.10:3d8993a, May  3 2021, 11:48:03) [MSC v.1928 64 bit (AMD64)]"
  },
  "orig_nbformat": 4,
  "vscode": {
   "interpreter": {
    "hash": "9650cb4e16cdd4a8e8e2d128bf38d875813998db22a3c986335f89e0cb4d7bb2"
   }
  }
 },
 "nbformat": 4,
 "nbformat_minor": 2
}
