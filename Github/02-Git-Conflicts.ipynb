{
 "cells": [
  {
   "attachments": {},
   "cell_type": "markdown",
   "metadata": {},
   "source": [
    "### Git: Git Conflicts<br>\n",
    "\n",
    "***\n",
    "\n",
    "<br>\n",
    "\n",
    "Often occurs when 2 or more users collaborate and simulataneously edit the same file.<br>\n",
    "It'll result in a git conflict and can be quite complex to fix it<br>"
   ]
  },
  {
   "cell_type": "code",
   "execution_count": null,
   "metadata": {},
   "outputs": [],
   "source": [
    "# use this command and then pick the files you want to keep\n",
    "git mergetool\n",
    "\n",
    "# merging tool inside of command prompt\n",
    "vimdiff\n",
    "\n",
    "# type :cquit to exit out of it\n",
    ":cquit"
   ]
  }
 ],
 "metadata": {
  "kernelspec": {
   "display_name": "Python 3",
   "language": "python",
   "name": "python3"
  },
  "language_info": {
   "name": "python",
   "version": "3.8.10 (tags/v3.8.10:3d8993a, May  3 2021, 11:48:03) [MSC v.1928 64 bit (AMD64)]"
  },
  "orig_nbformat": 4,
  "vscode": {
   "interpreter": {
    "hash": "9650cb4e16cdd4a8e8e2d128bf38d875813998db22a3c986335f89e0cb4d7bb2"
   }
  }
 },
 "nbformat": 4,
 "nbformat_minor": 2
}
