{
 "cells": [
  {
   "attachments": {},
   "cell_type": "markdown",
   "metadata": {},
   "source": [
    "### Title: Basic Git Commands<br>\n",
    "This is my basic git commands for friends who have never used git before."
   ]
  },
  {
   "cell_type": "code",
   "execution_count": null,
   "metadata": {},
   "outputs": [],
   "source": [
    "# clone the git project\n",
    "git clone \"[URL.git]\"\t\n",
    "\n",
    "\n",
    "# show list of local branches \n",
    "git branch\t\n",
    "\n",
    "\n",
    "# creates and moves to a new branch you just created\n",
    "git checkout -b \"name\"\t\n",
    "\n",
    "\n",
    "# switches to that branch\n",
    "git checkout \"name\"\t\n",
    "\n",
    "\n",
    "# directory -list of files in folder\n",
    "dir\t\n",
    "\n",
    "# backs out of the folder you're in\n",
    "cd ..\t\n",
    "\n",
    "# moves into the folder\n",
    "cd \"name\"\t\n",
    "\n",
    "# add any changed files to git\n",
    "git add .\t\n",
    "\n",
    "\n",
    "# confirms the change, write a message of what the change is about. Ex: \"edited readme.md\"\n",
    "git commit -m \"message\"\t\n",
    "\n",
    "\n",
    "# push all the changes made to github\n",
    "git push\t\n",
    "\n",
    "\n",
    "# importing in any changes from the branch you just called\n",
    "git pull origin \"name\"\t\n",
    "\n",
    "# if u accidentally added files before gitignore, use this to undo\n",
    "git reset\t\n",
    "\n",
    "# to check which changes were made\n",
    "git status\t"
   ]
  }
 ],
 "metadata": {
  "kernelspec": {
   "display_name": "Python 3",
   "language": "python",
   "name": "python3"
  },
  "language_info": {
   "name": "python",
   "version": "3.8.10 (tags/v3.8.10:3d8993a, May  3 2021, 11:48:03) [MSC v.1928 64 bit (AMD64)]"
  },
  "orig_nbformat": 4,
  "vscode": {
   "interpreter": {
    "hash": "9650cb4e16cdd4a8e8e2d128bf38d875813998db22a3c986335f89e0cb4d7bb2"
   }
  }
 },
 "nbformat": 4,
 "nbformat_minor": 2
}
