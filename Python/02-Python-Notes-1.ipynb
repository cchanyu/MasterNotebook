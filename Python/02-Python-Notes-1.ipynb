{
 "cells": [
  {
   "attachments": {},
   "cell_type": "markdown",
   "metadata": {},
   "source": [
    "### Python Notes<br>\n",
    "\n",
    "***\n",
    "\n",
    "<br>"
   ]
  },
  {
   "attachments": {},
   "cell_type": "markdown",
   "metadata": {},
   "source": [
    "abs() -> **turn negative into positive integer**<br>\n",
    "\n",
    "**Python Jupyter Notebook Error**<br>\n",
    "Error: output limit exceed in vscode<br>\n",
    "1. ctrl + , (comma) to open vs code<br>\n",
    "2. search: output.textLineLimit<br>\n",
    "3. change the value to 500<br>\n",
    "<br>\n",
    "\n",
    "**Using Downgraded version of Python in VSCode:**<br>\n",
    "install lower level of python first<br>\n",
    "then ctrl+shift+p -> select interperter -> click the python ver. you want<br>\n",
    "\n",
    "had to also install visual studio c++ for %pip install cvxpy==0.4.11<br>\n",
    "cvxpy was a library that was required during one of MachineLearning Labs<br>\n",
    "<br>\n",
    "\n",
    "**documentation on Standard dataset (aka my own data)**<br>\n",
    "https://aif360.readthedocs.io/en/latest/modules/generated/aif360.datasets.StandardDataset.html<br>\n",
    "\n",
    "**guide to using standard dataset**<br>\n",
    "https://consileon.ai/wp-content/uploads/2021/08/Fairness-in-AI-Systems.pdf<br>\n",
    "<br>\n",
    "\n",
    "**Categorical data** - stores in format of A “color” variable with the values: “red“, “green” and “blue“.<br>\n",
    "Integer encoding uses numerical: “red” is 1, “green” is 2, and “blue” is 3.<br>\n",
    "one hot encoding uses binary:<br>\n",
    "red\tgreen blue<br>\n",
    "1\t0\t0<br>\n",
    "0\t1\t0<br>\n",
    "0\t0\t1<br>\n",
    "**binary variables** are often called “dummy variables” in other fields, such as statistics., because 0s<br>\n",
    "\n",
    "**metadata** = header of data (information of data type, column name, description)<br>"
   ]
  },
  {
   "attachments": {},
   "cell_type": "markdown",
   "metadata": {},
   "source": [
    "https://medium.com/geekculture/if-you-ask-these-4-python-questions-you-might-still-be-a-nooby-7e4c503aa1c3<br>"
   ]
  },
  {
   "cell_type": "code",
   "execution_count": null,
   "metadata": {},
   "outputs": [],
   "source": [
    "# 1. copying an object is not using =<br>\n",
    "nums = [1,2,3]      # should use deepcopy() instead\n",
    "nums_copy = nums    # nums_copy = copy.deepcopy(nums)\n",
    "nums.append(4)      # [1,2,3,4] for both\n",
    "\n",
    "\n",
    "# 2. parameter vs. argument\n",
    "sum(1,2)\t\t\n",
    "def sum(x,y):\n",
    "    return x + y\t\t\n",
    "def sum(PARAMETER) # sum(ARGUMENT)\n",
    "\n",
    "\n",
    "# 3. module, package, library, framework\n",
    "# module is any .py file with another function\n",
    "import hello2\n",
    "import os, re, datetime # are also module\n",
    "\n",
    "# package is a collection of modules that contain a file named __init__.py. \n",
    "# We can have modules into packages and subpackages.\n",
    "import package.subpackage.m1\n",
    "from package.subpackage import m1\n",
    "\n",
    "# library, is usually known as a collection of packages.\n",
    "# Ex. pandas, matplotlib, requests, etc\n",
    "\n",
    "# framework are similar to libraries but frameworks contain a basic workflow and architecture of an application.\n",
    "# frameworks contain skeletal body code to control ur workflow whereas libraries doesn't enforce you to have that\n",
    "\n",
    "\n",
    "# 4. the difference between == and is\n",
    "x, y = 257, 257\t\n",
    "x == y # TRUE\t\n",
    "x is y # FALSE, cause their ID is different unless it's -5 ~ 256\n",
    "# \\== is used to compare the values of two objects, while is is used to compare the identity.\t\n",
    "# though: Python has a fixed identity for a list of integers from -5 to 256\t"
   ]
  }
 ],
 "metadata": {
  "kernelspec": {
   "display_name": "Python 3",
   "language": "python",
   "name": "python3"
  },
  "language_info": {
   "name": "python",
   "version": "3.8.10 (tags/v3.8.10:3d8993a, May  3 2021, 11:48:03) [MSC v.1928 64 bit (AMD64)]"
  },
  "orig_nbformat": 4,
  "vscode": {
   "interpreter": {
    "hash": "9650cb4e16cdd4a8e8e2d128bf38d875813998db22a3c986335f89e0cb4d7bb2"
   }
  }
 },
 "nbformat": 4,
 "nbformat_minor": 2
}
