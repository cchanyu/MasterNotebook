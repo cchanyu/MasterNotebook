{
 "cells": [
  {
   "attachments": {},
   "cell_type": "markdown",
   "metadata": {},
   "source": [
    "### Python Algorithms<br>\n",
    "\n",
    "***\n",
    "\n",
    "<br>"
   ]
  },
  {
   "attachments": {},
   "cell_type": "markdown",
   "metadata": {},
   "source": [
    "**bloomberg interview** - https://leetcode.com/discuss/interview-question/964672/bloomberg-software-engineering-prepration-list<br>\n",
    "**use of set + set search** - https://practice.geeksforgeeks.org/problems/non-repeating-character-1587115620/1?page=1&category[]=Strings&sortBy=submissions<br>\n",
    "**print w/o newline** - https://practice.geeksforgeeks.org/problems/remove-duplicates3034/1?page=2&category[]=Strings&sortBy=submissions<br>\n",
    "**implements isdigit()** - https://practice.geeksforgeeks.org/problems/implement-atoi/1?page=1&category[]=Strings&sortBy=submissions<br>\n",
    "**string reverse w/o built in func** - https://practice.geeksforgeeks.org/problems/reverse-a-string-using-stack/1?page=1&category[]=Strings&sortBy=submissions<br>"
   ]
  },
  {
   "attachments": {},
   "cell_type": "markdown",
   "metadata": {},
   "source": [
    "1. why is return not working<br>\n",
    "   python needs to return in True or False format, despite it asking \"YES\" \"NO\"<br>\t\n",
    "\n",
    "2. anagram question : geeksforgeeks forgeeksgeeks = anagram<br>\n",
    "   https://practice.geeksforgeeks.org/problems/anagram-1587115620/1?page=1&category[]=Strings&sortBy=submissions<br>\t\n",
    "   easier way to solve it is to use .sorted() and compare it in order.<br>"
   ]
  }
 ],
 "metadata": {
  "kernelspec": {
   "display_name": "Python 3",
   "language": "python",
   "name": "python3"
  },
  "language_info": {
   "name": "python",
   "version": "3.8.10 (tags/v3.8.10:3d8993a, May  3 2021, 11:48:03) [MSC v.1928 64 bit (AMD64)]"
  },
  "orig_nbformat": 4,
  "vscode": {
   "interpreter": {
    "hash": "9650cb4e16cdd4a8e8e2d128bf38d875813998db22a3c986335f89e0cb4d7bb2"
   }
  }
 },
 "nbformat": 4,
 "nbformat_minor": 2
}
