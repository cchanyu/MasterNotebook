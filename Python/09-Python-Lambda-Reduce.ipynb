{
 "cells": [
  {
   "attachments": {},
   "cell_type": "markdown",
   "metadata": {},
   "source": [
    "### Python Lambda Reduce<br>\n",
    "\n",
    "***\n",
    "\n",
    "<br>"
   ]
  },
  {
   "attachments": {},
   "cell_type": "markdown",
   "metadata": {},
   "source": [
    "**Reduce()**<br>\n",
    "\n",
    "function that applies a function of two arguments cumulatively to the items of an iterable, from left to right, so as to reduce the iterable to a single value.<br>"
   ]
  },
  {
   "cell_type": "code",
   "execution_count": null,
   "metadata": {},
   "outputs": [],
   "source": [
    "from functools import reduce\n",
    "\n",
    "nums = [1, 2, 3, 4, 5]\n",
    "product = reduce(lambda x, y: x * y, nums)\n",
    "\n",
    "print(product)"
   ]
  },
  {
   "attachments": {},
   "cell_type": "markdown",
   "metadata": {},
   "source": [
    "**Lambda**<br>\n",
    "\n",
    "a lambda function is a small, anonymous function that can take any number of arguments, but can only have one expression.<br>"
   ]
  },
  {
   "cell_type": "code",
   "execution_count": null,
   "metadata": {},
   "outputs": [],
   "source": [
    "add = lambda x, y: x + y\n",
    "\n",
    "result = add(3, 4)\n",
    "print(result)"
   ]
  },
  {
   "attachments": {},
   "cell_type": "markdown",
   "metadata": {},
   "source": [
    "**Range()**"
   ]
  },
  {
   "cell_type": "code",
   "execution_count": null,
   "metadata": {},
   "outputs": [],
   "source": [
    "range(stop)\n",
    "range(start, stop[, step])\n",
    "\n",
    "range(len(nums)-2, -1, -1)\n",
    "# len(nums)-2 = second-to-last element in the nums list\n",
    "# -1, -1 = helps traverse in reverse (aka running loop in reverse order)\n",
    "\n",
    "# output:\n",
    "# (3, 2, 1, 0)"
   ]
  },
  {
   "cell_type": "code",
   "execution_count": null,
   "metadata": {},
   "outputs": [],
   "source": [
    "nums = [1,2,3,4,5]\n",
    "right = [None] * len(nums)\n",
    "for i in range(len(nums)-2, -1, -1):\n",
    "    right[i] = right[i+1] * nums[i+1]\n",
    "# right = [120, 60, 20, 5, 1]\n",
    "\n",
    "'''\n",
    "right[3] = 5 * 1 = 5\n",
    "right[2] = 4 * right[3] = 4 * 5 = 20\n",
    "right[1] = 3 * right[2] = 3 * 20 = 60\n",
    "right[0] = 2 * right[1] = 2 * 60 = 120\n",
    "'''"
   ]
  }
 ],
 "metadata": {
  "language_info": {
   "name": "python"
  },
  "orig_nbformat": 4
 },
 "nbformat": 4,
 "nbformat_minor": 2
}
