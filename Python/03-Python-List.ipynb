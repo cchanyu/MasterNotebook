{
 "cells": [
  {
   "attachments": {},
   "cell_type": "markdown",
   "metadata": {},
   "source": [
    "### Python List<br>\n",
    "\n",
    "***\n",
    "\n",
    "<br>"
   ]
  },
  {
   "cell_type": "code",
   "execution_count": null,
   "metadata": {},
   "outputs": [],
   "source": [
    "pop()\t\t\n",
    "prime = [2,3,5,7]   # index remove\n",
    "prime.pop(2)        # removes the index of that value\n",
    "# [2,3,7]\t\t"
   ]
  },
  {
   "cell_type": "code",
   "execution_count": null,
   "metadata": {},
   "outputs": [],
   "source": [
    "remove()\t\t\n",
    "prime = [2,3,5,7]   # value remove\n",
    "prime.remove(2)\t    # removes the values that matches\n",
    "# [3,5,7]\t\t"
   ]
  },
  {
   "cell_type": "code",
   "execution_count": null,
   "metadata": {},
   "outputs": [],
   "source": [
    "append()\t\t\n",
    "curr = ['dollar','euro','pound']    # add end\n",
    "curr.append('yen')\t\t            # it adds values at the end\n",
    "# ['dollar','euro','pound','yen']\t\t"
   ]
  },
  {
   "cell_type": "code",
   "execution_count": null,
   "metadata": {},
   "outputs": [],
   "source": [
    "insert()\t\t\n",
    "vowel = ['a','e','i','u']   # add index\n",
    "vowel.insert(3,'0')\t\t    # it inserts at specific index\n",
    "# ['a','e','i','o','u']\t\t"
   ]
  },
  {
   "cell_type": "code",
   "execution_count": null,
   "metadata": {},
   "outputs": [],
   "source": [
    "count()\t\t\t\n",
    "nums = [2,3,5,2,11,2,7]     # find value\t\n",
    "nums.count(2)\t\t        # finds the # of value in list\t\n",
    "# found 3\t\t            # useful BUT COSTLY ACTION\t"
   ]
  },
  {
   "cell_type": "code",
   "execution_count": null,
   "metadata": {},
   "outputs": [],
   "source": [
    "sort()  # it doesn't return, but only change existing "
   ]
  }
 ],
 "metadata": {
  "kernelspec": {
   "display_name": "Python 3",
   "language": "python",
   "name": "python3"
  },
  "language_info": {
   "name": "python",
   "version": "3.8.10 (tags/v3.8.10:3d8993a, May  3 2021, 11:48:03) [MSC v.1928 64 bit (AMD64)]"
  },
  "orig_nbformat": 4,
  "vscode": {
   "interpreter": {
    "hash": "9650cb4e16cdd4a8e8e2d128bf38d875813998db22a3c986335f89e0cb4d7bb2"
   }
  }
 },
 "nbformat": 4,
 "nbformat_minor": 2
}
