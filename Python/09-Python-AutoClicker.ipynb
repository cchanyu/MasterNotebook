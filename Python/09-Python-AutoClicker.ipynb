{
 "cells": [
  {
   "attachments": {},
   "cell_type": "markdown",
   "metadata": {},
   "source": [
    "### Python AutoClicker<br>\n",
    "\n",
    "***\n",
    "\n",
    "<br>"
   ]
  },
  {
   "cell_type": "code",
   "execution_count": null,
   "metadata": {},
   "outputs": [],
   "source": [
    "# clicker functionality\n",
    "import pyautogui\n",
    "\n",
    "# get screen size\n",
    "screen_width, screen_height = pyautogui.size()\n",
    "\n",
    "# move mouse to the center of the screen\n",
    "pyautogui.moveTo(screen_width / 2, screen_height / 2)\n",
    "\n",
    "# move mouse to (x, y) coordinates\n",
    "pyautogui.moveTo(x, y)\n",
    "\n",
    "# perform left click\n",
    "pyautogui.click()\n",
    "\n",
    "# perform double right click with 0.25 seconds between clicks\n",
    "pyautogui.click(button='right', clicks=2, interval=0.25)"
   ]
  },
  {
   "cell_type": "code",
   "execution_count": null,
   "metadata": {},
   "outputs": [],
   "source": [
    "# multiple screenshots\n",
    "import mss\n",
    "import mss.tools\n",
    "\n",
    "with mss.mss() as sct:\n",
    "    # Use the `mon=-1` parameter to capture the entire screen\n",
    "    sct.shot(output='screenshot.png')\n",
    "\n",
    "with mss.mss() as sct:\n",
    "    # Define the coordinates of the region you want to capture\n",
    "    monitor = {\"top\": 100, \"left\": 100, \"width\": 800, \"height\": 600}\n",
    "    \n",
    "    # Use the `monitor` parameter to capture the region defined by `monitor`\n",
    "    sct_img = sct.grab(monitor)\n",
    "    \n",
    "    # Save the screenshot to a file\n",
    "    mss.tools.to_png(sct_img.rgb, sct_img.size, output='screenshot.png')"
   ]
  }
 ],
 "metadata": {
  "language_info": {
   "name": "python"
  },
  "orig_nbformat": 4
 },
 "nbformat": 4,
 "nbformat_minor": 2
}
