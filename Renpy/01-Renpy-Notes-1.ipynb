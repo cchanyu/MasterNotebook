{
 "cells": [
  {
   "attachments": {},
   "cell_type": "markdown",
   "metadata": {},
   "source": [
    "### Renpy: Beginner to Advanced<br>\n",
    "\n",
    "***\n",
    "\n",
    "<br>"
   ]
  },
  {
   "attachments": {},
   "cell_type": "markdown",
   "metadata": {},
   "source": [
    "**Link:** https://www.youtube.com/watch?v=1t8SSYCe094&list=PLKdE0Vv4UA5-dqJLpDkPt5CLQzc6hJ-uh&ab_channel=GameDeveloperTraining<br>"
   ]
  },
  {
   "attachments": {},
   "cell_type": "markdown",
   "metadata": {},
   "source": [
    "**Scene vs. Show:**<br>\n",
    "**Scene** - removes everything visible, like starting a whole new screen<br>\n",
    "**Show** - only replaces the background image<br>\n",
    "images just stack on top of each other, and you want to call scene to clear them out<br>\n",
    "<br>\n",
    "\n",
    "**Call vs. Jump:**<br>\n",
    "**Jump** - go straight to that line, but doesn't read anything below that line<br>\n",
    "**Call** - goes to that label, executes the code block and return back to the line<br>\n",
    "<br>\n",
    "\n",
    "**Image** - can be called \"IMAGE_NAME\"<br>\n",
    "sub-directories(aka location of the image) doesn't need to be specified in Renpy<br>\n",
    "However if you want it, it's possible, Ex: images/notebook.png<br>\n",
    "<br>\n",
    "\n",
    "**Music vs. Sound:**<br>\n",
    "play music \"audio/bgm_music.mp3\" fadein 1.0 volume 0.5<br>\n",
    "play sound \"audio/sfx_bell.mp3\"<br>\n",
    "**music** - for music to play in the background<br>\n",
    "**sound** - for sound effects<br>\n",
    "**voice** - for voice-over<br>\n",
    "\n",
    "music doesn't stop, but sound effect does stop after the first loop, unless specified otherwise<br>\n",
    "music looped = true by default, can be stopped with \"stop music fadeout 1.0\"<br>\n",
    "sound looped = false by default<br>\n",
    "<br>\n",
    "\n",
    "**Menu Choices:**<br>"
   ]
  },
  {
   "cell_type": "code",
   "execution_count": null,
   "metadata": {},
   "outputs": [],
   "source": [
    "menu:\n",
    "    \"yes\":\n",
    "        jump_choice1_a\n",
    "    \"no\":\n",
    "        jump_choice1_b"
   ]
  },
  {
   "attachments": {},
   "cell_type": "markdown",
   "metadata": {},
   "source": [
    "**Flags** - identified by true or false<br>\n",
    "can also used to track player's stat<br>\n",
    "\n",
    "**Italic fonts** - \"{i}text\"<br>\n",
    "\n",
    "**new line** - \"text\\n\"<br>\n",
    "\n",
    "**Variables** - $ variable1 = 0<br>\n",
    "\\$ variable2 = \"Choice A\"<br>\n",
    "\\$ variable1 += \"var\"<br>\n",
    "\n",
    "**2-digit integer** - if you want to display 2 digit integer, Ex: 12:00 instead of 12:0<br>\n",
    ".zfill(2)<br>\n",
    "\n",
    "**Time System:**<br>"
   ]
  },
  {
   "cell_type": "code",
   "execution_count": null,
   "metadata": {},
   "outputs": [],
   "source": [
    "# variables to initialize\n",
    "$ Hours = 0\n",
    "$ Minutes = 0\n",
    "$ Seconds = 0\n",
    "$ GameRunning = True\n",
    "\n",
    "# the code block to count the time\n",
    "while GameRunning:\n",
    "    \"[Hours]:[Minutes]:[Seconds]\"\n",
    "    $ Seconds += 1\n",
    "    if Seconds == 60:\n",
    "        $ Seconds = 0\n",
    "        $ Minutes += 1\n",
    "    if Minutes == 60:\n",
    "        $ Minutes = 0\n",
    "        $ Hours += 1\n",
    "    if Hours == 24:\n",
    "        $ Hours = 0\n",
    "\n",
    "# timer to display on top of the screen\n",
    "screen say(who, what):\n",
    "    style_prefix \"say\"\n",
    "\n",
    "    frame:\n",
    "        xpos 0 ypos 0\n",
    "        xminimum 1920\n",
    "        yminimum 75\n",
    "        ymaximum 75\n",
    "        hbox:\n",
    "            text \"[Output]\" xalign 0.5"
   ]
  },
  {
   "attachments": {},
   "cell_type": "markdown",
   "metadata": {},
   "source": [
    "**Renpy Recommended Naming Conventions:**<br>\n",
    "**file** - start.rpy(all lowercase)<br>\n",
    "**label** - Start(Uppercase)<br>\n",
    "\n",
    "**Screen vs. Imagemap**<br>\n",
    "**Imagemap** - Ex. opens like a map or opens phone interface<br>\n",
    "**Screen** - displays information to the user or user can interact with it<br>\n",
    "\n",
    "call screen myScreen<br>\n",
    "call = game completely stops and execute this first over anything else<br>\n",
    "\n",
    "show screen myScreen<br>\n",
    "show = it'll run parallel to the visual novel<br>\n",
    "\n",
    "hide screen myScreen<br>\n",
    "show screen always will be there, until you explicitly state it to hide screen<br>"
   ]
  },
  {
   "cell_type": "code",
   "execution_count": null,
   "metadata": {},
   "outputs": [],
   "source": [
    "screen myScreen():\n",
    "    text \"hello world\"\n",
    "    add \"image1.jpg\"\n",
    "\n",
    "screen myScreen():\n",
    "    imagemap:\n",
    "        ground \"images/bg/bg_room.jpg\" # background\n",
    "        hotspot(233, 499, 407, 221) action Jump(\"characterSelected\") # spot that will listens to clicks\n",
    "        hotspot(967, 2, 199, 300) action Show(\"myScreen2\"), Hide(\"myScreen1\")\n",
    "# ^- note: myScreen() has to be on the same folder as call screen command file?\n",
    "\n",
    "screen myScreen2():\n",
    "    text \"screen 2\"\n",
    "\n",
    "label livingroom:\n",
    "    \"livingroom\"\n",
    "    $ renpy.pause(hard=True)"
   ]
  },
  {
   "attachments": {},
   "cell_type": "markdown",
   "metadata": {},
   "source": [
    "**Grab the Screen Location:**<br>\n",
    "shift + D<br>\n",
    "open the developer console -> image location picker<br>\n",
    "-> type to filter \"image name\" -> mouse position<br>\n",
    "-> hold and drag<br>\n",
    "<br>\n",
    "\n",
    "**Imagemap vs. Imagebutton**<br>\n",
    "imagebutton - you have only one area you can click<br>\n",
    "imagemap - you can click multiple area<br>"
   ]
  },
  {
   "cell_type": "code",
   "execution_count": null,
   "metadata": {},
   "outputs": [],
   "source": [
    "# hbox aligned to the center\n",
    "# and multiple imagebuttons = 20 spaces apart\n",
    "hbox xalign 0.5 spacing 20:\n",
    "    imagebutton:\n",
    "        # xalign 0.0 1.0 yalign\n",
    "        idle \"images/bg/bg room.jpg\"\n",
    "        action Jump(\"bathroom\")\n",
    "# %s is just a placeholder\n",
    "\n",
    "\n",
    "# bar navigation sample code:\n",
    "screen barNav():\n",
    "    zorder 5\n",
    "    add \"maxscreen-static\"\n",
    "    modal True\n",
    "\n",
    "    imagebutton auto \"maxscreen-%s\":\n",
    "        focus_mask True\n",
    "        hovered SetVariable(\"screen_tooltip\", \"screenqq\")\n",
    "        unhovered SetVariable(\"screen_tooltip\", \"\")\n",
    "        action Jump(\"bathroom\")\n",
    "# use focus_mask, if there are any transparent mask\n"
   ]
  },
  {
   "attachments": {},
   "cell_type": "markdown",
   "metadata": {},
   "source": [
    "**Custom menu choices** - https://patreon.renpy.org/menu-arguments.html<br>\n",
    "\n",
    "**Modal** enables mouse click?<br>\n",
    "modal = True<br>\n",
    "\n",
    "**Pause** - Linear is pause for screen<br>\n",
    "\n",
    "**Moving menu button (save, back, etc) to the top:**<br>\n",
    "Reference Link: https://lemmasoft.renai.us/forums/viewtopic.php?t=45963<br>\n",
    "Find this and do this<br>"
   ]
  },
  {
   "cell_type": "code",
   "execution_count": null,
   "metadata": {},
   "outputs": [],
   "source": [
    "## Quick Menu screen ###########################################################\n",
    "##\n",
    "## The quick menu is displayed in-game to provide easy access to the out-of-game\n",
    "## menus.\n",
    "\n",
    "screen quick_menu():\n",
    "\n",
    "    ## Ensure this appears on top of other screens.\n",
    "    zorder 100\n",
    "\n",
    "    if quick_menu:\n",
    "\n",
    "        hbox:\n",
    "            style_prefix \"quick\"\n",
    "\n",
    "            xalign 0.5\n",
    "            yalign 0.0\n",
    "\n",
    "            textbutton _(\"Back\") action Rollback()\n",
    "            textbutton _(\"History\") action ShowMenu('history')\n",
    "            textbutton _(\"Skip\") action Skip() alternate Skip(fast=True, confirm=True)\n",
    "            textbutton _(\"Auto\") action Preference(\"auto-forward\", \"toggle\")\n",
    "            textbutton _(\"Save\") action ShowMenu('save')\n",
    "            textbutton _(\"Q.Save\") action QuickSave()\n",
    "            textbutton _(\"Q.Load\") action QuickLoad()\n",
    "            textbutton _(\"Prefs\") action ShowMenu('preferences')"
   ]
  },
  {
   "attachments": {},
   "cell_type": "markdown",
   "metadata": {},
   "source": [
    "**CUSTOM TEXTBOX STYLE depending on cases (choose andre confirm? vs. regular):**<br>\n",
    "Reference Link: https://www.reddit.com/r/RenPy/comments/gnrne6/is_there_a_way_to_change_the_textbox_depending_on/<br>\n"
   ]
  },
  {
   "cell_type": "code",
   "execution_count": null,
   "metadata": {},
   "outputs": [],
   "source": [
    "window:\n",
    "    if (current_char == \"Romeo\"):\n",
    "        style \"romeo_textbox\"\n",
    "    else:\n",
    "        style \"juliet_textbox\"\n",
    "# Then define those styles to be whatever you want.\n",
    "\n",
    "style romeo_textbox is window:\n",
    "    background Image(\"gui/romeo-bg.png\")\n",
    "style juliet_textbox is window:\n",
    "    background Image(\"gui/juliet-bg.png\")"
   ]
  },
  {
   "cell_type": "code",
   "execution_count": null,
   "metadata": {},
   "outputs": [],
   "source": [
    "# iter/loop in renpy\n",
    "for i in range(num):\n",
    "     add \"image.png\""
   ]
  },
  {
   "attachments": {},
   "cell_type": "markdown",
   "metadata": {},
   "source": [
    "Additional Materials to checkout:<br>\n",
    "- remember user choices: https://aminoapps.com/c/otome/page/item/renpy-remembering-user-choices/27vQ_PwFwIYwYqZvz45YgXWXL0lL3aMlY<br>\n",
    "- Zeil Learning's Renpy Tutorial 1: https://www.youtube.com/watch?v=C3Ldd-5PKCw&list=PLlZCSNfSKux2hXoo46rbBIVzl-7pZFRQh<br>\n",
    "- Game Developer Trainer's Renpy Tutorial 1: https://www.youtube.com/watch?v=2PJ4IdQ-MXs&list=PLKdE0Vv4UA59k-uYBVLqhJGs2iSUPLb59<br>\n",
    "- menu arguments: https://patreon.renpy.org/menu-arguments.html<br>\n",
    "\n",
    "alignment and position details:<br>\n",
    "- style properties: https://videlais.com/2018/07/06/advanced-renpy-part-2-position-style-properties/<br>\n",
    "\n",
    "- zoom and panning: https://www.twoandahalfstudios.com/2019/12/tds-making-of-4-zooming-and-panning-in-renpy<br>\n",
    "crop(x,y,width,height)<br>\n",
    "\n",
    "Dana's wireframes:<br>\n",
    "https://www.canva.com/design/DAE0EvSICiE/n9-DTWrLQW045nvAMCVosg/view?utm_content=DAE0EvSICiE&utm_campaign=designshare&utm_medium=link&utm_source=publishsharelink<br>"
   ]
  }
 ],
 "metadata": {
  "kernelspec": {
   "display_name": "Python 3",
   "language": "python",
   "name": "python3"
  },
  "language_info": {
   "name": "python",
   "version": "3.8.10 (tags/v3.8.10:3d8993a, May  3 2021, 11:48:03) [MSC v.1928 64 bit (AMD64)]"
  },
  "orig_nbformat": 4,
  "vscode": {
   "interpreter": {
    "hash": "9650cb4e16cdd4a8e8e2d128bf38d875813998db22a3c986335f89e0cb4d7bb2"
   }
  }
 },
 "nbformat": 4,
 "nbformat_minor": 2
}
